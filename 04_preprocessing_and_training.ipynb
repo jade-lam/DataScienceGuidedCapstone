{
  "nbformat": 4,
  "nbformat_minor": 0,
  "metadata": {
    "kernelspec": {
      "display_name": "Python 3",
      "language": "python",
      "name": "python3"
    },
    "language_info": {
      "codemirror_mode": {
        "name": "ipython",
        "version": 3
      },
      "file_extension": ".py",
      "mimetype": "text/x-python",
      "name": "python",
      "nbconvert_exporter": "python",
      "pygments_lexer": "ipython3",
      "version": "3.7.9"
    },
    "toc": {
      "base_numbering": 1,
      "nav_menu": {},
      "number_sections": true,
      "sideBar": true,
      "skip_h1_title": false,
      "title_cell": "Table of Contents",
      "title_sidebar": "Contents",
      "toc_cell": false,
      "toc_position": {},
      "toc_section_display": true,
      "toc_window_display": true
    },
    "varInspector": {
      "cols": {
        "lenName": 16,
        "lenType": 16,
        "lenVar": 40
      },
      "kernels_config": {
        "python": {
          "delete_cmd_postfix": "",
          "delete_cmd_prefix": "del ",
          "library": "var_list.py",
          "varRefreshCmd": "print(var_dic_list())"
        },
        "r": {
          "delete_cmd_postfix": ") ",
          "delete_cmd_prefix": "rm(",
          "library": "var_list.r",
          "varRefreshCmd": "cat(var_dic_list()) "
        }
      },
      "types_to_exclude": [
        "module",
        "function",
        "builtin_function_or_method",
        "instance",
        "_Feature"
      ],
      "window_display": false
    },
    "colab": {
      "name": "04_preprocessing_and_training.ipynb",
      "provenance": [],
      "collapsed_sections": [],
      "include_colab_link": true
    }
  },
  "cells": [
    {
      "cell_type": "markdown",
      "metadata": {
        "id": "view-in-github",
        "colab_type": "text"
      },
      "source": [
        "<a href=\"https://colab.research.google.com/github/jade-lam/DataScienceGuidedCapstone/blob/master/04_preprocessing_and_training.ipynb\" target=\"_parent\"><img src=\"https://colab.research.google.com/assets/colab-badge.svg\" alt=\"Open In Colab\"/></a>"
      ]
    },
    {
      "cell_type": "markdown",
      "metadata": {
        "id": "MgKWuNcGS00K"
      },
      "source": [
        "# 4 Pre-Processing and Training Data<a id='4_Pre-Processing_and_Training_Data'></a>"
      ]
    },
    {
      "cell_type": "markdown",
      "metadata": {
        "id": "1oMF6AGyS00L"
      },
      "source": [
        "## 4.1 Contents<a id='4.1_Contents'></a>\n",
        "* [4 Pre-Processing and Training Data](#4_Pre-Processing_and_Training_Data)\n",
        "  * [4.1 Contents](#4.1_Contents)\n",
        "  * [4.2 Introduction](#4.2_Introduction)\n",
        "  * [4.3 Imports](#4.3_Imports)\n",
        "  * [4.4 Load Data](#4.4_Load_Data)\n",
        "  * [4.5 Extract Big Mountain Data](#4.5_Extract_Big_Mountain_Data)\n",
        "  * [4.6 Train/Test Split](#4.6_Train/Test_Split)\n",
        "  * [4.7 Initial Not-Even-A-Model](#4.7_Initial_Not-Even-A-Model)\n",
        "    * [4.7.1 Metrics](#4.7.1_Metrics)\n",
        "      * [4.7.1.1 R-squared, or coefficient of determination](#4.7.1.1_R-squared,_or_coefficient_of_determination)\n",
        "      * [4.7.1.2 Mean Absolute Error](#4.7.1.2_Mean_Absolute_Error)\n",
        "      * [4.7.1.3 Mean Squared Error](#4.7.1.3_Mean_Squared_Error)\n",
        "    * [4.7.2 sklearn metrics](#4.7.2_sklearn_metrics)\n",
        "        * [4.7.2.0.1 R-squared](#4.7.2.0.1_R-squared)\n",
        "        * [4.7.2.0.2 Mean absolute error](#4.7.2.0.2_Mean_absolute_error)\n",
        "        * [4.7.2.0.3 Mean squared error](#4.7.2.0.3_Mean_squared_error)\n",
        "    * [4.7.3 Note On Calculating Metrics](#4.7.3_Note_On_Calculating_Metrics)\n",
        "  * [4.8 Initial Models](#4.8_Initial_Models)\n",
        "    * [4.8.1 Imputing missing feature (predictor) values](#4.8.1_Imputing_missing_feature_(predictor)_values)\n",
        "      * [4.8.1.1 Impute missing values with median](#4.8.1.1_Impute_missing_values_with_median)\n",
        "        * [4.8.1.1.1 Learn the values to impute from the train set](#4.8.1.1.1_Learn_the_values_to_impute_from_the_train_set)\n",
        "        * [4.8.1.1.2 Apply the imputation to both train and test splits](#4.8.1.1.2_Apply_the_imputation_to_both_train_and_test_splits)\n",
        "        * [4.8.1.1.3 Scale the data](#4.8.1.1.3_Scale_the_data)\n",
        "        * [4.8.1.1.4 Train the model on the train split](#4.8.1.1.4_Train_the_model_on_the_train_split)\n",
        "        * [4.8.1.1.5 Make predictions using the model on both train and test splits](#4.8.1.1.5_Make_predictions_using_the_model_on_both_train_and_test_splits)\n",
        "        * [4.8.1.1.6 Assess model performance](#4.8.1.1.6_Assess_model_performance)\n",
        "      * [4.8.1.2 Impute missing values with the mean](#4.8.1.2_Impute_missing_values_with_the_mean)\n",
        "        * [4.8.1.2.1 Learn the values to impute from the train set](#4.8.1.2.1_Learn_the_values_to_impute_from_the_train_set)\n",
        "        * [4.8.1.2.2 Apply the imputation to both train and test splits](#4.8.1.2.2_Apply_the_imputation_to_both_train_and_test_splits)\n",
        "        * [4.8.1.2.3 Scale the data](#4.8.1.2.3_Scale_the_data)\n",
        "        * [4.8.1.2.4 Train the model on the train split](#4.8.1.2.4_Train_the_model_on_the_train_split)\n",
        "        * [4.8.1.2.5 Make predictions using the model on both train and test splits](#4.8.1.2.5_Make_predictions_using_the_model_on_both_train_and_test_splits)\n",
        "        * [4.8.1.2.6 Assess model performance](#4.8.1.2.6_Assess_model_performance)\n",
        "    * [4.8.2 Pipelines](#4.8.2_Pipelines)\n",
        "      * [4.8.2.1 Define the pipeline](#4.8.2.1_Define_the_pipeline)\n",
        "      * [4.8.2.2 Fit the pipeline](#4.8.2.2_Fit_the_pipeline)\n",
        "      * [4.8.2.3 Make predictions on the train and test sets](#4.8.2.3_Make_predictions_on_the_train_and_test_sets)\n",
        "      * [4.8.2.4 Assess performance](#4.8.2.4_Assess_performance)\n",
        "  * [4.9 Refining The Linear Model](#4.9_Refining_The_Linear_Model)\n",
        "    * [4.9.1 Define the pipeline](#4.9.1_Define_the_pipeline)\n",
        "    * [4.9.2 Fit the pipeline](#4.9.2_Fit_the_pipeline)\n",
        "    * [4.9.3 Assess performance on the train and test set](#4.9.3_Assess_performance_on_the_train_and_test_set)\n",
        "    * [4.9.4 Define a new pipeline to select a different number of features](#4.9.4_Define_a_new_pipeline_to_select_a_different_number_of_features)\n",
        "    * [4.9.5 Fit the pipeline](#4.9.5_Fit_the_pipeline)\n",
        "    * [4.9.6 Assess performance on train and test data](#4.9.6_Assess_performance_on_train_and_test_data)\n",
        "    * [4.9.7 Assessing performance using cross-validation](#4.9.7_Assessing_performance_using_cross-validation)\n",
        "    * [4.9.8 Hyperparameter search using GridSearchCV](#4.9.8_Hyperparameter_search_using_GridSearchCV)\n",
        "  * [4.10 Random Forest Model](#4.10_Random_Forest_Model)\n",
        "    * [4.10.1 Define the pipeline](#4.10.1_Define_the_pipeline)\n",
        "    * [4.10.2 Fit and assess performance using cross-validation](#4.10.2_Fit_and_assess_performance_using_cross-validation)\n",
        "    * [4.10.3 Hyperparameter search using GridSearchCV](#4.10.3_Hyperparameter_search_using_GridSearchCV)\n",
        "  * [4.11 Final Model Selection](#4.11_Final_Model_Selection)\n",
        "    * [4.11.1 Linear regression model performance](#4.11.1_Linear_regression_model_performance)\n",
        "    * [4.11.2 Random forest regression model performance](#4.11.2_Random_forest_regression_model_performance)\n",
        "    * [4.11.3 Conclusion](#4.11.3_Conclusion)\n",
        "  * [4.12 Data quantity assessment](#4.12_Data_quantity_assessment)\n",
        "  * [4.13 Save best model object from pipeline](#4.13_Save_best_model_object_from_pipeline)\n",
        "  * [4.14 Summary](#4.14_Summary)\n"
      ]
    },
    {
      "cell_type": "markdown",
      "metadata": {
        "id": "f1HYZrIrS00M"
      },
      "source": [
        "## 4.2 Introduction<a id='4.2_Introduction'></a>"
      ]
    },
    {
      "cell_type": "markdown",
      "metadata": {
        "id": "P9eqyqVyS00M"
      },
      "source": [
        "In preceding notebooks, performed preliminary assessments of data quality and refined the question to be answered. You found a small number of data values that gave clear choices about whether to replace values or drop a whole row. You determined that predicting the adult weekend ticket price was your primary aim. You threw away records with missing price data, but not before making the most of the other available data to look for any patterns between the states. You didn't see any and decided to treat all states equally; the state label didn't seem to be particularly useful.\n",
        "\n",
        "In this notebook you'll start to build machine learning models. Before even starting with learning a machine learning model, however, start by considering how useful the mean value is as a predictor. This is more than just a pedagogical device. You never want to go to stakeholders with a machine learning model only to have the CEO point out that it performs worse than just guessing the average! Your first model is a baseline performance comparitor for any subsequent model. You then build up the process of efficiently and robustly creating and assessing models against it. The development we lay out may be little slower than in the real world, but this step of the capstone is definitely more than just instructional. It is good practice to build up an understanding that the machine learning pipelines you build work as expected. You can validate steps with your own functions for checking expected equivalence between, say, pandas and sklearn implementations."
      ]
    },
    {
      "cell_type": "markdown",
      "metadata": {
        "id": "-p2DBvVjS00N"
      },
      "source": [
        "## 4.3 Imports<a id='4.3_Imports'></a>"
      ]
    },
    {
      "cell_type": "code",
      "metadata": {
        "id": "hEKGXfDGS00O"
      },
      "source": [
        "import pandas as pd\n",
        "import numpy as np\n",
        "import os\n",
        "import pickle\n",
        "import matplotlib.pyplot as plt\n",
        "import seaborn as sns\n",
        "from sklearn import __version__ as sklearn_version\n",
        "from sklearn.decomposition import PCA\n",
        "from sklearn.preprocessing import scale\n",
        "from sklearn.model_selection import train_test_split, cross_validate, GridSearchCV, learning_curve\n",
        "from sklearn.preprocessing import StandardScaler, MinMaxScaler\n",
        "from sklearn.dummy import DummyRegressor\n",
        "from sklearn.linear_model import LinearRegression\n",
        "from sklearn.ensemble import RandomForestRegressor\n",
        "from sklearn.metrics import r2_score, mean_squared_error, mean_absolute_error\n",
        "from sklearn.pipeline import make_pipeline\n",
        "from sklearn.impute import SimpleImputer\n",
        "from sklearn.feature_selection import SelectKBest, f_regression\n",
        "import datetime\n",
        "\n",
        "#from library.sb_utils import save_file"
      ],
      "execution_count": 109,
      "outputs": []
    },
    {
      "cell_type": "markdown",
      "metadata": {
        "id": "VfXTmjAxS00R"
      },
      "source": [
        "## 4.4 Load Data<a id='4.4_Load_Data'></a>"
      ]
    },
    {
      "cell_type": "code",
      "metadata": {
        "id": "yjjiLGH3Yx9q",
        "outputId": "d12f8f23-79da-4efc-fb2e-8da3f5d11c5e",
        "colab": {
          "base_uri": "https://localhost:8080/"
        }
      },
      "source": [
        "from google.colab import drive\n",
        "drive.mount('/content/drive')"
      ],
      "execution_count": 110,
      "outputs": [
        {
          "output_type": "stream",
          "text": [
            "Drive already mounted at /content/drive; to attempt to forcibly remount, call drive.mount(\"/content/drive\", force_remount=True).\n"
          ],
          "name": "stdout"
        }
      ]
    },
    {
      "cell_type": "code",
      "metadata": {
        "id": "LOIg2CQVY0cN",
        "outputId": "60448863-a7e5-40a2-a3a8-989851885453",
        "colab": {
          "base_uri": "https://localhost:8080/",
          "height": 1000
        }
      },
      "source": [
        "url = '/content/drive/My Drive/Colab Notebooks/Springboard - Data Science Career Track/6 - Guided Capstone 1/ski_data_step3_features.csv'\n",
        "ski_data = pd.read_csv(url, index_col=0)\n",
        "ski_data.head().T"
      ],
      "execution_count": 111,
      "outputs": [
        {
          "output_type": "execute_result",
          "data": {
            "text/html": [
              "<div>\n",
              "<style scoped>\n",
              "    .dataframe tbody tr th:only-of-type {\n",
              "        vertical-align: middle;\n",
              "    }\n",
              "\n",
              "    .dataframe tbody tr th {\n",
              "        vertical-align: top;\n",
              "    }\n",
              "\n",
              "    .dataframe thead th {\n",
              "        text-align: right;\n",
              "    }\n",
              "</style>\n",
              "<table border=\"1\" class=\"dataframe\">\n",
              "  <thead>\n",
              "    <tr style=\"text-align: right;\">\n",
              "      <th></th>\n",
              "      <th>0</th>\n",
              "      <th>1</th>\n",
              "      <th>2</th>\n",
              "      <th>3</th>\n",
              "      <th>4</th>\n",
              "    </tr>\n",
              "  </thead>\n",
              "  <tbody>\n",
              "    <tr>\n",
              "      <th>Name</th>\n",
              "      <td>Alyeska Resort</td>\n",
              "      <td>Eaglecrest Ski Area</td>\n",
              "      <td>Hilltop Ski Area</td>\n",
              "      <td>Arizona Snowbowl</td>\n",
              "      <td>Sunrise Park Resort</td>\n",
              "    </tr>\n",
              "    <tr>\n",
              "      <th>Region</th>\n",
              "      <td>Alaska</td>\n",
              "      <td>Alaska</td>\n",
              "      <td>Alaska</td>\n",
              "      <td>Arizona</td>\n",
              "      <td>Arizona</td>\n",
              "    </tr>\n",
              "    <tr>\n",
              "      <th>state</th>\n",
              "      <td>Alaska</td>\n",
              "      <td>Alaska</td>\n",
              "      <td>Alaska</td>\n",
              "      <td>Arizona</td>\n",
              "      <td>Arizona</td>\n",
              "    </tr>\n",
              "    <tr>\n",
              "      <th>summit_elev</th>\n",
              "      <td>3939</td>\n",
              "      <td>2600</td>\n",
              "      <td>2090</td>\n",
              "      <td>11500</td>\n",
              "      <td>11100</td>\n",
              "    </tr>\n",
              "    <tr>\n",
              "      <th>vertical_drop</th>\n",
              "      <td>2500</td>\n",
              "      <td>1540</td>\n",
              "      <td>294</td>\n",
              "      <td>2300</td>\n",
              "      <td>1800</td>\n",
              "    </tr>\n",
              "    <tr>\n",
              "      <th>base_elev</th>\n",
              "      <td>250</td>\n",
              "      <td>1200</td>\n",
              "      <td>1796</td>\n",
              "      <td>9200</td>\n",
              "      <td>9200</td>\n",
              "    </tr>\n",
              "    <tr>\n",
              "      <th>trams</th>\n",
              "      <td>1</td>\n",
              "      <td>0</td>\n",
              "      <td>0</td>\n",
              "      <td>0</td>\n",
              "      <td>0</td>\n",
              "    </tr>\n",
              "    <tr>\n",
              "      <th>fastSixes</th>\n",
              "      <td>0</td>\n",
              "      <td>0</td>\n",
              "      <td>0</td>\n",
              "      <td>1</td>\n",
              "      <td>0</td>\n",
              "    </tr>\n",
              "    <tr>\n",
              "      <th>fastQuads</th>\n",
              "      <td>2</td>\n",
              "      <td>0</td>\n",
              "      <td>0</td>\n",
              "      <td>0</td>\n",
              "      <td>1</td>\n",
              "    </tr>\n",
              "    <tr>\n",
              "      <th>quad</th>\n",
              "      <td>2</td>\n",
              "      <td>0</td>\n",
              "      <td>0</td>\n",
              "      <td>2</td>\n",
              "      <td>2</td>\n",
              "    </tr>\n",
              "    <tr>\n",
              "      <th>triple</th>\n",
              "      <td>0</td>\n",
              "      <td>0</td>\n",
              "      <td>1</td>\n",
              "      <td>2</td>\n",
              "      <td>3</td>\n",
              "    </tr>\n",
              "    <tr>\n",
              "      <th>double</th>\n",
              "      <td>0</td>\n",
              "      <td>4</td>\n",
              "      <td>0</td>\n",
              "      <td>1</td>\n",
              "      <td>1</td>\n",
              "    </tr>\n",
              "    <tr>\n",
              "      <th>surface</th>\n",
              "      <td>2</td>\n",
              "      <td>0</td>\n",
              "      <td>2</td>\n",
              "      <td>2</td>\n",
              "      <td>0</td>\n",
              "    </tr>\n",
              "    <tr>\n",
              "      <th>total_chairs</th>\n",
              "      <td>7</td>\n",
              "      <td>4</td>\n",
              "      <td>3</td>\n",
              "      <td>8</td>\n",
              "      <td>7</td>\n",
              "    </tr>\n",
              "    <tr>\n",
              "      <th>Runs</th>\n",
              "      <td>76</td>\n",
              "      <td>36</td>\n",
              "      <td>13</td>\n",
              "      <td>55</td>\n",
              "      <td>65</td>\n",
              "    </tr>\n",
              "    <tr>\n",
              "      <th>TerrainParks</th>\n",
              "      <td>2</td>\n",
              "      <td>1</td>\n",
              "      <td>1</td>\n",
              "      <td>4</td>\n",
              "      <td>2</td>\n",
              "    </tr>\n",
              "    <tr>\n",
              "      <th>LongestRun_mi</th>\n",
              "      <td>1</td>\n",
              "      <td>2</td>\n",
              "      <td>1</td>\n",
              "      <td>2</td>\n",
              "      <td>1.2</td>\n",
              "    </tr>\n",
              "    <tr>\n",
              "      <th>SkiableTerrain_ac</th>\n",
              "      <td>1610</td>\n",
              "      <td>640</td>\n",
              "      <td>30</td>\n",
              "      <td>777</td>\n",
              "      <td>800</td>\n",
              "    </tr>\n",
              "    <tr>\n",
              "      <th>Snow Making_ac</th>\n",
              "      <td>113</td>\n",
              "      <td>60</td>\n",
              "      <td>30</td>\n",
              "      <td>104</td>\n",
              "      <td>80</td>\n",
              "    </tr>\n",
              "    <tr>\n",
              "      <th>daysOpenLastYear</th>\n",
              "      <td>150</td>\n",
              "      <td>45</td>\n",
              "      <td>150</td>\n",
              "      <td>122</td>\n",
              "      <td>115</td>\n",
              "    </tr>\n",
              "    <tr>\n",
              "      <th>yearsOpen</th>\n",
              "      <td>60</td>\n",
              "      <td>44</td>\n",
              "      <td>36</td>\n",
              "      <td>81</td>\n",
              "      <td>49</td>\n",
              "    </tr>\n",
              "    <tr>\n",
              "      <th>averageSnowfall</th>\n",
              "      <td>669</td>\n",
              "      <td>350</td>\n",
              "      <td>69</td>\n",
              "      <td>260</td>\n",
              "      <td>250</td>\n",
              "    </tr>\n",
              "    <tr>\n",
              "      <th>AdultWeekend</th>\n",
              "      <td>85</td>\n",
              "      <td>53</td>\n",
              "      <td>34</td>\n",
              "      <td>89</td>\n",
              "      <td>78</td>\n",
              "    </tr>\n",
              "    <tr>\n",
              "      <th>projectedDaysOpen</th>\n",
              "      <td>150</td>\n",
              "      <td>90</td>\n",
              "      <td>152</td>\n",
              "      <td>122</td>\n",
              "      <td>104</td>\n",
              "    </tr>\n",
              "    <tr>\n",
              "      <th>NightSkiing_ac</th>\n",
              "      <td>550</td>\n",
              "      <td>NaN</td>\n",
              "      <td>30</td>\n",
              "      <td>NaN</td>\n",
              "      <td>80</td>\n",
              "    </tr>\n",
              "    <tr>\n",
              "      <th>resorts_per_state</th>\n",
              "      <td>3</td>\n",
              "      <td>3</td>\n",
              "      <td>3</td>\n",
              "      <td>2</td>\n",
              "      <td>2</td>\n",
              "    </tr>\n",
              "    <tr>\n",
              "      <th>resorts_per_100kcapita</th>\n",
              "      <td>0.410091</td>\n",
              "      <td>0.410091</td>\n",
              "      <td>0.410091</td>\n",
              "      <td>0.0274774</td>\n",
              "      <td>0.0274774</td>\n",
              "    </tr>\n",
              "    <tr>\n",
              "      <th>resorts_per_100ksq_mile</th>\n",
              "      <td>0.450867</td>\n",
              "      <td>0.450867</td>\n",
              "      <td>0.450867</td>\n",
              "      <td>1.75454</td>\n",
              "      <td>1.75454</td>\n",
              "    </tr>\n",
              "    <tr>\n",
              "      <th>resort_skiable_area_ac_state_ratio</th>\n",
              "      <td>0.70614</td>\n",
              "      <td>0.280702</td>\n",
              "      <td>0.0131579</td>\n",
              "      <td>0.492708</td>\n",
              "      <td>0.507292</td>\n",
              "    </tr>\n",
              "    <tr>\n",
              "      <th>resort_days_open_state_ratio</th>\n",
              "      <td>0.434783</td>\n",
              "      <td>0.130435</td>\n",
              "      <td>0.434783</td>\n",
              "      <td>0.514768</td>\n",
              "      <td>0.485232</td>\n",
              "    </tr>\n",
              "    <tr>\n",
              "      <th>resort_terrain_park_state_ratio</th>\n",
              "      <td>0.5</td>\n",
              "      <td>0.25</td>\n",
              "      <td>0.25</td>\n",
              "      <td>0.666667</td>\n",
              "      <td>0.333333</td>\n",
              "    </tr>\n",
              "    <tr>\n",
              "      <th>resort_night_skiing_state_ratio</th>\n",
              "      <td>0.948276</td>\n",
              "      <td>NaN</td>\n",
              "      <td>0.0517241</td>\n",
              "      <td>NaN</td>\n",
              "      <td>1</td>\n",
              "    </tr>\n",
              "    <tr>\n",
              "      <th>total_chairs_runs_ratio</th>\n",
              "      <td>0.0921053</td>\n",
              "      <td>0.111111</td>\n",
              "      <td>0.230769</td>\n",
              "      <td>0.145455</td>\n",
              "      <td>0.107692</td>\n",
              "    </tr>\n",
              "    <tr>\n",
              "      <th>total_chairs_skiable_ratio</th>\n",
              "      <td>0.00434783</td>\n",
              "      <td>0.00625</td>\n",
              "      <td>0.1</td>\n",
              "      <td>0.010296</td>\n",
              "      <td>0.00875</td>\n",
              "    </tr>\n",
              "    <tr>\n",
              "      <th>fastQuads_runs_ratio</th>\n",
              "      <td>0.0263158</td>\n",
              "      <td>0</td>\n",
              "      <td>0</td>\n",
              "      <td>0</td>\n",
              "      <td>0.0153846</td>\n",
              "    </tr>\n",
              "    <tr>\n",
              "      <th>fastQuads_skiable_ratio</th>\n",
              "      <td>0.00124224</td>\n",
              "      <td>0</td>\n",
              "      <td>0</td>\n",
              "      <td>0</td>\n",
              "      <td>0.00125</td>\n",
              "    </tr>\n",
              "  </tbody>\n",
              "</table>\n",
              "</div>"
            ],
            "text/plain": [
              "                                                 0  ...                    4\n",
              "Name                                Alyeska Resort  ...  Sunrise Park Resort\n",
              "Region                                      Alaska  ...              Arizona\n",
              "state                                       Alaska  ...              Arizona\n",
              "summit_elev                                   3939  ...                11100\n",
              "vertical_drop                                 2500  ...                 1800\n",
              "base_elev                                      250  ...                 9200\n",
              "trams                                            1  ...                    0\n",
              "fastSixes                                        0  ...                    0\n",
              "fastQuads                                        2  ...                    1\n",
              "quad                                             2  ...                    2\n",
              "triple                                           0  ...                    3\n",
              "double                                           0  ...                    1\n",
              "surface                                          2  ...                    0\n",
              "total_chairs                                     7  ...                    7\n",
              "Runs                                            76  ...                   65\n",
              "TerrainParks                                     2  ...                    2\n",
              "LongestRun_mi                                    1  ...                  1.2\n",
              "SkiableTerrain_ac                             1610  ...                  800\n",
              "Snow Making_ac                                 113  ...                   80\n",
              "daysOpenLastYear                               150  ...                  115\n",
              "yearsOpen                                       60  ...                   49\n",
              "averageSnowfall                                669  ...                  250\n",
              "AdultWeekend                                    85  ...                   78\n",
              "projectedDaysOpen                              150  ...                  104\n",
              "NightSkiing_ac                                 550  ...                   80\n",
              "resorts_per_state                                3  ...                    2\n",
              "resorts_per_100kcapita                    0.410091  ...            0.0274774\n",
              "resorts_per_100ksq_mile                   0.450867  ...              1.75454\n",
              "resort_skiable_area_ac_state_ratio         0.70614  ...             0.507292\n",
              "resort_days_open_state_ratio              0.434783  ...             0.485232\n",
              "resort_terrain_park_state_ratio                0.5  ...             0.333333\n",
              "resort_night_skiing_state_ratio           0.948276  ...                    1\n",
              "total_chairs_runs_ratio                  0.0921053  ...             0.107692\n",
              "total_chairs_skiable_ratio              0.00434783  ...              0.00875\n",
              "fastQuads_runs_ratio                     0.0263158  ...            0.0153846\n",
              "fastQuads_skiable_ratio                 0.00124224  ...              0.00125\n",
              "\n",
              "[36 rows x 5 columns]"
            ]
          },
          "metadata": {
            "tags": []
          },
          "execution_count": 111
        }
      ]
    },
    {
      "cell_type": "markdown",
      "metadata": {
        "id": "Usu5GMNrS00W"
      },
      "source": [
        "## 4.5 Extract Big Mountain Data<a id='4.5_Extract_Big_Mountain_Data'></a>"
      ]
    },
    {
      "cell_type": "markdown",
      "metadata": {
        "id": "f4vAAqfSS00X"
      },
      "source": [
        "Big Mountain is your resort. Separate it from the rest of the data to use later."
      ]
    },
    {
      "cell_type": "code",
      "metadata": {
        "id": "i3c9Q1HaS00X"
      },
      "source": [
        "big_mountain = ski_data[ski_data['Name'] == 'Big Mountain Resort']"
      ],
      "execution_count": 112,
      "outputs": []
    },
    {
      "cell_type": "code",
      "metadata": {
        "id": "PIw_kdnTS00a",
        "outputId": "9fff1b30-3c62-451e-b261-270d75d8a546",
        "colab": {
          "base_uri": "https://localhost:8080/",
          "height": 1000
        }
      },
      "source": [
        "big_mountain.T"
      ],
      "execution_count": 113,
      "outputs": [
        {
          "output_type": "execute_result",
          "data": {
            "text/html": [
              "<div>\n",
              "<style scoped>\n",
              "    .dataframe tbody tr th:only-of-type {\n",
              "        vertical-align: middle;\n",
              "    }\n",
              "\n",
              "    .dataframe tbody tr th {\n",
              "        vertical-align: top;\n",
              "    }\n",
              "\n",
              "    .dataframe thead th {\n",
              "        text-align: right;\n",
              "    }\n",
              "</style>\n",
              "<table border=\"1\" class=\"dataframe\">\n",
              "  <thead>\n",
              "    <tr style=\"text-align: right;\">\n",
              "      <th></th>\n",
              "      <th>124</th>\n",
              "    </tr>\n",
              "  </thead>\n",
              "  <tbody>\n",
              "    <tr>\n",
              "      <th>Name</th>\n",
              "      <td>Big Mountain Resort</td>\n",
              "    </tr>\n",
              "    <tr>\n",
              "      <th>Region</th>\n",
              "      <td>Montana</td>\n",
              "    </tr>\n",
              "    <tr>\n",
              "      <th>state</th>\n",
              "      <td>Montana</td>\n",
              "    </tr>\n",
              "    <tr>\n",
              "      <th>summit_elev</th>\n",
              "      <td>6817</td>\n",
              "    </tr>\n",
              "    <tr>\n",
              "      <th>vertical_drop</th>\n",
              "      <td>2353</td>\n",
              "    </tr>\n",
              "    <tr>\n",
              "      <th>base_elev</th>\n",
              "      <td>4464</td>\n",
              "    </tr>\n",
              "    <tr>\n",
              "      <th>trams</th>\n",
              "      <td>0</td>\n",
              "    </tr>\n",
              "    <tr>\n",
              "      <th>fastSixes</th>\n",
              "      <td>0</td>\n",
              "    </tr>\n",
              "    <tr>\n",
              "      <th>fastQuads</th>\n",
              "      <td>3</td>\n",
              "    </tr>\n",
              "    <tr>\n",
              "      <th>quad</th>\n",
              "      <td>2</td>\n",
              "    </tr>\n",
              "    <tr>\n",
              "      <th>triple</th>\n",
              "      <td>6</td>\n",
              "    </tr>\n",
              "    <tr>\n",
              "      <th>double</th>\n",
              "      <td>0</td>\n",
              "    </tr>\n",
              "    <tr>\n",
              "      <th>surface</th>\n",
              "      <td>3</td>\n",
              "    </tr>\n",
              "    <tr>\n",
              "      <th>total_chairs</th>\n",
              "      <td>14</td>\n",
              "    </tr>\n",
              "    <tr>\n",
              "      <th>Runs</th>\n",
              "      <td>105</td>\n",
              "    </tr>\n",
              "    <tr>\n",
              "      <th>TerrainParks</th>\n",
              "      <td>4</td>\n",
              "    </tr>\n",
              "    <tr>\n",
              "      <th>LongestRun_mi</th>\n",
              "      <td>3.3</td>\n",
              "    </tr>\n",
              "    <tr>\n",
              "      <th>SkiableTerrain_ac</th>\n",
              "      <td>3000</td>\n",
              "    </tr>\n",
              "    <tr>\n",
              "      <th>Snow Making_ac</th>\n",
              "      <td>600</td>\n",
              "    </tr>\n",
              "    <tr>\n",
              "      <th>daysOpenLastYear</th>\n",
              "      <td>123</td>\n",
              "    </tr>\n",
              "    <tr>\n",
              "      <th>yearsOpen</th>\n",
              "      <td>72</td>\n",
              "    </tr>\n",
              "    <tr>\n",
              "      <th>averageSnowfall</th>\n",
              "      <td>333</td>\n",
              "    </tr>\n",
              "    <tr>\n",
              "      <th>AdultWeekend</th>\n",
              "      <td>81</td>\n",
              "    </tr>\n",
              "    <tr>\n",
              "      <th>projectedDaysOpen</th>\n",
              "      <td>123</td>\n",
              "    </tr>\n",
              "    <tr>\n",
              "      <th>NightSkiing_ac</th>\n",
              "      <td>600</td>\n",
              "    </tr>\n",
              "    <tr>\n",
              "      <th>resorts_per_state</th>\n",
              "      <td>12</td>\n",
              "    </tr>\n",
              "    <tr>\n",
              "      <th>resorts_per_100kcapita</th>\n",
              "      <td>1.12278</td>\n",
              "    </tr>\n",
              "    <tr>\n",
              "      <th>resorts_per_100ksq_mile</th>\n",
              "      <td>8.16104</td>\n",
              "    </tr>\n",
              "    <tr>\n",
              "      <th>resort_skiable_area_ac_state_ratio</th>\n",
              "      <td>0.140121</td>\n",
              "    </tr>\n",
              "    <tr>\n",
              "      <th>resort_days_open_state_ratio</th>\n",
              "      <td>0.129338</td>\n",
              "    </tr>\n",
              "    <tr>\n",
              "      <th>resort_terrain_park_state_ratio</th>\n",
              "      <td>0.148148</td>\n",
              "    </tr>\n",
              "    <tr>\n",
              "      <th>resort_night_skiing_state_ratio</th>\n",
              "      <td>0.84507</td>\n",
              "    </tr>\n",
              "    <tr>\n",
              "      <th>total_chairs_runs_ratio</th>\n",
              "      <td>0.133333</td>\n",
              "    </tr>\n",
              "    <tr>\n",
              "      <th>total_chairs_skiable_ratio</th>\n",
              "      <td>0.00466667</td>\n",
              "    </tr>\n",
              "    <tr>\n",
              "      <th>fastQuads_runs_ratio</th>\n",
              "      <td>0.0285714</td>\n",
              "    </tr>\n",
              "    <tr>\n",
              "      <th>fastQuads_skiable_ratio</th>\n",
              "      <td>0.001</td>\n",
              "    </tr>\n",
              "  </tbody>\n",
              "</table>\n",
              "</div>"
            ],
            "text/plain": [
              "                                                    124\n",
              "Name                                Big Mountain Resort\n",
              "Region                                          Montana\n",
              "state                                           Montana\n",
              "summit_elev                                        6817\n",
              "vertical_drop                                      2353\n",
              "base_elev                                          4464\n",
              "trams                                                 0\n",
              "fastSixes                                             0\n",
              "fastQuads                                             3\n",
              "quad                                                  2\n",
              "triple                                                6\n",
              "double                                                0\n",
              "surface                                               3\n",
              "total_chairs                                         14\n",
              "Runs                                                105\n",
              "TerrainParks                                          4\n",
              "LongestRun_mi                                       3.3\n",
              "SkiableTerrain_ac                                  3000\n",
              "Snow Making_ac                                      600\n",
              "daysOpenLastYear                                    123\n",
              "yearsOpen                                            72\n",
              "averageSnowfall                                     333\n",
              "AdultWeekend                                         81\n",
              "projectedDaysOpen                                   123\n",
              "NightSkiing_ac                                      600\n",
              "resorts_per_state                                    12\n",
              "resorts_per_100kcapita                          1.12278\n",
              "resorts_per_100ksq_mile                         8.16104\n",
              "resort_skiable_area_ac_state_ratio             0.140121\n",
              "resort_days_open_state_ratio                   0.129338\n",
              "resort_terrain_park_state_ratio                0.148148\n",
              "resort_night_skiing_state_ratio                 0.84507\n",
              "total_chairs_runs_ratio                        0.133333\n",
              "total_chairs_skiable_ratio                   0.00466667\n",
              "fastQuads_runs_ratio                          0.0285714\n",
              "fastQuads_skiable_ratio                           0.001"
            ]
          },
          "metadata": {
            "tags": []
          },
          "execution_count": 113
        }
      ]
    },
    {
      "cell_type": "code",
      "metadata": {
        "id": "nGbysoJTS00e",
        "outputId": "6ef9582c-f227-4487-b916-c6a1c3826684",
        "colab": {
          "base_uri": "https://localhost:8080/"
        }
      },
      "source": [
        "ski_data.shape"
      ],
      "execution_count": 114,
      "outputs": [
        {
          "output_type": "execute_result",
          "data": {
            "text/plain": [
              "(277, 36)"
            ]
          },
          "metadata": {
            "tags": []
          },
          "execution_count": 114
        }
      ]
    },
    {
      "cell_type": "code",
      "metadata": {
        "id": "_RfivOn5S00h"
      },
      "source": [
        "ski_data = ski_data[ski_data.Name != 'Big Mountain Resort']"
      ],
      "execution_count": 115,
      "outputs": []
    },
    {
      "cell_type": "code",
      "metadata": {
        "id": "B9K0xiVkS00k",
        "outputId": "c19265f4-dd11-48b1-ecf7-4dc83b52e026",
        "colab": {
          "base_uri": "https://localhost:8080/"
        }
      },
      "source": [
        "ski_data.shape"
      ],
      "execution_count": 116,
      "outputs": [
        {
          "output_type": "execute_result",
          "data": {
            "text/plain": [
              "(276, 36)"
            ]
          },
          "metadata": {
            "tags": []
          },
          "execution_count": 116
        }
      ]
    },
    {
      "cell_type": "markdown",
      "metadata": {
        "id": "Vr_f56pdS00n"
      },
      "source": [
        "## 4.6 Train/Test Split<a id='4.6_Train/Test_Split'></a>"
      ]
    },
    {
      "cell_type": "markdown",
      "metadata": {
        "id": "Nwn8nWtTS00n"
      },
      "source": [
        "So far, you've treated ski resort data as a single entity. In machine learning, when you train your model on all of your data, you end up with no data set aside to evaluate model performance. You could keep making more and more complex models that fit the data better and better and not realise you were overfitting to that one set of samples. By partitioning the data into training and testing splits, without letting a model (or missing-value imputation) learn anything about the test split, you have a somewhat independent assessment of how your model might perform in the future. An often overlooked subtlety here is that people all too frequently use the test set to assess model performance _and then compare multiple models to pick the best_. This means their overall model selection process is  fitting to one specific data set, now the test split. You could keep going, trying to get better and better performance on that one data set, but that's  where cross-validation becomes especially useful. While training models, a test split is very useful as a final check on expected future performance."
      ]
    },
    {
      "cell_type": "markdown",
      "metadata": {
        "id": "mKrRRj5MS00o"
      },
      "source": [
        "What partition sizes would you have with a 70/30 train/test split?"
      ]
    },
    {
      "cell_type": "code",
      "metadata": {
        "id": "gPjneCSZS00o",
        "outputId": "b492c081-774b-482a-b129-c39c6cb03c6a",
        "colab": {
          "base_uri": "https://localhost:8080/"
        }
      },
      "source": [
        "len(ski_data) * .7, len(ski_data) * .3"
      ],
      "execution_count": 117,
      "outputs": [
        {
          "output_type": "execute_result",
          "data": {
            "text/plain": [
              "(193.2, 82.8)"
            ]
          },
          "metadata": {
            "tags": []
          },
          "execution_count": 117
        }
      ]
    },
    {
      "cell_type": "code",
      "metadata": {
        "id": "lbb5k6gTS00r"
      },
      "source": [
        "X_train, X_test, y_train, y_test = train_test_split(ski_data.drop(columns='AdultWeekend'), \n",
        "                                                    ski_data.AdultWeekend, test_size=0.3, \n",
        "                                                    random_state=47)"
      ],
      "execution_count": 118,
      "outputs": []
    },
    {
      "cell_type": "code",
      "metadata": {
        "id": "hA-z-Cf8S00t",
        "outputId": "e5da6475-68c5-4108-94d9-722a8718a133",
        "colab": {
          "base_uri": "https://localhost:8080/"
        }
      },
      "source": [
        "X_train.shape, X_test.shape"
      ],
      "execution_count": 119,
      "outputs": [
        {
          "output_type": "execute_result",
          "data": {
            "text/plain": [
              "((193, 35), (83, 35))"
            ]
          },
          "metadata": {
            "tags": []
          },
          "execution_count": 119
        }
      ]
    },
    {
      "cell_type": "code",
      "metadata": {
        "id": "557iL7ZIS00w",
        "outputId": "6bae108c-3679-4a15-9ff3-6307f5779b1a",
        "colab": {
          "base_uri": "https://localhost:8080/"
        }
      },
      "source": [
        "y_train.shape, y_test.shape"
      ],
      "execution_count": 120,
      "outputs": [
        {
          "output_type": "execute_result",
          "data": {
            "text/plain": [
              "((193,), (83,))"
            ]
          },
          "metadata": {
            "tags": []
          },
          "execution_count": 120
        }
      ]
    },
    {
      "cell_type": "code",
      "metadata": {
        "id": "lH3LXnWYS00z",
        "outputId": "4147c53f-9e85-4572-8d0f-02fc85f361a6",
        "colab": {
          "base_uri": "https://localhost:8080/"
        }
      },
      "source": [
        "#Code task 1#\n",
        "#Save the 'Name', 'state', and 'Region' columns from the train/test data into names_train and names_test\n",
        "#Then drop those columns from `X_train` and `X_test`. Use 'inplace=True'\n",
        "names_list = ['Name', 'state', 'Region']\n",
        "names_train = X_train[names_list]\n",
        "names_test = X_test[names_list]\n",
        "X_train.drop(columns=names_list, inplace=True)\n",
        "X_test.drop(columns=names_list, inplace=True)\n",
        "X_train.shape, X_test.shape"
      ],
      "execution_count": 121,
      "outputs": [
        {
          "output_type": "execute_result",
          "data": {
            "text/plain": [
              "((193, 32), (83, 32))"
            ]
          },
          "metadata": {
            "tags": []
          },
          "execution_count": 121
        }
      ]
    },
    {
      "cell_type": "code",
      "metadata": {
        "id": "YAUJEbzPS002",
        "outputId": "1da2acbe-2e9b-4c7b-f107-8b33fa8eecf7",
        "colab": {
          "base_uri": "https://localhost:8080/"
        }
      },
      "source": [
        "#Code task 2#\n",
        "#Check the `dtypes` attribute of `X_train` to verify all features are numeric\n",
        "X_train.dtypes"
      ],
      "execution_count": 122,
      "outputs": [
        {
          "output_type": "execute_result",
          "data": {
            "text/plain": [
              "summit_elev                             int64\n",
              "vertical_drop                           int64\n",
              "base_elev                               int64\n",
              "trams                                   int64\n",
              "fastSixes                               int64\n",
              "fastQuads                               int64\n",
              "quad                                    int64\n",
              "triple                                  int64\n",
              "double                                  int64\n",
              "surface                                 int64\n",
              "total_chairs                            int64\n",
              "Runs                                  float64\n",
              "TerrainParks                          float64\n",
              "LongestRun_mi                         float64\n",
              "SkiableTerrain_ac                     float64\n",
              "Snow Making_ac                        float64\n",
              "daysOpenLastYear                      float64\n",
              "yearsOpen                             float64\n",
              "averageSnowfall                       float64\n",
              "projectedDaysOpen                     float64\n",
              "NightSkiing_ac                        float64\n",
              "resorts_per_state                       int64\n",
              "resorts_per_100kcapita                float64\n",
              "resorts_per_100ksq_mile               float64\n",
              "resort_skiable_area_ac_state_ratio    float64\n",
              "resort_days_open_state_ratio          float64\n",
              "resort_terrain_park_state_ratio       float64\n",
              "resort_night_skiing_state_ratio       float64\n",
              "total_chairs_runs_ratio               float64\n",
              "total_chairs_skiable_ratio            float64\n",
              "fastQuads_runs_ratio                  float64\n",
              "fastQuads_skiable_ratio               float64\n",
              "dtype: object"
            ]
          },
          "metadata": {
            "tags": []
          },
          "execution_count": 122
        }
      ]
    },
    {
      "cell_type": "code",
      "metadata": {
        "id": "dYiPIao8S004",
        "outputId": "ecc74711-068a-45c9-842f-c1d0762ec12b",
        "colab": {
          "base_uri": "https://localhost:8080/"
        }
      },
      "source": [
        "#Code task 3#\n",
        "#Repeat this check for the test split in `X_test`\n",
        "X_test.dtypes"
      ],
      "execution_count": 123,
      "outputs": [
        {
          "output_type": "execute_result",
          "data": {
            "text/plain": [
              "summit_elev                             int64\n",
              "vertical_drop                           int64\n",
              "base_elev                               int64\n",
              "trams                                   int64\n",
              "fastSixes                               int64\n",
              "fastQuads                               int64\n",
              "quad                                    int64\n",
              "triple                                  int64\n",
              "double                                  int64\n",
              "surface                                 int64\n",
              "total_chairs                            int64\n",
              "Runs                                  float64\n",
              "TerrainParks                          float64\n",
              "LongestRun_mi                         float64\n",
              "SkiableTerrain_ac                     float64\n",
              "Snow Making_ac                        float64\n",
              "daysOpenLastYear                      float64\n",
              "yearsOpen                             float64\n",
              "averageSnowfall                       float64\n",
              "projectedDaysOpen                     float64\n",
              "NightSkiing_ac                        float64\n",
              "resorts_per_state                       int64\n",
              "resorts_per_100kcapita                float64\n",
              "resorts_per_100ksq_mile               float64\n",
              "resort_skiable_area_ac_state_ratio    float64\n",
              "resort_days_open_state_ratio          float64\n",
              "resort_terrain_park_state_ratio       float64\n",
              "resort_night_skiing_state_ratio       float64\n",
              "total_chairs_runs_ratio               float64\n",
              "total_chairs_skiable_ratio            float64\n",
              "fastQuads_runs_ratio                  float64\n",
              "fastQuads_skiable_ratio               float64\n",
              "dtype: object"
            ]
          },
          "metadata": {
            "tags": []
          },
          "execution_count": 123
        }
      ]
    },
    {
      "cell_type": "markdown",
      "metadata": {
        "id": "OsVrcOKKS006"
      },
      "source": [
        "You have only numeric features in your X now!"
      ]
    },
    {
      "cell_type": "markdown",
      "metadata": {
        "id": "7NYQB1WgS007"
      },
      "source": [
        "## 4.7 Initial Not-Even-A-Model<a id='4.7_Initial_Not-Even-A-Model'></a>"
      ]
    },
    {
      "cell_type": "markdown",
      "metadata": {
        "id": "Z5cYSSh4S007"
      },
      "source": [
        "A good place to start is to see how good the mean is as a predictor. In other words, what if you simply say your best guess is the average price?"
      ]
    },
    {
      "cell_type": "code",
      "metadata": {
        "id": "WKPWZFOES008",
        "outputId": "164aa150-01ac-4bda-d8a8-41b6a353c71d",
        "colab": {
          "base_uri": "https://localhost:8080/"
        }
      },
      "source": [
        "#Code task 4#\n",
        "#Calculate the mean of `y_train`\n",
        "train_mean = y_train.mean()\n",
        "train_mean"
      ],
      "execution_count": 124,
      "outputs": [
        {
          "output_type": "execute_result",
          "data": {
            "text/plain": [
              "63.811088082901556"
            ]
          },
          "metadata": {
            "tags": []
          },
          "execution_count": 124
        }
      ]
    },
    {
      "cell_type": "markdown",
      "metadata": {
        "id": "qWx003k5S00-"
      },
      "source": [
        "`sklearn`'s `DummyRegressor` easily does this:"
      ]
    },
    {
      "cell_type": "code",
      "metadata": {
        "id": "wn8UfhlDS00_",
        "outputId": "2c6ae283-01c5-4227-94bb-4ad39f2e083f",
        "colab": {
          "base_uri": "https://localhost:8080/"
        }
      },
      "source": [
        "#Code task 5#\n",
        "#Fit the dummy regressor on the training data\n",
        "#Hint, call its `.fit()` method with `X_train` and `y_train` as arguments\n",
        "#Then print the object's `constant_` attribute and verify it's the same as the mean above\n",
        "dumb_reg = DummyRegressor(strategy='mean')\n",
        "dumb_reg.fit(X_train, y_train)\n",
        "dumb_reg.constant_"
      ],
      "execution_count": 125,
      "outputs": [
        {
          "output_type": "execute_result",
          "data": {
            "text/plain": [
              "array([[63.81108808]])"
            ]
          },
          "metadata": {
            "tags": []
          },
          "execution_count": 125
        }
      ]
    },
    {
      "cell_type": "markdown",
      "metadata": {
        "id": "zLl7t2h0S01B"
      },
      "source": [
        "How good is this? How closely does this match, or explain, the actual values? There are many ways of assessing how good one set of values agrees with another, which brings us to the subject of metrics."
      ]
    },
    {
      "cell_type": "markdown",
      "metadata": {
        "id": "YKb50-82S01C"
      },
      "source": [
        "### 4.7.1 Metrics<a id='4.7.1_Metrics'></a>"
      ]
    },
    {
      "cell_type": "markdown",
      "metadata": {
        "id": "cLr82NSmS01C"
      },
      "source": [
        "#### 4.7.1.1 R-squared, or coefficient of determination<a id='4.7.1.1_R-squared,_or_coefficient_of_determination'></a>"
      ]
    },
    {
      "cell_type": "markdown",
      "metadata": {
        "id": "KuMxaNLES01D"
      },
      "source": [
        "One measure is $R^2$, the [coefficient of determination](https://en.wikipedia.org/wiki/Coefficient_of_determination). This is a measure of the proportion of variance in the dependent variable (our ticket price) that is predicted by our \"model\". The linked Wikipedia articles gives a nice explanation of how negative values can arise. This is frequently a cause of confusion for newcomers who, reasonably, ask how can a squared value be negative?\n",
        "\n",
        "Recall the mean can be denoted by $\\bar{y}$, where\n",
        "\n",
        "$$\\bar{y} = \\frac{1}{n}\\sum_{i=1}^ny_i$$\n",
        "\n",
        "and where $y_i$ are the individual values of the dependent variable.\n",
        "\n",
        "The total sum of squares (error), can be expressed as\n",
        "\n",
        "$$SS_{tot} = \\sum_i(y_i-\\bar{y})^2$$\n",
        "\n",
        "The above formula should be familiar as it's simply the variance without the denominator to scale (divide) by the sample size.\n",
        "\n",
        "The residual sum of squares is similarly defined to be\n",
        "\n",
        "$$SS_{res} = \\sum_i(y_i-\\hat{y})^2$$\n",
        "\n",
        "where $\\hat{y}$ are our predicted values for the depended variable.\n",
        "\n",
        "The coefficient of determination, $R^2$, here is given by\n",
        "\n",
        "$$R^2 = 1 - \\frac{SS_{res}}{SS_{tot}}$$\n",
        "\n",
        "Putting it into words, it's one minus the ratio of the residual variance to the original variance. Thus, the baseline model here, which always predicts $\\bar{y}$, should give $R^2=0$. A model that perfectly predicts the observed values would have no residual error and so give $R^2=1$. Models that do worse than predicting the mean will have increased the sum of squares of residuals and so produce a negative $R^2$."
      ]
    },
    {
      "cell_type": "code",
      "metadata": {
        "id": "pHdY0Q0mS01D"
      },
      "source": [
        "#Code task 6#\n",
        "#Calculate the R^2 as defined above\n",
        "def r_squared(y, ypred):\n",
        "    \"\"\"R-squared score.\n",
        "    \n",
        "    Calculate the R-squared, or coefficient of determination, of the input.\n",
        "    \n",
        "    Arguments:\n",
        "    y -- the observed values\n",
        "    ypred -- the predicted values\n",
        "    \"\"\"\n",
        "    ybar = np.sum(y) / len(y) #yes, we could use np.mean(y)\n",
        "    sum_sq_tot = np.sum((y - ybar)**2) #total sum of squares error\n",
        "    sum_sq_res = np.sum((y - ypred)**2) #residual sum of squares error\n",
        "    R2 = 1.0 - (sum_sq_res / sum_sq_tot)\n",
        "    return R2"
      ],
      "execution_count": 126,
      "outputs": []
    },
    {
      "cell_type": "markdown",
      "metadata": {
        "id": "2vIec5RSS01G"
      },
      "source": [
        "Make your predictions by creating an array of length the size of the training set with the single value of the mean."
      ]
    },
    {
      "cell_type": "code",
      "metadata": {
        "id": "XKaXBjgtS01H",
        "outputId": "1aed2404-adfd-43b5-d156-aa2ff0f51c54",
        "colab": {
          "base_uri": "https://localhost:8080/"
        }
      },
      "source": [
        "y_tr_pred_ = train_mean * np.ones(len(y_train))\n",
        "y_tr_pred_[:5]"
      ],
      "execution_count": 127,
      "outputs": [
        {
          "output_type": "execute_result",
          "data": {
            "text/plain": [
              "array([63.81108808, 63.81108808, 63.81108808, 63.81108808, 63.81108808])"
            ]
          },
          "metadata": {
            "tags": []
          },
          "execution_count": 127
        }
      ]
    },
    {
      "cell_type": "markdown",
      "metadata": {
        "id": "TNTanjYuS01J"
      },
      "source": [
        "Remember the `sklearn` dummy regressor? "
      ]
    },
    {
      "cell_type": "code",
      "metadata": {
        "id": "3RPteOfVS01K",
        "outputId": "95bbb8d8-5b45-4f03-c041-66a14d7aa87c",
        "colab": {
          "base_uri": "https://localhost:8080/"
        }
      },
      "source": [
        "y_tr_pred = dumb_reg.predict(X_train)\n",
        "y_tr_pred[:5]"
      ],
      "execution_count": 128,
      "outputs": [
        {
          "output_type": "execute_result",
          "data": {
            "text/plain": [
              "array([63.81108808, 63.81108808, 63.81108808, 63.81108808, 63.81108808])"
            ]
          },
          "metadata": {
            "tags": []
          },
          "execution_count": 128
        }
      ]
    },
    {
      "cell_type": "markdown",
      "metadata": {
        "id": "7PsgvmkES01M"
      },
      "source": [
        "You can see that `DummyRegressor` produces exactly the same results and saves you having to mess about broadcasting the mean (or whichever other statistic we used - check out the [documentation](https://scikit-learn.org/stable/modules/generated/sklearn.dummy.DummyRegressor.html) to see what's available) to an array of the appropriate length. It also gives you an object with `fit()` and `predict()` methods as well so you can use them as conveniently as any other `sklearn` estimator."
      ]
    },
    {
      "cell_type": "code",
      "metadata": {
        "id": "Bru_TSrPS01M",
        "outputId": "5155656e-af72-4876-fe11-b15a3566640f",
        "colab": {
          "base_uri": "https://localhost:8080/"
        }
      },
      "source": [
        "r_squared(y_train, y_tr_pred)"
      ],
      "execution_count": 129,
      "outputs": [
        {
          "output_type": "execute_result",
          "data": {
            "text/plain": [
              "0.0"
            ]
          },
          "metadata": {
            "tags": []
          },
          "execution_count": 129
        }
      ]
    },
    {
      "cell_type": "markdown",
      "metadata": {
        "id": "mjI7ijWIS01P"
      },
      "source": [
        "Exactly as expected, if you use the average value as your prediction, you get an $R^2$ of zero _on our training set_. What if you use this \"model\" to predict unseen values from the test set? Remember, of course, that your \"model\" is trained on the training set; you still use the training set mean as your prediction."
      ]
    },
    {
      "cell_type": "markdown",
      "metadata": {
        "id": "l1IDXWKZS01Q"
      },
      "source": [
        "Make your predictions by creating an array of length the size of the test set with the single value of the (training) mean."
      ]
    },
    {
      "cell_type": "code",
      "metadata": {
        "id": "wyaRVHyIS01Q",
        "outputId": "48d2e80e-4321-4e6a-82b8-2d90130afab3",
        "colab": {
          "base_uri": "https://localhost:8080/"
        }
      },
      "source": [
        "y_te_pred = train_mean * np.ones(len(y_test))\n",
        "r_squared(y_test, y_te_pred)"
      ],
      "execution_count": 130,
      "outputs": [
        {
          "output_type": "execute_result",
          "data": {
            "text/plain": [
              "-0.0031235200417913944"
            ]
          },
          "metadata": {
            "tags": []
          },
          "execution_count": 130
        }
      ]
    },
    {
      "cell_type": "markdown",
      "metadata": {
        "id": "GF89DFUpS01T"
      },
      "source": [
        "Generally, you can expect performance on a test set to be slightly worse than on the training set. As you are getting an $R^2$ of zero on the training set, there's nowhere to go but negative!"
      ]
    },
    {
      "cell_type": "markdown",
      "metadata": {
        "id": "-mfFsjSMS01U"
      },
      "source": [
        "$R^2$ is a common metric, and interpretable in terms of the amount of variance explained, it's less appealing if you want an idea of how \"close\" your predictions are to the true values. Metrics that summarise the difference between predicted and actual values are _mean absolute error_ and _mean squared error_."
      ]
    },
    {
      "cell_type": "markdown",
      "metadata": {
        "id": "c_0yMwAOS01Y"
      },
      "source": [
        "#### 4.7.1.2 Mean Absolute Error<a id='4.7.1.2_Mean_Absolute_Error'></a>"
      ]
    },
    {
      "cell_type": "markdown",
      "metadata": {
        "id": "0K6MqPE3S01Z"
      },
      "source": [
        "This is very simply the average of the absolute errors:\n",
        "\n",
        "$$MAE = \\frac{1}{n}\\sum_i^n|y_i - \\hat{y}|$$"
      ]
    },
    {
      "cell_type": "code",
      "metadata": {
        "id": "2ZlKbtMPS01Z"
      },
      "source": [
        "#Code task 7#\n",
        "#Calculate the MAE as defined above\n",
        "def mae(y, ypred):\n",
        "    \"\"\"Mean absolute error.\n",
        "    \n",
        "    Calculate the mean absolute error of the arguments\n",
        "\n",
        "    Arguments:\n",
        "    y -- the observed values\n",
        "    ypred -- the predicted values\n",
        "    \"\"\"\n",
        "    abs_error = np.abs(y - ypred)\n",
        "    mae = np.mean(abs_error)\n",
        "    return mae"
      ],
      "execution_count": 131,
      "outputs": []
    },
    {
      "cell_type": "code",
      "metadata": {
        "id": "VfKRv99oS01c",
        "outputId": "c645abeb-8104-432c-9aa9-6c15d7b54ca2",
        "colab": {
          "base_uri": "https://localhost:8080/"
        }
      },
      "source": [
        "mae(y_train, y_tr_pred)"
      ],
      "execution_count": 132,
      "outputs": [
        {
          "output_type": "execute_result",
          "data": {
            "text/plain": [
              "17.923463717146785"
            ]
          },
          "metadata": {
            "tags": []
          },
          "execution_count": 132
        }
      ]
    },
    {
      "cell_type": "code",
      "metadata": {
        "id": "kkXRVeyeS01e",
        "outputId": "689e9b1e-c00a-4601-ae97-2eea9e7fb838",
        "colab": {
          "base_uri": "https://localhost:8080/"
        }
      },
      "source": [
        "mae(y_test, y_te_pred)"
      ],
      "execution_count": 133,
      "outputs": [
        {
          "output_type": "execute_result",
          "data": {
            "text/plain": [
              "19.136142081278486"
            ]
          },
          "metadata": {
            "tags": []
          },
          "execution_count": 133
        }
      ]
    },
    {
      "cell_type": "markdown",
      "metadata": {
        "id": "vtqpdWjGS01g"
      },
      "source": [
        "Mean absolute error is arguably the most intuitive of all the metrics, this essentially tells you that, on average, you might expect to be off by around \\\\$19 if you guessed ticket price based on an average of known values."
      ]
    },
    {
      "cell_type": "markdown",
      "metadata": {
        "id": "gLcKyPjWS01g"
      },
      "source": [
        "#### 4.7.1.3 Mean Squared Error<a id='4.7.1.3_Mean_Squared_Error'></a>"
      ]
    },
    {
      "cell_type": "markdown",
      "metadata": {
        "id": "IPeLD_1rS01g"
      },
      "source": [
        "Another common metric (and an important one internally for optimizing machine learning models) is the mean squared error. This is simply the average of the square of the errors:\n",
        "\n",
        "$$MSE = \\frac{1}{n}\\sum_i^n(y_i - \\hat{y})^2$$"
      ]
    },
    {
      "cell_type": "code",
      "metadata": {
        "scrolled": true,
        "id": "nGpTETXRS01h"
      },
      "source": [
        "#Code task 8#\n",
        "#Calculate the MSE as defined above\n",
        "def mse(y, ypred):\n",
        "    \"\"\"Mean square error.\n",
        "    \n",
        "    Calculate the mean square error of the arguments\n",
        "\n",
        "    Arguments:\n",
        "    y -- the observed values\n",
        "    ypred -- the predicted values\n",
        "    \"\"\"\n",
        "    sq_error = (y - ypred)**2\n",
        "    mse = np.mean(sq_error)\n",
        "    return mse"
      ],
      "execution_count": 134,
      "outputs": []
    },
    {
      "cell_type": "code",
      "metadata": {
        "id": "3bX1smdhS01j",
        "outputId": "1d1479c8-43ca-4bdf-babf-c3da1475cabb",
        "colab": {
          "base_uri": "https://localhost:8080/"
        }
      },
      "source": [
        "mse(y_train, y_tr_pred)"
      ],
      "execution_count": 135,
      "outputs": [
        {
          "output_type": "execute_result",
          "data": {
            "text/plain": [
              "614.1334096969057"
            ]
          },
          "metadata": {
            "tags": []
          },
          "execution_count": 135
        }
      ]
    },
    {
      "cell_type": "code",
      "metadata": {
        "id": "vd4IXgOOS01l",
        "outputId": "8d1064a0-03b6-4014-9667-664c42e05957",
        "colab": {
          "base_uri": "https://localhost:8080/"
        }
      },
      "source": [
        "mse(y_test, y_te_pred)"
      ],
      "execution_count": 136,
      "outputs": [
        {
          "output_type": "execute_result",
          "data": {
            "text/plain": [
              "581.4365441953481"
            ]
          },
          "metadata": {
            "tags": []
          },
          "execution_count": 136
        }
      ]
    },
    {
      "cell_type": "markdown",
      "metadata": {
        "id": "Awji_JfWS01n"
      },
      "source": [
        "So here, you get a slightly better MSE on the test set than you did on the train set. And what does a squared error mean anyway? To convert this back to our measurement space, we often take the square root, to form the _root mean square error_ thus:"
      ]
    },
    {
      "cell_type": "code",
      "metadata": {
        "id": "atph7-k_S01n",
        "outputId": "94752eb0-f2ca-4bd5-885a-2a640aa778cc",
        "colab": {
          "base_uri": "https://localhost:8080/"
        }
      },
      "source": [
        "np.sqrt([mse(y_train, y_tr_pred), mse(y_test, y_te_pred)])"
      ],
      "execution_count": 137,
      "outputs": [
        {
          "output_type": "execute_result",
          "data": {
            "text/plain": [
              "array([24.78171523, 24.11299534])"
            ]
          },
          "metadata": {
            "tags": []
          },
          "execution_count": 137
        }
      ]
    },
    {
      "cell_type": "markdown",
      "metadata": {
        "id": "mb0l7EvlS01q"
      },
      "source": [
        "### 4.7.2 sklearn metrics<a id='4.7.2_sklearn_metrics'></a>"
      ]
    },
    {
      "cell_type": "markdown",
      "metadata": {
        "id": "VWD2JfewS01q"
      },
      "source": [
        "Functions are good, but you don't want to have to define functions every time we want to assess performance. `sklearn.metrics` provides many commonly used metrics, included the ones above."
      ]
    },
    {
      "cell_type": "markdown",
      "metadata": {
        "id": "JOlRudqcS01r"
      },
      "source": [
        "##### 4.7.2.0.1 R-squared<a id='4.7.2.0.1_R-squared'></a>"
      ]
    },
    {
      "cell_type": "code",
      "metadata": {
        "id": "rZ3mNzKBS01r",
        "outputId": "c46ccb52-d574-485b-8e93-ea228d77145d",
        "colab": {
          "base_uri": "https://localhost:8080/"
        }
      },
      "source": [
        "r2_score(y_train, y_tr_pred), r2_score(y_test, y_te_pred)"
      ],
      "execution_count": 138,
      "outputs": [
        {
          "output_type": "execute_result",
          "data": {
            "text/plain": [
              "(0.0, -0.0031235200417913944)"
            ]
          },
          "metadata": {
            "tags": []
          },
          "execution_count": 138
        }
      ]
    },
    {
      "cell_type": "markdown",
      "metadata": {
        "id": "IxLtoJ38S01u"
      },
      "source": [
        "##### 4.7.2.0.2 Mean absolute error<a id='4.7.2.0.2_Mean_absolute_error'></a>"
      ]
    },
    {
      "cell_type": "code",
      "metadata": {
        "id": "EnQJLyEXS01v",
        "outputId": "82ce7558-e2dd-4ee0-9935-8972c7207cc9",
        "colab": {
          "base_uri": "https://localhost:8080/"
        }
      },
      "source": [
        "mean_absolute_error(y_train, y_tr_pred), mean_absolute_error(y_test, y_te_pred)"
      ],
      "execution_count": 139,
      "outputs": [
        {
          "output_type": "execute_result",
          "data": {
            "text/plain": [
              "(17.92346371714677, 19.136142081278486)"
            ]
          },
          "metadata": {
            "tags": []
          },
          "execution_count": 139
        }
      ]
    },
    {
      "cell_type": "markdown",
      "metadata": {
        "id": "3P2WtJiVS01x"
      },
      "source": [
        "##### 4.7.2.0.3 Mean squared error<a id='4.7.2.0.3_Mean_squared_error'></a>"
      ]
    },
    {
      "cell_type": "code",
      "metadata": {
        "id": "GiyPYUb9S01x",
        "outputId": "787ea4b9-9bad-44c8-ec07-f5b82a39ec38",
        "colab": {
          "base_uri": "https://localhost:8080/"
        }
      },
      "source": [
        "mean_squared_error(y_train, y_tr_pred), mean_squared_error(y_test, y_te_pred)"
      ],
      "execution_count": 140,
      "outputs": [
        {
          "output_type": "execute_result",
          "data": {
            "text/plain": [
              "(614.1334096969046, 581.4365441953483)"
            ]
          },
          "metadata": {
            "tags": []
          },
          "execution_count": 140
        }
      ]
    },
    {
      "cell_type": "markdown",
      "metadata": {
        "id": "nT51pKXFS01z"
      },
      "source": [
        "### 4.7.3 Note On Calculating Metrics<a id='4.7.3_Note_On_Calculating_Metrics'></a>"
      ]
    },
    {
      "cell_type": "markdown",
      "metadata": {
        "id": "bvsdBcPZS010"
      },
      "source": [
        "When calling functions to calculate metrics, it is important to take care in the order of the arguments. Two of the metrics above actually don't care if the arguments are reversed; one does. Which one cares?"
      ]
    },
    {
      "cell_type": "markdown",
      "metadata": {
        "id": "Ujk43QADS010"
      },
      "source": [
        "In a Jupyter code cell, running `r2_score?` will bring up the docstring for the function, and `r2_score??` will bring up the actual code of the function! Try them and compare the source for `sklearn`'s function with yours. Feel free to explore what happens when you reverse the order of the arguments and compare behaviour of `sklearn`'s function and yours."
      ]
    },
    {
      "cell_type": "code",
      "metadata": {
        "id": "iGWmeZOWS010",
        "outputId": "efba7734-1e9e-44ce-9c83-e43dcb464a06",
        "colab": {
          "base_uri": "https://localhost:8080/"
        }
      },
      "source": [
        "# train set - sklearn\n",
        "# correct order, incorrect order\n",
        "r2_score(y_train, y_tr_pred), r2_score(y_tr_pred, y_train)"
      ],
      "execution_count": 141,
      "outputs": [
        {
          "output_type": "execute_result",
          "data": {
            "text/plain": [
              "(0.0, -3.041041349306602e+30)"
            ]
          },
          "metadata": {
            "tags": []
          },
          "execution_count": 141
        }
      ]
    },
    {
      "cell_type": "code",
      "metadata": {
        "id": "A26dHkEvS012",
        "outputId": "6cc19186-0f86-44bf-9b2f-aef65f3abccd",
        "colab": {
          "base_uri": "https://localhost:8080/"
        }
      },
      "source": [
        "# test set - sklearn\n",
        "# correct order, incorrect order\n",
        "r2_score(y_test, y_te_pred), r2_score(y_te_pred, y_test)"
      ],
      "execution_count": 142,
      "outputs": [
        {
          "output_type": "execute_result",
          "data": {
            "text/plain": [
              "(-0.0031235200417913944, 0.0)"
            ]
          },
          "metadata": {
            "tags": []
          },
          "execution_count": 142
        }
      ]
    },
    {
      "cell_type": "code",
      "metadata": {
        "id": "ECVUndDAS016",
        "outputId": "b77760df-ed31-4538-ff9d-28e1906ac12c",
        "colab": {
          "base_uri": "https://localhost:8080/"
        }
      },
      "source": [
        "# train set - using our homebrew function\n",
        "# correct order, incorrect order\n",
        "r_squared(y_train, y_tr_pred), r_squared(y_tr_pred, y_train)"
      ],
      "execution_count": 143,
      "outputs": [
        {
          "output_type": "execute_result",
          "data": {
            "text/plain": [
              "(0.0, -3.041041349306602e+30)"
            ]
          },
          "metadata": {
            "tags": []
          },
          "execution_count": 143
        }
      ]
    },
    {
      "cell_type": "code",
      "metadata": {
        "id": "i1y1CCZbS01-",
        "outputId": "8a491a31-6fed-432c-b166-b763ed12b334",
        "colab": {
          "base_uri": "https://localhost:8080/"
        }
      },
      "source": [
        "# test set - using our homebrew function\n",
        "# correct order, incorrect order\n",
        "r_squared(y_test, y_te_pred), r_squared(y_te_pred, y_test)"
      ],
      "execution_count": 144,
      "outputs": [
        {
          "output_type": "stream",
          "text": [
            "/usr/local/lib/python3.6/dist-packages/ipykernel_launcher.py:15: RuntimeWarning: divide by zero encountered in double_scalars\n",
            "  from ipykernel import kernelapp as app\n"
          ],
          "name": "stderr"
        },
        {
          "output_type": "execute_result",
          "data": {
            "text/plain": [
              "(-0.0031235200417913944, -inf)"
            ]
          },
          "metadata": {
            "tags": []
          },
          "execution_count": 144
        }
      ]
    },
    {
      "cell_type": "markdown",
      "metadata": {
        "id": "GHlIx1nRS02A"
      },
      "source": [
        "You can get very different results swapping the argument order. It's worth highlighting this because data scientists do this too much in the real world! Don't be one of them! Frequently the argument order doesn't matter, but it will bite you when you do it with a function that does care. It's sloppy, bad practice and if you don't make a habit of putting arguments in the right order, you will forget!\n",
        "\n",
        "Remember:\n",
        "* argument order matters,\n",
        "* check function syntax with `func?` in a code cell"
      ]
    },
    {
      "cell_type": "markdown",
      "metadata": {
        "id": "VmWikMwnS02B"
      },
      "source": [
        "## 4.8 Initial Models<a id='4.8_Initial_Models'></a>"
      ]
    },
    {
      "cell_type": "markdown",
      "metadata": {
        "id": "vaPOpFZiS02B"
      },
      "source": [
        "### 4.8.1 Imputing missing feature (predictor) values<a id='4.8.1_Imputing_missing_feature_(predictor)_values'></a>"
      ]
    },
    {
      "cell_type": "markdown",
      "metadata": {
        "id": "0tGJNFQGS02C"
      },
      "source": [
        "Recall when performing EDA, you imputed (filled in) some missing values in pandas. You did this judiciously for exploratory/visualization purposes. You left many missing values in the data. You can impute missing values using scikit-learn, but note that you should learn values to impute from a train split and apply that to the test split to then assess how well your imputation worked."
      ]
    },
    {
      "cell_type": "markdown",
      "metadata": {
        "id": "cGMMuhBPS02D"
      },
      "source": [
        "#### 4.8.1.1 Impute missing values with median<a id='4.8.1.1_Impute_missing_values_with_median'></a>"
      ]
    },
    {
      "cell_type": "markdown",
      "metadata": {
        "id": "OS72MupxS02D"
      },
      "source": [
        "There's missing values. Recall from your data exploration that many distributions were skewed. Your first thought might be to impute missing values using the median."
      ]
    },
    {
      "cell_type": "markdown",
      "metadata": {
        "id": "O9AlP5AAS02E"
      },
      "source": [
        "##### 4.8.1.1.1 Learn the values to impute from the train set<a id='4.8.1.1.1_Learn_the_values_to_impute_from_the_train_set'></a>"
      ]
    },
    {
      "cell_type": "code",
      "metadata": {
        "id": "WWX8g8k7S02E",
        "outputId": "ccf0b067-778d-405c-ac6f-5ae5af451be7",
        "colab": {
          "base_uri": "https://localhost:8080/"
        }
      },
      "source": [
        "# These are the values we'll use to fill in any missing values\n",
        "X_defaults_median = X_train.median()\n",
        "X_defaults_median"
      ],
      "execution_count": 145,
      "outputs": [
        {
          "output_type": "execute_result",
          "data": {
            "text/plain": [
              "summit_elev                           2215.000000\n",
              "vertical_drop                          750.000000\n",
              "base_elev                             1300.000000\n",
              "trams                                    0.000000\n",
              "fastSixes                                0.000000\n",
              "fastQuads                                0.000000\n",
              "quad                                     1.000000\n",
              "triple                                   1.000000\n",
              "double                                   1.000000\n",
              "surface                                  2.000000\n",
              "total_chairs                             7.000000\n",
              "Runs                                    28.000000\n",
              "TerrainParks                             2.000000\n",
              "LongestRun_mi                            1.000000\n",
              "SkiableTerrain_ac                      170.000000\n",
              "Snow Making_ac                          96.500000\n",
              "daysOpenLastYear                       109.000000\n",
              "yearsOpen                               57.000000\n",
              "averageSnowfall                        120.000000\n",
              "projectedDaysOpen                      115.000000\n",
              "NightSkiing_ac                          70.000000\n",
              "resorts_per_state                       15.000000\n",
              "resorts_per_100kcapita                   0.248243\n",
              "resorts_per_100ksq_mile                 22.902162\n",
              "resort_skiable_area_ac_state_ratio       0.051458\n",
              "resort_days_open_state_ratio             0.071225\n",
              "resort_terrain_park_state_ratio          0.069444\n",
              "resort_night_skiing_state_ratio          0.077081\n",
              "total_chairs_runs_ratio                  0.200000\n",
              "total_chairs_skiable_ratio               0.040323\n",
              "fastQuads_runs_ratio                     0.000000\n",
              "fastQuads_skiable_ratio                  0.000000\n",
              "dtype: float64"
            ]
          },
          "metadata": {
            "tags": []
          },
          "execution_count": 145
        }
      ]
    },
    {
      "cell_type": "markdown",
      "metadata": {
        "id": "mB_yfRiCS02H"
      },
      "source": [
        "##### 4.8.1.1.2 Apply the imputation to both train and test splits<a id='4.8.1.1.2_Apply_the_imputation_to_both_train_and_test_splits'></a>"
      ]
    },
    {
      "cell_type": "code",
      "metadata": {
        "id": "4pgKEcgaS02H"
      },
      "source": [
        "#Code task 9#\n",
        "#Call `X_train` and `X_test`'s `fillna()` method, passing `X_defaults_median` as the values to use\n",
        "#Assign the results to `X_tr` and `X_te`, respectively\n",
        "X_tr = X_train.fillna(X_defaults_median)\n",
        "X_te = X_test.fillna(X_defaults_median)"
      ],
      "execution_count": 146,
      "outputs": []
    },
    {
      "cell_type": "markdown",
      "metadata": {
        "id": "fzlGMqoPS02J"
      },
      "source": [
        "##### 4.8.1.1.3 Scale the data<a id='4.8.1.1.3_Scale_the_data'></a>"
      ]
    },
    {
      "cell_type": "markdown",
      "metadata": {
        "id": "O9kRS90jS02K"
      },
      "source": [
        "As you have features measured in many different units, with numbers that vary by orders of magnitude, start off by scaling them to put them all on a consistent scale. The [StandardScaler](https://scikit-learn.org/stable/modules/generated/sklearn.preprocessing.StandardScaler.html) scales each feature to zero mean and unit variance."
      ]
    },
    {
      "cell_type": "code",
      "metadata": {
        "id": "WQV8_RGrS02K"
      },
      "source": [
        "#Code task 10#\n",
        "#Call the StandardScaler`s fit method on `X_tr` to fit the scaler\n",
        "#then use it's `transform()` method to apply the scaling to both the train and test split\n",
        "#data (`X_tr` and `X_te`), naming the results `X_tr_scaled` and `X_te_scaled`, respectively\n",
        "scaler = StandardScaler()\n",
        "scaler.fit(X_tr)\n",
        "X_tr_scaled = scaler.transform(X_tr)\n",
        "X_te_scaled = scaler.transform(X_te)"
      ],
      "execution_count": 147,
      "outputs": []
    },
    {
      "cell_type": "markdown",
      "metadata": {
        "id": "lr6hnpjQS02M"
      },
      "source": [
        "##### 4.8.1.1.4 Train the model on the train split<a id='4.8.1.1.4_Train_the_model_on_the_train_split'></a>"
      ]
    },
    {
      "cell_type": "code",
      "metadata": {
        "id": "N4jZH1FJS02M"
      },
      "source": [
        "lm = LinearRegression().fit(X_tr_scaled, y_train)"
      ],
      "execution_count": 148,
      "outputs": []
    },
    {
      "cell_type": "markdown",
      "metadata": {
        "id": "QHBgDNnKS02R"
      },
      "source": [
        "##### 4.8.1.1.5 Make predictions using the model on both train and test splits<a id='4.8.1.1.5_Make_predictions_using_the_model_on_both_train_and_test_splits'></a>"
      ]
    },
    {
      "cell_type": "code",
      "metadata": {
        "id": "tQDO240MS02R"
      },
      "source": [
        "#Code task 11#\n",
        "#Call the `predict()` method of the model (`lm`) on both the (scaled) train and test data\n",
        "#Assign the predictions to `y_tr_pred` and `y_te_pred`, respectively\n",
        "y_tr_pred = lm.predict(X_tr_scaled)\n",
        "y_te_pred = lm.predict(X_te_scaled)"
      ],
      "execution_count": 149,
      "outputs": []
    },
    {
      "cell_type": "markdown",
      "metadata": {
        "id": "BJUd8yI6S02V"
      },
      "source": [
        "##### 4.8.1.1.6 Assess model performance<a id='4.8.1.1.6_Assess_model_performance'></a>"
      ]
    },
    {
      "cell_type": "code",
      "metadata": {
        "id": "x6ty9BGlS02V",
        "outputId": "58df273e-f266-43dc-d70b-be9ec20c8dc0",
        "colab": {
          "base_uri": "https://localhost:8080/"
        }
      },
      "source": [
        "# r^2 - train, test\n",
        "median_r2 = r2_score(y_train, y_tr_pred), r2_score(y_test, y_te_pred)\n",
        "median_r2"
      ],
      "execution_count": 150,
      "outputs": [
        {
          "output_type": "execute_result",
          "data": {
            "text/plain": [
              "(0.8178368959270462, 0.7206740003984063)"
            ]
          },
          "metadata": {
            "tags": []
          },
          "execution_count": 150
        }
      ]
    },
    {
      "cell_type": "markdown",
      "metadata": {
        "id": "5--RWqEvS02X"
      },
      "source": [
        "Recall that you estimated ticket price by simply using a known average. As expected, this produced an $R^2$ of zero for both the training and test set, because $R^2$ tells us how much of the variance you're explaining beyond that of using just the mean, and you were using just the mean. Here we see that our simple linear regression model explains over 80% of the variance on the train set and over 70% on the test set. Clearly you are onto something, although the much lower value for the test set suggests you're overfitting somewhat. This isn't a surprise as you've made no effort to select a parsimonious set of features or deal with multicollinearity in our data."
      ]
    },
    {
      "cell_type": "code",
      "metadata": {
        "id": "NEM1p5SES02X",
        "outputId": "94dc4b53-acc7-4f71-be47-3b2dd1c0f080",
        "colab": {
          "base_uri": "https://localhost:8080/"
        }
      },
      "source": [
        "#Code task 12#\n",
        "#Now calculate the mean absolute error scores using `sklearn`'s `mean_absolute_error` function\n",
        "# as we did above for R^2\n",
        "# MAE - train, test\n",
        "median_mae = mean_absolute_error(y_train, y_tr_pred), mean_absolute_error(y_test, y_te_pred)\n",
        "median_mae"
      ],
      "execution_count": 151,
      "outputs": [
        {
          "output_type": "execute_result",
          "data": {
            "text/plain": [
              "(8.546976483530555, 9.41176183659417)"
            ]
          },
          "metadata": {
            "tags": []
          },
          "execution_count": 151
        }
      ]
    },
    {
      "cell_type": "markdown",
      "metadata": {
        "id": "lkc_uP4QS02Z"
      },
      "source": [
        "Using this model, then, on average you'd expect to estimate a ticket price within \\\\$9 or so of the real price. This is much, much better than the \\\\$19 from just guessing using the average. There may be something to this machine learning lark after all!"
      ]
    },
    {
      "cell_type": "code",
      "metadata": {
        "id": "2HleyCNDS02Z",
        "outputId": "852353be-fa6e-4d62-c191-b29bfa4fdb29",
        "colab": {
          "base_uri": "https://localhost:8080/"
        }
      },
      "source": [
        "#Code task 13#\n",
        "#And also do the same using `sklearn`'s `mean_squared_error`\n",
        "# MSE - train, test\n",
        "median_mse = mean_squared_error(y_train, y_tr_pred), mean_squared_error(y_test, y_te_pred)\n",
        "median_mse"
      ],
      "execution_count": 152,
      "outputs": [
        {
          "output_type": "execute_result",
          "data": {
            "text/plain": [
              "(111.87244822529517, 161.90463155075423)"
            ]
          },
          "metadata": {
            "tags": []
          },
          "execution_count": 152
        }
      ]
    },
    {
      "cell_type": "markdown",
      "metadata": {
        "id": "KuZQsV54S02b"
      },
      "source": [
        "#### 4.8.1.2 Impute missing values with the mean<a id='4.8.1.2_Impute_missing_values_with_the_mean'></a>"
      ]
    },
    {
      "cell_type": "markdown",
      "metadata": {
        "id": "2qDDE0f6S02c"
      },
      "source": [
        "You chose to use the median for filling missing values because of the skew of many of our predictor feature distributions. What if you wanted to try something else, such as the mean?"
      ]
    },
    {
      "cell_type": "markdown",
      "metadata": {
        "id": "0KuQhdYZS02c"
      },
      "source": [
        "##### 4.8.1.2.1 Learn the values to impute from the train set<a id='4.8.1.2.1_Learn_the_values_to_impute_from_the_train_set'></a>"
      ]
    },
    {
      "cell_type": "code",
      "metadata": {
        "id": "ITuDL0YhS02g",
        "outputId": "672cce4e-b36d-4cdd-8bb3-dc6837b885f1",
        "colab": {
          "base_uri": "https://localhost:8080/"
        }
      },
      "source": [
        "#Code task 14#\n",
        "#As we did for the median above, calculate mean values for imputing missing values\n",
        "# These are the values we'll use to fill in any missing values\n",
        "X_defaults_mean = X_train.mean()\n",
        "X_defaults_mean"
      ],
      "execution_count": 153,
      "outputs": [
        {
          "output_type": "execute_result",
          "data": {
            "text/plain": [
              "summit_elev                           4074.554404\n",
              "vertical_drop                         1043.196891\n",
              "base_elev                             3020.512953\n",
              "trams                                    0.103627\n",
              "fastSixes                                0.072539\n",
              "fastQuads                                0.673575\n",
              "quad                                     1.010363\n",
              "triple                                   1.440415\n",
              "double                                   1.813472\n",
              "surface                                  2.497409\n",
              "total_chairs                             7.611399\n",
              "Runs                                    41.188482\n",
              "TerrainParks                             2.434783\n",
              "LongestRun_mi                            1.293122\n",
              "SkiableTerrain_ac                      448.785340\n",
              "Snow Making_ac                         129.601190\n",
              "daysOpenLastYear                       110.100629\n",
              "yearsOpen                               56.559585\n",
              "averageSnowfall                        162.310160\n",
              "projectedDaysOpen                      115.920245\n",
              "NightSkiing_ac                          86.384615\n",
              "resorts_per_state                       16.243523\n",
              "resorts_per_100kcapita                   0.424749\n",
              "resorts_per_100ksq_mile                 40.945124\n",
              "resort_skiable_area_ac_state_ratio       0.097350\n",
              "resort_days_open_state_ratio             0.126079\n",
              "resort_terrain_park_state_ratio          0.116046\n",
              "resort_night_skiing_state_ratio          0.155024\n",
              "total_chairs_runs_ratio                  0.271441\n",
              "total_chairs_skiable_ratio               0.070483\n",
              "fastQuads_runs_ratio                     0.010401\n",
              "fastQuads_skiable_ratio                  0.001633\n",
              "dtype: float64"
            ]
          },
          "metadata": {
            "tags": []
          },
          "execution_count": 153
        }
      ]
    },
    {
      "cell_type": "markdown",
      "metadata": {
        "id": "y-yNwtFtS02i"
      },
      "source": [
        "By eye, you can immediately tell that your replacement values are much higher than those from using the median."
      ]
    },
    {
      "cell_type": "markdown",
      "metadata": {
        "id": "pBFOj9RTS02i"
      },
      "source": [
        "##### 4.8.1.2.2 Apply the imputation to both train and test splits<a id='4.8.1.2.2_Apply_the_imputation_to_both_train_and_test_splits'></a>"
      ]
    },
    {
      "cell_type": "code",
      "metadata": {
        "id": "k51CX-caS02i"
      },
      "source": [
        "X_tr = X_train.fillna(X_defaults_mean)\n",
        "X_te = X_test.fillna(X_defaults_mean)"
      ],
      "execution_count": 154,
      "outputs": []
    },
    {
      "cell_type": "markdown",
      "metadata": {
        "id": "CY_NWAOgS02k"
      },
      "source": [
        "##### 4.8.1.2.3 Scale the data<a id='4.8.1.2.3_Scale_the_data'></a>"
      ]
    },
    {
      "cell_type": "code",
      "metadata": {
        "id": "1cCi1QP5S02k"
      },
      "source": [
        "scaler = StandardScaler()\n",
        "scaler.fit(X_tr)\n",
        "X_tr_scaled = scaler.transform(X_tr)\n",
        "X_te_scaled = scaler.transform(X_te)"
      ],
      "execution_count": 155,
      "outputs": []
    },
    {
      "cell_type": "markdown",
      "metadata": {
        "id": "5mIc_I_nS02m"
      },
      "source": [
        "##### 4.8.1.2.4 Train the model on the train split<a id='4.8.1.2.4_Train_the_model_on_the_train_split'></a>"
      ]
    },
    {
      "cell_type": "code",
      "metadata": {
        "id": "2Dkv5BoQS02m"
      },
      "source": [
        "lm = LinearRegression().fit(X_tr_scaled, y_train)"
      ],
      "execution_count": 156,
      "outputs": []
    },
    {
      "cell_type": "markdown",
      "metadata": {
        "id": "7QjZdQhCS02o"
      },
      "source": [
        "##### 4.8.1.2.5 Make predictions using the model on both train and test splits<a id='4.8.1.2.5_Make_predictions_using_the_model_on_both_train_and_test_splits'></a>"
      ]
    },
    {
      "cell_type": "code",
      "metadata": {
        "id": "LKanhXR0S02o"
      },
      "source": [
        "y_tr_pred = lm.predict(X_tr_scaled)\n",
        "y_te_pred = lm.predict(X_te_scaled)"
      ],
      "execution_count": 157,
      "outputs": []
    },
    {
      "cell_type": "markdown",
      "metadata": {
        "id": "WbZmGlBkS02q"
      },
      "source": [
        "##### 4.8.1.2.6 Assess model performance<a id='4.8.1.2.6_Assess_model_performance'></a>"
      ]
    },
    {
      "cell_type": "code",
      "metadata": {
        "id": "tXq55JXBS02q",
        "outputId": "c2b0e2f1-9838-4e1f-80c0-c5e0318fbc61",
        "colab": {
          "base_uri": "https://localhost:8080/"
        }
      },
      "source": [
        "r2_score(y_train, y_tr_pred), r2_score(y_test, y_te_pred)"
      ],
      "execution_count": 158,
      "outputs": [
        {
          "output_type": "execute_result",
          "data": {
            "text/plain": [
              "(0.8170575793809753, 0.7160853795394722)"
            ]
          },
          "metadata": {
            "tags": []
          },
          "execution_count": 158
        }
      ]
    },
    {
      "cell_type": "code",
      "metadata": {
        "id": "rHUEqFPnS02s",
        "outputId": "0ca0482c-e4e9-4156-99d1-71def6c39e34",
        "colab": {
          "base_uri": "https://localhost:8080/"
        }
      },
      "source": [
        "mean_absolute_error(y_train, y_tr_pred), mean_absolute_error(y_test, y_te_pred)"
      ],
      "execution_count": 159,
      "outputs": [
        {
          "output_type": "execute_result",
          "data": {
            "text/plain": [
              "(8.53601278999439, 9.421468487177217)"
            ]
          },
          "metadata": {
            "tags": []
          },
          "execution_count": 159
        }
      ]
    },
    {
      "cell_type": "code",
      "metadata": {
        "id": "NZNEeDTqS02u",
        "outputId": "a67ac7d4-0b96-4abf-a655-a99fa7fcf215",
        "colab": {
          "base_uri": "https://localhost:8080/"
        }
      },
      "source": [
        "mean_squared_error(y_train, y_tr_pred), mean_squared_error(y_test, y_te_pred)"
      ],
      "execution_count": 160,
      "outputs": [
        {
          "output_type": "execute_result",
          "data": {
            "text/plain": [
              "(112.35105255296695, 164.56431582844937)"
            ]
          },
          "metadata": {
            "tags": []
          },
          "execution_count": 160
        }
      ]
    },
    {
      "cell_type": "markdown",
      "metadata": {
        "id": "RzQRlhpNS02w"
      },
      "source": [
        "These results don't seem very different to when you used the median for imputing missing values. Perhaps it doesn't make much difference here. Maybe your overtraining dominates. Maybe other feature transformations, such as taking the log, would help. You could try with just a subset of features rather than using all of them as inputs.\n",
        "\n",
        "To perform the median/mean comparison, you copied and pasted a lot of code just to change the function for imputing missing values. It would make more sense to write a function that performed the sequence of steps:\n",
        "1. impute missing values\n",
        "2. scale the features\n",
        "3. train a model\n",
        "4. calculate model performance\n",
        "\n",
        "But these are common steps and `sklearn` provides something much better than writing custom functions."
      ]
    },
    {
      "cell_type": "markdown",
      "metadata": {
        "id": "xshXto23S02x"
      },
      "source": [
        "### 4.8.2 Pipelines<a id='4.8.2_Pipelines'></a>"
      ]
    },
    {
      "cell_type": "markdown",
      "metadata": {
        "id": "XbSbpFuwS02y"
      },
      "source": [
        "One of the most important and useful components of `sklearn` is the [pipeline](https://scikit-learn.org/stable/modules/generated/sklearn.pipeline.Pipeline.html). In place of `panda`'s `fillna` DataFrame method, there is `sklearn`'s `SimpleImputer`. Remember the first linear model above performed the steps:\n",
        "\n",
        "1. replace missing values with the median for each feature\n",
        "2. scale the data to zero mean and unit variance\n",
        "3. train a linear regression model\n",
        "\n",
        "and all these steps were trained on the train split and then applied to the test split for assessment.\n",
        "\n",
        "The pipeline below defines exactly those same steps. Crucially, the resultant `Pipeline` object has a `fit()` method and a `predict()` method, just like the `LinearRegression()` object itself. Just as you might create a linear regression model and train it with `.fit()` and predict with `.predict()`, you can wrap the entire process of imputing and feature scaling and regression in a single object you can train with `.fit()` and predict with `.predict()`. And that's basically a pipeline: a model on steroids."
      ]
    },
    {
      "cell_type": "markdown",
      "metadata": {
        "id": "1Ee17BbNS02z"
      },
      "source": [
        "#### 4.8.2.1 Define the pipeline<a id='4.8.2.1_Define_the_pipeline'></a>"
      ]
    },
    {
      "cell_type": "code",
      "metadata": {
        "id": "AVUbI7AxS02z"
      },
      "source": [
        "pipe = make_pipeline(\n",
        "    SimpleImputer(strategy='median'), \n",
        "    StandardScaler(), \n",
        "    LinearRegression()\n",
        ")"
      ],
      "execution_count": 161,
      "outputs": []
    },
    {
      "cell_type": "code",
      "metadata": {
        "id": "Eky3OLhhS021",
        "outputId": "25faeb63-50b9-4449-e5f7-a4c0f3248c36",
        "colab": {
          "base_uri": "https://localhost:8080/"
        }
      },
      "source": [
        "type(pipe)"
      ],
      "execution_count": 162,
      "outputs": [
        {
          "output_type": "execute_result",
          "data": {
            "text/plain": [
              "sklearn.pipeline.Pipeline"
            ]
          },
          "metadata": {
            "tags": []
          },
          "execution_count": 162
        }
      ]
    },
    {
      "cell_type": "code",
      "metadata": {
        "id": "BrPAZjkAS022",
        "outputId": "46873840-d9d4-4eea-95e9-fc3023f1b267",
        "colab": {
          "base_uri": "https://localhost:8080/"
        }
      },
      "source": [
        "hasattr(pipe, 'fit'), hasattr(pipe, 'predict')"
      ],
      "execution_count": 163,
      "outputs": [
        {
          "output_type": "execute_result",
          "data": {
            "text/plain": [
              "(True, True)"
            ]
          },
          "metadata": {
            "tags": []
          },
          "execution_count": 163
        }
      ]
    },
    {
      "cell_type": "markdown",
      "metadata": {
        "id": "T32ztc5lS024"
      },
      "source": [
        "#### 4.8.2.2 Fit the pipeline<a id='4.8.2.2_Fit_the_pipeline'></a>"
      ]
    },
    {
      "cell_type": "markdown",
      "metadata": {
        "id": "mHL4kcViS024"
      },
      "source": [
        "Here, a single call to the pipeline's `fit()` method combines the steps of learning the imputation (determining what values to use to fill the missing ones), the scaling (determining the mean to subtract and the variance to divide by), and then training the model. It does this all in the one call with the training data as arguments."
      ]
    },
    {
      "cell_type": "code",
      "metadata": {
        "id": "k-2-8KWtS024",
        "outputId": "32fbf0f9-8f5b-4a3b-eb4c-1c234e185a32",
        "colab": {
          "base_uri": "https://localhost:8080/"
        }
      },
      "source": [
        "#Code task 15#\n",
        "#Call the pipe's `fit()` method with `X_train` and `y_train` as arguments\n",
        "pipe.fit(X_train, y_train)"
      ],
      "execution_count": 164,
      "outputs": [
        {
          "output_type": "execute_result",
          "data": {
            "text/plain": [
              "Pipeline(memory=None,\n",
              "         steps=[('simpleimputer',\n",
              "                 SimpleImputer(add_indicator=False, copy=True, fill_value=None,\n",
              "                               missing_values=nan, strategy='median',\n",
              "                               verbose=0)),\n",
              "                ('standardscaler',\n",
              "                 StandardScaler(copy=True, with_mean=True, with_std=True)),\n",
              "                ('linearregression',\n",
              "                 LinearRegression(copy_X=True, fit_intercept=True, n_jobs=None,\n",
              "                                  normalize=False))],\n",
              "         verbose=False)"
            ]
          },
          "metadata": {
            "tags": []
          },
          "execution_count": 164
        }
      ]
    },
    {
      "cell_type": "markdown",
      "metadata": {
        "id": "s9KRFKDXS026"
      },
      "source": [
        "#### 4.8.2.3 Make predictions on the train and test sets<a id='4.8.2.3_Make_predictions_on_the_train_and_test_sets'></a>"
      ]
    },
    {
      "cell_type": "code",
      "metadata": {
        "id": "yuOWjsjQS026"
      },
      "source": [
        "y_tr_pred = pipe.predict(X_train)\n",
        "y_te_pred = pipe.predict(X_test)"
      ],
      "execution_count": 165,
      "outputs": []
    },
    {
      "cell_type": "markdown",
      "metadata": {
        "id": "zQNSIV8nS027"
      },
      "source": [
        "#### 4.8.2.4 Assess performance<a id='4.8.2.4_Assess_performance'></a>"
      ]
    },
    {
      "cell_type": "code",
      "metadata": {
        "id": "32E5i99uS028",
        "outputId": "aa3e8527-0d1e-4cc2-c7c3-16c71c9a392a",
        "colab": {
          "base_uri": "https://localhost:8080/"
        }
      },
      "source": [
        "r2_score(y_train, y_tr_pred), r2_score(y_test, y_te_pred)"
      ],
      "execution_count": 166,
      "outputs": [
        {
          "output_type": "execute_result",
          "data": {
            "text/plain": [
              "(0.8178368959270462, 0.7206740003984063)"
            ]
          },
          "metadata": {
            "tags": []
          },
          "execution_count": 166
        }
      ]
    },
    {
      "cell_type": "markdown",
      "metadata": {
        "id": "6aI3PTlPS029"
      },
      "source": [
        "And compare with your earlier (non-pipeline) result:"
      ]
    },
    {
      "cell_type": "code",
      "metadata": {
        "id": "9ungb2IgS029",
        "outputId": "b0d094f1-2253-4b1c-aec6-cc7bf164bb9d",
        "colab": {
          "base_uri": "https://localhost:8080/"
        }
      },
      "source": [
        "median_r2"
      ],
      "execution_count": 167,
      "outputs": [
        {
          "output_type": "execute_result",
          "data": {
            "text/plain": [
              "(0.8178368959270462, 0.7206740003984063)"
            ]
          },
          "metadata": {
            "tags": []
          },
          "execution_count": 167
        }
      ]
    },
    {
      "cell_type": "code",
      "metadata": {
        "id": "efFReooNS03A",
        "outputId": "908d1f26-a671-4dc3-bb01-6f231afc7bfc",
        "colab": {
          "base_uri": "https://localhost:8080/"
        }
      },
      "source": [
        "mean_absolute_error(y_train, y_tr_pred), mean_absolute_error(y_test, y_te_pred)"
      ],
      "execution_count": 168,
      "outputs": [
        {
          "output_type": "execute_result",
          "data": {
            "text/plain": [
              "(8.546976483530555, 9.41176183659417)"
            ]
          },
          "metadata": {
            "tags": []
          },
          "execution_count": 168
        }
      ]
    },
    {
      "cell_type": "code",
      "metadata": {
        "id": "pBwEDHcQS03C"
      },
      "source": [
        "#Compare with your earlier result:"
      ],
      "execution_count": 169,
      "outputs": []
    },
    {
      "cell_type": "code",
      "metadata": {
        "id": "mxDZTJAyS03E",
        "outputId": "903f3cfd-7c0c-4731-83ce-feb6b74a67af",
        "colab": {
          "base_uri": "https://localhost:8080/"
        }
      },
      "source": [
        "median_mae"
      ],
      "execution_count": 170,
      "outputs": [
        {
          "output_type": "execute_result",
          "data": {
            "text/plain": [
              "(8.546976483530555, 9.41176183659417)"
            ]
          },
          "metadata": {
            "tags": []
          },
          "execution_count": 170
        }
      ]
    },
    {
      "cell_type": "code",
      "metadata": {
        "id": "YPCVlZaLS03H",
        "outputId": "5804c8ee-d7e4-45b3-cdd4-7657ee9dc92c",
        "colab": {
          "base_uri": "https://localhost:8080/"
        }
      },
      "source": [
        "mean_squared_error(y_train, y_tr_pred), mean_squared_error(y_test, y_te_pred)"
      ],
      "execution_count": 171,
      "outputs": [
        {
          "output_type": "execute_result",
          "data": {
            "text/plain": [
              "(111.87244822529517, 161.90463155075423)"
            ]
          },
          "metadata": {
            "tags": []
          },
          "execution_count": 171
        }
      ]
    },
    {
      "cell_type": "markdown",
      "metadata": {
        "id": "b_04TZpXS03K"
      },
      "source": [
        "Compare with your earlier result:"
      ]
    },
    {
      "cell_type": "code",
      "metadata": {
        "id": "eVrHiYQ9S03K",
        "outputId": "d3f5ea26-8f78-4cc1-fcec-f43cdd8bc65d",
        "colab": {
          "base_uri": "https://localhost:8080/"
        }
      },
      "source": [
        "median_mse"
      ],
      "execution_count": 172,
      "outputs": [
        {
          "output_type": "execute_result",
          "data": {
            "text/plain": [
              "(111.87244822529517, 161.90463155075423)"
            ]
          },
          "metadata": {
            "tags": []
          },
          "execution_count": 172
        }
      ]
    },
    {
      "cell_type": "markdown",
      "metadata": {
        "id": "yYVWHdWjS03R"
      },
      "source": [
        "These results confirm the pipeline is doing exactly what's expected, and results are identical to your earlier steps. This allows you to move faster but with confidence."
      ]
    },
    {
      "cell_type": "markdown",
      "metadata": {
        "id": "lZVY6envS03R"
      },
      "source": [
        "## 4.9 Refining The Linear Model<a id='4.9_Refining_The_Linear_Model'></a>"
      ]
    },
    {
      "cell_type": "markdown",
      "metadata": {
        "id": "Gg4P3MWFS03R"
      },
      "source": [
        "You suspected the model was overfitting. This is no real surprise given the number of features you blindly used. It's likely a judicious subset of features would generalize better. `sklearn` has a number of feature selection functions available. The one you'll use here is `SelectKBest` which, as you might guess, selects the k best features. You can read about SelectKBest \n",
        "[here](https://scikit-learn.org/stable/modules/generated/sklearn.feature_selection.SelectKBest.html#sklearn.feature_selection.SelectKBest). `f_regression` is just the [score function](https://scikit-learn.org/stable/modules/generated/sklearn.feature_selection.f_regression.html#sklearn.feature_selection.f_regression) you're using because you're performing regression. It's important to choose an appropriate one for your machine learning task."
      ]
    },
    {
      "cell_type": "markdown",
      "metadata": {
        "id": "35qZZIC5S03S"
      },
      "source": [
        "### 4.9.1 Define the pipeline<a id='4.9.1_Define_the_pipeline'></a>"
      ]
    },
    {
      "cell_type": "markdown",
      "metadata": {
        "id": "U7zFz5-_S03S"
      },
      "source": [
        "Redefine your pipeline to include this feature selection step:"
      ]
    },
    {
      "cell_type": "code",
      "metadata": {
        "id": "OlmMYeIjS03S"
      },
      "source": [
        "#Code task 16#\n",
        "#Add `SelectKBest` as a step in the pipeline between `StandardScaler()` and `LinearRegression()`\n",
        "#Don't forget to tell it to use `f_regression` as its score function\n",
        "pipe = make_pipeline(\n",
        "    SimpleImputer(strategy='median'), \n",
        "    StandardScaler(),\n",
        "    SelectKBest(score_func=f_regression),\n",
        "    LinearRegression()\n",
        ")"
      ],
      "execution_count": 173,
      "outputs": []
    },
    {
      "cell_type": "markdown",
      "metadata": {
        "id": "lAaZWkQAS03U"
      },
      "source": [
        "### 4.9.2 Fit the pipeline<a id='4.9.2_Fit_the_pipeline'></a>"
      ]
    },
    {
      "cell_type": "code",
      "metadata": {
        "id": "Mzcl7TsDS03U",
        "outputId": "8d617726-f9a7-43d7-a6d1-132d44b6a343",
        "colab": {
          "base_uri": "https://localhost:8080/"
        }
      },
      "source": [
        "pipe.fit(X_train, y_train)"
      ],
      "execution_count": 174,
      "outputs": [
        {
          "output_type": "execute_result",
          "data": {
            "text/plain": [
              "Pipeline(memory=None,\n",
              "         steps=[('simpleimputer',\n",
              "                 SimpleImputer(add_indicator=False, copy=True, fill_value=None,\n",
              "                               missing_values=nan, strategy='median',\n",
              "                               verbose=0)),\n",
              "                ('standardscaler',\n",
              "                 StandardScaler(copy=True, with_mean=True, with_std=True)),\n",
              "                ('selectkbest',\n",
              "                 SelectKBest(k=10,\n",
              "                             score_func=<function f_regression at 0x7f14c0ddd400>)),\n",
              "                ('linearregression',\n",
              "                 LinearRegression(copy_X=True, fit_intercept=True, n_jobs=None,\n",
              "                                  normalize=False))],\n",
              "         verbose=False)"
            ]
          },
          "metadata": {
            "tags": []
          },
          "execution_count": 174
        }
      ]
    },
    {
      "cell_type": "markdown",
      "metadata": {
        "id": "1V2OP2waS03V"
      },
      "source": [
        "### 4.9.3 Assess performance on the train and test set<a id='4.9.3_Assess_performance_on_the_train_and_test_set'></a>"
      ]
    },
    {
      "cell_type": "code",
      "metadata": {
        "id": "Vj4Gc2LhS03W"
      },
      "source": [
        "y_tr_pred = pipe.predict(X_train)\n",
        "y_te_pred = pipe.predict(X_test)"
      ],
      "execution_count": 175,
      "outputs": []
    },
    {
      "cell_type": "code",
      "metadata": {
        "id": "6F7DmSnXS03Y",
        "outputId": "03196c32-e9ce-48e1-c974-03c0c934290b",
        "colab": {
          "base_uri": "https://localhost:8080/"
        }
      },
      "source": [
        "r2_score(y_train, y_tr_pred), r2_score(y_test, y_te_pred)"
      ],
      "execution_count": 176,
      "outputs": [
        {
          "output_type": "execute_result",
          "data": {
            "text/plain": [
              "(0.7674914326052744, 0.6259877354190837)"
            ]
          },
          "metadata": {
            "tags": []
          },
          "execution_count": 176
        }
      ]
    },
    {
      "cell_type": "code",
      "metadata": {
        "id": "Qz125kJIS03Z",
        "outputId": "17eae9fb-5ac4-4d03-a95d-7d05a563d003",
        "colab": {
          "base_uri": "https://localhost:8080/"
        }
      },
      "source": [
        "mean_absolute_error(y_train, y_tr_pred), mean_absolute_error(y_test, y_te_pred)"
      ],
      "execution_count": 177,
      "outputs": [
        {
          "output_type": "execute_result",
          "data": {
            "text/plain": [
              "(9.501495079727484, 11.20183019033205)"
            ]
          },
          "metadata": {
            "tags": []
          },
          "execution_count": 177
        }
      ]
    },
    {
      "cell_type": "markdown",
      "metadata": {
        "id": "QBOuCkdOS03b"
      },
      "source": [
        "This has made things worse! Clearly selecting a subset of features has an impact on performance. `SelectKBest` defaults to k=10. You've just seen that 10 is worse than using all features. What is the best k? You could create a new pipeline with a different value of k:"
      ]
    },
    {
      "cell_type": "markdown",
      "metadata": {
        "id": "2XAAvWaIS03b"
      },
      "source": [
        "### 4.9.4 Define a new pipeline to select a different number of features<a id='4.9.4_Define_a_new_pipeline_to_select_a_different_number_of_features'></a>"
      ]
    },
    {
      "cell_type": "code",
      "metadata": {
        "id": "7mmxmLdJS03c"
      },
      "source": [
        "#Code task 17#\n",
        "#Modify the `SelectKBest` step to use a value of 15 for k\n",
        "pipe15 = make_pipeline(\n",
        "    SimpleImputer(strategy='median'), \n",
        "    StandardScaler(),\n",
        "    SelectKBest(score_func=f_regression, k=15),\n",
        "    LinearRegression()\n",
        ")"
      ],
      "execution_count": 178,
      "outputs": []
    },
    {
      "cell_type": "markdown",
      "metadata": {
        "id": "qzUsQjWsS03e"
      },
      "source": [
        "### 4.9.5 Fit the pipeline<a id='4.9.5_Fit_the_pipeline'></a>"
      ]
    },
    {
      "cell_type": "code",
      "metadata": {
        "id": "dyIHqcdtS03e",
        "outputId": "7d631d73-3db5-439d-d4f4-d04835fc6b38",
        "colab": {
          "base_uri": "https://localhost:8080/"
        }
      },
      "source": [
        "pipe15.fit(X_train, y_train)"
      ],
      "execution_count": 179,
      "outputs": [
        {
          "output_type": "execute_result",
          "data": {
            "text/plain": [
              "Pipeline(memory=None,\n",
              "         steps=[('simpleimputer',\n",
              "                 SimpleImputer(add_indicator=False, copy=True, fill_value=None,\n",
              "                               missing_values=nan, strategy='median',\n",
              "                               verbose=0)),\n",
              "                ('standardscaler',\n",
              "                 StandardScaler(copy=True, with_mean=True, with_std=True)),\n",
              "                ('selectkbest',\n",
              "                 SelectKBest(k=15,\n",
              "                             score_func=<function f_regression at 0x7f14c0ddd400>)),\n",
              "                ('linearregression',\n",
              "                 LinearRegression(copy_X=True, fit_intercept=True, n_jobs=None,\n",
              "                                  normalize=False))],\n",
              "         verbose=False)"
            ]
          },
          "metadata": {
            "tags": []
          },
          "execution_count": 179
        }
      ]
    },
    {
      "cell_type": "markdown",
      "metadata": {
        "id": "sHSBTeiGS03g"
      },
      "source": [
        "### 4.9.6 Assess performance on train and test data<a id='4.9.6_Assess_performance_on_train_and_test_data'></a>"
      ]
    },
    {
      "cell_type": "code",
      "metadata": {
        "id": "Bkva09zaS03g"
      },
      "source": [
        "y_tr_pred = pipe15.predict(X_train)\n",
        "y_te_pred = pipe15.predict(X_test)"
      ],
      "execution_count": 180,
      "outputs": []
    },
    {
      "cell_type": "code",
      "metadata": {
        "id": "LoKD8d82S03h",
        "outputId": "fdc257c3-e75b-46fa-aa93-403b2cfff22a",
        "colab": {
          "base_uri": "https://localhost:8080/"
        }
      },
      "source": [
        "r2_score(y_train, y_tr_pred), r2_score(y_test, y_te_pred)"
      ],
      "execution_count": 181,
      "outputs": [
        {
          "output_type": "execute_result",
          "data": {
            "text/plain": [
              "(0.7924096060483825, 0.6376199973170797)"
            ]
          },
          "metadata": {
            "tags": []
          },
          "execution_count": 181
        }
      ]
    },
    {
      "cell_type": "code",
      "metadata": {
        "id": "azijNAJpS03i",
        "outputId": "d26e81f8-fc35-45d5-ac5e-ae8b14d7b656",
        "colab": {
          "base_uri": "https://localhost:8080/"
        }
      },
      "source": [
        "mean_absolute_error(y_train, y_tr_pred), mean_absolute_error(y_test, y_te_pred)"
      ],
      "execution_count": 182,
      "outputs": [
        {
          "output_type": "execute_result",
          "data": {
            "text/plain": [
              "(9.211767769307114, 10.488246867294356)"
            ]
          },
          "metadata": {
            "tags": []
          },
          "execution_count": 182
        }
      ]
    },
    {
      "cell_type": "markdown",
      "metadata": {
        "id": "cv8MM2vJS03k"
      },
      "source": [
        "You could keep going, trying different values of k, training a model, measuring performance on the test set, and then picking the model with the best test set performance. There's a fundamental problem with this approach: _you're tuning the model to the arbitrary test set_! If you continue this way you'll end up with a model works well on the particular quirks of our test set _but fails to generalize to new data_. The whole point of keeping a test set is for it to be a set of that new data, to check how well our model might perform on data it hasn't seen.\n",
        "\n",
        "The way around this is a technique called _cross-validation_. You partition the training set into k folds, train our model on k-1 of those folds, and calculate performance on the fold not used in training. This procedure then cycles through k times with a different fold held back each time. Thus you end up building k models on k sets of data with k estimates of how the model performs on unseen data but without having to touch the test set."
      ]
    },
    {
      "cell_type": "markdown",
      "metadata": {
        "id": "_bCC8siAS03k"
      },
      "source": [
        "### 4.9.7 Assessing performance using cross-validation<a id='4.9.7_Assessing_performance_using_cross-validation'></a>"
      ]
    },
    {
      "cell_type": "code",
      "metadata": {
        "id": "RbSAgSkGS03k"
      },
      "source": [
        "cv_results = cross_validate(pipe15, X_train, y_train, cv=5)"
      ],
      "execution_count": 183,
      "outputs": []
    },
    {
      "cell_type": "code",
      "metadata": {
        "id": "NDaM5a6_S03l",
        "outputId": "df569040-ea3e-4217-c0ff-14a18b1c0e7a",
        "colab": {
          "base_uri": "https://localhost:8080/"
        }
      },
      "source": [
        "cv_scores = cv_results['test_score']\n",
        "cv_scores"
      ],
      "execution_count": 184,
      "outputs": [
        {
          "output_type": "execute_result",
          "data": {
            "text/plain": [
              "array([0.63760862, 0.72831381, 0.74443537, 0.5487915 , 0.50441472])"
            ]
          },
          "metadata": {
            "tags": []
          },
          "execution_count": 184
        }
      ]
    },
    {
      "cell_type": "markdown",
      "metadata": {
        "id": "i68m1II4S03n"
      },
      "source": [
        "Without using the same random state for initializing the CV folds, your actual numbers will be different."
      ]
    },
    {
      "cell_type": "code",
      "metadata": {
        "id": "sRhwkEzBS03n",
        "outputId": "e61b07a4-30a0-4416-f427-7cded5c72218",
        "colab": {
          "base_uri": "https://localhost:8080/"
        }
      },
      "source": [
        "np.mean(cv_scores), np.std(cv_scores)"
      ],
      "execution_count": 185,
      "outputs": [
        {
          "output_type": "execute_result",
          "data": {
            "text/plain": [
              "(0.6327128053007864, 0.09502487849877707)"
            ]
          },
          "metadata": {
            "tags": []
          },
          "execution_count": 185
        }
      ]
    },
    {
      "cell_type": "markdown",
      "metadata": {
        "id": "Ci4fOebHS03p"
      },
      "source": [
        "These results highlight that assessing model performance in inherently open to variability. You'll get different results depending on the quirks of which points are in which fold. An advantage of this is that you can also obtain an estimate of the variability, or uncertainty, in your performance estimate."
      ]
    },
    {
      "cell_type": "code",
      "metadata": {
        "id": "y4dcbhK3S03p",
        "outputId": "b7755a7d-df6c-452a-a2b7-cdb3d5e08618",
        "colab": {
          "base_uri": "https://localhost:8080/"
        }
      },
      "source": [
        "np.round((np.mean(cv_scores) - 2 * np.std(cv_scores), np.mean(cv_scores) + 2 * np.std(cv_scores)), 2)"
      ],
      "execution_count": 186,
      "outputs": [
        {
          "output_type": "execute_result",
          "data": {
            "text/plain": [
              "array([0.44, 0.82])"
            ]
          },
          "metadata": {
            "tags": []
          },
          "execution_count": 186
        }
      ]
    },
    {
      "cell_type": "markdown",
      "metadata": {
        "id": "502zjIhpS03r"
      },
      "source": [
        "### 4.9.8 Hyperparameter search using GridSearchCV<a id='4.9.8_Hyperparameter_search_using_GridSearchCV'></a>"
      ]
    },
    {
      "cell_type": "markdown",
      "metadata": {
        "id": "3Nv1bcHeS03r"
      },
      "source": [
        "Pulling the above together, we have:\n",
        "* a pipeline that\n",
        "    * imputes missing values\n",
        "    * scales the data\n",
        "    * selects the k best features\n",
        "    * trains a linear regression model\n",
        "* a technique (cross-validation) for estimating model performance\n",
        "\n",
        "Now you want to use cross-validation for multiple values of k and use cross-validation to pick the value of k that gives the best performance. `make_pipeline` automatically names each step as the lowercase name of the step and the parameters of the step are then accessed by appending a double underscore followed by the parameter name. You know the name of the step will be 'selectkbest' and you know the parameter is 'k'.\n",
        "\n",
        "You can also list the names of all the parameters in a pipeline like this:"
      ]
    },
    {
      "cell_type": "code",
      "metadata": {
        "id": "BWpEB-99S03r",
        "outputId": "8fa9de39-7d5f-49a8-d854-0a147103c797",
        "colab": {
          "base_uri": "https://localhost:8080/"
        }
      },
      "source": [
        "#Code task 18#\n",
        "#Call `pipe`'s `get_params()` method to get a dict of available parameters and print their names\n",
        "#using dict's `keys()` method\n",
        "pipe.get_params().keys()"
      ],
      "execution_count": 187,
      "outputs": [
        {
          "output_type": "execute_result",
          "data": {
            "text/plain": [
              "dict_keys(['memory', 'steps', 'verbose', 'simpleimputer', 'standardscaler', 'selectkbest', 'linearregression', 'simpleimputer__add_indicator', 'simpleimputer__copy', 'simpleimputer__fill_value', 'simpleimputer__missing_values', 'simpleimputer__strategy', 'simpleimputer__verbose', 'standardscaler__copy', 'standardscaler__with_mean', 'standardscaler__with_std', 'selectkbest__k', 'selectkbest__score_func', 'linearregression__copy_X', 'linearregression__fit_intercept', 'linearregression__n_jobs', 'linearregression__normalize'])"
            ]
          },
          "metadata": {
            "tags": []
          },
          "execution_count": 187
        }
      ]
    },
    {
      "cell_type": "markdown",
      "metadata": {
        "id": "0von1afJS03v"
      },
      "source": [
        "The above can be particularly useful as your pipelines becomes more complex (you can even nest pipelines within pipelines)."
      ]
    },
    {
      "cell_type": "code",
      "metadata": {
        "id": "gzr398dPS03v"
      },
      "source": [
        "k = [k+1 for k in range(len(X_train.columns))]\n",
        "grid_params = {'selectkbest__k': k}"
      ],
      "execution_count": 188,
      "outputs": []
    },
    {
      "cell_type": "markdown",
      "metadata": {
        "id": "06kmdnLKS03w"
      },
      "source": [
        "Now you have a range of `k` to investigate. Is 1 feature best? 2? 3? 4? All of them? You could write a for loop and iterate over each possible value, doing all the housekeeping oyurselves to track the best value of k. But this is  a common task so there's a built in function in `sklearn`. This is [`GridSearchCV`](https://scikit-learn.org/stable/modules/generated/sklearn.model_selection.GridSearchCV.html).\n",
        "This takes the pipeline object, in fact it takes anything with a `.fit()` and `.predict()` method. In simple cases with no feature selection or imputation or feature scaling etc. you may see the classifier or regressor object itself directly passed into `GridSearchCV`. The other key input is the parameters and values to search over. Optional parameters include the cross-validation strategy and number of CPUs to use."
      ]
    },
    {
      "cell_type": "code",
      "metadata": {
        "id": "zlpe1mCdS03w"
      },
      "source": [
        "lr_grid_cv = GridSearchCV(pipe, param_grid=grid_params, cv=5, n_jobs=-1)"
      ],
      "execution_count": 189,
      "outputs": []
    },
    {
      "cell_type": "code",
      "metadata": {
        "id": "S2BbMfmaS03z",
        "outputId": "29839661-6fd4-4545-be76-cbbe8bb2e8c2",
        "colab": {
          "base_uri": "https://localhost:8080/"
        }
      },
      "source": [
        "lr_grid_cv.fit(X_train, y_train)"
      ],
      "execution_count": 190,
      "outputs": [
        {
          "output_type": "execute_result",
          "data": {
            "text/plain": [
              "GridSearchCV(cv=5, error_score=nan,\n",
              "             estimator=Pipeline(memory=None,\n",
              "                                steps=[('simpleimputer',\n",
              "                                        SimpleImputer(add_indicator=False,\n",
              "                                                      copy=True,\n",
              "                                                      fill_value=None,\n",
              "                                                      missing_values=nan,\n",
              "                                                      strategy='median',\n",
              "                                                      verbose=0)),\n",
              "                                       ('standardscaler',\n",
              "                                        StandardScaler(copy=True,\n",
              "                                                       with_mean=True,\n",
              "                                                       with_std=True)),\n",
              "                                       ('selectkbest',\n",
              "                                        SelectKBest(k=10,\n",
              "                                                    score_func=<function f_regression at 0x7f14c0ddd400>)),\n",
              "                                       ('linearregression',\n",
              "                                        LinearRegression(copy_X=True,\n",
              "                                                         fit_intercept=True,\n",
              "                                                         n_jobs=None,\n",
              "                                                         normalize=False))],\n",
              "                                verbose=False),\n",
              "             iid='deprecated', n_jobs=-1,\n",
              "             param_grid={'selectkbest__k': [1, 2, 3, 4, 5, 6, 7, 8, 9, 10, 11,\n",
              "                                            12, 13, 14, 15, 16, 17, 18, 19, 20,\n",
              "                                            21, 22, 23, 24, 25, 26, 27, 28, 29,\n",
              "                                            30, ...]},\n",
              "             pre_dispatch='2*n_jobs', refit=True, return_train_score=False,\n",
              "             scoring=None, verbose=0)"
            ]
          },
          "metadata": {
            "tags": []
          },
          "execution_count": 190
        }
      ]
    },
    {
      "cell_type": "code",
      "metadata": {
        "id": "KRnf81AeS031"
      },
      "source": [
        "score_mean = lr_grid_cv.cv_results_['mean_test_score']\n",
        "score_std = lr_grid_cv.cv_results_['std_test_score']\n",
        "cv_k = [k for k in lr_grid_cv.cv_results_['param_selectkbest__k']]"
      ],
      "execution_count": 191,
      "outputs": []
    },
    {
      "cell_type": "code",
      "metadata": {
        "id": "7l3vOE3vS032",
        "outputId": "a8eccf8b-98cf-4320-d255-b20493e6b907",
        "colab": {
          "base_uri": "https://localhost:8080/"
        }
      },
      "source": [
        "#Code task 19#\n",
        "#Print the `best_params_` attribute of `lr_grid_cv`\n",
        "lr_grid_cv.best_params_"
      ],
      "execution_count": 192,
      "outputs": [
        {
          "output_type": "execute_result",
          "data": {
            "text/plain": [
              "{'selectkbest__k': 8}"
            ]
          },
          "metadata": {
            "tags": []
          },
          "execution_count": 192
        }
      ]
    },
    {
      "cell_type": "code",
      "metadata": {
        "id": "TIzLe4UwS034",
        "outputId": "21df0c96-513c-4209-dca2-3039364cf54c",
        "colab": {
          "base_uri": "https://localhost:8080/",
          "height": 350
        }
      },
      "source": [
        "#Code task 20#\n",
        "#Assign the value of k from the above dict of `best_params_` and assign it to `best_k`\n",
        "best_k = lr_grid_cv.best_params_['selectkbest__k']\n",
        "plt.subplots(figsize=(10, 5))\n",
        "plt.errorbar(cv_k, score_mean, yerr=score_std)\n",
        "plt.axvline(x=best_k, c='r', ls='--', alpha=.5)\n",
        "plt.xlabel('k')\n",
        "plt.ylabel('CV score (r-squared)')\n",
        "plt.title('Pipeline mean CV score (error bars +/- 1sd)');"
      ],
      "execution_count": 193,
      "outputs": [
        {
          "output_type": "display_data",
          "data": {
            "image/png": "[encoded data removed]",
            "text/plain": [
              "<Figure size 720x360 with 1 Axes>"
            ]
          },
          "metadata": {
            "tags": [],
            "needs_background": "light"
          }
        }
      ]
    },
    {
      "cell_type": "markdown",
      "metadata": {
        "id": "RqWuxbJAS035"
      },
      "source": [
        "The above suggests a good value for k is 8. There was an initial rapid increase with k, followed by a slow decline. Also noticeable is the variance of the results greatly increase above k=8. As you increasingly overfit, expect greater swings in performance as different points move in and out of the train/test folds."
      ]
    },
    {
      "cell_type": "markdown",
      "metadata": {
        "id": "uck8HXx_S035"
      },
      "source": [
        "Which features were most useful? Step into your best model, shown below. Starting with the fitted grid search object, you get the best estimator, then the named step 'selectkbest', for which you can its `get_support()` method for a logical mask of the features selected."
      ]
    },
    {
      "cell_type": "code",
      "metadata": {
        "id": "HKtPGL49S035"
      },
      "source": [
        "selected = lr_grid_cv.best_estimator_.named_steps.selectkbest.get_support()"
      ],
      "execution_count": 194,
      "outputs": []
    },
    {
      "cell_type": "markdown",
      "metadata": {
        "id": "HZ4zCpuPS036"
      },
      "source": [
        "Similarly, instead of using the 'selectkbest' named step, you can access the named step for the linear regression model and, from that, grab the model coefficients via its `coef_` attribute:"
      ]
    },
    {
      "cell_type": "code",
      "metadata": {
        "id": "k9-tFGk1S036",
        "outputId": "ef252f68-ada7-4701-e698-d65f5d9213cc",
        "colab": {
          "base_uri": "https://localhost:8080/"
        }
      },
      "source": [
        "#Code task 21#\n",
        "#Get the linear model coefficients from the `coef_` attribute and store in `coefs`,\n",
        "#get the matching feature names from the column names of the dataframe,\n",
        "#and display the results as a pandas Series with `coefs` as the values and `features` as the index,\n",
        "#sorting the values in descending order\n",
        "coefs = lr_grid_cv.best_estimator_.named_steps.linearregression.coef_\n",
        "features = X_train.columns[selected]\n",
        "pd.Series(coefs, index=features).sort_values(ascending=False)"
      ],
      "execution_count": 195,
      "outputs": [
        {
          "output_type": "execute_result",
          "data": {
            "text/plain": [
              "vertical_drop        10.767857\n",
              "Snow Making_ac        6.290074\n",
              "total_chairs          5.794156\n",
              "fastQuads             5.745626\n",
              "Runs                  5.370555\n",
              "LongestRun_mi         0.181814\n",
              "trams                -4.142024\n",
              "SkiableTerrain_ac    -5.249780\n",
              "dtype: float64"
            ]
          },
          "metadata": {
            "tags": []
          },
          "execution_count": 195
        }
      ]
    },
    {
      "cell_type": "markdown",
      "metadata": {
        "id": "F8KMWPl-S037"
      },
      "source": [
        "These results suggest that vertical drop is your biggest positive feature. This makes intuitive sense and is consistent with what you saw during the EDA work. Also, you see the area covered by snow making equipment is a strong positive as well. People like guaranteed skiing! The skiable terrain area is negatively associated with ticket price! This seems odd. People will pay less for larger resorts? There could be all manner of reasons for this. It could be  an effect whereby larger resorts can host more visitors at any one time and so can charge less per ticket. As has been mentioned previously, the data are missing information about visitor numbers. Bear in mind,  the coefficient for skiable terrain is negative _for this model_. For example, if you kept the total number of chairs and fastQuads constant, but increased the skiable terrain extent, you might imagine the resort is worse off because the chairlift capacity is stretched thinner."
      ]
    },
    {
      "cell_type": "markdown",
      "metadata": {
        "id": "TCPB1sIRS038"
      },
      "source": [
        "## 4.10 Random Forest Model<a id='4.10_Random_Forest_Model'></a>"
      ]
    },
    {
      "cell_type": "markdown",
      "metadata": {
        "id": "M2BXFxiIS038"
      },
      "source": [
        "A model that can work very well in a lot of cases is the random forest. For regression, this is provided by `sklearn`'s `RandomForestRegressor` class.\n",
        "\n",
        "Time to stop the bad practice of repeatedly checking performance on the test split. Instead, go straight from defining the pipeline to assessing performance using cross-validation. `cross_validate` will perform the fitting as part of the process. This uses the default settings for the random forest so you'll then proceed to investigate some different hyperparameters."
      ]
    },
    {
      "cell_type": "markdown",
      "metadata": {
        "id": "pHMyPeRPS038"
      },
      "source": [
        "### 4.10.1 Define the pipeline<a id='4.10.1_Define_the_pipeline'></a>"
      ]
    },
    {
      "cell_type": "code",
      "metadata": {
        "id": "Tg26vd9OS038"
      },
      "source": [
        "#Code task 22#\n",
        "#Define a pipeline comprising the steps:\n",
        "#SimpleImputer() with a strategy of 'median'\n",
        "#StandardScaler(),\n",
        "#and then RandomForestRegressor() with a random state of 47\n",
        "RF_pipe = make_pipeline(\n",
        "    SimpleImputer(strategy='median'),\n",
        "    StandardScaler(),\n",
        "    RandomForestRegressor(random_state=47)\n",
        ")"
      ],
      "execution_count": 196,
      "outputs": []
    },
    {
      "cell_type": "markdown",
      "metadata": {
        "id": "nehnq2iVS039"
      },
      "source": [
        "### 4.10.2 Fit and assess performance using cross-validation<a id='4.10.2_Fit_and_assess_performance_using_cross-validation'></a>"
      ]
    },
    {
      "cell_type": "code",
      "metadata": {
        "id": "Z_G_nPkPS03-"
      },
      "source": [
        "#Code task 23#\n",
        "#Call `cross_validate` to estimate the pipeline's performance.\n",
        "#Pass it the random forest pipe object, `X_train` and `y_train`,\n",
        "#and get it to use 5-fold cross-validation\n",
        "rf_default_cv_results = cross_validate(RF_pipe, X_train, y_train, cv=5)"
      ],
      "execution_count": 197,
      "outputs": []
    },
    {
      "cell_type": "code",
      "metadata": {
        "id": "6FKSBQUhS03-",
        "outputId": "52afe4ba-5b60-4e63-82d6-b7cd81e00127",
        "colab": {
          "base_uri": "https://localhost:8080/"
        }
      },
      "source": [
        "rf_cv_scores = rf_default_cv_results['test_score']\n",
        "rf_cv_scores"
      ],
      "execution_count": 198,
      "outputs": [
        {
          "output_type": "execute_result",
          "data": {
            "text/plain": [
              "array([0.68593757, 0.77913606, 0.7779234 , 0.62600119, 0.62129724])"
            ]
          },
          "metadata": {
            "tags": []
          },
          "execution_count": 198
        }
      ]
    },
    {
      "cell_type": "code",
      "metadata": {
        "id": "wKLPnFVhS04A",
        "outputId": "fd98b629-7bca-4937-b2fa-f24fccf0a09a",
        "colab": {
          "base_uri": "https://localhost:8080/"
        }
      },
      "source": [
        "np.mean(rf_cv_scores), np.std(rf_cv_scores)"
      ],
      "execution_count": 199,
      "outputs": [
        {
          "output_type": "execute_result",
          "data": {
            "text/plain": [
              "(0.6980590896423393, 0.06954629509216236)"
            ]
          },
          "metadata": {
            "tags": []
          },
          "execution_count": 199
        }
      ]
    },
    {
      "cell_type": "markdown",
      "metadata": {
        "id": "OiSL_bOmS04B"
      },
      "source": [
        "### 4.10.3 Hyperparameter search using GridSearchCV<a id='4.10.3_Hyperparameter_search_using_GridSearchCV'></a>"
      ]
    },
    {
      "cell_type": "markdown",
      "metadata": {
        "id": "qO298brYS04C"
      },
      "source": [
        "Random forest has a number of hyperparameters that can be explored, however here you'll limit yourselves to exploring some different values for the number of trees. You'll try it with and without feature scaling, and try both the mean and median as strategies for imputing missing values."
      ]
    },
    {
      "cell_type": "code",
      "metadata": {
        "id": "8YpI3JxwS04D",
        "outputId": "cc8ecf1b-2cda-43a1-cb80-386416253891",
        "colab": {
          "base_uri": "https://localhost:8080/"
        }
      },
      "source": [
        "n_est = [int(n) for n in np.logspace(start=1, stop=3, num=20)]\n",
        "grid_params = {\n",
        "        'randomforestregressor__n_estimators': n_est,\n",
        "        'standardscaler': [StandardScaler(), None],\n",
        "        'simpleimputer__strategy': ['mean', 'median']\n",
        "}\n",
        "grid_params"
      ],
      "execution_count": 200,
      "outputs": [
        {
          "output_type": "execute_result",
          "data": {
            "text/plain": [
              "{'randomforestregressor__n_estimators': [10,\n",
              "  12,\n",
              "  16,\n",
              "  20,\n",
              "  26,\n",
              "  33,\n",
              "  42,\n",
              "  54,\n",
              "  69,\n",
              "  88,\n",
              "  112,\n",
              "  143,\n",
              "  183,\n",
              "  233,\n",
              "  297,\n",
              "  379,\n",
              "  483,\n",
              "  615,\n",
              "  784,\n",
              "  1000],\n",
              " 'simpleimputer__strategy': ['mean', 'median'],\n",
              " 'standardscaler': [StandardScaler(copy=True, with_mean=True, with_std=True),\n",
              "  None]}"
            ]
          },
          "metadata": {
            "tags": []
          },
          "execution_count": 200
        }
      ]
    },
    {
      "cell_type": "code",
      "metadata": {
        "id": "BQvTVqjFS04E"
      },
      "source": [
        "#Code task 24#\n",
        "#Call `GridSearchCV` with the random forest pipeline, passing in the above `grid_params`\n",
        "#dict for parameters to evaluate, 5-fold cross-validation, and all available CPU cores (if desired)\n",
        "rf_grid_cv = GridSearchCV(RF_pipe, param_grid=grid_params, cv=5, n_jobs=-1)"
      ],
      "execution_count": 201,
      "outputs": []
    },
    {
      "cell_type": "code",
      "metadata": {
        "id": "T8MJY78cS04I",
        "outputId": "bbf44f2c-d059-40e0-d29d-3c763f4aa723",
        "colab": {
          "base_uri": "https://localhost:8080/"
        }
      },
      "source": [
        "#Code task 25#\n",
        "#Now call the `GridSearchCV`'s `fit()` method with `X_train` and `y_train` as arguments\n",
        "#to actually start the grid search. This may take a minute or two.\n",
        "rf_grid_cv.fit(X_train, y_train)"
      ],
      "execution_count": 202,
      "outputs": [
        {
          "output_type": "execute_result",
          "data": {
            "text/plain": [
              "GridSearchCV(cv=5, error_score=nan,\n",
              "             estimator=Pipeline(memory=None,\n",
              "                                steps=[('simpleimputer',\n",
              "                                        SimpleImputer(add_indicator=False,\n",
              "                                                      copy=True,\n",
              "                                                      fill_value=None,\n",
              "                                                      missing_values=nan,\n",
              "                                                      strategy='median',\n",
              "                                                      verbose=0)),\n",
              "                                       ('standardscaler',\n",
              "                                        StandardScaler(copy=True,\n",
              "                                                       with_mean=True,\n",
              "                                                       with_std=True)),\n",
              "                                       ('randomforestregressor',\n",
              "                                        RandomForestRegressor(bootstrap=True,\n",
              "                                                              ccp_alpha=0.0,\n",
              "                                                              cr...\n",
              "             iid='deprecated', n_jobs=-1,\n",
              "             param_grid={'randomforestregressor__n_estimators': [10, 12, 16, 20,\n",
              "                                                                 26, 33, 42, 54,\n",
              "                                                                 69, 88, 112,\n",
              "                                                                 143, 183, 233,\n",
              "                                                                 297, 379, 483,\n",
              "                                                                 615, 784,\n",
              "                                                                 1000],\n",
              "                         'simpleimputer__strategy': ['mean', 'median'],\n",
              "                         'standardscaler': [StandardScaler(copy=True,\n",
              "                                                           with_mean=True,\n",
              "                                                           with_std=True),\n",
              "                                            None]},\n",
              "             pre_dispatch='2*n_jobs', refit=True, return_train_score=False,\n",
              "             scoring=None, verbose=0)"
            ]
          },
          "metadata": {
            "tags": []
          },
          "execution_count": 202
        }
      ]
    },
    {
      "cell_type": "code",
      "metadata": {
        "id": "sb4TZHhWS04J",
        "outputId": "73bf2ba5-0221-43cd-a08d-86afff85e757",
        "colab": {
          "base_uri": "https://localhost:8080/"
        }
      },
      "source": [
        "#Code task 26#\n",
        "#Print the best params (`best_params_` attribute) from the grid search\n",
        "rf_grid_cv.best_params_"
      ],
      "execution_count": 203,
      "outputs": [
        {
          "output_type": "execute_result",
          "data": {
            "text/plain": [
              "{'randomforestregressor__n_estimators': 69,\n",
              " 'simpleimputer__strategy': 'median',\n",
              " 'standardscaler': None}"
            ]
          },
          "metadata": {
            "tags": []
          },
          "execution_count": 203
        }
      ]
    },
    {
      "cell_type": "markdown",
      "metadata": {
        "id": "NySUx5e7S04L"
      },
      "source": [
        "It looks like imputing with the median helps, but scaling the features doesn't."
      ]
    },
    {
      "cell_type": "code",
      "metadata": {
        "id": "j29iEeK9S04L",
        "outputId": "99a7d823-d6b9-488d-c8d8-b633b81aeffc",
        "colab": {
          "base_uri": "https://localhost:8080/"
        }
      },
      "source": [
        "rf_best_cv_results = cross_validate(rf_grid_cv.best_estimator_, X_train, y_train, cv=5)\n",
        "rf_best_scores = rf_best_cv_results['test_score']\n",
        "rf_best_scores"
      ],
      "execution_count": 204,
      "outputs": [
        {
          "output_type": "execute_result",
          "data": {
            "text/plain": [
              "array([0.68996066, 0.79381766, 0.77160922, 0.62521136, 0.66414089])"
            ]
          },
          "metadata": {
            "tags": []
          },
          "execution_count": 204
        }
      ]
    },
    {
      "cell_type": "code",
      "metadata": {
        "id": "klq8rvhnS04N",
        "outputId": "5f89fb94-8064-4a6d-b096-ee83fc7e6566",
        "colab": {
          "base_uri": "https://localhost:8080/"
        }
      },
      "source": [
        "np.mean(rf_best_scores), np.std(rf_best_scores)"
      ],
      "execution_count": 205,
      "outputs": [
        {
          "output_type": "execute_result",
          "data": {
            "text/plain": [
              "(0.7089479592688203, 0.06404577849755849)"
            ]
          },
          "metadata": {
            "tags": []
          },
          "execution_count": 205
        }
      ]
    },
    {
      "cell_type": "markdown",
      "metadata": {
        "id": "b2d1iZuHS04P"
      },
      "source": [
        "You've marginally improved upon the default CV results. Random forest has many more hyperparameters you could tune, but we won't dive into that here."
      ]
    },
    {
      "cell_type": "code",
      "metadata": {
        "id": "4QIjIB8uS04P",
        "outputId": "62a7d8de-c606-4427-8a6e-6c2c2685b38f",
        "colab": {
          "base_uri": "https://localhost:8080/",
          "height": 511
        }
      },
      "source": [
        "#Code task 27#\n",
        "#Plot a barplot of the random forest's feature importances,\n",
        "#assigning the `feature_importances_` attribute of \n",
        "#`rf_grid_cv.best_estimator_.named_steps.randomforestregressor` to the name `imps` to then\n",
        "#create a pandas Series object of the feature importances, with the index given by the\n",
        "#training data column names, sorting the values in descending order\n",
        "plt.subplots(figsize=(10, 5))\n",
        "imps = rf_grid_cv.best_estimator_.named_steps.randomforestregressor.feature_importances_\n",
        "rf_feat_imps = pd.Series(imps, index=X_train.columns).sort_values(ascending=False)\n",
        "rf_feat_imps.plot(kind='bar')\n",
        "plt.xlabel('features')\n",
        "plt.ylabel('importance')\n",
        "plt.title('Best random forest regressor feature importances');"
      ],
      "execution_count": 206,
      "outputs": [
        {
          "output_type": "display_data",
          "data": {
            "image/png": "[encoded data removed]",
            "text/plain": [
              "<Figure size 720x360 with 1 Axes>"
            ]
          },
          "metadata": {
            "tags": [],
            "needs_background": "light"
          }
        }
      ]
    },
    {
      "cell_type": "markdown",
      "metadata": {
        "id": "OuFZLp_JS04R"
      },
      "source": [
        "Encouragingly, the dominant top four features are in common with your linear model:\n",
        "* fastQuads\n",
        "* Runs\n",
        "* Snow Making_ac\n",
        "* vertical_drop"
      ]
    },
    {
      "cell_type": "markdown",
      "metadata": {
        "id": "BPjapu--S04R"
      },
      "source": [
        "## 4.11 Final Model Selection<a id='4.11_Final_Model_Selection'></a>"
      ]
    },
    {
      "cell_type": "markdown",
      "metadata": {
        "id": "eLaKdGhWS04R"
      },
      "source": [
        "Time to select your final model to use for further business modeling! It would be good to revisit the above model selection; there is undoubtedly more that could be done to explore possible hyperparameters.\n",
        "It would also be worthwhile to investigate removing the least useful features. Gathering or calculating, and storing, features adds business cost and dependencies, so if features genuinely are not needed they should be removed.\n",
        "Building a simpler model with fewer features can also have the advantage of being easier to sell (and/or explain) to stakeholders.\n",
        "Certainly there seem to be four strong features here and so a model using only those would probably work well.\n",
        "However, you want to explore some different scenarios where other features vary so keep the fuller \n",
        "model for now. \n",
        "The business is waiting for this model and you have something that you have confidence in to be much better than guessing with the average price.\n",
        "\n",
        "Or, rather, you have two \"somethings\". You built a best linear model and a best random forest model. You need to finally choose between them. You can calculate the mean absolute error using cross-validation. Although `cross-validate` defaults to the $R^2$ [metric for scoring](https://scikit-learn.org/stable/modules/model_evaluation.html#scoring) regression, you can specify the mean absolute error as an alternative via\n",
        "the `scoring` parameter."
      ]
    },
    {
      "cell_type": "markdown",
      "metadata": {
        "id": "m7VZJWCOS04R"
      },
      "source": [
        "### 4.11.1 Linear regression model performance<a id='4.11.1_Linear_regression_model_performance'></a>"
      ]
    },
    {
      "cell_type": "code",
      "metadata": {
        "id": "vjMBIji7S04R"
      },
      "source": [
        "# 'neg_mean_absolute_error' uses the (negative of) the mean absolute error\n",
        "lr_neg_mae = cross_validate(lr_grid_cv.best_estimator_, X_train, y_train, \n",
        "                            scoring='neg_mean_absolute_error', cv=5, n_jobs=-1)"
      ],
      "execution_count": 207,
      "outputs": []
    },
    {
      "cell_type": "code",
      "metadata": {
        "id": "79ZHgXUOS04S",
        "outputId": "f86df43f-5145-45ca-c5fe-984bfda5f70a",
        "colab": {
          "base_uri": "https://localhost:8080/"
        }
      },
      "source": [
        "lr_mae_mean = np.mean(-1 * lr_neg_mae['test_score'])\n",
        "lr_mae_std = np.std(-1 * lr_neg_mae['test_score'])\n",
        "lr_mae_mean, lr_mae_std"
      ],
      "execution_count": 208,
      "outputs": [
        {
          "output_type": "execute_result",
          "data": {
            "text/plain": [
              "(10.499032338015294, 1.6220608976799658)"
            ]
          },
          "metadata": {
            "tags": []
          },
          "execution_count": 208
        }
      ]
    },
    {
      "cell_type": "code",
      "metadata": {
        "id": "yak7cdZSS04T",
        "outputId": "d630ae3f-26e2-4a53-cfaa-c458cacc5020",
        "colab": {
          "base_uri": "https://localhost:8080/"
        }
      },
      "source": [
        "mean_absolute_error(y_test, lr_grid_cv.best_estimator_.predict(X_test))"
      ],
      "execution_count": 209,
      "outputs": [
        {
          "output_type": "execute_result",
          "data": {
            "text/plain": [
              "11.793465668669327"
            ]
          },
          "metadata": {
            "tags": []
          },
          "execution_count": 209
        }
      ]
    },
    {
      "cell_type": "markdown",
      "metadata": {
        "id": "WX8qVVroS04U"
      },
      "source": [
        "### 4.11.2 Random forest regression model performance<a id='4.11.2_Random_forest_regression_model_performance'></a>"
      ]
    },
    {
      "cell_type": "code",
      "metadata": {
        "id": "EtvlTy03S04V"
      },
      "source": [
        "rf_neg_mae = cross_validate(rf_grid_cv.best_estimator_, X_train, y_train, \n",
        "                            scoring='neg_mean_absolute_error', cv=5, n_jobs=-1)"
      ],
      "execution_count": 210,
      "outputs": []
    },
    {
      "cell_type": "code",
      "metadata": {
        "id": "cQPn5mqcS04W",
        "outputId": "d72e0c02-39c7-492f-e57f-6bf4f22128c6",
        "colab": {
          "base_uri": "https://localhost:8080/"
        }
      },
      "source": [
        "rf_mae_mean = np.mean(-1 * rf_neg_mae['test_score'])\n",
        "rf_mae_std = np.std(-1 * rf_neg_mae['test_score'])\n",
        "rf_mae_mean, rf_mae_std"
      ],
      "execution_count": 211,
      "outputs": [
        {
          "output_type": "execute_result",
          "data": {
            "text/plain": [
              "(9.65425560836316, 1.3573732167150356)"
            ]
          },
          "metadata": {
            "tags": []
          },
          "execution_count": 211
        }
      ]
    },
    {
      "cell_type": "code",
      "metadata": {
        "id": "qNGKqeaDS04X",
        "outputId": "55bfc85e-2e93-45cf-b2a6-4ee95115565f",
        "colab": {
          "base_uri": "https://localhost:8080/"
        }
      },
      "source": [
        "mean_absolute_error(y_test, rf_grid_cv.best_estimator_.predict(X_test))"
      ],
      "execution_count": 212,
      "outputs": [
        {
          "output_type": "execute_result",
          "data": {
            "text/plain": [
              "9.533046970490659"
            ]
          },
          "metadata": {
            "tags": []
          },
          "execution_count": 212
        }
      ]
    },
    {
      "cell_type": "markdown",
      "metadata": {
        "id": "NlAuwi_TS04Y"
      },
      "source": [
        "### 4.11.3 Conclusion<a id='4.11.3_Conclusion'></a>"
      ]
    },
    {
      "cell_type": "markdown",
      "metadata": {
        "id": "-Md-Gwa8S04Y"
      },
      "source": [
        "The random forest model has a lower cross-validation mean absolute error by almost \\\\$1. It also exhibits less variability. Verifying performance on the test set produces performance consistent with the cross-validation results."
      ]
    },
    {
      "cell_type": "markdown",
      "metadata": {
        "id": "kvie2u-JS04Y"
      },
      "source": [
        "## 4.12 Data quantity assessment<a id='4.12_Data_quantity_assessment'></a>"
      ]
    },
    {
      "cell_type": "markdown",
      "metadata": {
        "id": "02_V48WlS04Y"
      },
      "source": [
        "Finally, you need to advise the business whether it needs to undertake further data collection. Would more data be useful? We're often led to believe more data is always good, but gathering data invariably has a cost associated with it. Assess this trade off by seeing how performance varies with differing data set sizes. The `learning_curve` function does this conveniently."
      ]
    },
    {
      "cell_type": "code",
      "metadata": {
        "id": "-N8LTxSnS04Y"
      },
      "source": [
        "fractions = [.2, .25, .3, .35, .4, .45, .5, .6, .75, .8, 1.0]\n",
        "train_size, train_scores, test_scores = learning_curve(pipe, X_train, y_train, train_sizes=fractions)\n",
        "train_scores_mean = np.mean(train_scores, axis=1)\n",
        "train_scores_std = np.std(train_scores, axis=1)\n",
        "test_scores_mean = np.mean(test_scores, axis=1)\n",
        "test_scores_std = np.std(test_scores, axis=1)"
      ],
      "execution_count": 213,
      "outputs": []
    },
    {
      "cell_type": "code",
      "metadata": {
        "id": "ChGN8z3rS04Z",
        "outputId": "50ea0a4d-643a-42b5-b17b-5047279796d1",
        "colab": {
          "base_uri": "https://localhost:8080/",
          "height": 350
        }
      },
      "source": [
        "plt.subplots(figsize=(10, 5))\n",
        "plt.errorbar(train_size, test_scores_mean, yerr=test_scores_std)\n",
        "plt.xlabel('Training set size')\n",
        "plt.ylabel('CV scores')\n",
        "plt.title('Cross-validation score as training set size increases');"
      ],
      "execution_count": 214,
      "outputs": [
        {
          "output_type": "display_data",
          "data": {
            "image/png": "[encoded data removed]",
            "text/plain": [
              "<Figure size 720x360 with 1 Axes>"
            ]
          },
          "metadata": {
            "tags": [],
            "needs_background": "light"
          }
        }
      ]
    },
    {
      "cell_type": "markdown",
      "metadata": {
        "id": "2Z-6Yf1yS04a"
      },
      "source": [
        "This shows that you seem to have plenty of data. There's an initial rapid improvement in model scores as one would expect, but it's essentially levelled off by around a sample size of 40-50."
      ]
    },
    {
      "cell_type": "markdown",
      "metadata": {
        "id": "IN8PSzpQS04a"
      },
      "source": [
        "## 4.13 Save best model object from pipeline<a id='4.13_Save_best_model_object_from_pipeline'></a>"
      ]
    },
    {
      "cell_type": "code",
      "metadata": {
        "id": "-a9SSrmeS04b"
      },
      "source": [
        "#Code task 28#\n",
        "#This may not be \"production grade ML deployment\" practice, but adding some basic\n",
        "#information to your saved models can save your bacon in development.\n",
        "#Just what version model have you just loaded to reuse? What version of `sklearn`\n",
        "#created it? When did you make it?\n",
        "#Assign the pandas version number (`pd.__version__`) to the `pandas_version` attribute,\n",
        "#the numpy version (`np.__version__`) to the `numpy_version` attribute,\n",
        "#the sklearn version (`sklearn_version`) to the `sklearn_version` attribute,\n",
        "#and the current datetime (`datetime.datetime.now()`) to the `build_datetime` attribute\n",
        "#Let's call this model version '1.0'\n",
        "best_model = rf_grid_cv.best_estimator_\n",
        "best_model.version = '1.0'\n",
        "best_model.pandas_version = pd.__version__\n",
        "best_model.numpy_version = np.__version__\n",
        "best_model.sklearn_version = sklearn_version\n",
        "best_model.X_columns = [col for col in X_train.columns]\n",
        "best_model.build_datetime = datetime.datetime.now()"
      ],
      "execution_count": 215,
      "outputs": []
    },
    {
      "cell_type": "code",
      "metadata": {
        "id": "oWWYyzEhS04b"
      },
      "source": [
        "# save the model\n",
        "\n",
        "import pickle\n",
        "model_save_name = 'ski_resort_pricing_model.pkl'\n",
        "modelpath = F\"/content/drive/My Drive/Colab Notebooks/Springboard - Data Science Career Track/6 - Guided Capstone 1/{model_save_name}\"\n",
        "pickle.dump(best_model, open(modelpath, 'wb'))\n"
      ],
      "execution_count": 216,
      "outputs": []
    },
    {
      "cell_type": "markdown",
      "metadata": {
        "id": "VxFNiUjnS04c"
      },
      "source": [
        "## 4.14 Summary<a id='4.14_Summary'></a>"
      ]
    },
    {
      "cell_type": "markdown",
      "metadata": {
        "id": "x3EMGsFLS04c"
      },
      "source": [
        "**Q: 1** Write a summary of the work in this notebook. Capture the fact that you gained a baseline idea of performance by simply taking the average price and how well that did. Then highlight that you built a linear model and the features that found. Comment on the estimate of its performance from cross-validation and whether its performance on the test split was consistent with this estimate. Also highlight that a random forest regressor was tried, what preprocessing steps were found to be best, and again what its estimated performance via cross-validation was and whether its performance on the test set was consistent with that. State which model you have decided to use going forwards and why. This summary should provide a quick overview for someone wanting to know quickly why the given model was chosen for the next part of the business problem to help guide important business decisions."
      ]
    },
    {
      "cell_type": "markdown",
      "metadata": {
        "id": "UO-lTo20S04d"
      },
      "source": [
        "A:\n",
        "After processing the raw data and excluding the Big Mountain resort, the data has been split up into a training set and a testing set.  Objective in setting up a training and testing set is to develop a testing method and evaluate it’s accuracy. <br><br>\n",
        "\n",
        "Mean was initially used as a predictor, but with the R-squared result at 0, it is apparent that mean is not a good parameter to predict the data. \n",
        "In refining the model, missing data in both the training and testing data set has been filled using the median of from the training data set. After scaling the data, linear regression is being used to as the model to make predictions. R squared this time resulted in 0.81 for the training set and 0.72 for the testing set. MAE is at 8.54 for the training set and 9.41 for the testing set. This illustrates this prediction model is generating a 9 dollars variance to actual price, which has been an improvement over 19 dollars in the last model using mean as a parameter. <br><br>\n",
        "\n",
        "Mean has been used as an alternative way to fill in the missing data. The training and testing data set has been run through the model again, R squared result is largely similar with using median to fill the missing data. <br><br>\n",
        "In refining the linear model, a pipeline has been built. SeletKBest and f_regression has been used to further pinpoint which features were best to predict ticket price. After testing with different parameters, GridSearchCV has been used to cross validate and estimate the model with best performance. Final result suggesting k=8 is the most optimal, with vertical_drop being the feature most significant in predicting the price. <br><br>\n",
        "Using random forest, it is revealed inputting median data to fill in missing data helped marginally, and scaling the data didn’t make much difference. Plotting the random forest’s feature importance confirmed that the most significant 4 features (fastQuads, Runs, Snow Making, and Vertical Drop) which impacts ticket price is in line with the linear model’s conclusion.\n"
      ]
    }
  ]
}