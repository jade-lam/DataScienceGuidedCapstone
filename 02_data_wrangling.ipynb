{
  "nbformat": 4,
  "nbformat_minor": 0,
  "metadata": {
    "kernelspec": {
      "display_name": "Python 3",
      "language": "python",
      "name": "python3"
    },
    "language_info": {
      "codemirror_mode": {
        "name": "ipython",
        "version": 3
      },
      "file_extension": ".py",
      "mimetype": "text/x-python",
      "name": "python",
      "nbconvert_exporter": "python",
      "pygments_lexer": "ipython3",
      "version": "3.7.9"
    },
    "toc": {
      "base_numbering": 1,
      "nav_menu": {},
      "number_sections": true,
      "sideBar": true,
      "skip_h1_title": false,
      "title_cell": "Table of Contents",
      "title_sidebar": "Contents",
      "toc_cell": false,
      "toc_position": {},
      "toc_section_display": true,
      "toc_window_display": true
    },
    "varInspector": {
      "cols": {
        "lenName": 16,
        "lenType": 16,
        "lenVar": 40
      },
      "kernels_config": {
        "python": {
          "delete_cmd_postfix": "",
          "delete_cmd_prefix": "del ",
          "library": "var_list.py",
          "varRefreshCmd": "print(var_dic_list())"
        },
        "r": {
          "delete_cmd_postfix": ") ",
          "delete_cmd_prefix": "rm(",
          "library": "var_list.r",
          "varRefreshCmd": "cat(var_dic_list()) "
        }
      },
      "types_to_exclude": [
        "module",
        "function",
        "builtin_function_or_method",
        "instance",
        "_Feature"
      ],
      "window_display": false
    },
    "colab": {
      "name": "02_data_wrangling.ipynb",
      "provenance": [],
      "collapsed_sections": [],
      "include_colab_link": true
    }
  },
  "cells": [
    {
      "cell_type": "markdown",
      "metadata": {
        "id": "view-in-github",
        "colab_type": "text"
      },
      "source": [
        "<a href=\"https://colab.research.google.com/github/jade-lam/DataScienceGuidedCapstone/blob/master/02_data_wrangling.ipynb\" target=\"_parent\"><img src=\"https://colab.research.google.com/assets/colab-badge.svg\" alt=\"Open In Colab\"/></a>"
      ]
    },
    {
      "cell_type": "markdown",
      "metadata": {
        "id": "A88_nUionyTR"
      },
      "source": [
        "# 2 Data wrangling<a id='2_Data_wrangling'></a>"
      ]
    },
    {
      "cell_type": "markdown",
      "metadata": {
        "id": "zbsQ0C80nyTS"
      },
      "source": [
        "## 2.1 Contents<a id='2.1_Contents'></a>\n",
        "* [2 Data wrangling](#2_Data_wrangling)\n",
        "  * [2.1 Contents](#2.1_Contents)\n",
        "  * [2.2 Introduction](#2.2_Introduction)\n",
        "    * [2.2.1 Recap Of Data Science Problem](#2.2.1_Recap_Of_Data_Science_Problem)\n",
        "    * [2.2.2 Introduction To Notebook](#2.2.2_Introduction_To_Notebook)\n",
        "  * [2.3 Imports](#2.3_Imports)\n",
        "  * [2.4 Objectives](#2.4_Objectives)\n",
        "  * [2.5 Load The Ski Resort Data](#2.5_Load_The_Ski_Resort_Data)\n",
        "  * [2.6 Explore The Data](#2.6_Explore_The_Data)\n",
        "    * [2.6.1 Find Your Resort Of Interest](#2.6.1_Find_Your_Resort_Of_Interest)\n",
        "    * [2.6.2 Number Of Missing Values By Column](#2.6.2_Number_Of_Missing_Values_By_Column)\n",
        "    * [2.6.3 Categorical Features](#2.6.3_Categorical_Features)\n",
        "      * [2.6.3.1 Unique Resort Names](#2.6.3.1_Unique_Resort_Names)\n",
        "      * [2.6.3.2 Region And State](#2.6.3.2_Region_And_State)\n",
        "      * [2.6.3.3 Number of distinct regions and states](#2.6.3.3_Number_of_distinct_regions_and_states)\n",
        "      * [2.6.3.4 Distribution Of Resorts By Region And State](#2.6.3.4_Distribution_Of_Resorts_By_Region_And_State)\n",
        "      * [2.6.3.5 Distribution Of Ticket Price By State](#2.6.3.5_Distribution_Of_Ticket_Price_By_State)\n",
        "        * [2.6.3.5.1 Average weekend and weekday price by state](#2.6.3.5.1_Average_weekend_and_weekday_price_by_state)\n",
        "        * [2.6.3.5.2 Distribution of weekday and weekend price by state](#2.6.3.5.2_Distribution_of_weekday_and_weekend_price_by_state)\n",
        "    * [2.6.4 Numeric Features](#2.6.4_Numeric_Features)\n",
        "      * [2.6.4.1 Numeric data summary](#2.6.4.1_Numeric_data_summary)\n",
        "      * [2.6.4.2 Distributions Of Feature Values](#2.6.4.2_Distributions_Of_Feature_Values)\n",
        "        * [2.6.4.2.1 SkiableTerrain_ac](#2.6.4.2.1_SkiableTerrain_ac)\n",
        "        * [2.6.4.2.2 Snow Making_ac](#2.6.4.2.2_Snow_Making_ac)\n",
        "        * [2.6.4.2.3 fastEight](#2.6.4.2.3_fastEight)\n",
        "        * [2.6.4.2.4 fastSixes and Trams](#2.6.4.2.4_fastSixes_and_Trams)\n",
        "  * [2.7 Derive State-wide Summary Statistics For Our Market Segment](#2.7_Derive_State-wide_Summary_Statistics_For_Our_Market_Segment)\n",
        "  * [2.8 Drop Rows With No Price Data](#2.8_Drop_Rows_With_No_Price_Data)\n",
        "  * [2.9 Review distributions](#2.9_Review_distributions)\n",
        "  * [2.10 Population data](#2.10_Population_data)\n",
        "  * [2.11 Target Feature](#2.11_Target_Feature)\n",
        "    * [2.11.1 Number Of Missing Values By Row - Resort](#2.11.1_Number_Of_Missing_Values_By_Row_-_Resort)\n",
        "  * [2.12 Save data](#2.12_Save_data)\n",
        "  * [2.13 Summary](#2.13_Summary)\n"
      ]
    },
    {
      "cell_type": "markdown",
      "metadata": {
        "id": "AwIo1jGTnyTS"
      },
      "source": [
        "## 2.2 Introduction<a id='2.2_Introduction'></a>"
      ]
    },
    {
      "cell_type": "markdown",
      "metadata": {
        "id": "n0WyJuDznyTT"
      },
      "source": [
        "This step focuses on collecting your data, organizing it, and making sure it's well defined. Paying attention to these tasks will pay off greatly later on. Some data cleaning can be done at this stage, but it's important not to be overzealous in your cleaning before you've explored the data to better understand it."
      ]
    },
    {
      "cell_type": "markdown",
      "metadata": {
        "id": "q779VcdPnyTU"
      },
      "source": [
        "### 2.2.1 Recap Of Data Science Problem<a id='2.2.1_Recap_Of_Data_Science_Problem'></a>"
      ]
    },
    {
      "cell_type": "markdown",
      "metadata": {
        "id": "wlazcRuGnyTU"
      },
      "source": [
        "The purpose of this data science project is to come up with a pricing model for ski resort tickets in our market segment. Big Mountain suspects it may not be maximizing its returns, relative to its position in the market. It also does not have a strong sense of what facilities matter most to visitors, particularly which ones they're most likely to pay more for. This project aims to build a predictive model for ticket price based on a number of facilities, or properties, boasted by resorts (*at the resorts).* \n",
        "This model will be used to provide guidance for Big Mountain's pricing and future facility investment plans."
      ]
    },
    {
      "cell_type": "markdown",
      "metadata": {
        "id": "tEo0bbNLnyTV"
      },
      "source": [
        "### 2.2.2 Introduction To Notebook<a id='2.2.2_Introduction_To_Notebook'></a>"
      ]
    },
    {
      "cell_type": "markdown",
      "metadata": {
        "id": "DyuH9NN0nyTW"
      },
      "source": [
        "Notebooks grow organically as we explore our data. If you used paper notebooks, you could discover a mistake and cross out or revise some earlier work. Later work may give you a reason to revisit earlier work and explore it further. The great thing about Jupyter notebooks is that you can edit, add, and move cells around without needing to cross out figures or scrawl in the margin. However, this means you can lose track of your changes easily. If you worked in a regulated environment, the company may have a a policy of always dating entries and clearly crossing out any mistakes, with your initials and the date.\n",
        "\n",
        "**Best practice here is to commit your changes using a version control system such as Git.** Try to get into the habit of adding and committing your files to the Git repository you're working in after you save them. You're are working in a Git repository, right? If you make a significant change, save the notebook and commit it to Git. In fact, if you're about to make a significant change, it's a good idea to commit before as well. Then if the change is a mess, you've got the previous version to go back to.\n",
        "\n",
        "**Another best practice with notebooks is to try to keep them organized with helpful headings and comments.** Not only can a good structure, but associated headings help you keep track of what you've done and your current focus. Anyone reading your notebook will have a much easier time following the flow of work. Remember, that 'anyone' will most likely be you. Be kind to future you!\n",
        "\n",
        "In this notebook, note how we try to use well structured, helpful headings that frequently are self-explanatory, and we make a brief note after any results to highlight key takeaways. This is an immense help to anyone reading your notebook and it will greatly help you when you come to summarise your findings. **Top tip: jot down key findings in a final summary at the end of the notebook as they arise. You can tidy this up later.** This is a great way to ensure important results don't get lost in the middle of your notebooks."
      ]
    },
    {
      "cell_type": "markdown",
      "metadata": {
        "id": "Q0nHjei7nyTW"
      },
      "source": [
        "In this, and subsequent notebooks, there are coding tasks marked with `#Code task n#` with code to complete. The `___` will guide you to where you need to insert code."
      ]
    },
    {
      "cell_type": "markdown",
      "metadata": {
        "id": "s1GKeQEynyTX"
      },
      "source": [
        "## 2.3 Imports<a id='2.3_Imports'></a>"
      ]
    },
    {
      "cell_type": "markdown",
      "metadata": {
        "id": "s-OHailjnyTX"
      },
      "source": [
        "Placing your imports all together at the start of your notebook means you only need to consult one place to check your notebook's dependencies. By all means import something 'in situ' later on when you're experimenting, but if the imported dependency ends up being kept, you should subsequently move the import statement here with the rest."
      ]
    },
    {
      "cell_type": "code",
      "metadata": {
        "id": "E7GRYyhBnyTY"
      },
      "source": [
        "#Code task 1#\n",
        "#Import pandas, matplotlib.pyplot, and seaborn in the correct lines below\n",
        "import pandas as pd\n",
        "import matplotlib.pyplot as plt\n",
        "import seaborn as sns\n",
        "import os\n",
        "\n",
        "#from library.sb_utils import save_file"
      ],
      "execution_count": 328,
      "outputs": []
    },
    {
      "cell_type": "markdown",
      "metadata": {
        "id": "B7RNTJMcnyTc"
      },
      "source": [
        "## 2.4 Objectives<a id='2.4_Objectives'></a>"
      ]
    },
    {
      "cell_type": "markdown",
      "metadata": {
        "id": "DChz3WOrnyTc"
      },
      "source": [
        "There are some fundamental questions to resolve in this notebook before you move on.\n",
        "\n",
        "* Do you think you may have the data you need to tackle the desired question?\n",
        "    * Have you identified the required target value?\n",
        "    * Do you have potentially useful features?\n",
        "* Do you have any fundamental issues with the data?"
      ]
    },
    {
      "cell_type": "markdown",
      "metadata": {
        "id": "vkKt-i2AnyTd"
      },
      "source": [
        "## 2.5 Load The Ski Resort Data<a id='2.5_Load_The_Ski_Resort_Data'></a>"
      ]
    },
    {
      "cell_type": "code",
      "metadata": {
        "id": "Y5QEcrguP66h",
        "outputId": "37acc4c8-1515-451d-9484-c9bc91adc4ff",
        "colab": {
          "base_uri": "https://localhost:8080/",
          "height": 35
        }
      },
      "source": [
        "from google.colab import drive\n",
        "drive.mount('/content/drive')"
      ],
      "execution_count": 329,
      "outputs": [
        {
          "output_type": "stream",
          "text": [
            "Drive already mounted at /content/drive; to attempt to forcibly remount, call drive.mount(\"/content/drive\", force_remount=True).\n"
          ],
          "name": "stdout"
        }
      ]
    },
    {
      "cell_type": "code",
      "metadata": {
        "id": "dwo9btwQQNnj"
      },
      "source": [
        "url = '/content/drive/My Drive/Colab Notebooks/Springboard - Data Science Career Track/6 - Guided Capstone 1/raw_data/ski_resort_data.csv'\n",
        "ski_data = pd.read_csv(url)"
      ],
      "execution_count": 330,
      "outputs": []
    },
    {
      "cell_type": "markdown",
      "metadata": {
        "id": "AX2vjj8fnyTh"
      },
      "source": [
        "Good first steps in auditing the data are the info method and displaying the first few records with head."
      ]
    },
    {
      "cell_type": "code",
      "metadata": {
        "id": "Ow67OjgUQs8m",
        "outputId": "0eb70bf8-99cb-4eba-ab72-05558cee38c4",
        "colab": {
          "base_uri": "https://localhost:8080/",
          "height": 607
        }
      },
      "source": [
        "#Code task 2#\n",
        "#Call the info method on ski_data to see a summary of the data\n",
        "ski_data.info()"
      ],
      "execution_count": 331,
      "outputs": [
        {
          "output_type": "stream",
          "text": [
            "<class 'pandas.core.frame.DataFrame'>\n",
            "RangeIndex: 330 entries, 0 to 329\n",
            "Data columns (total 27 columns):\n",
            " #   Column             Non-Null Count  Dtype  \n",
            "---  ------             --------------  -----  \n",
            " 0   Name               330 non-null    object \n",
            " 1   Region             330 non-null    object \n",
            " 2   state              330 non-null    object \n",
            " 3   summit_elev        330 non-null    int64  \n",
            " 4   vertical_drop      330 non-null    int64  \n",
            " 5   base_elev          330 non-null    int64  \n",
            " 6   trams              330 non-null    int64  \n",
            " 7   fastEight          164 non-null    float64\n",
            " 8   fastSixes          330 non-null    int64  \n",
            " 9   fastQuads          330 non-null    int64  \n",
            " 10  quad               330 non-null    int64  \n",
            " 11  triple             330 non-null    int64  \n",
            " 12  double             330 non-null    int64  \n",
            " 13  surface            330 non-null    int64  \n",
            " 14  total_chairs       330 non-null    int64  \n",
            " 15  Runs               326 non-null    float64\n",
            " 16  TerrainParks       279 non-null    float64\n",
            " 17  LongestRun_mi      325 non-null    float64\n",
            " 18  SkiableTerrain_ac  327 non-null    float64\n",
            " 19  Snow Making_ac     284 non-null    float64\n",
            " 20  daysOpenLastYear   279 non-null    float64\n",
            " 21  yearsOpen          329 non-null    float64\n",
            " 22  averageSnowfall    316 non-null    float64\n",
            " 23  AdultWeekday       276 non-null    float64\n",
            " 24  AdultWeekend       279 non-null    float64\n",
            " 25  projectedDaysOpen  283 non-null    float64\n",
            " 26  NightSkiing_ac     187 non-null    float64\n",
            "dtypes: float64(13), int64(11), object(3)\n",
            "memory usage: 69.7+ KB\n"
          ],
          "name": "stdout"
        }
      ]
    },
    {
      "cell_type": "code",
      "metadata": {
        "id": "JBsWwQh-nyTh",
        "outputId": "4f3ef446-6290-41c5-ab52-57dac3169fbe",
        "colab": {
          "base_uri": "https://localhost:8080/",
          "height": 35
        }
      },
      "source": [
        "ski_data.shape"
      ],
      "execution_count": 332,
      "outputs": [
        {
          "output_type": "execute_result",
          "data": {
            "text/plain": [
              "(330, 27)"
            ]
          },
          "metadata": {
            "tags": []
          },
          "execution_count": 332
        }
      ]
    },
    {
      "cell_type": "code",
      "metadata": {
        "id": "JlKhSLe8SBSh",
        "outputId": "a04aa68e-bebf-4ac1-fdf4-c7bb90db35c7",
        "colab": {
          "base_uri": "https://localhost:8080/",
          "height": 369
        }
      },
      "source": [
        "#getting a sense how much data is missing\n",
        "sns.heatmap(ski_data.isnull())"
      ],
      "execution_count": 333,
      "outputs": [
        {
          "output_type": "execute_result",
          "data": {
            "text/plain": [
              "<matplotlib.axes._subplots.AxesSubplot at 0x7fba8927dba8>"
            ]
          },
          "metadata": {
            "tags": []
          },
          "execution_count": 333
        },
        {
          "output_type": "display_data",
          "data": {
            "image/png": "[encoded data removed]",
            "text/plain": [
              "<Figure size 432x288 with 2 Axes>"
            ]
          },
          "metadata": {
            "tags": [],
            "needs_background": "light"
          }
        }
      ]
    },
    {
      "cell_type": "markdown",
      "metadata": {
        "id": "Lm_kUbfQnyTj"
      },
      "source": [
        "`AdultWeekday` is the price of an adult weekday ticket. `AdultWeekend` is the price of an adult weekend ticket. The other columns are potential features."
      ]
    },
    {
      "cell_type": "markdown",
      "metadata": {
        "id": "cu_NuJ2YnyTo"
      },
      "source": [
        "This immediately raises the question of what quantity will you want to model? You know you want to model the ticket price, but you realise there are two kinds of ticket price!"
      ]
    },
    {
      "cell_type": "code",
      "metadata": {
        "scrolled": true,
        "id": "q7MySNSYnyTp",
        "outputId": "c3495c76-6a64-4b80-b6e2-517a889b7efa",
        "colab": {
          "base_uri": "https://localhost:8080/",
          "height": 230
        }
      },
      "source": [
        "#Code task 3#\n",
        "#Call the head method on ski_data to print the first several rows of the data\n",
        "ski_data.head(3)"
      ],
      "execution_count": 334,
      "outputs": [
        {
          "output_type": "execute_result",
          "data": {
            "text/html": [
              "<div>\n",
              "<style scoped>\n",
              "    .dataframe tbody tr th:only-of-type {\n",
              "        vertical-align: middle;\n",
              "    }\n",
              "\n",
              "    .dataframe tbody tr th {\n",
              "        vertical-align: top;\n",
              "    }\n",
              "\n",
              "    .dataframe thead th {\n",
              "        text-align: right;\n",
              "    }\n",
              "</style>\n",
              "<table border=\"1\" class=\"dataframe\">\n",
              "  <thead>\n",
              "    <tr style=\"text-align: right;\">\n",
              "      <th></th>\n",
              "      <th>Name</th>\n",
              "      <th>Region</th>\n",
              "      <th>state</th>\n",
              "      <th>summit_elev</th>\n",
              "      <th>vertical_drop</th>\n",
              "      <th>base_elev</th>\n",
              "      <th>trams</th>\n",
              "      <th>fastEight</th>\n",
              "      <th>fastSixes</th>\n",
              "      <th>fastQuads</th>\n",
              "      <th>quad</th>\n",
              "      <th>triple</th>\n",
              "      <th>double</th>\n",
              "      <th>surface</th>\n",
              "      <th>total_chairs</th>\n",
              "      <th>Runs</th>\n",
              "      <th>TerrainParks</th>\n",
              "      <th>LongestRun_mi</th>\n",
              "      <th>SkiableTerrain_ac</th>\n",
              "      <th>Snow Making_ac</th>\n",
              "      <th>daysOpenLastYear</th>\n",
              "      <th>yearsOpen</th>\n",
              "      <th>averageSnowfall</th>\n",
              "      <th>AdultWeekday</th>\n",
              "      <th>AdultWeekend</th>\n",
              "      <th>projectedDaysOpen</th>\n",
              "      <th>NightSkiing_ac</th>\n",
              "    </tr>\n",
              "  </thead>\n",
              "  <tbody>\n",
              "    <tr>\n",
              "      <th>0</th>\n",
              "      <td>Alyeska Resort</td>\n",
              "      <td>Alaska</td>\n",
              "      <td>Alaska</td>\n",
              "      <td>3939</td>\n",
              "      <td>2500</td>\n",
              "      <td>250</td>\n",
              "      <td>1</td>\n",
              "      <td>0.0</td>\n",
              "      <td>0</td>\n",
              "      <td>2</td>\n",
              "      <td>2</td>\n",
              "      <td>0</td>\n",
              "      <td>0</td>\n",
              "      <td>2</td>\n",
              "      <td>7</td>\n",
              "      <td>76.0</td>\n",
              "      <td>2.0</td>\n",
              "      <td>1.0</td>\n",
              "      <td>1610.0</td>\n",
              "      <td>113.0</td>\n",
              "      <td>150.0</td>\n",
              "      <td>60.0</td>\n",
              "      <td>669.0</td>\n",
              "      <td>65.0</td>\n",
              "      <td>85.0</td>\n",
              "      <td>150.0</td>\n",
              "      <td>550.0</td>\n",
              "    </tr>\n",
              "    <tr>\n",
              "      <th>1</th>\n",
              "      <td>Eaglecrest Ski Area</td>\n",
              "      <td>Alaska</td>\n",
              "      <td>Alaska</td>\n",
              "      <td>2600</td>\n",
              "      <td>1540</td>\n",
              "      <td>1200</td>\n",
              "      <td>0</td>\n",
              "      <td>0.0</td>\n",
              "      <td>0</td>\n",
              "      <td>0</td>\n",
              "      <td>0</td>\n",
              "      <td>0</td>\n",
              "      <td>4</td>\n",
              "      <td>0</td>\n",
              "      <td>4</td>\n",
              "      <td>36.0</td>\n",
              "      <td>1.0</td>\n",
              "      <td>2.0</td>\n",
              "      <td>640.0</td>\n",
              "      <td>60.0</td>\n",
              "      <td>45.0</td>\n",
              "      <td>44.0</td>\n",
              "      <td>350.0</td>\n",
              "      <td>47.0</td>\n",
              "      <td>53.0</td>\n",
              "      <td>90.0</td>\n",
              "      <td>NaN</td>\n",
              "    </tr>\n",
              "    <tr>\n",
              "      <th>2</th>\n",
              "      <td>Hilltop Ski Area</td>\n",
              "      <td>Alaska</td>\n",
              "      <td>Alaska</td>\n",
              "      <td>2090</td>\n",
              "      <td>294</td>\n",
              "      <td>1796</td>\n",
              "      <td>0</td>\n",
              "      <td>0.0</td>\n",
              "      <td>0</td>\n",
              "      <td>0</td>\n",
              "      <td>0</td>\n",
              "      <td>1</td>\n",
              "      <td>0</td>\n",
              "      <td>2</td>\n",
              "      <td>3</td>\n",
              "      <td>13.0</td>\n",
              "      <td>1.0</td>\n",
              "      <td>1.0</td>\n",
              "      <td>30.0</td>\n",
              "      <td>30.0</td>\n",
              "      <td>150.0</td>\n",
              "      <td>36.0</td>\n",
              "      <td>69.0</td>\n",
              "      <td>30.0</td>\n",
              "      <td>34.0</td>\n",
              "      <td>152.0</td>\n",
              "      <td>30.0</td>\n",
              "    </tr>\n",
              "  </tbody>\n",
              "</table>\n",
              "</div>"
            ],
            "text/plain": [
              "                  Name  Region  ... projectedDaysOpen  NightSkiing_ac\n",
              "0       Alyeska Resort  Alaska  ...             150.0           550.0\n",
              "1  Eaglecrest Ski Area  Alaska  ...              90.0             NaN\n",
              "2     Hilltop Ski Area  Alaska  ...             152.0            30.0\n",
              "\n",
              "[3 rows x 27 columns]"
            ]
          },
          "metadata": {
            "tags": []
          },
          "execution_count": 334
        }
      ]
    },
    {
      "cell_type": "markdown",
      "metadata": {
        "id": "uJAtCgnanyTs"
      },
      "source": [
        "The output above suggests you've made a good start getting the ski resort data organized. You have plausible column headings. You can already see you have a missing value in the `fastEight` column"
      ]
    },
    {
      "cell_type": "markdown",
      "metadata": {
        "id": "ddQ8LFx7nyTt"
      },
      "source": [
        "## 2.6 Explore The Data<a id='2.6_Explore_The_Data'></a>"
      ]
    },
    {
      "cell_type": "markdown",
      "metadata": {
        "id": "sJtKzN--nyTt"
      },
      "source": [
        "### 2.6.1 Find Your Resort Of Interest<a id='2.6.1_Find_Your_Resort_Of_Interest'></a>"
      ]
    },
    {
      "cell_type": "markdown",
      "metadata": {
        "id": "Q8E89DWCnyTu"
      },
      "source": [
        "Your resort of interest is called Big Mountain Resort. Check it's in the data:"
      ]
    },
    {
      "cell_type": "code",
      "metadata": {
        "id": "gdNPI26FnyTu",
        "outputId": "8a668d03-d7f9-4058-9da5-5fd83e42205f",
        "colab": {
          "base_uri": "https://localhost:8080/",
          "height": 877
        }
      },
      "source": [
        "#Code task 4#\n",
        "#Filter the ski_data dataframe to display just the row for our resort with the name 'Big Mountain Resort'\n",
        "#Hint: you will find that the transpose of the row will give a nicer output. DataFrame's do have a\n",
        "#transpose method, but you can access this conveniently with the `T` property.\n",
        "ski_data[ski_data.Name == 'Big Mountain Resort'].T"
      ],
      "execution_count": 335,
      "outputs": [
        {
          "output_type": "execute_result",
          "data": {
            "text/html": [
              "<div>\n",
              "<style scoped>\n",
              "    .dataframe tbody tr th:only-of-type {\n",
              "        vertical-align: middle;\n",
              "    }\n",
              "\n",
              "    .dataframe tbody tr th {\n",
              "        vertical-align: top;\n",
              "    }\n",
              "\n",
              "    .dataframe thead th {\n",
              "        text-align: right;\n",
              "    }\n",
              "</style>\n",
              "<table border=\"1\" class=\"dataframe\">\n",
              "  <thead>\n",
              "    <tr style=\"text-align: right;\">\n",
              "      <th></th>\n",
              "      <th>151</th>\n",
              "    </tr>\n",
              "  </thead>\n",
              "  <tbody>\n",
              "    <tr>\n",
              "      <th>Name</th>\n",
              "      <td>Big Mountain Resort</td>\n",
              "    </tr>\n",
              "    <tr>\n",
              "      <th>Region</th>\n",
              "      <td>Montana</td>\n",
              "    </tr>\n",
              "    <tr>\n",
              "      <th>state</th>\n",
              "      <td>Montana</td>\n",
              "    </tr>\n",
              "    <tr>\n",
              "      <th>summit_elev</th>\n",
              "      <td>6817</td>\n",
              "    </tr>\n",
              "    <tr>\n",
              "      <th>vertical_drop</th>\n",
              "      <td>2353</td>\n",
              "    </tr>\n",
              "    <tr>\n",
              "      <th>base_elev</th>\n",
              "      <td>4464</td>\n",
              "    </tr>\n",
              "    <tr>\n",
              "      <th>trams</th>\n",
              "      <td>0</td>\n",
              "    </tr>\n",
              "    <tr>\n",
              "      <th>fastEight</th>\n",
              "      <td>0</td>\n",
              "    </tr>\n",
              "    <tr>\n",
              "      <th>fastSixes</th>\n",
              "      <td>0</td>\n",
              "    </tr>\n",
              "    <tr>\n",
              "      <th>fastQuads</th>\n",
              "      <td>3</td>\n",
              "    </tr>\n",
              "    <tr>\n",
              "      <th>quad</th>\n",
              "      <td>2</td>\n",
              "    </tr>\n",
              "    <tr>\n",
              "      <th>triple</th>\n",
              "      <td>6</td>\n",
              "    </tr>\n",
              "    <tr>\n",
              "      <th>double</th>\n",
              "      <td>0</td>\n",
              "    </tr>\n",
              "    <tr>\n",
              "      <th>surface</th>\n",
              "      <td>3</td>\n",
              "    </tr>\n",
              "    <tr>\n",
              "      <th>total_chairs</th>\n",
              "      <td>14</td>\n",
              "    </tr>\n",
              "    <tr>\n",
              "      <th>Runs</th>\n",
              "      <td>105</td>\n",
              "    </tr>\n",
              "    <tr>\n",
              "      <th>TerrainParks</th>\n",
              "      <td>4</td>\n",
              "    </tr>\n",
              "    <tr>\n",
              "      <th>LongestRun_mi</th>\n",
              "      <td>3.3</td>\n",
              "    </tr>\n",
              "    <tr>\n",
              "      <th>SkiableTerrain_ac</th>\n",
              "      <td>3000</td>\n",
              "    </tr>\n",
              "    <tr>\n",
              "      <th>Snow Making_ac</th>\n",
              "      <td>600</td>\n",
              "    </tr>\n",
              "    <tr>\n",
              "      <th>daysOpenLastYear</th>\n",
              "      <td>123</td>\n",
              "    </tr>\n",
              "    <tr>\n",
              "      <th>yearsOpen</th>\n",
              "      <td>72</td>\n",
              "    </tr>\n",
              "    <tr>\n",
              "      <th>averageSnowfall</th>\n",
              "      <td>333</td>\n",
              "    </tr>\n",
              "    <tr>\n",
              "      <th>AdultWeekday</th>\n",
              "      <td>81</td>\n",
              "    </tr>\n",
              "    <tr>\n",
              "      <th>AdultWeekend</th>\n",
              "      <td>81</td>\n",
              "    </tr>\n",
              "    <tr>\n",
              "      <th>projectedDaysOpen</th>\n",
              "      <td>123</td>\n",
              "    </tr>\n",
              "    <tr>\n",
              "      <th>NightSkiing_ac</th>\n",
              "      <td>600</td>\n",
              "    </tr>\n",
              "  </tbody>\n",
              "</table>\n",
              "</div>"
            ],
            "text/plain": [
              "                                   151\n",
              "Name               Big Mountain Resort\n",
              "Region                         Montana\n",
              "state                          Montana\n",
              "summit_elev                       6817\n",
              "vertical_drop                     2353\n",
              "base_elev                         4464\n",
              "trams                                0\n",
              "fastEight                            0\n",
              "fastSixes                            0\n",
              "fastQuads                            3\n",
              "quad                                 2\n",
              "triple                               6\n",
              "double                               0\n",
              "surface                              3\n",
              "total_chairs                        14\n",
              "Runs                               105\n",
              "TerrainParks                         4\n",
              "LongestRun_mi                      3.3\n",
              "SkiableTerrain_ac                 3000\n",
              "Snow Making_ac                     600\n",
              "daysOpenLastYear                   123\n",
              "yearsOpen                           72\n",
              "averageSnowfall                    333\n",
              "AdultWeekday                        81\n",
              "AdultWeekend                        81\n",
              "projectedDaysOpen                  123\n",
              "NightSkiing_ac                     600"
            ]
          },
          "metadata": {
            "tags": []
          },
          "execution_count": 335
        }
      ]
    },
    {
      "cell_type": "markdown",
      "metadata": {
        "id": "B7Je5rbnnyTx"
      },
      "source": [
        "It's good that your resort doesn't appear to have any missing values."
      ]
    },
    {
      "cell_type": "markdown",
      "metadata": {
        "id": "iKgY9d49nyTx"
      },
      "source": [
        "### 2.6.2 Number Of Missing Values By Column<a id='2.6.2_Number_Of_Missing_Values_By_Column'></a>"
      ]
    },
    {
      "cell_type": "markdown",
      "metadata": {
        "id": "mSOhZcvLnyTx"
      },
      "source": [
        "Count the number of missing values in each column and sort them."
      ]
    },
    {
      "cell_type": "code",
      "metadata": {
        "id": "OfgCqTcZnyTy",
        "outputId": "db8b8867-f23e-4502-b8e4-ae29881102eb",
        "colab": {
          "base_uri": "https://localhost:8080/",
          "height": 877
        }
      },
      "source": [
        "#Code task 5#\n",
        "#Count (using `.sum()`) the number of missing values (`.isnull()`) in each column of \n",
        "#ski_data as well as the percentages (using `.mean()` instead of `.sum()`).\n",
        "#Order them (increasing or decreasing) using sort_values\n",
        "#Call `pd.concat` to present these in a single table (DataFrame) with the helpful column names 'count' and '%'\n",
        "missing = pd.DataFrame([ski_data.isnull().sum(), 100 * ski_data.isnull().mean()]).T\n",
        "missing.columns=['Count', '%']\n",
        "missing.sort_values(by=['%'], ascending=False, inplace=True)\n",
        "missing"
      ],
      "execution_count": 336,
      "outputs": [
        {
          "output_type": "execute_result",
          "data": {
            "text/html": [
              "<div>\n",
              "<style scoped>\n",
              "    .dataframe tbody tr th:only-of-type {\n",
              "        vertical-align: middle;\n",
              "    }\n",
              "\n",
              "    .dataframe tbody tr th {\n",
              "        vertical-align: top;\n",
              "    }\n",
              "\n",
              "    .dataframe thead th {\n",
              "        text-align: right;\n",
              "    }\n",
              "</style>\n",
              "<table border=\"1\" class=\"dataframe\">\n",
              "  <thead>\n",
              "    <tr style=\"text-align: right;\">\n",
              "      <th></th>\n",
              "      <th>Count</th>\n",
              "      <th>%</th>\n",
              "    </tr>\n",
              "  </thead>\n",
              "  <tbody>\n",
              "    <tr>\n",
              "      <th>fastEight</th>\n",
              "      <td>166.0</td>\n",
              "      <td>50.303030</td>\n",
              "    </tr>\n",
              "    <tr>\n",
              "      <th>NightSkiing_ac</th>\n",
              "      <td>143.0</td>\n",
              "      <td>43.333333</td>\n",
              "    </tr>\n",
              "    <tr>\n",
              "      <th>AdultWeekday</th>\n",
              "      <td>54.0</td>\n",
              "      <td>16.363636</td>\n",
              "    </tr>\n",
              "    <tr>\n",
              "      <th>AdultWeekend</th>\n",
              "      <td>51.0</td>\n",
              "      <td>15.454545</td>\n",
              "    </tr>\n",
              "    <tr>\n",
              "      <th>daysOpenLastYear</th>\n",
              "      <td>51.0</td>\n",
              "      <td>15.454545</td>\n",
              "    </tr>\n",
              "    <tr>\n",
              "      <th>TerrainParks</th>\n",
              "      <td>51.0</td>\n",
              "      <td>15.454545</td>\n",
              "    </tr>\n",
              "    <tr>\n",
              "      <th>projectedDaysOpen</th>\n",
              "      <td>47.0</td>\n",
              "      <td>14.242424</td>\n",
              "    </tr>\n",
              "    <tr>\n",
              "      <th>Snow Making_ac</th>\n",
              "      <td>46.0</td>\n",
              "      <td>13.939394</td>\n",
              "    </tr>\n",
              "    <tr>\n",
              "      <th>averageSnowfall</th>\n",
              "      <td>14.0</td>\n",
              "      <td>4.242424</td>\n",
              "    </tr>\n",
              "    <tr>\n",
              "      <th>LongestRun_mi</th>\n",
              "      <td>5.0</td>\n",
              "      <td>1.515152</td>\n",
              "    </tr>\n",
              "    <tr>\n",
              "      <th>Runs</th>\n",
              "      <td>4.0</td>\n",
              "      <td>1.212121</td>\n",
              "    </tr>\n",
              "    <tr>\n",
              "      <th>SkiableTerrain_ac</th>\n",
              "      <td>3.0</td>\n",
              "      <td>0.909091</td>\n",
              "    </tr>\n",
              "    <tr>\n",
              "      <th>yearsOpen</th>\n",
              "      <td>1.0</td>\n",
              "      <td>0.303030</td>\n",
              "    </tr>\n",
              "    <tr>\n",
              "      <th>total_chairs</th>\n",
              "      <td>0.0</td>\n",
              "      <td>0.000000</td>\n",
              "    </tr>\n",
              "    <tr>\n",
              "      <th>Name</th>\n",
              "      <td>0.0</td>\n",
              "      <td>0.000000</td>\n",
              "    </tr>\n",
              "    <tr>\n",
              "      <th>Region</th>\n",
              "      <td>0.0</td>\n",
              "      <td>0.000000</td>\n",
              "    </tr>\n",
              "    <tr>\n",
              "      <th>double</th>\n",
              "      <td>0.0</td>\n",
              "      <td>0.000000</td>\n",
              "    </tr>\n",
              "    <tr>\n",
              "      <th>triple</th>\n",
              "      <td>0.0</td>\n",
              "      <td>0.000000</td>\n",
              "    </tr>\n",
              "    <tr>\n",
              "      <th>quad</th>\n",
              "      <td>0.0</td>\n",
              "      <td>0.000000</td>\n",
              "    </tr>\n",
              "    <tr>\n",
              "      <th>fastQuads</th>\n",
              "      <td>0.0</td>\n",
              "      <td>0.000000</td>\n",
              "    </tr>\n",
              "    <tr>\n",
              "      <th>fastSixes</th>\n",
              "      <td>0.0</td>\n",
              "      <td>0.000000</td>\n",
              "    </tr>\n",
              "    <tr>\n",
              "      <th>trams</th>\n",
              "      <td>0.0</td>\n",
              "      <td>0.000000</td>\n",
              "    </tr>\n",
              "    <tr>\n",
              "      <th>base_elev</th>\n",
              "      <td>0.0</td>\n",
              "      <td>0.000000</td>\n",
              "    </tr>\n",
              "    <tr>\n",
              "      <th>vertical_drop</th>\n",
              "      <td>0.0</td>\n",
              "      <td>0.000000</td>\n",
              "    </tr>\n",
              "    <tr>\n",
              "      <th>summit_elev</th>\n",
              "      <td>0.0</td>\n",
              "      <td>0.000000</td>\n",
              "    </tr>\n",
              "    <tr>\n",
              "      <th>state</th>\n",
              "      <td>0.0</td>\n",
              "      <td>0.000000</td>\n",
              "    </tr>\n",
              "    <tr>\n",
              "      <th>surface</th>\n",
              "      <td>0.0</td>\n",
              "      <td>0.000000</td>\n",
              "    </tr>\n",
              "  </tbody>\n",
              "</table>\n",
              "</div>"
            ],
            "text/plain": [
              "                   Count          %\n",
              "fastEight          166.0  50.303030\n",
              "NightSkiing_ac     143.0  43.333333\n",
              "AdultWeekday        54.0  16.363636\n",
              "AdultWeekend        51.0  15.454545\n",
              "daysOpenLastYear    51.0  15.454545\n",
              "TerrainParks        51.0  15.454545\n",
              "projectedDaysOpen   47.0  14.242424\n",
              "Snow Making_ac      46.0  13.939394\n",
              "averageSnowfall     14.0   4.242424\n",
              "LongestRun_mi        5.0   1.515152\n",
              "Runs                 4.0   1.212121\n",
              "SkiableTerrain_ac    3.0   0.909091\n",
              "yearsOpen            1.0   0.303030\n",
              "total_chairs         0.0   0.000000\n",
              "Name                 0.0   0.000000\n",
              "Region               0.0   0.000000\n",
              "double               0.0   0.000000\n",
              "triple               0.0   0.000000\n",
              "quad                 0.0   0.000000\n",
              "fastQuads            0.0   0.000000\n",
              "fastSixes            0.0   0.000000\n",
              "trams                0.0   0.000000\n",
              "base_elev            0.0   0.000000\n",
              "vertical_drop        0.0   0.000000\n",
              "summit_elev          0.0   0.000000\n",
              "state                0.0   0.000000\n",
              "surface              0.0   0.000000"
            ]
          },
          "metadata": {
            "tags": []
          },
          "execution_count": 336
        }
      ]
    },
    {
      "cell_type": "markdown",
      "metadata": {
        "id": "En2gOI5TnyT0"
      },
      "source": [
        "`fastEight` has the most missing values, at just over 50%. Unfortunately, you see you're also missing quite a few of your desired target quantity, the ticket price, which is missing 15-16% of values. `AdultWeekday` is missing in a few more records than `AdultWeekend`. What overlap is there in these missing values? This is a question you'll want to investigate. You should also point out that `isnull()` is not the only indicator of missing data. Sometimes 'missingness' can be encoded, perhaps by a -1 or 999. Such values are typically chosen because they are \"obviously\" not genuine values. If you were capturing data on people's heights and weights but missing someone's height, you could certainly encode that as a 0 because no one has a height of zero (in any units). Yet such entries would not be revealed by `isnull()`. Here, you need a data dictionary and/or to spot such values as part of looking for outliers. Someone with a height of zero should definitely show up as an outlier!"
      ]
    },
    {
      "cell_type": "markdown",
      "metadata": {
        "id": "RbSgqoAHnyT0"
      },
      "source": [
        "### 2.6.3 Categorical Features<a id='2.6.3_Categorical_Features'></a>"
      ]
    },
    {
      "cell_type": "markdown",
      "metadata": {
        "id": "o9irTMGMnyT1"
      },
      "source": [
        "So far you've examined only the numeric features. Now you inspect categorical ones such as resort name and state. These are discrete entities. 'Alaska' is a name. Although names can be sorted alphabetically, it makes no sense to take the average of 'Alaska' and 'Arizona'. Similarly, 'Alaska' is before 'Arizona' only lexicographically; it is neither 'less than' nor 'greater than' 'Arizona'. As such, they tend to require different handling than strictly numeric quantities. Note, a feature _can_ be numeric but also categorical. For example, instead of giving the number of `fastEight` lifts, a feature might be `has_fastEights` and have the value 0 or 1 to denote absence or presence of such a lift. In such a case it would not make sense to take an average of this or perform other mathematical calculations on it. Although you digress a little to make a point, month numbers are also, strictly speaking, categorical features. Yes, when a month is represented by its number (1 for January, 2 for Februrary etc.) it provides a convenient way to graph trends over a year. And, arguably, there is some logical interpretation of the average of 1 and 3 (January and March) being 2 (February). However, clearly December of one years precedes January of the next and yet 12 as a number is not less than 1. The numeric quantities in the section above are truly numeric; they are the number of feet in the drop, or acres or years open or the amount of snowfall etc."
      ]
    },
    {
      "cell_type": "code",
      "metadata": {
        "id": "NWsaDbZAnyT1",
        "outputId": "ee6fceb3-b295-46e6-befa-b1935f77eb61",
        "colab": {
          "base_uri": "https://localhost:8080/",
          "height": 415
        }
      },
      "source": [
        "#Code task 6#\n",
        "#Use ski_data's `select_dtypes` method to select columns of dtype 'object'\n",
        "ski_data.select_dtypes(include=['object'])"
      ],
      "execution_count": 337,
      "outputs": [
        {
          "output_type": "execute_result",
          "data": {
            "text/html": [
              "<div>\n",
              "<style scoped>\n",
              "    .dataframe tbody tr th:only-of-type {\n",
              "        vertical-align: middle;\n",
              "    }\n",
              "\n",
              "    .dataframe tbody tr th {\n",
              "        vertical-align: top;\n",
              "    }\n",
              "\n",
              "    .dataframe thead th {\n",
              "        text-align: right;\n",
              "    }\n",
              "</style>\n",
              "<table border=\"1\" class=\"dataframe\">\n",
              "  <thead>\n",
              "    <tr style=\"text-align: right;\">\n",
              "      <th></th>\n",
              "      <th>Name</th>\n",
              "      <th>Region</th>\n",
              "      <th>state</th>\n",
              "    </tr>\n",
              "  </thead>\n",
              "  <tbody>\n",
              "    <tr>\n",
              "      <th>0</th>\n",
              "      <td>Alyeska Resort</td>\n",
              "      <td>Alaska</td>\n",
              "      <td>Alaska</td>\n",
              "    </tr>\n",
              "    <tr>\n",
              "      <th>1</th>\n",
              "      <td>Eaglecrest Ski Area</td>\n",
              "      <td>Alaska</td>\n",
              "      <td>Alaska</td>\n",
              "    </tr>\n",
              "    <tr>\n",
              "      <th>2</th>\n",
              "      <td>Hilltop Ski Area</td>\n",
              "      <td>Alaska</td>\n",
              "      <td>Alaska</td>\n",
              "    </tr>\n",
              "    <tr>\n",
              "      <th>3</th>\n",
              "      <td>Arizona Snowbowl</td>\n",
              "      <td>Arizona</td>\n",
              "      <td>Arizona</td>\n",
              "    </tr>\n",
              "    <tr>\n",
              "      <th>4</th>\n",
              "      <td>Sunrise Park Resort</td>\n",
              "      <td>Arizona</td>\n",
              "      <td>Arizona</td>\n",
              "    </tr>\n",
              "    <tr>\n",
              "      <th>...</th>\n",
              "      <td>...</td>\n",
              "      <td>...</td>\n",
              "      <td>...</td>\n",
              "    </tr>\n",
              "    <tr>\n",
              "      <th>325</th>\n",
              "      <td>Meadowlark Ski Lodge</td>\n",
              "      <td>Wyoming</td>\n",
              "      <td>Wyoming</td>\n",
              "    </tr>\n",
              "    <tr>\n",
              "      <th>326</th>\n",
              "      <td>Sleeping Giant Ski Resort</td>\n",
              "      <td>Wyoming</td>\n",
              "      <td>Wyoming</td>\n",
              "    </tr>\n",
              "    <tr>\n",
              "      <th>327</th>\n",
              "      <td>Snow King Resort</td>\n",
              "      <td>Wyoming</td>\n",
              "      <td>Wyoming</td>\n",
              "    </tr>\n",
              "    <tr>\n",
              "      <th>328</th>\n",
              "      <td>Snowy Range Ski &amp; Recreation Area</td>\n",
              "      <td>Wyoming</td>\n",
              "      <td>Wyoming</td>\n",
              "    </tr>\n",
              "    <tr>\n",
              "      <th>329</th>\n",
              "      <td>White Pine Ski Area</td>\n",
              "      <td>Wyoming</td>\n",
              "      <td>Wyoming</td>\n",
              "    </tr>\n",
              "  </tbody>\n",
              "</table>\n",
              "<p>330 rows × 3 columns</p>\n",
              "</div>"
            ],
            "text/plain": [
              "                                  Name   Region    state\n",
              "0                       Alyeska Resort   Alaska   Alaska\n",
              "1                  Eaglecrest Ski Area   Alaska   Alaska\n",
              "2                     Hilltop Ski Area   Alaska   Alaska\n",
              "3                     Arizona Snowbowl  Arizona  Arizona\n",
              "4                  Sunrise Park Resort  Arizona  Arizona\n",
              "..                                 ...      ...      ...\n",
              "325               Meadowlark Ski Lodge  Wyoming  Wyoming\n",
              "326          Sleeping Giant Ski Resort  Wyoming  Wyoming\n",
              "327                   Snow King Resort  Wyoming  Wyoming\n",
              "328  Snowy Range Ski & Recreation Area  Wyoming  Wyoming\n",
              "329                White Pine Ski Area  Wyoming  Wyoming\n",
              "\n",
              "[330 rows x 3 columns]"
            ]
          },
          "metadata": {
            "tags": []
          },
          "execution_count": 337
        }
      ]
    },
    {
      "cell_type": "markdown",
      "metadata": {
        "id": "1hSv4u6FnyT3"
      },
      "source": [
        "You saw earlier on that these three columns had no missing values. But are there any other issues with these columns? Sensible questions to ask here include:\n",
        "\n",
        "* Is `Name` (or at least a combination of Name/Region/State) unique?\n",
        "* Is `Region` always the same as `state`?"
      ]
    },
    {
      "cell_type": "markdown",
      "metadata": {
        "id": "jxhr0trgnyT3"
      },
      "source": [
        "#### 2.6.3.1 Unique Resort Names<a id='2.6.3.1_Unique_Resort_Names'></a>"
      ]
    },
    {
      "cell_type": "code",
      "metadata": {
        "id": "0vWkmZsinyT4",
        "outputId": "25bd0fb6-560f-42da-e08f-147e2c32f9f6",
        "colab": {
          "base_uri": "https://localhost:8080/",
          "height": 121
        }
      },
      "source": [
        "#Code task 7#\n",
        "#Use pandas' Series method `value_counts` to find any duplicated resort names\n",
        "ski_data['Name'].value_counts().head()"
      ],
      "execution_count": 338,
      "outputs": [
        {
          "output_type": "execute_result",
          "data": {
            "text/plain": [
              "Crystal Mountain                      2\n",
              "Titus Mountain                        1\n",
              "Montana Snowbowl                      1\n",
              "Norway Mountain                       1\n",
              "Mt. Spokane Ski and Snowboard Park    1\n",
              "Name: Name, dtype: int64"
            ]
          },
          "metadata": {
            "tags": []
          },
          "execution_count": 338
        }
      ]
    },
    {
      "cell_type": "markdown",
      "metadata": {
        "id": "4i-jL_V3nyT7"
      },
      "source": [
        "You have a duplicated resort name: Crystal Mountain."
      ]
    },
    {
      "cell_type": "markdown",
      "metadata": {
        "id": "l9PMkE0FnyT7"
      },
      "source": [
        "**Q: 1** Is this resort duplicated if you take into account Region and/or state as well?"
      ]
    },
    {
      "cell_type": "code",
      "metadata": {
        "id": "P0BpgMApnyT8",
        "outputId": "44aba0ee-2300-4ddf-da0c-610f2cc3981a",
        "colab": {
          "base_uri": "https://localhost:8080/",
          "height": 121
        }
      },
      "source": [
        "#Code task 8#\n",
        "#Concatenate the string columns 'Name' and 'Region' and count the values again (as above)\n",
        "(ski_data['Name'] + ', ' + ski_data['Region']).value_counts().head()"
      ],
      "execution_count": 339,
      "outputs": [
        {
          "output_type": "execute_result",
          "data": {
            "text/plain": [
              "Shawnee Peak, Maine                 1\n",
              "Dodge Ridge, Sierra Nevada          1\n",
              "Mission Ridge, Washington           1\n",
              "Granite Peak Ski Area, Wisconsin    1\n",
              "Alpine Valley Ski Area, Michigan    1\n",
              "dtype: int64"
            ]
          },
          "metadata": {
            "tags": []
          },
          "execution_count": 339
        }
      ]
    },
    {
      "cell_type": "code",
      "metadata": {
        "id": "MqxzMa47nyT-",
        "outputId": "19d3cb01-a184-415c-e19d-049c85733242",
        "colab": {
          "base_uri": "https://localhost:8080/",
          "height": 121
        }
      },
      "source": [
        "#Code task 9#\n",
        "#Concatenate 'Name' and 'state' and count the values again (as above)\n",
        "(ski_data['Name'] + ', ' + ski_data['state']).value_counts().head()"
      ],
      "execution_count": 340,
      "outputs": [
        {
          "output_type": "execute_result",
          "data": {
            "text/plain": [
              "Shawnee Peak, Maine                        1\n",
              "Big Mountain Resort, Montana               1\n",
              "Alpine Valley Ski Area, Michigan           1\n",
              "Camelback Mountain Resort, Pennsylvania    1\n",
              "Brighton Resort, Utah                      1\n",
              "dtype: int64"
            ]
          },
          "metadata": {
            "tags": []
          },
          "execution_count": 340
        }
      ]
    },
    {
      "cell_type": "code",
      "metadata": {
        "id": "jh9JSCk3nyUC"
      },
      "source": [
        "#**NB** because you know `value_counts()` sorts descending, you can use the `head()` method and know the rest of the counts must be 1."
      ],
      "execution_count": 341,
      "outputs": []
    },
    {
      "cell_type": "markdown",
      "metadata": {
        "id": "MdJKZD6dnyUD"
      },
      "source": [
        "**A: 1** Your answer here"
      ]
    },
    {
      "cell_type": "code",
      "metadata": {
        "id": "mMf8vGN7nyUE",
        "outputId": "1f801bdd-5327-461c-b1f9-7f16f465f98e",
        "colab": {
          "base_uri": "https://localhost:8080/",
          "height": 182
        }
      },
      "source": [
        "ski_data[ski_data['Name'] == 'Crystal Mountain']"
      ],
      "execution_count": 342,
      "outputs": [
        {
          "output_type": "execute_result",
          "data": {
            "text/html": [
              "<div>\n",
              "<style scoped>\n",
              "    .dataframe tbody tr th:only-of-type {\n",
              "        vertical-align: middle;\n",
              "    }\n",
              "\n",
              "    .dataframe tbody tr th {\n",
              "        vertical-align: top;\n",
              "    }\n",
              "\n",
              "    .dataframe thead th {\n",
              "        text-align: right;\n",
              "    }\n",
              "</style>\n",
              "<table border=\"1\" class=\"dataframe\">\n",
              "  <thead>\n",
              "    <tr style=\"text-align: right;\">\n",
              "      <th></th>\n",
              "      <th>Name</th>\n",
              "      <th>Region</th>\n",
              "      <th>state</th>\n",
              "      <th>summit_elev</th>\n",
              "      <th>vertical_drop</th>\n",
              "      <th>base_elev</th>\n",
              "      <th>trams</th>\n",
              "      <th>fastEight</th>\n",
              "      <th>fastSixes</th>\n",
              "      <th>fastQuads</th>\n",
              "      <th>quad</th>\n",
              "      <th>triple</th>\n",
              "      <th>double</th>\n",
              "      <th>surface</th>\n",
              "      <th>total_chairs</th>\n",
              "      <th>Runs</th>\n",
              "      <th>TerrainParks</th>\n",
              "      <th>LongestRun_mi</th>\n",
              "      <th>SkiableTerrain_ac</th>\n",
              "      <th>Snow Making_ac</th>\n",
              "      <th>daysOpenLastYear</th>\n",
              "      <th>yearsOpen</th>\n",
              "      <th>averageSnowfall</th>\n",
              "      <th>AdultWeekday</th>\n",
              "      <th>AdultWeekend</th>\n",
              "      <th>projectedDaysOpen</th>\n",
              "      <th>NightSkiing_ac</th>\n",
              "    </tr>\n",
              "  </thead>\n",
              "  <tbody>\n",
              "    <tr>\n",
              "      <th>104</th>\n",
              "      <td>Crystal Mountain</td>\n",
              "      <td>Michigan</td>\n",
              "      <td>Michigan</td>\n",
              "      <td>1132</td>\n",
              "      <td>375</td>\n",
              "      <td>757</td>\n",
              "      <td>0</td>\n",
              "      <td>0.0</td>\n",
              "      <td>0</td>\n",
              "      <td>1</td>\n",
              "      <td>3</td>\n",
              "      <td>2</td>\n",
              "      <td>0</td>\n",
              "      <td>2</td>\n",
              "      <td>8</td>\n",
              "      <td>58.0</td>\n",
              "      <td>3.0</td>\n",
              "      <td>0.3</td>\n",
              "      <td>102.0</td>\n",
              "      <td>96.0</td>\n",
              "      <td>120.0</td>\n",
              "      <td>63.0</td>\n",
              "      <td>132.0</td>\n",
              "      <td>54.0</td>\n",
              "      <td>64.0</td>\n",
              "      <td>135.0</td>\n",
              "      <td>56.0</td>\n",
              "    </tr>\n",
              "    <tr>\n",
              "      <th>295</th>\n",
              "      <td>Crystal Mountain</td>\n",
              "      <td>Washington</td>\n",
              "      <td>Washington</td>\n",
              "      <td>7012</td>\n",
              "      <td>3100</td>\n",
              "      <td>4400</td>\n",
              "      <td>1</td>\n",
              "      <td>NaN</td>\n",
              "      <td>2</td>\n",
              "      <td>2</td>\n",
              "      <td>1</td>\n",
              "      <td>2</td>\n",
              "      <td>2</td>\n",
              "      <td>0</td>\n",
              "      <td>10</td>\n",
              "      <td>57.0</td>\n",
              "      <td>1.0</td>\n",
              "      <td>2.5</td>\n",
              "      <td>2600.0</td>\n",
              "      <td>10.0</td>\n",
              "      <td>NaN</td>\n",
              "      <td>57.0</td>\n",
              "      <td>486.0</td>\n",
              "      <td>99.0</td>\n",
              "      <td>99.0</td>\n",
              "      <td>NaN</td>\n",
              "      <td>NaN</td>\n",
              "    </tr>\n",
              "  </tbody>\n",
              "</table>\n",
              "</div>"
            ],
            "text/plain": [
              "                 Name      Region  ... projectedDaysOpen  NightSkiing_ac\n",
              "104  Crystal Mountain    Michigan  ...             135.0            56.0\n",
              "295  Crystal Mountain  Washington  ...               NaN             NaN\n",
              "\n",
              "[2 rows x 27 columns]"
            ]
          },
          "metadata": {
            "tags": []
          },
          "execution_count": 342
        }
      ]
    },
    {
      "cell_type": "markdown",
      "metadata": {
        "id": "HYo-TSjWnyUH"
      },
      "source": [
        "So there are two Crystal Mountain resorts, but they are clearly two different resorts in two different states. This is a powerful signal that you have unique records on each row."
      ]
    },
    {
      "cell_type": "markdown",
      "metadata": {
        "id": "354sgcPInyUH"
      },
      "source": [
        "#### 2.6.3.2 Region And State<a id='2.6.3.2_Region_And_State'></a>"
      ]
    },
    {
      "cell_type": "markdown",
      "metadata": {
        "id": "4mZd6DwBnyUI"
      },
      "source": [
        "What's the relationship between region and state?"
      ]
    },
    {
      "cell_type": "markdown",
      "metadata": {
        "id": "asKW0ZcjnyUI"
      },
      "source": [
        "You know they are the same in many cases (e.g. both the Region and the state are given as 'Michigan'). In how many cases do they differ?"
      ]
    },
    {
      "cell_type": "code",
      "metadata": {
        "id": "MENcrELfnyUI",
        "outputId": "1fd217ec-b93f-4552-cd7f-96efb184d21a",
        "colab": {
          "base_uri": "https://localhost:8080/",
          "height": 503
        }
      },
      "source": [
        "#Code task 10#\n",
        "#Calculate the number of times Region does not equal state\n",
        "ski_data.where(ski_data['Region'] != ski_data['state']).count()"
      ],
      "execution_count": 343,
      "outputs": [
        {
          "output_type": "execute_result",
          "data": {
            "text/plain": [
              "Name                 33\n",
              "Region               33\n",
              "state                33\n",
              "summit_elev          33\n",
              "vertical_drop        33\n",
              "base_elev            33\n",
              "trams                33\n",
              "fastEight            21\n",
              "fastSixes            33\n",
              "fastQuads            33\n",
              "quad                 33\n",
              "triple               33\n",
              "double               33\n",
              "surface              33\n",
              "total_chairs         33\n",
              "Runs                 33\n",
              "TerrainParks         27\n",
              "LongestRun_mi        33\n",
              "SkiableTerrain_ac    33\n",
              "Snow Making_ac       25\n",
              "daysOpenLastYear     29\n",
              "yearsOpen            33\n",
              "averageSnowfall      33\n",
              "AdultWeekday         23\n",
              "AdultWeekend         21\n",
              "projectedDaysOpen    31\n",
              "NightSkiing_ac        9\n",
              "dtype: int64"
            ]
          },
          "metadata": {
            "tags": []
          },
          "execution_count": 343
        }
      ]
    },
    {
      "cell_type": "markdown",
      "metadata": {
        "id": "aw1uOAYPnyUK"
      },
      "source": [
        "You know what a state is. What is a region? You can tabulate the distinct values along with their respective frequencies using `value_counts()`."
      ]
    },
    {
      "cell_type": "code",
      "metadata": {
        "id": "wbAteL7SnyUL",
        "outputId": "f9b5004f-1ebd-4b21-a67f-923ea009fdf8",
        "colab": {
          "base_uri": "https://localhost:8080/",
          "height": 693
        }
      },
      "source": [
        "ski_data['Region'].value_counts()"
      ],
      "execution_count": 344,
      "outputs": [
        {
          "output_type": "execute_result",
          "data": {
            "text/plain": [
              "New York               33\n",
              "Michigan               29\n",
              "Colorado               22\n",
              "Sierra Nevada          22\n",
              "Pennsylvania           19\n",
              "Wisconsin              16\n",
              "New Hampshire          16\n",
              "Vermont                15\n",
              "Minnesota              14\n",
              "Montana                12\n",
              "Idaho                  12\n",
              "Massachusetts          11\n",
              "Washington             10\n",
              "Maine                   9\n",
              "New Mexico              9\n",
              "Wyoming                 8\n",
              "Utah                    7\n",
              "North Carolina          6\n",
              "Oregon                  6\n",
              "Salt Lake City          6\n",
              "Connecticut             5\n",
              "Ohio                    5\n",
              "Mt. Hood                4\n",
              "West Virginia           4\n",
              "Virginia                4\n",
              "Illinois                4\n",
              "Alaska                  3\n",
              "Iowa                    3\n",
              "Arizona                 2\n",
              "New Jersey              2\n",
              "Nevada                  2\n",
              "Indiana                 2\n",
              "Missouri                2\n",
              "South Dakota            2\n",
              "Maryland                1\n",
              "Rhode Island            1\n",
              "Tennessee               1\n",
              "Northern California     1\n",
              "Name: Region, dtype: int64"
            ]
          },
          "metadata": {
            "tags": []
          },
          "execution_count": 344
        }
      ]
    },
    {
      "cell_type": "markdown",
      "metadata": {
        "id": "UbFk-66DnyUN"
      },
      "source": [
        "A casual inspection by eye reveals some non-state names such as Sierra Nevada, Salt Lake City, and Northern California. Tabulate the differences between Region and state. On a note regarding scaling to larger data sets, you might wonder how you could spot such cases when presented with millions of rows. This is an interesting point. Imagine you have access to a database with a Region and state column in a table and there are millions of rows. You wouldn't eyeball all the rows looking for differences! Bear in mind that our first interest lies in establishing the answer to the question \"Are they always the same?\" One approach might be to ask the database to return records where they differ, but limit the output to 10 rows. If there were differences, you'd only get up to 10 results, and so you wouldn't know whether you'd located all differences, but you'd know that there were 'a nonzero number' of differences. If you got an empty result set back, then you would know that the two columns always had the same value. At the risk of digressing, some values in one column only might be NULL (missing) and different databases treat NULL differently, so be aware that on many an occasion a seamingly 'simple' question gets very interesting to answer very quickly!"
      ]
    },
    {
      "cell_type": "code",
      "metadata": {
        "id": "J02XaR_xnyUN",
        "outputId": "6ae03cfe-922b-4916-9b6b-f620894bcac8",
        "colab": {
          "base_uri": "https://localhost:8080/",
          "height": 139
        }
      },
      "source": [
        "#Code task 11#\n",
        "#Filter the ski_data dataframe for rows where 'Region' and 'state' are different,\n",
        "#group that by 'state' and perform `value_counts` on the 'Region'\n",
        "(ski_data[ski_data['Region'] != ski_data['state']]\n",
        " .groupby('state')['Region']\n",
        " .value_counts())"
      ],
      "execution_count": 345,
      "outputs": [
        {
          "output_type": "execute_result",
          "data": {
            "text/plain": [
              "state       Region             \n",
              "California  Sierra Nevada          20\n",
              "            Northern California     1\n",
              "Nevada      Sierra Nevada           2\n",
              "Oregon      Mt. Hood                4\n",
              "Utah        Salt Lake City          6\n",
              "Name: Region, dtype: int64"
            ]
          },
          "metadata": {
            "tags": []
          },
          "execution_count": 345
        }
      ]
    },
    {
      "cell_type": "markdown",
      "metadata": {
        "id": "BeOTblrPnyUP"
      },
      "source": [
        "The vast majority of the differences are in California, with most Regions being called Sierra Nevada and just one referred to as Northern California."
      ]
    },
    {
      "cell_type": "markdown",
      "metadata": {
        "id": "T7yU-VrznyUP"
      },
      "source": [
        "#### 2.6.3.3 Number of distinct regions and states<a id='2.6.3.3_Number_of_distinct_regions_and_states'></a>"
      ]
    },
    {
      "cell_type": "code",
      "metadata": {
        "id": "ybEh2vkRnyUQ",
        "outputId": "40124c03-72df-4d26-ed79-c010b2a20641",
        "colab": {
          "base_uri": "https://localhost:8080/",
          "height": 69
        }
      },
      "source": [
        "#Code task 12#\n",
        "#Select the 'Region' and 'state' columns from ski_data and use the `nunique` method to calculate\n",
        "#the number of unique values in each\n",
        "ski_data[['Region', 'state']].nunique()"
      ],
      "execution_count": 346,
      "outputs": [
        {
          "output_type": "execute_result",
          "data": {
            "text/plain": [
              "Region    38\n",
              "state     35\n",
              "dtype: int64"
            ]
          },
          "metadata": {
            "tags": []
          },
          "execution_count": 346
        }
      ]
    },
    {
      "cell_type": "markdown",
      "metadata": {
        "id": "Ls4Yr7e8nyUS"
      },
      "source": [
        "Because a few states are split across multiple named regions, there are slightly more unique regions than states."
      ]
    },
    {
      "cell_type": "markdown",
      "metadata": {
        "id": "_p5XwWounyUS"
      },
      "source": [
        "#### 2.6.3.4 Distribution Of Resorts By Region And State<a id='2.6.3.4_Distribution_Of_Resorts_By_Region_And_State'></a>"
      ]
    },
    {
      "cell_type": "markdown",
      "metadata": {
        "id": "hq2Vpmb3nyUS"
      },
      "source": [
        "If this is your first time using [matplotlib](https://matplotlib.org/3.2.2/index.html)'s [subplots](https://matplotlib.org/3.2.2/api/_as_gen/matplotlib.pyplot.subplots.html), you may find the online documentation useful."
      ]
    },
    {
      "cell_type": "code",
      "metadata": {
        "id": "oMQbYXzlnyUT",
        "outputId": "d78dfc70-7a21-42a1-ffec-855a71009017",
        "colab": {
          "base_uri": "https://localhost:8080/",
          "height": 513
        }
      },
      "source": [
        "#Code task 13#\n",
        "#Create two subplots on 1 row and 2 columns with a figsize of (12, 8)\n",
        "fig, ax = plt.subplots(1, 2, figsize=(12, 8))\n",
        "#Specify a horizontal barplot ('barh') as kind of plot (kind=)\n",
        "ski_data.Region.value_counts().plot(kind='barh', ax=ax[0])\n",
        "#Give the plot a helpful title of 'Region'\n",
        "ax[0].set_title('Region')\n",
        "#Label the xaxis 'Count'\n",
        "ax[0].set_xlabel('Count')\n",
        "#Specify a horizontal barplot ('barh') as kind of plot (kind=)\n",
        "ski_data.state.value_counts().plot(kind='barh', ax=ax[1])\n",
        "#Give the plot a helpful title of 'state'\n",
        "ax[1].set_title('state')\n",
        "#Label the xaxis 'Count'\n",
        "ax[1].set_xlabel('Count')\n",
        "#Give the subplots a little \"breathing room\" with a wspace of 0.5\n",
        "plt.subplots_adjust(wspace=0.5);\n",
        "#You're encouraged to explore a few different figure sizes, orientations, and spacing here\n",
        "# as the importance of easy-to-read and informative figures is frequently understated\n",
        "# and you will find the ability to tweak figures invaluable later on"
      ],
      "execution_count": 347,
      "outputs": [
        {
          "output_type": "display_data",
          "data": {
            "image/png": "[encoded data removed]",
            "text/plain": [
              "<Figure size 864x576 with 2 Axes>"
            ]
          },
          "metadata": {
            "tags": [],
            "needs_background": "light"
          }
        }
      ]
    },
    {
      "cell_type": "markdown",
      "metadata": {
        "id": "cQaWFyBinyUW"
      },
      "source": [
        "How's your geography? Looking at the distribution of States, you see New York accounting for the majority of resorts. Our target resort is in Montana, which comes in at 13th place. You should think carefully about how, or whether, you use this information. Does New York command a premium because of its proximity to population? Even if a resort's State were a useful predictor of ticket price, your main interest lies in Montana. Would you want a model that is skewed for accuracy by New York? Should you just filter for Montana and create a Montana-specific model? This would slash your available data volume. Your problem task includes the contextual insight that the data are for resorts all belonging to the same market share. This suggests one might expect prices to be similar amongst them. You can look into this. A boxplot grouped by State is an ideal way to quickly compare prices. Another side note worth bringing up here is that, in reality, the best approach here definitely would include consulting with the client or other domain expert. They might know of good reasons for treating states equivalently or differently. The data scientist is rarely the final arbiter of such a decision. But here, you'll see if we can find any supporting evidence for treating states the same or differently."
      ]
    },
    {
      "cell_type": "markdown",
      "metadata": {
        "id": "8baJ0EeRnyUW"
      },
      "source": [
        "#### 2.6.3.5 Distribution Of Ticket Price By State<a id='2.6.3.5_Distribution_Of_Ticket_Price_By_State'></a>"
      ]
    },
    {
      "cell_type": "markdown",
      "metadata": {
        "id": "49Nn9uClnyUX"
      },
      "source": [
        "Our primary focus is our Big Mountain resort, in Montana. Does the state give you any clues to help decide what your primary target response feature should be (weekend or weekday ticket prices)?"
      ]
    },
    {
      "cell_type": "markdown",
      "metadata": {
        "id": "P26IkSZTnyUX"
      },
      "source": [
        "##### 2.6.3.5.1 Average weekend and weekday price by state<a id='2.6.3.5.1_Average_weekend_and_weekday_price_by_state'></a>"
      ]
    },
    {
      "cell_type": "code",
      "metadata": {
        "id": "2N7k4gjEnyUY",
        "outputId": "a647e363-f64a-4a21-efa7-ef6b929cf398",
        "colab": {
          "base_uri": "https://localhost:8080/",
          "height": 233
        }
      },
      "source": [
        "#Code task 14#\n",
        "# Calculate average weekday and weekend price by state and sort by the average of the two\n",
        "# Hint: use the pattern dataframe.groupby(<grouping variable>)[<list of columns>].mean()\n",
        "state_price_means = ski_data.groupby('state')[['AdultWeekday', 'AdultWeekend']].mean().round(2)\n",
        "state_price_means.head()"
      ],
      "execution_count": 348,
      "outputs": [
        {
          "output_type": "execute_result",
          "data": {
            "text/html": [
              "<div>\n",
              "<style scoped>\n",
              "    .dataframe tbody tr th:only-of-type {\n",
              "        vertical-align: middle;\n",
              "    }\n",
              "\n",
              "    .dataframe tbody tr th {\n",
              "        vertical-align: top;\n",
              "    }\n",
              "\n",
              "    .dataframe thead th {\n",
              "        text-align: right;\n",
              "    }\n",
              "</style>\n",
              "<table border=\"1\" class=\"dataframe\">\n",
              "  <thead>\n",
              "    <tr style=\"text-align: right;\">\n",
              "      <th></th>\n",
              "      <th>AdultWeekday</th>\n",
              "      <th>AdultWeekend</th>\n",
              "    </tr>\n",
              "    <tr>\n",
              "      <th>state</th>\n",
              "      <th></th>\n",
              "      <th></th>\n",
              "    </tr>\n",
              "  </thead>\n",
              "  <tbody>\n",
              "    <tr>\n",
              "      <th>Alaska</th>\n",
              "      <td>47.33</td>\n",
              "      <td>57.33</td>\n",
              "    </tr>\n",
              "    <tr>\n",
              "      <th>Arizona</th>\n",
              "      <td>81.50</td>\n",
              "      <td>83.50</td>\n",
              "    </tr>\n",
              "    <tr>\n",
              "      <th>California</th>\n",
              "      <td>78.21</td>\n",
              "      <td>81.42</td>\n",
              "    </tr>\n",
              "    <tr>\n",
              "      <th>Colorado</th>\n",
              "      <td>90.71</td>\n",
              "      <td>90.71</td>\n",
              "    </tr>\n",
              "    <tr>\n",
              "      <th>Connecticut</th>\n",
              "      <td>47.80</td>\n",
              "      <td>56.80</td>\n",
              "    </tr>\n",
              "  </tbody>\n",
              "</table>\n",
              "</div>"
            ],
            "text/plain": [
              "             AdultWeekday  AdultWeekend\n",
              "state                                  \n",
              "Alaska              47.33         57.33\n",
              "Arizona             81.50         83.50\n",
              "California          78.21         81.42\n",
              "Colorado            90.71         90.71\n",
              "Connecticut         47.80         56.80"
            ]
          },
          "metadata": {
            "tags": []
          },
          "execution_count": 348
        }
      ]
    },
    {
      "cell_type": "code",
      "metadata": {
        "id": "U1YrleQBnyUb",
        "outputId": "50e7bd9d-155a-4bce-bcce-53dd83157896",
        "colab": {
          "base_uri": "https://localhost:8080/",
          "height": 621
        }
      },
      "source": [
        "# The next bit simply reorders the index by increasing average of weekday and weekend prices\n",
        "# Compare the index order you get from\n",
        "# state_price_means.index\n",
        "# with\n",
        "# state_price_means.mean(axis=1).sort_values(ascending=False).index\n",
        "# See how this expression simply sits within the reindex()\n",
        "(state_price_means.reindex(index=state_price_means.mean(axis=1)\n",
        "    .sort_values(ascending=False)\n",
        "    .index)\n",
        "    .plot(kind='barh', figsize=(10, 10), title='Average ticket price by State'))\n",
        "plt.xlabel('Price ($)');"
      ],
      "execution_count": 349,
      "outputs": [
        {
          "output_type": "display_data",
          "data": {
            "image/png": "[encoded data removed]",
            "text/plain": [
              "<Figure size 720x720 with 1 Axes>"
            ]
          },
          "metadata": {
            "tags": [],
            "needs_background": "light"
          }
        }
      ]
    },
    {
      "cell_type": "code",
      "metadata": {
        "id": "WsMcH705nyUd",
        "outputId": "0b0a63e9-fab0-44e8-9bb6-001ef519e553",
        "colab": {
          "base_uri": "https://localhost:8080/",
          "height": 35
        }
      },
      "source": [
        "The figure above represents a dataframe with two columns, one for the average prices of each kind of ticket. This tells you how the average ticket price varies from state to state. But can you get more insight into the difference in the distributions between states?"
      ],
      "execution_count": 350,
      "outputs": [
        {
          "output_type": "stream",
          "text": [
            "Object `states` not found.\n"
          ],
          "name": "stdout"
        }
      ]
    },
    {
      "cell_type": "markdown",
      "metadata": {
        "id": "X0ts81QJnyUf"
      },
      "source": [
        "##### 2.6.3.5.2 Distribution of weekday and weekend price by state<a id='2.6.3.5.2_Distribution_of_weekday_and_weekend_price_by_state'></a>"
      ]
    },
    {
      "cell_type": "markdown",
      "metadata": {
        "id": "RTIKi7FinyUg"
      },
      "source": [
        "Next, you can transform the data into a single column for price with a new categorical column that represents the ticket type."
      ]
    },
    {
      "cell_type": "code",
      "metadata": {
        "id": "5Nn6B-MPnyUg"
      },
      "source": [
        "#Code task 15#\n",
        "#Use the pd.melt function, pass in the ski_data columns 'state', 'AdultWeekday', and 'Adultweekend' only,\n",
        "#specify 'state' for `id_vars`\n",
        "#gather the ticket prices from the 'Adultweekday' and 'AdultWeekend' columns using the `value_vars` argument,\n",
        "#call the resultant price column 'Price' via the `value_name` argument,\n",
        "#name the weekday/weekend indicator column 'Ticket' via the `var_name` argument\n",
        "\n",
        "#made changes to the question, so that Ticket would be showing \"type of ticket\", and Price the pricing value\n",
        "ticket_prices = pd.melt(ski_data[['state', 'AdultWeekday', 'AdultWeekend']], \n",
        "                        id_vars='state', \n",
        "                        var_name='Ticket', \n",
        "                        value_vars=['AdultWeekday', 'AdultWeekend'], \n",
        "                        value_name='Price')"
      ],
      "execution_count": 351,
      "outputs": []
    },
    {
      "cell_type": "code",
      "metadata": {
        "id": "uuvMdryBnyUj",
        "outputId": "3ab0abde-d50b-4345-9ff1-86f5e545c49a",
        "colab": {
          "base_uri": "https://localhost:8080/",
          "height": 202
        }
      },
      "source": [
        "ticket_prices.head()"
      ],
      "execution_count": 352,
      "outputs": [
        {
          "output_type": "execute_result",
          "data": {
            "text/html": [
              "<div>\n",
              "<style scoped>\n",
              "    .dataframe tbody tr th:only-of-type {\n",
              "        vertical-align: middle;\n",
              "    }\n",
              "\n",
              "    .dataframe tbody tr th {\n",
              "        vertical-align: top;\n",
              "    }\n",
              "\n",
              "    .dataframe thead th {\n",
              "        text-align: right;\n",
              "    }\n",
              "</style>\n",
              "<table border=\"1\" class=\"dataframe\">\n",
              "  <thead>\n",
              "    <tr style=\"text-align: right;\">\n",
              "      <th></th>\n",
              "      <th>state</th>\n",
              "      <th>Ticket</th>\n",
              "      <th>Price</th>\n",
              "    </tr>\n",
              "  </thead>\n",
              "  <tbody>\n",
              "    <tr>\n",
              "      <th>0</th>\n",
              "      <td>Alaska</td>\n",
              "      <td>AdultWeekday</td>\n",
              "      <td>65.0</td>\n",
              "    </tr>\n",
              "    <tr>\n",
              "      <th>1</th>\n",
              "      <td>Alaska</td>\n",
              "      <td>AdultWeekday</td>\n",
              "      <td>47.0</td>\n",
              "    </tr>\n",
              "    <tr>\n",
              "      <th>2</th>\n",
              "      <td>Alaska</td>\n",
              "      <td>AdultWeekday</td>\n",
              "      <td>30.0</td>\n",
              "    </tr>\n",
              "    <tr>\n",
              "      <th>3</th>\n",
              "      <td>Arizona</td>\n",
              "      <td>AdultWeekday</td>\n",
              "      <td>89.0</td>\n",
              "    </tr>\n",
              "    <tr>\n",
              "      <th>4</th>\n",
              "      <td>Arizona</td>\n",
              "      <td>AdultWeekday</td>\n",
              "      <td>74.0</td>\n",
              "    </tr>\n",
              "  </tbody>\n",
              "</table>\n",
              "</div>"
            ],
            "text/plain": [
              "     state        Ticket  Price\n",
              "0   Alaska  AdultWeekday   65.0\n",
              "1   Alaska  AdultWeekday   47.0\n",
              "2   Alaska  AdultWeekday   30.0\n",
              "3  Arizona  AdultWeekday   89.0\n",
              "4  Arizona  AdultWeekday   74.0"
            ]
          },
          "metadata": {
            "tags": []
          },
          "execution_count": 352
        }
      ]
    },
    {
      "cell_type": "code",
      "metadata": {
        "id": "ECyNrZR3nlB0",
        "outputId": "8a307d33-677f-4a3e-9144-bd8a22ba6f50",
        "colab": {
          "base_uri": "https://localhost:8080/",
          "height": 191
        }
      },
      "source": [
        "ticket_prices.info()"
      ],
      "execution_count": 353,
      "outputs": [
        {
          "output_type": "stream",
          "text": [
            "<class 'pandas.core.frame.DataFrame'>\n",
            "RangeIndex: 660 entries, 0 to 659\n",
            "Data columns (total 3 columns):\n",
            " #   Column  Non-Null Count  Dtype  \n",
            "---  ------  --------------  -----  \n",
            " 0   state   660 non-null    object \n",
            " 1   Ticket  660 non-null    object \n",
            " 2   Price   555 non-null    float64\n",
            "dtypes: float64(1), object(2)\n",
            "memory usage: 15.6+ KB\n"
          ],
          "name": "stdout"
        }
      ]
    },
    {
      "cell_type": "markdown",
      "metadata": {
        "id": "1suAsf8lnyUl"
      },
      "source": [
        "This is now in a format we can pass to [seaborn](https://seaborn.pydata.org/)'s [boxplot](https://seaborn.pydata.org/generated/seaborn.boxplot.html) function to create boxplots of the ticket price distributions for each ticket type for each state."
      ]
    },
    {
      "cell_type": "code",
      "metadata": {
        "id": "YIrEPcJ_nyUl",
        "outputId": "9c4d4ae7-262a-4d0a-abcc-74dcfde52705",
        "colab": {
          "base_uri": "https://localhost:8080/",
          "height": 566
        }
      },
      "source": [
        "#Code task 16#\n",
        "#Create a seaborn boxplot of the ticket price dataframe we created above,\n",
        "#with 'state' on the x-axis, 'Price' as the y-value, and a hue that indicates 'Ticket'\n",
        "#This will use boxplot's x, y, hue, and data arguments.\n",
        "plt.subplots(figsize=(18, 8))\n",
        "sns.boxplot(x='state', y='Price', hue='Ticket', data=ticket_prices)\n",
        "plt.xticks(rotation='vertical')\n",
        "plt.ylabel('Price ($)')\n",
        "plt.xlabel('State');"
      ],
      "execution_count": 354,
      "outputs": [
        {
          "output_type": "display_data",
          "data": {
            "image/png": "[encoded data removed]",
            "text/plain": [
              "<Figure size 1296x576 with 1 Axes>"
            ]
          },
          "metadata": {
            "tags": [],
            "needs_background": "light"
          }
        }
      ]
    },
    {
      "cell_type": "markdown",
      "metadata": {
        "id": "2xg0LZwdnyUn"
      },
      "source": [
        "Aside from some relatively expensive ticket prices in California, Colorado, and Utah, most prices appear to lie in a broad band from around 25 to over 100 dollars. Some States show more variability than others. Montana and South Dakota, for example, both show fairly small variability as well as matching weekend and weekday ticket prices. Nevada and Utah, on the other hand, show the most range in prices. Some States, notably North Carolina and Virginia, have weekend prices far higher than weekday prices. You could be inspired from this exploration to consider a few potential groupings of resorts, those with low spread, those with lower averages, and those that charge a premium for weekend tickets. However, you're told that you are taking all resorts to be part of the same market share, you  could argue against further segment the resorts. Nevertheless, ways to consider using the State information in your modelling include:\n",
        "\n",
        "* disregard State completely\n",
        "* retain all State information\n",
        "* retain State in the form of Montana vs not Montana, as our target resort is in Montana\n",
        "\n",
        "You've also noted another effect above: some States show a marked difference between weekday and weekend ticket prices. It may make sense to allow a model to take into account not just State but also weekend vs weekday."
      ]
    },
    {
      "cell_type": "markdown",
      "metadata": {
        "id": "sPjsxAXHnyUn"
      },
      "source": [
        "Thus we currently have two main questions you want to resolve:\n",
        "\n",
        "* What do you do about the two types of ticket price?\n",
        "* What do you do about the state information?"
      ]
    },
    {
      "cell_type": "markdown",
      "metadata": {
        "id": "j_DWttrBnyUo"
      },
      "source": [
        "### 2.6.4 Numeric Features<a id='2.6.4_Numeric_Features'></a>"
      ]
    },
    {
      "cell_type": "code",
      "metadata": {
        "id": "4_wDqcTHnyUo"
      },
      "source": [
        "#Having decided to reserve judgement on how exactly you utilize the State, turn your attention to cleaning the numeric features."
      ],
      "execution_count": 355,
      "outputs": []
    },
    {
      "cell_type": "markdown",
      "metadata": {
        "id": "6uelb56BnyUq"
      },
      "source": [
        "#### 2.6.4.1 Numeric data summary<a id='2.6.4.1_Numeric_data_summary'></a>"
      ]
    },
    {
      "cell_type": "code",
      "metadata": {
        "id": "cjw8eiMInyUq",
        "outputId": "70477b18-fb34-4667-ca2b-5ce962ab0068",
        "colab": {
          "base_uri": "https://localhost:8080/",
          "height": 785
        }
      },
      "source": [
        "#Code task 17#\n",
        "#Call ski_data's `describe` method for a statistical summary of the numerical columns\n",
        "#Hint: there are fewer summary stat columns than features, so displaying the transpose\n",
        "#will be useful again\n",
        "ski_data.describe().T"
      ],
      "execution_count": 356,
      "outputs": [
        {
          "output_type": "execute_result",
          "data": {
            "text/html": [
              "<div>\n",
              "<style scoped>\n",
              "    .dataframe tbody tr th:only-of-type {\n",
              "        vertical-align: middle;\n",
              "    }\n",
              "\n",
              "    .dataframe tbody tr th {\n",
              "        vertical-align: top;\n",
              "    }\n",
              "\n",
              "    .dataframe thead th {\n",
              "        text-align: right;\n",
              "    }\n",
              "</style>\n",
              "<table border=\"1\" class=\"dataframe\">\n",
              "  <thead>\n",
              "    <tr style=\"text-align: right;\">\n",
              "      <th></th>\n",
              "      <th>count</th>\n",
              "      <th>mean</th>\n",
              "      <th>std</th>\n",
              "      <th>min</th>\n",
              "      <th>25%</th>\n",
              "      <th>50%</th>\n",
              "      <th>75%</th>\n",
              "      <th>max</th>\n",
              "    </tr>\n",
              "  </thead>\n",
              "  <tbody>\n",
              "    <tr>\n",
              "      <th>summit_elev</th>\n",
              "      <td>330.0</td>\n",
              "      <td>4591.818182</td>\n",
              "      <td>3735.535934</td>\n",
              "      <td>315.0</td>\n",
              "      <td>1403.75</td>\n",
              "      <td>3127.5</td>\n",
              "      <td>7806.00</td>\n",
              "      <td>13487.0</td>\n",
              "    </tr>\n",
              "    <tr>\n",
              "      <th>vertical_drop</th>\n",
              "      <td>330.0</td>\n",
              "      <td>1215.427273</td>\n",
              "      <td>947.864557</td>\n",
              "      <td>60.0</td>\n",
              "      <td>461.25</td>\n",
              "      <td>964.5</td>\n",
              "      <td>1800.00</td>\n",
              "      <td>4425.0</td>\n",
              "    </tr>\n",
              "    <tr>\n",
              "      <th>base_elev</th>\n",
              "      <td>330.0</td>\n",
              "      <td>3374.000000</td>\n",
              "      <td>3117.121621</td>\n",
              "      <td>70.0</td>\n",
              "      <td>869.00</td>\n",
              "      <td>1561.5</td>\n",
              "      <td>6325.25</td>\n",
              "      <td>10800.0</td>\n",
              "    </tr>\n",
              "    <tr>\n",
              "      <th>trams</th>\n",
              "      <td>330.0</td>\n",
              "      <td>0.172727</td>\n",
              "      <td>0.559946</td>\n",
              "      <td>0.0</td>\n",
              "      <td>0.00</td>\n",
              "      <td>0.0</td>\n",
              "      <td>0.00</td>\n",
              "      <td>4.0</td>\n",
              "    </tr>\n",
              "    <tr>\n",
              "      <th>fastEight</th>\n",
              "      <td>164.0</td>\n",
              "      <td>0.006098</td>\n",
              "      <td>0.078087</td>\n",
              "      <td>0.0</td>\n",
              "      <td>0.00</td>\n",
              "      <td>0.0</td>\n",
              "      <td>0.00</td>\n",
              "      <td>1.0</td>\n",
              "    </tr>\n",
              "    <tr>\n",
              "      <th>fastSixes</th>\n",
              "      <td>330.0</td>\n",
              "      <td>0.184848</td>\n",
              "      <td>0.651685</td>\n",
              "      <td>0.0</td>\n",
              "      <td>0.00</td>\n",
              "      <td>0.0</td>\n",
              "      <td>0.00</td>\n",
              "      <td>6.0</td>\n",
              "    </tr>\n",
              "    <tr>\n",
              "      <th>fastQuads</th>\n",
              "      <td>330.0</td>\n",
              "      <td>1.018182</td>\n",
              "      <td>2.198294</td>\n",
              "      <td>0.0</td>\n",
              "      <td>0.00</td>\n",
              "      <td>0.0</td>\n",
              "      <td>1.00</td>\n",
              "      <td>15.0</td>\n",
              "    </tr>\n",
              "    <tr>\n",
              "      <th>quad</th>\n",
              "      <td>330.0</td>\n",
              "      <td>0.933333</td>\n",
              "      <td>1.312245</td>\n",
              "      <td>0.0</td>\n",
              "      <td>0.00</td>\n",
              "      <td>0.0</td>\n",
              "      <td>1.00</td>\n",
              "      <td>8.0</td>\n",
              "    </tr>\n",
              "    <tr>\n",
              "      <th>triple</th>\n",
              "      <td>330.0</td>\n",
              "      <td>1.500000</td>\n",
              "      <td>1.619130</td>\n",
              "      <td>0.0</td>\n",
              "      <td>0.00</td>\n",
              "      <td>1.0</td>\n",
              "      <td>2.00</td>\n",
              "      <td>8.0</td>\n",
              "    </tr>\n",
              "    <tr>\n",
              "      <th>double</th>\n",
              "      <td>330.0</td>\n",
              "      <td>1.833333</td>\n",
              "      <td>1.815028</td>\n",
              "      <td>0.0</td>\n",
              "      <td>1.00</td>\n",
              "      <td>1.0</td>\n",
              "      <td>3.00</td>\n",
              "      <td>14.0</td>\n",
              "    </tr>\n",
              "    <tr>\n",
              "      <th>surface</th>\n",
              "      <td>330.0</td>\n",
              "      <td>2.621212</td>\n",
              "      <td>2.059636</td>\n",
              "      <td>0.0</td>\n",
              "      <td>1.00</td>\n",
              "      <td>2.0</td>\n",
              "      <td>3.00</td>\n",
              "      <td>15.0</td>\n",
              "    </tr>\n",
              "    <tr>\n",
              "      <th>total_chairs</th>\n",
              "      <td>330.0</td>\n",
              "      <td>8.266667</td>\n",
              "      <td>5.798683</td>\n",
              "      <td>0.0</td>\n",
              "      <td>5.00</td>\n",
              "      <td>7.0</td>\n",
              "      <td>10.00</td>\n",
              "      <td>41.0</td>\n",
              "    </tr>\n",
              "    <tr>\n",
              "      <th>Runs</th>\n",
              "      <td>326.0</td>\n",
              "      <td>48.214724</td>\n",
              "      <td>46.364077</td>\n",
              "      <td>3.0</td>\n",
              "      <td>19.00</td>\n",
              "      <td>33.0</td>\n",
              "      <td>60.00</td>\n",
              "      <td>341.0</td>\n",
              "    </tr>\n",
              "    <tr>\n",
              "      <th>TerrainParks</th>\n",
              "      <td>279.0</td>\n",
              "      <td>2.820789</td>\n",
              "      <td>2.008113</td>\n",
              "      <td>1.0</td>\n",
              "      <td>1.00</td>\n",
              "      <td>2.0</td>\n",
              "      <td>4.00</td>\n",
              "      <td>14.0</td>\n",
              "    </tr>\n",
              "    <tr>\n",
              "      <th>LongestRun_mi</th>\n",
              "      <td>325.0</td>\n",
              "      <td>1.433231</td>\n",
              "      <td>1.156171</td>\n",
              "      <td>0.0</td>\n",
              "      <td>0.50</td>\n",
              "      <td>1.0</td>\n",
              "      <td>2.00</td>\n",
              "      <td>6.0</td>\n",
              "    </tr>\n",
              "    <tr>\n",
              "      <th>SkiableTerrain_ac</th>\n",
              "      <td>327.0</td>\n",
              "      <td>739.801223</td>\n",
              "      <td>1816.167441</td>\n",
              "      <td>8.0</td>\n",
              "      <td>85.00</td>\n",
              "      <td>200.0</td>\n",
              "      <td>690.00</td>\n",
              "      <td>26819.0</td>\n",
              "    </tr>\n",
              "    <tr>\n",
              "      <th>Snow Making_ac</th>\n",
              "      <td>284.0</td>\n",
              "      <td>174.873239</td>\n",
              "      <td>261.336125</td>\n",
              "      <td>2.0</td>\n",
              "      <td>50.00</td>\n",
              "      <td>100.0</td>\n",
              "      <td>200.50</td>\n",
              "      <td>3379.0</td>\n",
              "    </tr>\n",
              "    <tr>\n",
              "      <th>daysOpenLastYear</th>\n",
              "      <td>279.0</td>\n",
              "      <td>115.103943</td>\n",
              "      <td>35.063251</td>\n",
              "      <td>3.0</td>\n",
              "      <td>97.00</td>\n",
              "      <td>114.0</td>\n",
              "      <td>135.00</td>\n",
              "      <td>305.0</td>\n",
              "    </tr>\n",
              "    <tr>\n",
              "      <th>yearsOpen</th>\n",
              "      <td>329.0</td>\n",
              "      <td>63.656535</td>\n",
              "      <td>109.429928</td>\n",
              "      <td>6.0</td>\n",
              "      <td>50.00</td>\n",
              "      <td>58.0</td>\n",
              "      <td>69.00</td>\n",
              "      <td>2019.0</td>\n",
              "    </tr>\n",
              "    <tr>\n",
              "      <th>averageSnowfall</th>\n",
              "      <td>316.0</td>\n",
              "      <td>185.316456</td>\n",
              "      <td>136.356842</td>\n",
              "      <td>18.0</td>\n",
              "      <td>69.00</td>\n",
              "      <td>150.0</td>\n",
              "      <td>300.00</td>\n",
              "      <td>669.0</td>\n",
              "    </tr>\n",
              "    <tr>\n",
              "      <th>AdultWeekday</th>\n",
              "      <td>276.0</td>\n",
              "      <td>57.916957</td>\n",
              "      <td>26.140126</td>\n",
              "      <td>15.0</td>\n",
              "      <td>40.00</td>\n",
              "      <td>50.0</td>\n",
              "      <td>71.00</td>\n",
              "      <td>179.0</td>\n",
              "    </tr>\n",
              "    <tr>\n",
              "      <th>AdultWeekend</th>\n",
              "      <td>279.0</td>\n",
              "      <td>64.166810</td>\n",
              "      <td>24.554584</td>\n",
              "      <td>17.0</td>\n",
              "      <td>47.00</td>\n",
              "      <td>60.0</td>\n",
              "      <td>77.50</td>\n",
              "      <td>179.0</td>\n",
              "    </tr>\n",
              "    <tr>\n",
              "      <th>projectedDaysOpen</th>\n",
              "      <td>283.0</td>\n",
              "      <td>120.053004</td>\n",
              "      <td>31.045963</td>\n",
              "      <td>30.0</td>\n",
              "      <td>100.00</td>\n",
              "      <td>120.0</td>\n",
              "      <td>139.50</td>\n",
              "      <td>305.0</td>\n",
              "    </tr>\n",
              "    <tr>\n",
              "      <th>NightSkiing_ac</th>\n",
              "      <td>187.0</td>\n",
              "      <td>100.395722</td>\n",
              "      <td>105.169620</td>\n",
              "      <td>2.0</td>\n",
              "      <td>40.00</td>\n",
              "      <td>72.0</td>\n",
              "      <td>114.00</td>\n",
              "      <td>650.0</td>\n",
              "    </tr>\n",
              "  </tbody>\n",
              "</table>\n",
              "</div>"
            ],
            "text/plain": [
              "                   count         mean          std  ...     50%      75%      max\n",
              "summit_elev        330.0  4591.818182  3735.535934  ...  3127.5  7806.00  13487.0\n",
              "vertical_drop      330.0  1215.427273   947.864557  ...   964.5  1800.00   4425.0\n",
              "base_elev          330.0  3374.000000  3117.121621  ...  1561.5  6325.25  10800.0\n",
              "trams              330.0     0.172727     0.559946  ...     0.0     0.00      4.0\n",
              "fastEight          164.0     0.006098     0.078087  ...     0.0     0.00      1.0\n",
              "fastSixes          330.0     0.184848     0.651685  ...     0.0     0.00      6.0\n",
              "fastQuads          330.0     1.018182     2.198294  ...     0.0     1.00     15.0\n",
              "quad               330.0     0.933333     1.312245  ...     0.0     1.00      8.0\n",
              "triple             330.0     1.500000     1.619130  ...     1.0     2.00      8.0\n",
              "double             330.0     1.833333     1.815028  ...     1.0     3.00     14.0\n",
              "surface            330.0     2.621212     2.059636  ...     2.0     3.00     15.0\n",
              "total_chairs       330.0     8.266667     5.798683  ...     7.0    10.00     41.0\n",
              "Runs               326.0    48.214724    46.364077  ...    33.0    60.00    341.0\n",
              "TerrainParks       279.0     2.820789     2.008113  ...     2.0     4.00     14.0\n",
              "LongestRun_mi      325.0     1.433231     1.156171  ...     1.0     2.00      6.0\n",
              "SkiableTerrain_ac  327.0   739.801223  1816.167441  ...   200.0   690.00  26819.0\n",
              "Snow Making_ac     284.0   174.873239   261.336125  ...   100.0   200.50   3379.0\n",
              "daysOpenLastYear   279.0   115.103943    35.063251  ...   114.0   135.00    305.0\n",
              "yearsOpen          329.0    63.656535   109.429928  ...    58.0    69.00   2019.0\n",
              "averageSnowfall    316.0   185.316456   136.356842  ...   150.0   300.00    669.0\n",
              "AdultWeekday       276.0    57.916957    26.140126  ...    50.0    71.00    179.0\n",
              "AdultWeekend       279.0    64.166810    24.554584  ...    60.0    77.50    179.0\n",
              "projectedDaysOpen  283.0   120.053004    31.045963  ...   120.0   139.50    305.0\n",
              "NightSkiing_ac     187.0   100.395722   105.169620  ...    72.0   114.00    650.0\n",
              "\n",
              "[24 rows x 8 columns]"
            ]
          },
          "metadata": {
            "tags": []
          },
          "execution_count": 356
        }
      ]
    },
    {
      "cell_type": "markdown",
      "metadata": {
        "id": "DR4yXOPMnyUt"
      },
      "source": [
        "Recall you're missing the ticket prices for some 16% of resorts. This is a fundamental problem that means you simply lack the required data for those resorts and will have to drop those records. But you may have a weekend price and not a weekday price, or vice versa. You want to keep any price you have."
      ]
    },
    {
      "cell_type": "code",
      "metadata": {
        "id": "efDs7D0dnyUt",
        "outputId": "bf2c5ee5-1cac-4971-eb1b-bf78974fa513",
        "colab": {
          "base_uri": "https://localhost:8080/",
          "height": 87
        }
      },
      "source": [
        "missing_price = ski_data[['AdultWeekend', 'AdultWeekday']].isnull().sum(axis=1)\n",
        "missing_price.value_counts()/len(missing_price) * 100"
      ],
      "execution_count": 357,
      "outputs": [
        {
          "output_type": "execute_result",
          "data": {
            "text/plain": [
              "0    82.424242\n",
              "2    14.242424\n",
              "1     3.333333\n",
              "dtype: float64"
            ]
          },
          "metadata": {
            "tags": []
          },
          "execution_count": 357
        }
      ]
    },
    {
      "cell_type": "markdown",
      "metadata": {
        "id": "IL54fTIjnyUw"
      },
      "source": [
        "Just over 82% of resorts have no missing ticket price, 3% are missing one value, and 14% are missing both. You will definitely want to drop the records for which you have no price information, however you will not do so just yet. There may still be useful information about the distributions of other features in that 14% of the data."
      ]
    },
    {
      "cell_type": "markdown",
      "metadata": {
        "id": "nnCPfX8KnyUw"
      },
      "source": [
        "#### 2.6.4.2 Distributions Of Feature Values<a id='2.6.4.2_Distributions_Of_Feature_Values'></a>"
      ]
    },
    {
      "cell_type": "markdown",
      "metadata": {
        "id": "_6HQ2GMfnyUx"
      },
      "source": [
        "Note that, although we are still in the 'data wrangling and cleaning' phase rather than exploratory data analysis, looking at distributions of features is immensely useful in getting a feel for whether the values look sensible and whether there are any obvious outliers to investigate. Some exploratory data analysis belongs here, and data wrangling will inevitably occur later on. It's more a matter of emphasis. Here, we're interesting in focusing on whether distributions look plausible or wrong. Later on, we're more interested in relationships and patterns."
      ]
    },
    {
      "cell_type": "code",
      "metadata": {
        "id": "Hyr8tJThnyUx",
        "outputId": "493d2d9b-30e6-47d0-ec29-5038f800ff2d",
        "colab": {
          "base_uri": "https://localhost:8080/",
          "height": 879
        }
      },
      "source": [
        "#Code task 18#\n",
        "#Call ski_data's `hist` method to plot histograms of each of the numeric features\n",
        "#Try passing it an argument figsize=(15,10)\n",
        "#Try calling plt.subplots_adjust() with an argument hspace=0.5 to adjust the spacing\n",
        "#It's important you create legible and easy-to-read plots\n",
        "ski_data.hist(figsize=(18,15))\n",
        "plt.subplots_adjust(hspace=0.5);\n",
        "#Hint: notice how the terminating ';' \"swallows\" some messy output and leads to a tidier notebook"
      ],
      "execution_count": 358,
      "outputs": [
        {
          "output_type": "display_data",
          "data": {
            "image/png": "[encoded data removed]",
            "text/plain": [
              "<Figure size 1296x1080 with 25 Axes>"
            ]
          },
          "metadata": {
            "tags": [],
            "needs_background": "light"
          }
        }
      ]
    },
    {
      "cell_type": "markdown",
      "metadata": {
        "id": "rEp4hECcnyUz"
      },
      "source": [
        "What features do we have possible cause for concern about and why?\n",
        "\n",
        "* SkiableTerrain_ac because values are clustered down the low end,\n",
        "* Snow Making_ac for the same reason,\n",
        "* fastEight because all but one value is 0 so it has very little variance, and half the values are missing,\n",
        "* fastSixes raises an amber flag; it has more variability, but still mostly 0,\n",
        "* trams also may get an amber flag for the same reason,\n",
        "* yearsOpen because most values are low but it has a maximum of 2019, which strongly suggests someone recorded calendar year rather than number of years."
      ]
    },
    {
      "cell_type": "markdown",
      "metadata": {
        "id": "0d_vWpW6nyU0"
      },
      "source": [
        "##### 2.6.4.2.1 SkiableTerrain_ac<a id='2.6.4.2.1_SkiableTerrain_ac'></a>"
      ]
    },
    {
      "cell_type": "code",
      "metadata": {
        "id": "WgL_ABv6nyU0",
        "outputId": "c2462c5b-a161-47b4-e1c1-a9730ecaf4e0",
        "colab": {
          "base_uri": "https://localhost:8080/",
          "height": 52
        }
      },
      "source": [
        "#Code task 19#\n",
        "#Filter the 'SkiableTerrain_ac' column to print the values greater than 10000\n",
        "ski_data['SkiableTerrain_ac'][ski_data['SkiableTerrain_ac'] > 10000]"
      ],
      "execution_count": 359,
      "outputs": [
        {
          "output_type": "execute_result",
          "data": {
            "text/plain": [
              "39    26819.0\n",
              "Name: SkiableTerrain_ac, dtype: float64"
            ]
          },
          "metadata": {
            "tags": []
          },
          "execution_count": 359
        }
      ]
    },
    {
      "cell_type": "markdown",
      "metadata": {
        "id": "gbslq6kTnyU3"
      },
      "source": [
        "**Q: 2** One resort has an incredibly large skiable terrain area! Which is it?"
      ]
    },
    {
      "cell_type": "code",
      "metadata": {
        "id": "kh8Rvh8EnyU3",
        "outputId": "a12e504a-98af-4fef-b2b5-79418f3a873e",
        "colab": {
          "base_uri": "https://localhost:8080/",
          "height": 877
        }
      },
      "source": [
        "#Code task 20#\n",
        "#Now you know there's only one, print the whole row to investigate all values, including seeing the resort name\n",
        "#Hint: don't forget the transpose will be helpful here\n",
        "ski_data.loc[ski_data['SkiableTerrain_ac'] > 10000].T"
      ],
      "execution_count": 360,
      "outputs": [
        {
          "output_type": "execute_result",
          "data": {
            "text/html": [
              "<div>\n",
              "<style scoped>\n",
              "    .dataframe tbody tr th:only-of-type {\n",
              "        vertical-align: middle;\n",
              "    }\n",
              "\n",
              "    .dataframe tbody tr th {\n",
              "        vertical-align: top;\n",
              "    }\n",
              "\n",
              "    .dataframe thead th {\n",
              "        text-align: right;\n",
              "    }\n",
              "</style>\n",
              "<table border=\"1\" class=\"dataframe\">\n",
              "  <thead>\n",
              "    <tr style=\"text-align: right;\">\n",
              "      <th></th>\n",
              "      <th>39</th>\n",
              "    </tr>\n",
              "  </thead>\n",
              "  <tbody>\n",
              "    <tr>\n",
              "      <th>Name</th>\n",
              "      <td>Silverton Mountain</td>\n",
              "    </tr>\n",
              "    <tr>\n",
              "      <th>Region</th>\n",
              "      <td>Colorado</td>\n",
              "    </tr>\n",
              "    <tr>\n",
              "      <th>state</th>\n",
              "      <td>Colorado</td>\n",
              "    </tr>\n",
              "    <tr>\n",
              "      <th>summit_elev</th>\n",
              "      <td>13487</td>\n",
              "    </tr>\n",
              "    <tr>\n",
              "      <th>vertical_drop</th>\n",
              "      <td>3087</td>\n",
              "    </tr>\n",
              "    <tr>\n",
              "      <th>base_elev</th>\n",
              "      <td>10400</td>\n",
              "    </tr>\n",
              "    <tr>\n",
              "      <th>trams</th>\n",
              "      <td>0</td>\n",
              "    </tr>\n",
              "    <tr>\n",
              "      <th>fastEight</th>\n",
              "      <td>0</td>\n",
              "    </tr>\n",
              "    <tr>\n",
              "      <th>fastSixes</th>\n",
              "      <td>0</td>\n",
              "    </tr>\n",
              "    <tr>\n",
              "      <th>fastQuads</th>\n",
              "      <td>0</td>\n",
              "    </tr>\n",
              "    <tr>\n",
              "      <th>quad</th>\n",
              "      <td>0</td>\n",
              "    </tr>\n",
              "    <tr>\n",
              "      <th>triple</th>\n",
              "      <td>0</td>\n",
              "    </tr>\n",
              "    <tr>\n",
              "      <th>double</th>\n",
              "      <td>1</td>\n",
              "    </tr>\n",
              "    <tr>\n",
              "      <th>surface</th>\n",
              "      <td>0</td>\n",
              "    </tr>\n",
              "    <tr>\n",
              "      <th>total_chairs</th>\n",
              "      <td>1</td>\n",
              "    </tr>\n",
              "    <tr>\n",
              "      <th>Runs</th>\n",
              "      <td>NaN</td>\n",
              "    </tr>\n",
              "    <tr>\n",
              "      <th>TerrainParks</th>\n",
              "      <td>NaN</td>\n",
              "    </tr>\n",
              "    <tr>\n",
              "      <th>LongestRun_mi</th>\n",
              "      <td>1.5</td>\n",
              "    </tr>\n",
              "    <tr>\n",
              "      <th>SkiableTerrain_ac</th>\n",
              "      <td>26819</td>\n",
              "    </tr>\n",
              "    <tr>\n",
              "      <th>Snow Making_ac</th>\n",
              "      <td>NaN</td>\n",
              "    </tr>\n",
              "    <tr>\n",
              "      <th>daysOpenLastYear</th>\n",
              "      <td>175</td>\n",
              "    </tr>\n",
              "    <tr>\n",
              "      <th>yearsOpen</th>\n",
              "      <td>17</td>\n",
              "    </tr>\n",
              "    <tr>\n",
              "      <th>averageSnowfall</th>\n",
              "      <td>400</td>\n",
              "    </tr>\n",
              "    <tr>\n",
              "      <th>AdultWeekday</th>\n",
              "      <td>79</td>\n",
              "    </tr>\n",
              "    <tr>\n",
              "      <th>AdultWeekend</th>\n",
              "      <td>79</td>\n",
              "    </tr>\n",
              "    <tr>\n",
              "      <th>projectedDaysOpen</th>\n",
              "      <td>181</td>\n",
              "    </tr>\n",
              "    <tr>\n",
              "      <th>NightSkiing_ac</th>\n",
              "      <td>NaN</td>\n",
              "    </tr>\n",
              "  </tbody>\n",
              "</table>\n",
              "</div>"
            ],
            "text/plain": [
              "                                   39\n",
              "Name               Silverton Mountain\n",
              "Region                       Colorado\n",
              "state                        Colorado\n",
              "summit_elev                     13487\n",
              "vertical_drop                    3087\n",
              "base_elev                       10400\n",
              "trams                               0\n",
              "fastEight                           0\n",
              "fastSixes                           0\n",
              "fastQuads                           0\n",
              "quad                                0\n",
              "triple                              0\n",
              "double                              1\n",
              "surface                             0\n",
              "total_chairs                        1\n",
              "Runs                              NaN\n",
              "TerrainParks                      NaN\n",
              "LongestRun_mi                     1.5\n",
              "SkiableTerrain_ac               26819\n",
              "Snow Making_ac                    NaN\n",
              "daysOpenLastYear                  175\n",
              "yearsOpen                          17\n",
              "averageSnowfall                   400\n",
              "AdultWeekday                       79\n",
              "AdultWeekend                       79\n",
              "projectedDaysOpen                 181\n",
              "NightSkiing_ac                    NaN"
            ]
          },
          "metadata": {
            "tags": []
          },
          "execution_count": 360
        }
      ]
    },
    {
      "cell_type": "markdown",
      "metadata": {
        "id": "l6MZ_hswnyU7"
      },
      "source": [
        "**A: 2** Your answer here"
      ]
    },
    {
      "cell_type": "markdown",
      "metadata": {
        "id": "mo8PRC8cnyU7"
      },
      "source": [
        "But what can you do when you have one record that seems highly suspicious?"
      ]
    },
    {
      "cell_type": "markdown",
      "metadata": {
        "id": "Y1eOxcc4nyU8"
      },
      "source": [
        "You can see if your data are correct. Search for \"silverton mountain skiable area\". If you do this, you get some [useful information](https://www.google.com/search?q=silverton+mountain+skiable+area)."
      ]
    },
    {
      "cell_type": "markdown",
      "metadata": {
        "id": "j20lLbGAnyU8"
      },
      "source": [
        "![Silverton Mountain information](images/silverton_mountain_info.png)"
      ]
    },
    {
      "cell_type": "markdown",
      "metadata": {
        "id": "wIK6RfYgnyU9"
      },
      "source": [
        "You can spot check data. You see your top and base elevation values agree, but the skiable area is very different. Your suspect value is 26819, but the value you've just looked up is 1819. The last three digits agree. This sort of error could have occured in transmission or some editing or transcription stage. You could plausibly replace the suspect value with the one you've just obtained. Another cautionary note to make here is that although you're doing this in order to progress with your analysis, this is most definitely an issue that should have been raised and fed back to the client or data originator as a query. You should view this \"data correction\" step as a means to continue (documenting it carefully as you do in this notebook) rather than an ultimate decision as to what is correct."
      ]
    },
    {
      "cell_type": "code",
      "metadata": {
        "id": "ep6zmCvLnyU9",
        "outputId": "dd6241fb-9363-4745-c3af-9b7210444766",
        "colab": {
          "base_uri": "https://localhost:8080/",
          "height": 35
        }
      },
      "source": [
        "#Code task 21#\n",
        "#Use the .loc accessor to print the 'SkiableTerrain_ac' value only for this resort\n",
        "ski_data.loc[39, 'SkiableTerrain_ac']"
      ],
      "execution_count": 361,
      "outputs": [
        {
          "output_type": "execute_result",
          "data": {
            "text/plain": [
              "26819.0"
            ]
          },
          "metadata": {
            "tags": []
          },
          "execution_count": 361
        }
      ]
    },
    {
      "cell_type": "code",
      "metadata": {
        "id": "nDUCWG9nnyVA"
      },
      "source": [
        "#Code task 22#\n",
        "#Use the .loc accessor again to modify this value with the correct value of 1819\n",
        "ski_data.loc[39, 'SkiableTerrain_ac'] = 1819"
      ],
      "execution_count": 362,
      "outputs": []
    },
    {
      "cell_type": "code",
      "metadata": {
        "id": "wpmBA82QnyVF",
        "outputId": "963788e0-a500-43ea-f906-ab305e4f062d",
        "colab": {
          "base_uri": "https://localhost:8080/",
          "height": 35
        }
      },
      "source": [
        "#Code task 23#\n",
        "#Use the .loc accessor a final time to verify that the value has been modified\n",
        "ski_data.loc[39, 'SkiableTerrain_ac']"
      ],
      "execution_count": 363,
      "outputs": [
        {
          "output_type": "execute_result",
          "data": {
            "text/plain": [
              "1819.0"
            ]
          },
          "metadata": {
            "tags": []
          },
          "execution_count": 363
        }
      ]
    },
    {
      "cell_type": "markdown",
      "metadata": {
        "id": "Sjkw9fEAnyVG"
      },
      "source": [
        "**NB whilst you may become suspicious about your data quality, and you know you have missing values, you will not here dive down the rabbit hole of checking all values or web scraping to replace missing values.**"
      ]
    },
    {
      "cell_type": "markdown",
      "metadata": {
        "id": "XCzUEfVJnyVH"
      },
      "source": [
        "What does the distribution of skiable area look like now?"
      ]
    },
    {
      "cell_type": "code",
      "metadata": {
        "id": "VRB3IjX1nyVH",
        "outputId": "4830e72e-bca6-42d2-b89f-85e5a4c06cbf",
        "colab": {
          "base_uri": "https://localhost:8080/",
          "height": 296
        }
      },
      "source": [
        "ski_data.SkiableTerrain_ac.hist(bins=30)\n",
        "plt.xlabel('SkiableTerrain_ac')\n",
        "plt.ylabel('Count')\n",
        "plt.title('Distribution of skiable area (acres) after replacing erroneous value');"
      ],
      "execution_count": 364,
      "outputs": [
        {
          "output_type": "display_data",
          "data": {
            "image/png": "[encoded data removed]",
            "text/plain": [
              "<Figure size 432x288 with 1 Axes>"
            ]
          },
          "metadata": {
            "tags": [],
            "needs_background": "light"
          }
        }
      ]
    },
    {
      "cell_type": "markdown",
      "metadata": {
        "id": "tpJc0yh-nyVJ"
      },
      "source": [
        "You now see a rather long tailed distribution. You may wonder about the now most extreme value that is above 8000, but similarly you may also wonder about the value around 7000. If you wanted to spend more time manually checking values you could, but leave this for now. The above distribution is plausible."
      ]
    },
    {
      "cell_type": "markdown",
      "metadata": {
        "id": "vhRl8YK5nyVJ"
      },
      "source": [
        "##### 2.6.4.2.2 Snow Making_ac<a id='2.6.4.2.2_Snow_Making_ac'></a>"
      ]
    },
    {
      "cell_type": "code",
      "metadata": {
        "id": "YzPBYW_3nyVK",
        "outputId": "e99d45d2-b285-42e1-b4fd-55b512718d39",
        "colab": {
          "base_uri": "https://localhost:8080/",
          "height": 69
        }
      },
      "source": [
        "ski_data['Snow Making_ac'][ski_data['Snow Making_ac'] > 1000]"
      ],
      "execution_count": 365,
      "outputs": [
        {
          "output_type": "execute_result",
          "data": {
            "text/plain": [
              "11    3379.0\n",
              "18    1500.0\n",
              "Name: Snow Making_ac, dtype: float64"
            ]
          },
          "metadata": {
            "tags": []
          },
          "execution_count": 365
        }
      ]
    },
    {
      "cell_type": "code",
      "metadata": {
        "id": "dx_3IaPQnyVL",
        "outputId": "6c6c7bd4-72da-4b6e-d68d-9497735d4037",
        "colab": {
          "base_uri": "https://localhost:8080/",
          "height": 877
        }
      },
      "source": [
        "ski_data[ski_data['Snow Making_ac'] > 3000].T"
      ],
      "execution_count": 366,
      "outputs": [
        {
          "output_type": "execute_result",
          "data": {
            "text/html": [
              "<div>\n",
              "<style scoped>\n",
              "    .dataframe tbody tr th:only-of-type {\n",
              "        vertical-align: middle;\n",
              "    }\n",
              "\n",
              "    .dataframe tbody tr th {\n",
              "        vertical-align: top;\n",
              "    }\n",
              "\n",
              "    .dataframe thead th {\n",
              "        text-align: right;\n",
              "    }\n",
              "</style>\n",
              "<table border=\"1\" class=\"dataframe\">\n",
              "  <thead>\n",
              "    <tr style=\"text-align: right;\">\n",
              "      <th></th>\n",
              "      <th>11</th>\n",
              "    </tr>\n",
              "  </thead>\n",
              "  <tbody>\n",
              "    <tr>\n",
              "      <th>Name</th>\n",
              "      <td>Heavenly Mountain Resort</td>\n",
              "    </tr>\n",
              "    <tr>\n",
              "      <th>Region</th>\n",
              "      <td>Sierra Nevada</td>\n",
              "    </tr>\n",
              "    <tr>\n",
              "      <th>state</th>\n",
              "      <td>California</td>\n",
              "    </tr>\n",
              "    <tr>\n",
              "      <th>summit_elev</th>\n",
              "      <td>10067</td>\n",
              "    </tr>\n",
              "    <tr>\n",
              "      <th>vertical_drop</th>\n",
              "      <td>3500</td>\n",
              "    </tr>\n",
              "    <tr>\n",
              "      <th>base_elev</th>\n",
              "      <td>7170</td>\n",
              "    </tr>\n",
              "    <tr>\n",
              "      <th>trams</th>\n",
              "      <td>2</td>\n",
              "    </tr>\n",
              "    <tr>\n",
              "      <th>fastEight</th>\n",
              "      <td>0</td>\n",
              "    </tr>\n",
              "    <tr>\n",
              "      <th>fastSixes</th>\n",
              "      <td>2</td>\n",
              "    </tr>\n",
              "    <tr>\n",
              "      <th>fastQuads</th>\n",
              "      <td>7</td>\n",
              "    </tr>\n",
              "    <tr>\n",
              "      <th>quad</th>\n",
              "      <td>1</td>\n",
              "    </tr>\n",
              "    <tr>\n",
              "      <th>triple</th>\n",
              "      <td>5</td>\n",
              "    </tr>\n",
              "    <tr>\n",
              "      <th>double</th>\n",
              "      <td>3</td>\n",
              "    </tr>\n",
              "    <tr>\n",
              "      <th>surface</th>\n",
              "      <td>8</td>\n",
              "    </tr>\n",
              "    <tr>\n",
              "      <th>total_chairs</th>\n",
              "      <td>28</td>\n",
              "    </tr>\n",
              "    <tr>\n",
              "      <th>Runs</th>\n",
              "      <td>97</td>\n",
              "    </tr>\n",
              "    <tr>\n",
              "      <th>TerrainParks</th>\n",
              "      <td>3</td>\n",
              "    </tr>\n",
              "    <tr>\n",
              "      <th>LongestRun_mi</th>\n",
              "      <td>5.5</td>\n",
              "    </tr>\n",
              "    <tr>\n",
              "      <th>SkiableTerrain_ac</th>\n",
              "      <td>4800</td>\n",
              "    </tr>\n",
              "    <tr>\n",
              "      <th>Snow Making_ac</th>\n",
              "      <td>3379</td>\n",
              "    </tr>\n",
              "    <tr>\n",
              "      <th>daysOpenLastYear</th>\n",
              "      <td>155</td>\n",
              "    </tr>\n",
              "    <tr>\n",
              "      <th>yearsOpen</th>\n",
              "      <td>64</td>\n",
              "    </tr>\n",
              "    <tr>\n",
              "      <th>averageSnowfall</th>\n",
              "      <td>360</td>\n",
              "    </tr>\n",
              "    <tr>\n",
              "      <th>AdultWeekday</th>\n",
              "      <td>NaN</td>\n",
              "    </tr>\n",
              "    <tr>\n",
              "      <th>AdultWeekend</th>\n",
              "      <td>NaN</td>\n",
              "    </tr>\n",
              "    <tr>\n",
              "      <th>projectedDaysOpen</th>\n",
              "      <td>157</td>\n",
              "    </tr>\n",
              "    <tr>\n",
              "      <th>NightSkiing_ac</th>\n",
              "      <td>NaN</td>\n",
              "    </tr>\n",
              "  </tbody>\n",
              "</table>\n",
              "</div>"
            ],
            "text/plain": [
              "                                         11\n",
              "Name               Heavenly Mountain Resort\n",
              "Region                        Sierra Nevada\n",
              "state                            California\n",
              "summit_elev                           10067\n",
              "vertical_drop                          3500\n",
              "base_elev                              7170\n",
              "trams                                     2\n",
              "fastEight                                 0\n",
              "fastSixes                                 2\n",
              "fastQuads                                 7\n",
              "quad                                      1\n",
              "triple                                    5\n",
              "double                                    3\n",
              "surface                                   8\n",
              "total_chairs                             28\n",
              "Runs                                     97\n",
              "TerrainParks                              3\n",
              "LongestRun_mi                           5.5\n",
              "SkiableTerrain_ac                      4800\n",
              "Snow Making_ac                         3379\n",
              "daysOpenLastYear                        155\n",
              "yearsOpen                                64\n",
              "averageSnowfall                         360\n",
              "AdultWeekday                            NaN\n",
              "AdultWeekend                            NaN\n",
              "projectedDaysOpen                       157\n",
              "NightSkiing_ac                          NaN"
            ]
          },
          "metadata": {
            "tags": []
          },
          "execution_count": 366
        }
      ]
    },
    {
      "cell_type": "markdown",
      "metadata": {
        "id": "7xoPWJsQnyVO"
      },
      "source": [
        "You can adopt a similar approach as for the suspect skiable area value and do some spot checking. To save time, here is a link to the website for [Heavenly Mountain Resort](https://www.skiheavenly.com/the-mountain/about-the-mountain/mountain-info.aspx). From this you can glean that you have values for skiable terrain that agree. Furthermore, you can read that snowmaking covers 60% of the trails."
      ]
    },
    {
      "cell_type": "markdown",
      "metadata": {
        "id": "qsN0rlcTnyVO"
      },
      "source": [
        "What, then, is your rough guess for the area covered by snowmaking?"
      ]
    },
    {
      "cell_type": "code",
      "metadata": {
        "id": "se4oROi5nyVO",
        "outputId": "0dfe9c27-8142-495b-e12e-38214f3bd72a",
        "colab": {
          "base_uri": "https://localhost:8080/",
          "height": 35
        }
      },
      "source": [
        ".6 * 4800"
      ],
      "execution_count": 367,
      "outputs": [
        {
          "output_type": "execute_result",
          "data": {
            "text/plain": [
              "2880.0"
            ]
          },
          "metadata": {
            "tags": []
          },
          "execution_count": 367
        }
      ]
    },
    {
      "cell_type": "markdown",
      "metadata": {
        "id": "3LQEOQbznyVR"
      },
      "source": [
        "This is less than the value of 3379 in your data so you may have a judgement call to make. However, notice something else. You have no ticket pricing information at all for this resort. Any further effort spent worrying about values for this resort will be wasted. You'll simply be dropping the entire row!"
      ]
    },
    {
      "cell_type": "code",
      "metadata": {
        "id": "GTkN4Ewm-xFc"
      },
      "source": [
        "#drop row with Heavenly Mountain Resort\n",
        "ski_data.drop(ski_data[ski_data['Name'] == 'Heavenly Mountain Resort'].index , inplace=True)"
      ],
      "execution_count": 368,
      "outputs": []
    },
    {
      "cell_type": "markdown",
      "metadata": {
        "id": "JHLK5tjYnyVR"
      },
      "source": [
        "##### 2.6.4.2.3 fastEight<a id='2.6.4.2.3_fastEight'></a>"
      ]
    },
    {
      "cell_type": "markdown",
      "metadata": {
        "id": "wxaImMpAnyVR"
      },
      "source": [
        "Look at the different fastEight values more closely:"
      ]
    },
    {
      "cell_type": "code",
      "metadata": {
        "id": "NKqfqEu4nyVS",
        "outputId": "3ccce60d-4e2d-477f-9cbe-59ff10d3f24f",
        "colab": {
          "base_uri": "https://localhost:8080/",
          "height": 69
        }
      },
      "source": [
        "ski_data.fastEight.value_counts()"
      ],
      "execution_count": 369,
      "outputs": [
        {
          "output_type": "execute_result",
          "data": {
            "text/plain": [
              "0.0    162\n",
              "1.0      1\n",
              "Name: fastEight, dtype: int64"
            ]
          },
          "metadata": {
            "tags": []
          },
          "execution_count": 369
        }
      ]
    },
    {
      "cell_type": "markdown",
      "metadata": {
        "id": "jGZtH43JnyVU"
      },
      "source": [
        "Drop the fastEight column in its entirety; half the values are missing and all but the others are the value zero. There is essentially no information in this column."
      ]
    },
    {
      "cell_type": "code",
      "metadata": {
        "id": "5-lsveDQnyVX"
      },
      "source": [
        "#Code task 24#\n",
        "#Drop the 'fastEight' column from ski_data. Use inplace=True\n",
        "ski_data.drop(columns='fastEight', inplace=True)"
      ],
      "execution_count": 370,
      "outputs": []
    },
    {
      "cell_type": "markdown",
      "metadata": {
        "id": "ifHvZzmRnyVb"
      },
      "source": [
        "What about yearsOpen? How many resorts have purportedly been open for more than 100 years?"
      ]
    },
    {
      "cell_type": "code",
      "metadata": {
        "id": "eR7CSez_nyVb",
        "outputId": "1a757158-96e1-42ae-b2f7-79292c2a5c45",
        "colab": {
          "base_uri": "https://localhost:8080/",
          "height": 69
        }
      },
      "source": [
        "#Code task 25#\n",
        "#Filter the 'yearsOpen' column for values greater than 100\n",
        "ski_data['yearsOpen'][ski_data['yearsOpen'] > 100]"
      ],
      "execution_count": 371,
      "outputs": [
        {
          "output_type": "execute_result",
          "data": {
            "text/plain": [
              "34      104.0\n",
              "115    2019.0\n",
              "Name: yearsOpen, dtype: float64"
            ]
          },
          "metadata": {
            "tags": []
          },
          "execution_count": 371
        }
      ]
    },
    {
      "cell_type": "markdown",
      "metadata": {
        "id": "1XTadlXFnyVd"
      },
      "source": [
        "Okay, one seems to have been open for 104 years. But beyond that, one is down as having been open for 2019 years. This is wrong! What shall you do about this?"
      ]
    },
    {
      "cell_type": "markdown",
      "metadata": {
        "id": "2LCD6EoFnyVd"
      },
      "source": [
        "What does the distribution of yearsOpen look like if you exclude just the obviously wrong one?"
      ]
    },
    {
      "cell_type": "code",
      "metadata": {
        "id": "P114ZbOFnyVd",
        "outputId": "a6090eb9-a0be-4aca-c2a7-cadc634c9d9a",
        "colab": {
          "base_uri": "https://localhost:8080/",
          "height": 295
        }
      },
      "source": [
        "#Code task 26#\n",
        "#Call the hist method on 'yearsOpen' after filtering for values under 1000\n",
        "#Pass the argument bins=30 to hist(), but feel free to explore other values\n",
        "ski_data['yearsOpen'][ski_data['yearsOpen'] < 1000].hist(bins=30)\n",
        "plt.xlabel('Years open')\n",
        "plt.ylabel('Count')\n",
        "plt.title('Distribution of years open excluding 2019');"
      ],
      "execution_count": 372,
      "outputs": [
        {
          "output_type": "display_data",
          "data": {
            "image/png": "[encoded data removed]",
            "text/plain": [
              "<Figure size 432x288 with 1 Axes>"
            ]
          },
          "metadata": {
            "tags": [],
            "needs_background": "light"
          }
        }
      ]
    },
    {
      "cell_type": "markdown",
      "metadata": {
        "id": "NC-krTUHnyVi"
      },
      "source": [
        "The above distribution of years seems entirely plausible, including the 104 year value. You can certainly state that no resort will have been open for 2019 years! It likely means the resort opened in 2019. It could also mean the resort is due to open in 2019. You don't know when these data were gathered!"
      ]
    },
    {
      "cell_type": "markdown",
      "metadata": {
        "id": "na1jQuXwnyVj"
      },
      "source": [
        "Let's review the summary statistics for the years under 1000."
      ]
    },
    {
      "cell_type": "code",
      "metadata": {
        "id": "ItiijWtGnyVk",
        "outputId": "45cc321f-2a51-41a0-9b6c-85bae6db0ae6",
        "colab": {
          "base_uri": "https://localhost:8080/",
          "height": 173
        }
      },
      "source": [
        "ski_data.yearsOpen[ski_data.yearsOpen < 1000].describe()"
      ],
      "execution_count": 373,
      "outputs": [
        {
          "output_type": "execute_result",
          "data": {
            "text/plain": [
              "count    327.000000\n",
              "mean      57.675841\n",
              "std       16.863366\n",
              "min        6.000000\n",
              "25%       50.000000\n",
              "50%       58.000000\n",
              "75%       68.500000\n",
              "max      104.000000\n",
              "Name: yearsOpen, dtype: float64"
            ]
          },
          "metadata": {
            "tags": []
          },
          "execution_count": 373
        }
      ]
    },
    {
      "cell_type": "markdown",
      "metadata": {
        "id": "bx1KQ1psnyVn"
      },
      "source": [
        "The smallest number of years open otherwise is 6. You can't be sure whether this resort in question has been open zero years or one year and even whether the numbers are projections or actual. In any case, you would be adding a new youngest resort so it feels best to simply drop this row."
      ]
    },
    {
      "cell_type": "code",
      "metadata": {
        "id": "gatfuQ05nyVn",
        "outputId": "4eb01e65-c7f9-4c8f-b14d-97add5d3e174",
        "colab": {
          "base_uri": "https://localhost:8080/",
          "height": 343
        }
      },
      "source": [
        "ski_data = ski_data[ski_data.yearsOpen < 1000]\n",
        "ski_data.head()"
      ],
      "execution_count": 374,
      "outputs": [
        {
          "output_type": "execute_result",
          "data": {
            "text/html": [
              "<div>\n",
              "<style scoped>\n",
              "    .dataframe tbody tr th:only-of-type {\n",
              "        vertical-align: middle;\n",
              "    }\n",
              "\n",
              "    .dataframe tbody tr th {\n",
              "        vertical-align: top;\n",
              "    }\n",
              "\n",
              "    .dataframe thead th {\n",
              "        text-align: right;\n",
              "    }\n",
              "</style>\n",
              "<table border=\"1\" class=\"dataframe\">\n",
              "  <thead>\n",
              "    <tr style=\"text-align: right;\">\n",
              "      <th></th>\n",
              "      <th>Name</th>\n",
              "      <th>Region</th>\n",
              "      <th>state</th>\n",
              "      <th>summit_elev</th>\n",
              "      <th>vertical_drop</th>\n",
              "      <th>base_elev</th>\n",
              "      <th>trams</th>\n",
              "      <th>fastSixes</th>\n",
              "      <th>fastQuads</th>\n",
              "      <th>quad</th>\n",
              "      <th>triple</th>\n",
              "      <th>double</th>\n",
              "      <th>surface</th>\n",
              "      <th>total_chairs</th>\n",
              "      <th>Runs</th>\n",
              "      <th>TerrainParks</th>\n",
              "      <th>LongestRun_mi</th>\n",
              "      <th>SkiableTerrain_ac</th>\n",
              "      <th>Snow Making_ac</th>\n",
              "      <th>daysOpenLastYear</th>\n",
              "      <th>yearsOpen</th>\n",
              "      <th>averageSnowfall</th>\n",
              "      <th>AdultWeekday</th>\n",
              "      <th>AdultWeekend</th>\n",
              "      <th>projectedDaysOpen</th>\n",
              "      <th>NightSkiing_ac</th>\n",
              "    </tr>\n",
              "  </thead>\n",
              "  <tbody>\n",
              "    <tr>\n",
              "      <th>0</th>\n",
              "      <td>Alyeska Resort</td>\n",
              "      <td>Alaska</td>\n",
              "      <td>Alaska</td>\n",
              "      <td>3939</td>\n",
              "      <td>2500</td>\n",
              "      <td>250</td>\n",
              "      <td>1</td>\n",
              "      <td>0</td>\n",
              "      <td>2</td>\n",
              "      <td>2</td>\n",
              "      <td>0</td>\n",
              "      <td>0</td>\n",
              "      <td>2</td>\n",
              "      <td>7</td>\n",
              "      <td>76.0</td>\n",
              "      <td>2.0</td>\n",
              "      <td>1.0</td>\n",
              "      <td>1610.0</td>\n",
              "      <td>113.0</td>\n",
              "      <td>150.0</td>\n",
              "      <td>60.0</td>\n",
              "      <td>669.0</td>\n",
              "      <td>65.0</td>\n",
              "      <td>85.0</td>\n",
              "      <td>150.0</td>\n",
              "      <td>550.0</td>\n",
              "    </tr>\n",
              "    <tr>\n",
              "      <th>1</th>\n",
              "      <td>Eaglecrest Ski Area</td>\n",
              "      <td>Alaska</td>\n",
              "      <td>Alaska</td>\n",
              "      <td>2600</td>\n",
              "      <td>1540</td>\n",
              "      <td>1200</td>\n",
              "      <td>0</td>\n",
              "      <td>0</td>\n",
              "      <td>0</td>\n",
              "      <td>0</td>\n",
              "      <td>0</td>\n",
              "      <td>4</td>\n",
              "      <td>0</td>\n",
              "      <td>4</td>\n",
              "      <td>36.0</td>\n",
              "      <td>1.0</td>\n",
              "      <td>2.0</td>\n",
              "      <td>640.0</td>\n",
              "      <td>60.0</td>\n",
              "      <td>45.0</td>\n",
              "      <td>44.0</td>\n",
              "      <td>350.0</td>\n",
              "      <td>47.0</td>\n",
              "      <td>53.0</td>\n",
              "      <td>90.0</td>\n",
              "      <td>NaN</td>\n",
              "    </tr>\n",
              "    <tr>\n",
              "      <th>2</th>\n",
              "      <td>Hilltop Ski Area</td>\n",
              "      <td>Alaska</td>\n",
              "      <td>Alaska</td>\n",
              "      <td>2090</td>\n",
              "      <td>294</td>\n",
              "      <td>1796</td>\n",
              "      <td>0</td>\n",
              "      <td>0</td>\n",
              "      <td>0</td>\n",
              "      <td>0</td>\n",
              "      <td>1</td>\n",
              "      <td>0</td>\n",
              "      <td>2</td>\n",
              "      <td>3</td>\n",
              "      <td>13.0</td>\n",
              "      <td>1.0</td>\n",
              "      <td>1.0</td>\n",
              "      <td>30.0</td>\n",
              "      <td>30.0</td>\n",
              "      <td>150.0</td>\n",
              "      <td>36.0</td>\n",
              "      <td>69.0</td>\n",
              "      <td>30.0</td>\n",
              "      <td>34.0</td>\n",
              "      <td>152.0</td>\n",
              "      <td>30.0</td>\n",
              "    </tr>\n",
              "    <tr>\n",
              "      <th>3</th>\n",
              "      <td>Arizona Snowbowl</td>\n",
              "      <td>Arizona</td>\n",
              "      <td>Arizona</td>\n",
              "      <td>11500</td>\n",
              "      <td>2300</td>\n",
              "      <td>9200</td>\n",
              "      <td>0</td>\n",
              "      <td>1</td>\n",
              "      <td>0</td>\n",
              "      <td>2</td>\n",
              "      <td>2</td>\n",
              "      <td>1</td>\n",
              "      <td>2</td>\n",
              "      <td>8</td>\n",
              "      <td>55.0</td>\n",
              "      <td>4.0</td>\n",
              "      <td>2.0</td>\n",
              "      <td>777.0</td>\n",
              "      <td>104.0</td>\n",
              "      <td>122.0</td>\n",
              "      <td>81.0</td>\n",
              "      <td>260.0</td>\n",
              "      <td>89.0</td>\n",
              "      <td>89.0</td>\n",
              "      <td>122.0</td>\n",
              "      <td>NaN</td>\n",
              "    </tr>\n",
              "    <tr>\n",
              "      <th>4</th>\n",
              "      <td>Sunrise Park Resort</td>\n",
              "      <td>Arizona</td>\n",
              "      <td>Arizona</td>\n",
              "      <td>11100</td>\n",
              "      <td>1800</td>\n",
              "      <td>9200</td>\n",
              "      <td>0</td>\n",
              "      <td>0</td>\n",
              "      <td>1</td>\n",
              "      <td>2</td>\n",
              "      <td>3</td>\n",
              "      <td>1</td>\n",
              "      <td>0</td>\n",
              "      <td>7</td>\n",
              "      <td>65.0</td>\n",
              "      <td>2.0</td>\n",
              "      <td>1.2</td>\n",
              "      <td>800.0</td>\n",
              "      <td>80.0</td>\n",
              "      <td>115.0</td>\n",
              "      <td>49.0</td>\n",
              "      <td>250.0</td>\n",
              "      <td>74.0</td>\n",
              "      <td>78.0</td>\n",
              "      <td>104.0</td>\n",
              "      <td>80.0</td>\n",
              "    </tr>\n",
              "  </tbody>\n",
              "</table>\n",
              "</div>"
            ],
            "text/plain": [
              "                  Name   Region  ... projectedDaysOpen  NightSkiing_ac\n",
              "0       Alyeska Resort   Alaska  ...             150.0           550.0\n",
              "1  Eaglecrest Ski Area   Alaska  ...              90.0             NaN\n",
              "2     Hilltop Ski Area   Alaska  ...             152.0            30.0\n",
              "3     Arizona Snowbowl  Arizona  ...             122.0             NaN\n",
              "4  Sunrise Park Resort  Arizona  ...             104.0            80.0\n",
              "\n",
              "[5 rows x 26 columns]"
            ]
          },
          "metadata": {
            "tags": []
          },
          "execution_count": 374
        }
      ]
    },
    {
      "cell_type": "markdown",
      "metadata": {
        "id": "B9NlPsqrnyVp"
      },
      "source": [
        "##### 2.6.4.2.4 fastSixes and Trams<a id='2.6.4.2.4_fastSixes_and_Trams'></a>"
      ]
    },
    {
      "cell_type": "markdown",
      "metadata": {
        "id": "7z0B0aBJnyVp"
      },
      "source": [
        "The other features you had mild concern over, you will not investigate further. Perhaps take some care when using these features."
      ]
    },
    {
      "cell_type": "markdown",
      "metadata": {
        "id": "qzOmAPAZnyVq"
      },
      "source": [
        "## 2.7 Derive State-wide Summary Statistics For Our Market Segment<a id='2.7_Derive_State-wide_Summary_Statistics_For_Our_Market_Segment'></a>"
      ]
    },
    {
      "cell_type": "markdown",
      "metadata": {
        "id": "erOI3XRCnyVq"
      },
      "source": [
        "You have, by this point removed one row, but it was for a resort that may not have opened yet, or perhaps in its first season. Using your business knowledge, you know that state-wide supply and demand of certain skiing resources may well factor into pricing strategies. Does a resort dominate the available night skiing in a state? Or does it account for a large proportion of the total skiable terrain or days open?\n",
        "\n",
        "If you want to add any features to your data that captures the state-wide market size, you should do this now, before dropping any more rows. In the next section, you'll drop rows with missing price information. Although you don't know what those resorts charge for their tickets, you do know the resorts exists and have been open for at least six years. Thus, you'll now calculate some state-wide summary statistics for later use."
      ]
    },
    {
      "cell_type": "markdown",
      "metadata": {
        "id": "OOBI1Zl_nyVq"
      },
      "source": [
        "Many features in your data pertain to chairlifts, that is for getting people around each resort. These aren't relevant, nor are the features relating to altitudes. Features that you may be interested in are:\n",
        "\n",
        "* TerrainParks\n",
        "* SkiableTerrain_ac\n",
        "* daysOpenLastYear\n",
        "* NightSkiing_ac\n",
        "\n",
        "When you think about it, these are features it makes sense to sum: the total number of terrain parks, the total skiable area, the total number of days open, and the total area available for night skiing. You might consider the total number of ski runs, but understand that the skiable area is more informative than just a number of runs."
      ]
    },
    {
      "cell_type": "markdown",
      "metadata": {
        "id": "7Na75h9knyVr"
      },
      "source": [
        "A fairly new groupby behaviour is [named aggregation](https://pandas-docs.github.io/pandas-docs-travis/whatsnew/v0.25.0.html). This allows us to clearly perform the aggregations you want whilst also creating informative output column names."
      ]
    },
    {
      "cell_type": "code",
      "metadata": {
        "id": "cvRc2-mRnyVr",
        "outputId": "fc23e760-86c5-41df-9ac5-1136a27e8eff",
        "colab": {
          "base_uri": "https://localhost:8080/",
          "height": 202
        }
      },
      "source": [
        "#Code task 27#\n",
        "#Add named aggregations for the sum of 'daysOpenLastYear', 'TerrainParks', and 'NightSkiing_ac'\n",
        "#call them 'state_total_days_open', 'state_total_terrain_parks', and 'state_total_nightskiing_ac' respectively\n",
        "#Finally, add a call to the reset_index() method (we recommend you experiment with and without this to see\n",
        "#what it does)\n",
        "state_summary = ski_data.groupby('state').agg(\n",
        "    resorts_per_state=pd.NamedAgg(column='Name', aggfunc='size'), #could pick any column here\n",
        "    state_total_skiable_area_ac=pd.NamedAgg(column='SkiableTerrain_ac', aggfunc='sum'),\n",
        "    state_total_days_open=pd.NamedAgg(column='daysOpenLastYear', aggfunc='sum'),\n",
        "    state_total_terrain_parks=pd.NamedAgg(column='TerrainParks', aggfunc='sum'),\n",
        "    state_total_nightskiing_ac=pd.NamedAgg(column='NightSkiing_ac', aggfunc='sum')\n",
        ").reset_index()\n",
        "state_summary.head()"
      ],
      "execution_count": 375,
      "outputs": [
        {
          "output_type": "execute_result",
          "data": {
            "text/html": [
              "<div>\n",
              "<style scoped>\n",
              "    .dataframe tbody tr th:only-of-type {\n",
              "        vertical-align: middle;\n",
              "    }\n",
              "\n",
              "    .dataframe tbody tr th {\n",
              "        vertical-align: top;\n",
              "    }\n",
              "\n",
              "    .dataframe thead th {\n",
              "        text-align: right;\n",
              "    }\n",
              "</style>\n",
              "<table border=\"1\" class=\"dataframe\">\n",
              "  <thead>\n",
              "    <tr style=\"text-align: right;\">\n",
              "      <th></th>\n",
              "      <th>state</th>\n",
              "      <th>resorts_per_state</th>\n",
              "      <th>state_total_skiable_area_ac</th>\n",
              "      <th>state_total_days_open</th>\n",
              "      <th>state_total_terrain_parks</th>\n",
              "      <th>state_total_nightskiing_ac</th>\n",
              "    </tr>\n",
              "  </thead>\n",
              "  <tbody>\n",
              "    <tr>\n",
              "      <th>0</th>\n",
              "      <td>Alaska</td>\n",
              "      <td>3</td>\n",
              "      <td>2280.0</td>\n",
              "      <td>345.0</td>\n",
              "      <td>4.0</td>\n",
              "      <td>580.0</td>\n",
              "    </tr>\n",
              "    <tr>\n",
              "      <th>1</th>\n",
              "      <td>Arizona</td>\n",
              "      <td>2</td>\n",
              "      <td>1577.0</td>\n",
              "      <td>237.0</td>\n",
              "      <td>6.0</td>\n",
              "      <td>80.0</td>\n",
              "    </tr>\n",
              "    <tr>\n",
              "      <th>2</th>\n",
              "      <td>California</td>\n",
              "      <td>20</td>\n",
              "      <td>21148.0</td>\n",
              "      <td>2583.0</td>\n",
              "      <td>78.0</td>\n",
              "      <td>587.0</td>\n",
              "    </tr>\n",
              "    <tr>\n",
              "      <th>3</th>\n",
              "      <td>Colorado</td>\n",
              "      <td>22</td>\n",
              "      <td>43682.0</td>\n",
              "      <td>3258.0</td>\n",
              "      <td>74.0</td>\n",
              "      <td>428.0</td>\n",
              "    </tr>\n",
              "    <tr>\n",
              "      <th>4</th>\n",
              "      <td>Connecticut</td>\n",
              "      <td>5</td>\n",
              "      <td>358.0</td>\n",
              "      <td>353.0</td>\n",
              "      <td>10.0</td>\n",
              "      <td>256.0</td>\n",
              "    </tr>\n",
              "  </tbody>\n",
              "</table>\n",
              "</div>"
            ],
            "text/plain": [
              "         state  ...  state_total_nightskiing_ac\n",
              "0       Alaska  ...                       580.0\n",
              "1      Arizona  ...                        80.0\n",
              "2   California  ...                       587.0\n",
              "3     Colorado  ...                       428.0\n",
              "4  Connecticut  ...                       256.0\n",
              "\n",
              "[5 rows x 6 columns]"
            ]
          },
          "metadata": {
            "tags": []
          },
          "execution_count": 375
        }
      ]
    },
    {
      "cell_type": "markdown",
      "metadata": {
        "id": "pMAhS6FenyVt"
      },
      "source": [
        "## 2.8 Drop Rows With No Price Data<a id='2.8_Drop_Rows_With_No_Price_Data'></a>"
      ]
    },
    {
      "cell_type": "markdown",
      "metadata": {
        "id": "CpS0SwPWnyVt"
      },
      "source": [
        "You know there are two columns that refer to price: 'AdultWeekend' and 'AdultWeekday'. You can calculate the number of price values missing per row. This will obviously have to be either 0, 1, or 2, where 0 denotes no price values are missing and 2 denotes that both are missing."
      ]
    },
    {
      "cell_type": "code",
      "metadata": {
        "id": "imfDv8OdnyVu",
        "outputId": "f28b9111-1589-4dea-abc9-0de8d4c39d30",
        "colab": {
          "base_uri": "https://localhost:8080/",
          "height": 87
        }
      },
      "source": [
        "missing_price = ski_data[['AdultWeekend', 'AdultWeekday']].isnull().sum(axis=1)\n",
        "missing_price.value_counts()/len(missing_price) * 100"
      ],
      "execution_count": 376,
      "outputs": [
        {
          "output_type": "execute_result",
          "data": {
            "text/plain": [
              "0    82.568807\n",
              "2    14.067278\n",
              "1     3.363914\n",
              "dtype: float64"
            ]
          },
          "metadata": {
            "tags": []
          },
          "execution_count": 376
        }
      ]
    },
    {
      "cell_type": "markdown",
      "metadata": {
        "id": "RVIx8LemnyVw"
      },
      "source": [
        "About 14% of the rows have no price data. As the price is your target, these rows are of no use. Time to lose them."
      ]
    },
    {
      "cell_type": "code",
      "metadata": {
        "id": "0EX9-nGQnyVw",
        "outputId": "e8a9cb73-52f9-4cac-946e-a943b68602a1",
        "colab": {
          "base_uri": "https://localhost:8080/",
          "height": 35
        }
      },
      "source": [
        "#Code task 28#\n",
        "#Use `missing_price` to remove rows from ski_data where both price values are missing\n",
        "ski_data = ski_data[missing_price != 2]\n",
        "ski_data.shape"
      ],
      "execution_count": 377,
      "outputs": [
        {
          "output_type": "execute_result",
          "data": {
            "text/plain": [
              "(281, 26)"
            ]
          },
          "metadata": {
            "tags": []
          },
          "execution_count": 377
        }
      ]
    },
    {
      "cell_type": "markdown",
      "metadata": {
        "id": "K33fi2LwnyVy"
      },
      "source": [
        "## 2.9 Review distributions<a id='2.9_Review_distributions'></a>"
      ]
    },
    {
      "cell_type": "code",
      "metadata": {
        "id": "Y_84Zs7CnyVy",
        "outputId": "3b90ad15-dd73-4d70-bb00-8a93ff65eb5e",
        "colab": {
          "base_uri": "https://localhost:8080/",
          "height": 879
        }
      },
      "source": [
        "ski_data.hist(figsize=(18, 15))\n",
        "plt.subplots_adjust(hspace=0.5);"
      ],
      "execution_count": 378,
      "outputs": [
        {
          "output_type": "display_data",
          "data": {
            "image/png": "[encoded data removed]",
            "text/plain": [
              "<Figure size 1296x1080 with 25 Axes>"
            ]
          },
          "metadata": {
            "tags": [],
            "needs_background": "light"
          }
        }
      ]
    },
    {
      "cell_type": "markdown",
      "metadata": {
        "id": "yAqtJY-OnyV1"
      },
      "source": [
        "These distributions are much better. There are clearly some skewed distributions, so keep an eye on `fastQuads`, `fastSixes`, and perhaps `trams`. These lack much variance away from 0 and may have a small number of relatively extreme values.  Models failing to rate a feature as important when domain knowledge tells you it should be is an issue to look out for, as is a model being overly influenced by some extreme values. If you build a good machine learning pipeline, hopefully it will be robust to such issues, but you may also wish to consider nonlinear transformations of features."
      ]
    },
    {
      "cell_type": "markdown",
      "metadata": {
        "id": "chH5E1cvnyV2"
      },
      "source": [
        "## 2.10 Population data<a id='2.10_Population_data'></a>"
      ]
    },
    {
      "cell_type": "markdown",
      "metadata": {
        "id": "Sdivf5bUnyV2"
      },
      "source": [
        "Population and area data for the US states can be obtained from [wikipedia](https://simple.wikipedia.org/wiki/List_of_U.S._states). Listen, you should have a healthy concern about using data you \"found on the Internet\". Make sure it comes from a reputable source. This table of data is useful because it allows you to easily pull and incorporate an external data set. It also allows you to proceed with an analysis that includes state sizes and populations for your 'first cut' model. Be explicit about your source (we documented it here in this workflow) and ensure it is open to inspection. All steps are subject to review, and it may be that a client has a specific source of data they trust that you should use to rerun the analysis."
      ]
    },
    {
      "cell_type": "code",
      "metadata": {
        "id": "pgSLz3t7nyV3"
      },
      "source": [
        "#Code task 29#\n",
        "#Use pandas' `read_html` method to read the table from the URL below\n",
        "states_url = 'https://simple.wikipedia.org/wiki/List_of_U.S._states'\n",
        "usa_states = pd.read_html(states_url)"
      ],
      "execution_count": 379,
      "outputs": []
    },
    {
      "cell_type": "code",
      "metadata": {
        "id": "gJDNq8OonyV5",
        "outputId": "005ee0f2-adbc-49ca-b8c9-724616eaddc0",
        "colab": {
          "base_uri": "https://localhost:8080/",
          "height": 35
        }
      },
      "source": [
        "type(usa_states)"
      ],
      "execution_count": 380,
      "outputs": [
        {
          "output_type": "execute_result",
          "data": {
            "text/plain": [
              "list"
            ]
          },
          "metadata": {
            "tags": []
          },
          "execution_count": 380
        }
      ]
    },
    {
      "cell_type": "code",
      "metadata": {
        "id": "OsBl2uJInyV7",
        "outputId": "0513aad4-4321-40b9-a055-575feda09356",
        "colab": {
          "base_uri": "https://localhost:8080/",
          "height": 35
        }
      },
      "source": [
        "len(usa_states)"
      ],
      "execution_count": 381,
      "outputs": [
        {
          "output_type": "execute_result",
          "data": {
            "text/plain": [
              "1"
            ]
          },
          "metadata": {
            "tags": []
          },
          "execution_count": 381
        }
      ]
    },
    {
      "cell_type": "code",
      "metadata": {
        "id": "RbWIy-C8nyV8",
        "outputId": "ddec79b3-bb73-4c22-dbb0-6dc6bbac7304",
        "colab": {
          "base_uri": "https://localhost:8080/",
          "height": 285
        }
      },
      "source": [
        "usa_states = usa_states[0]\n",
        "usa_states.head()"
      ],
      "execution_count": 382,
      "outputs": [
        {
          "output_type": "execute_result",
          "data": {
            "text/html": [
              "<div>\n",
              "<style scoped>\n",
              "    .dataframe tbody tr th:only-of-type {\n",
              "        vertical-align: middle;\n",
              "    }\n",
              "\n",
              "    .dataframe tbody tr th {\n",
              "        vertical-align: top;\n",
              "    }\n",
              "\n",
              "    .dataframe thead tr th {\n",
              "        text-align: left;\n",
              "    }\n",
              "</style>\n",
              "<table border=\"1\" class=\"dataframe\">\n",
              "  <thead>\n",
              "    <tr>\n",
              "      <th></th>\n",
              "      <th colspan=\"2\" halign=\"left\">Name &amp;postal abbs. [1]</th>\n",
              "      <th colspan=\"2\" halign=\"left\">Cities</th>\n",
              "      <th>Established[upper-alpha 1]</th>\n",
              "      <th>Population[upper-alpha 2][3]</th>\n",
              "      <th colspan=\"2\" halign=\"left\">Total area[4]</th>\n",
              "      <th colspan=\"2\" halign=\"left\">Land area[4]</th>\n",
              "      <th colspan=\"2\" halign=\"left\">Water area[4]</th>\n",
              "      <th>Numberof Reps.</th>\n",
              "    </tr>\n",
              "    <tr>\n",
              "      <th></th>\n",
              "      <th>Name &amp;postal abbs. [1]</th>\n",
              "      <th>Name &amp;postal abbs. [1].1</th>\n",
              "      <th>Capital</th>\n",
              "      <th>Largest[5]</th>\n",
              "      <th>Established[upper-alpha 1]</th>\n",
              "      <th>Population[upper-alpha 2][3]</th>\n",
              "      <th>mi2</th>\n",
              "      <th>km2</th>\n",
              "      <th>mi2</th>\n",
              "      <th>km2</th>\n",
              "      <th>mi2</th>\n",
              "      <th>km2</th>\n",
              "      <th>Numberof Reps.</th>\n",
              "    </tr>\n",
              "  </thead>\n",
              "  <tbody>\n",
              "    <tr>\n",
              "      <th>0</th>\n",
              "      <td>Alabama</td>\n",
              "      <td>AL</td>\n",
              "      <td>Montgomery</td>\n",
              "      <td>Birmingham</td>\n",
              "      <td>Dec 14, 1819</td>\n",
              "      <td>4903185</td>\n",
              "      <td>52420</td>\n",
              "      <td>135767</td>\n",
              "      <td>50645</td>\n",
              "      <td>131171</td>\n",
              "      <td>1775</td>\n",
              "      <td>4597</td>\n",
              "      <td>7</td>\n",
              "    </tr>\n",
              "    <tr>\n",
              "      <th>1</th>\n",
              "      <td>Alaska</td>\n",
              "      <td>AK</td>\n",
              "      <td>Juneau</td>\n",
              "      <td>Anchorage</td>\n",
              "      <td>Jan 3, 1959</td>\n",
              "      <td>731545</td>\n",
              "      <td>665384</td>\n",
              "      <td>1723337</td>\n",
              "      <td>570641</td>\n",
              "      <td>1477953</td>\n",
              "      <td>94743</td>\n",
              "      <td>245384</td>\n",
              "      <td>1</td>\n",
              "    </tr>\n",
              "    <tr>\n",
              "      <th>2</th>\n",
              "      <td>Arizona</td>\n",
              "      <td>AZ</td>\n",
              "      <td>Phoenix</td>\n",
              "      <td>Phoenix</td>\n",
              "      <td>Feb 14, 1912</td>\n",
              "      <td>7278717</td>\n",
              "      <td>113990</td>\n",
              "      <td>295234</td>\n",
              "      <td>113594</td>\n",
              "      <td>294207</td>\n",
              "      <td>396</td>\n",
              "      <td>1026</td>\n",
              "      <td>9</td>\n",
              "    </tr>\n",
              "    <tr>\n",
              "      <th>3</th>\n",
              "      <td>Arkansas</td>\n",
              "      <td>AR</td>\n",
              "      <td>Little Rock</td>\n",
              "      <td>Little Rock</td>\n",
              "      <td>Jun 15, 1836</td>\n",
              "      <td>3017804</td>\n",
              "      <td>53179</td>\n",
              "      <td>137732</td>\n",
              "      <td>52035</td>\n",
              "      <td>134771</td>\n",
              "      <td>1143</td>\n",
              "      <td>2961</td>\n",
              "      <td>4</td>\n",
              "    </tr>\n",
              "    <tr>\n",
              "      <th>4</th>\n",
              "      <td>California</td>\n",
              "      <td>CA</td>\n",
              "      <td>Sacramento</td>\n",
              "      <td>Los Angeles</td>\n",
              "      <td>Sep 9, 1850</td>\n",
              "      <td>39512223</td>\n",
              "      <td>163695</td>\n",
              "      <td>423967</td>\n",
              "      <td>155779</td>\n",
              "      <td>403466</td>\n",
              "      <td>7916</td>\n",
              "      <td>20501</td>\n",
              "      <td>53</td>\n",
              "    </tr>\n",
              "  </tbody>\n",
              "</table>\n",
              "</div>"
            ],
            "text/plain": [
              "  Name &postal abbs. [1]                           ... Water area[4] Numberof Reps.\n",
              "  Name &postal abbs. [1] Name &postal abbs. [1].1  ...           km2 Numberof Reps.\n",
              "0                Alabama                       AL  ...          4597              7\n",
              "1                 Alaska                       AK  ...        245384              1\n",
              "2                Arizona                       AZ  ...          1026              9\n",
              "3               Arkansas                       AR  ...          2961              4\n",
              "4             California                       CA  ...         20501             53\n",
              "\n",
              "[5 rows x 13 columns]"
            ]
          },
          "metadata": {
            "tags": []
          },
          "execution_count": 382
        }
      ]
    },
    {
      "cell_type": "markdown",
      "metadata": {
        "id": "ukh0mmVbnyV-"
      },
      "source": [
        "Note, in even the last year, the capability of `pd.read_html()` has improved. The merged cells you see in the web table are now handled much more conveniently, with 'Phoenix' now being duplicated so the subsequent columns remain aligned. But check this anyway. If you extract the established date column, you should just get dates. Recall previously you used the `.loc` accessor, because you were using labels. Now you want to refer to a column by its index position and so use `.iloc`. For a discussion on the difference use cases of `.loc` and `.iloc` refer to the [pandas documentation](https://pandas.pydata.org/pandas-docs/stable/user_guide/indexing.html)."
      ]
    },
    {
      "cell_type": "code",
      "metadata": {
        "id": "GawD_VLXnyV-"
      },
      "source": [
        "#Code task 30#\n",
        "#Use the iloc accessor to get the pandas Series for column number 4 from `usa_states`\n",
        "#It should be a column of dates\n",
        "established = usa_states.iloc[:, 4]"
      ],
      "execution_count": 383,
      "outputs": []
    },
    {
      "cell_type": "code",
      "metadata": {
        "id": "oj55ppd5nyV_",
        "outputId": "beeac1ca-d026-4435-ec76-471d2b0bf103",
        "colab": {
          "base_uri": "https://localhost:8080/",
          "height": 901
        }
      },
      "source": [
        "established"
      ],
      "execution_count": 384,
      "outputs": [
        {
          "output_type": "execute_result",
          "data": {
            "text/plain": [
              "0     Dec 14, 1819\n",
              "1      Jan 3, 1959\n",
              "2     Feb 14, 1912\n",
              "3     Jun 15, 1836\n",
              "4      Sep 9, 1850\n",
              "5      Aug 1, 1876\n",
              "6      Jan 9, 1788\n",
              "7      Dec 7, 1787\n",
              "8      Mar 3, 1845\n",
              "9      Jan 2, 1788\n",
              "10    Aug 21, 1959\n",
              "11     Jul 3, 1890\n",
              "12     Dec 3, 1818\n",
              "13    Dec 11, 1816\n",
              "14    Dec 28, 1846\n",
              "15    Jan 29, 1861\n",
              "16     Jun 1, 1792\n",
              "17    Apr 30, 1812\n",
              "18    Mar 15, 1820\n",
              "19    Apr 28, 1788\n",
              "20     Feb 6, 1788\n",
              "21    Jan 26, 1837\n",
              "22    May 11, 1858\n",
              "23    Dec 10, 1817\n",
              "24    Aug 10, 1821\n",
              "25     Nov 8, 1889\n",
              "26     Mar 1, 1867\n",
              "27    Oct 31, 1864\n",
              "28    Jun 21, 1788\n",
              "29    Dec 18, 1787\n",
              "30     Jan 6, 1912\n",
              "31    Jul 26, 1788\n",
              "32    Nov 21, 1789\n",
              "33     Nov 2, 1889\n",
              "34     Mar 1, 1803\n",
              "35    Nov 16, 1907\n",
              "36    Feb 14, 1859\n",
              "37    Dec 12, 1787\n",
              "38    May 29, 1790\n",
              "39    May 23, 1788\n",
              "40     Nov 2, 1889\n",
              "41     Jun 1, 1796\n",
              "42    Dec 29, 1845\n",
              "43     Jan 4, 1896\n",
              "44     Mar 4, 1791\n",
              "45    Jun 25, 1788\n",
              "46    Nov 11, 1889\n",
              "47    Jun 20, 1863\n",
              "48    May 29, 1848\n",
              "49    Jul 10, 1890\n",
              "Name: (Established[upper-alpha 1], Established[upper-alpha 1]), dtype: object"
            ]
          },
          "metadata": {
            "tags": []
          },
          "execution_count": 384
        }
      ]
    },
    {
      "cell_type": "markdown",
      "metadata": {
        "id": "RaTS9EDKnyWA"
      },
      "source": [
        "Extract the state name, population, and total area (square miles) columns."
      ]
    },
    {
      "cell_type": "code",
      "metadata": {
        "id": "7RRBO1fXnyWA",
        "outputId": "0b17b8da-9061-470a-8f53-711e1899108c",
        "colab": {
          "base_uri": "https://localhost:8080/",
          "height": 202
        }
      },
      "source": [
        "#Code task 31#\n",
        "#Now use the iloc accessor again to extract columns 0, 5, and 6 and the dataframe's `copy()` method\n",
        "#Set the names of these extracted columns to 'state', 'state_population', and 'state_area_sq_miles',\n",
        "#respectively.\n",
        "usa_states_sub = usa_states.iloc[:, [0, 5, 6]].copy()\n",
        "usa_states_sub.columns = ['state', 'state_population', 'state_area_sq_miles']\n",
        "usa_states_sub.head()"
      ],
      "execution_count": 385,
      "outputs": [
        {
          "output_type": "execute_result",
          "data": {
            "text/html": [
              "<div>\n",
              "<style scoped>\n",
              "    .dataframe tbody tr th:only-of-type {\n",
              "        vertical-align: middle;\n",
              "    }\n",
              "\n",
              "    .dataframe tbody tr th {\n",
              "        vertical-align: top;\n",
              "    }\n",
              "\n",
              "    .dataframe thead th {\n",
              "        text-align: right;\n",
              "    }\n",
              "</style>\n",
              "<table border=\"1\" class=\"dataframe\">\n",
              "  <thead>\n",
              "    <tr style=\"text-align: right;\">\n",
              "      <th></th>\n",
              "      <th>state</th>\n",
              "      <th>state_population</th>\n",
              "      <th>state_area_sq_miles</th>\n",
              "    </tr>\n",
              "  </thead>\n",
              "  <tbody>\n",
              "    <tr>\n",
              "      <th>0</th>\n",
              "      <td>Alabama</td>\n",
              "      <td>4903185</td>\n",
              "      <td>52420</td>\n",
              "    </tr>\n",
              "    <tr>\n",
              "      <th>1</th>\n",
              "      <td>Alaska</td>\n",
              "      <td>731545</td>\n",
              "      <td>665384</td>\n",
              "    </tr>\n",
              "    <tr>\n",
              "      <th>2</th>\n",
              "      <td>Arizona</td>\n",
              "      <td>7278717</td>\n",
              "      <td>113990</td>\n",
              "    </tr>\n",
              "    <tr>\n",
              "      <th>3</th>\n",
              "      <td>Arkansas</td>\n",
              "      <td>3017804</td>\n",
              "      <td>53179</td>\n",
              "    </tr>\n",
              "    <tr>\n",
              "      <th>4</th>\n",
              "      <td>California</td>\n",
              "      <td>39512223</td>\n",
              "      <td>163695</td>\n",
              "    </tr>\n",
              "  </tbody>\n",
              "</table>\n",
              "</div>"
            ],
            "text/plain": [
              "        state  state_population  state_area_sq_miles\n",
              "0     Alabama           4903185                52420\n",
              "1      Alaska            731545               665384\n",
              "2     Arizona           7278717               113990\n",
              "3    Arkansas           3017804                53179\n",
              "4  California          39512223               163695"
            ]
          },
          "metadata": {
            "tags": []
          },
          "execution_count": 385
        }
      ]
    },
    {
      "cell_type": "markdown",
      "metadata": {
        "id": "v-C5iyDznyWC"
      },
      "source": [
        "Do you have all the ski data states accounted for?"
      ]
    },
    {
      "cell_type": "code",
      "metadata": {
        "id": "z31zWOKcnyWC",
        "outputId": "c74e5ed2-487a-4a55-f601-769996fb0983",
        "colab": {
          "base_uri": "https://localhost:8080/",
          "height": 35
        }
      },
      "source": [
        "#Code task 32#\n",
        "#Find the states in `state_summary` that are not in `usa_states_sub`\n",
        "#Hint: set(list1) - set(list2) is an easy way to get items in list1 that are not in list2\n",
        "missing_states = set(state_summary.state) - set(usa_states_sub.state)\n",
        "missing_states"
      ],
      "execution_count": 386,
      "outputs": [
        {
          "output_type": "execute_result",
          "data": {
            "text/plain": [
              "{'Massachusetts', 'Pennsylvania', 'Rhode Island', 'Virginia'}"
            ]
          },
          "metadata": {
            "tags": []
          },
          "execution_count": 386
        }
      ]
    },
    {
      "cell_type": "markdown",
      "metadata": {
        "id": "U_RQGWywnyWF"
      },
      "source": [
        "No?? "
      ]
    },
    {
      "cell_type": "markdown",
      "metadata": {
        "id": "sgfEchUcnyWG"
      },
      "source": [
        "If you look at the table on the web, you can perhaps start to guess what the problem is. You can confirm your suspicion by pulling out state names that _contain_ 'Massachusetts', 'Pennsylvania', or 'Virginia' from usa_states_sub:"
      ]
    },
    {
      "cell_type": "code",
      "metadata": {
        "id": "MkMvQhtZnyWG",
        "outputId": "d567774b-edfe-437a-8c2b-a891194a7a27",
        "colab": {
          "base_uri": "https://localhost:8080/",
          "height": 121
        }
      },
      "source": [
        "usa_states_sub.state[usa_states_sub.state.str.contains('Massachusetts|Pennsylvania|Rhode Island|Virginia')]"
      ],
      "execution_count": 387,
      "outputs": [
        {
          "output_type": "execute_result",
          "data": {
            "text/plain": [
              "20    Massachusetts[upper-alpha 3]\n",
              "37     Pennsylvania[upper-alpha 3]\n",
              "38     Rhode Island[upper-alpha 4]\n",
              "45         Virginia[upper-alpha 3]\n",
              "47                   West Virginia\n",
              "Name: state, dtype: object"
            ]
          },
          "metadata": {
            "tags": []
          },
          "execution_count": 387
        }
      ]
    },
    {
      "cell_type": "markdown",
      "metadata": {
        "id": "UrMuN_DdnyWI"
      },
      "source": [
        "Delete square brackets and their contents and try again:"
      ]
    },
    {
      "cell_type": "code",
      "metadata": {
        "id": "WYRyV7iNnyWI",
        "outputId": "747d0917-0035-49b6-d63a-cf7b239e2929",
        "colab": {
          "base_uri": "https://localhost:8080/",
          "height": 121
        }
      },
      "source": [
        "#Code task 33#\n",
        "#Use pandas' Series' `replace()` method to replace anything within square brackets (including the brackets)\n",
        "#with the empty string. Do this inplace, so you need to specify the arguments:\n",
        "#to_replace='\\[.*\\]' #literal square bracket followed by anything or nothing followed by literal closing bracket\n",
        "#value='' #empty string as replacement\n",
        "#regex=True #we used a regex in our `to_replace` argument\n",
        "#inplace=True #Do this \"in place\"\n",
        "usa_states_sub.state.replace(to_replace='\\[.*\\]', value='', regex=True, inplace=True)\n",
        "usa_states_sub.state[usa_states_sub.state.str.contains('Massachusetts|Pennsylvania|Rhode Island|Virginia')]"
      ],
      "execution_count": 388,
      "outputs": [
        {
          "output_type": "execute_result",
          "data": {
            "text/plain": [
              "20    Massachusetts\n",
              "37     Pennsylvania\n",
              "38     Rhode Island\n",
              "45         Virginia\n",
              "47    West Virginia\n",
              "Name: state, dtype: object"
            ]
          },
          "metadata": {
            "tags": []
          },
          "execution_count": 388
        }
      ]
    },
    {
      "cell_type": "code",
      "metadata": {
        "id": "Z45DH9EbnyWJ",
        "outputId": "c53245ed-a0db-413b-ebc9-8243f490d886",
        "colab": {
          "base_uri": "https://localhost:8080/",
          "height": 35
        }
      },
      "source": [
        "#Code task 34#\n",
        "#And now verify none of our states are missing by checking that there are no states in\n",
        "#state_summary that are not in usa_states_sub (as earlier using `set()`)\n",
        "missing_states = set(state_summary.state) - set(usa_states_sub.state)\n",
        "missing_states"
      ],
      "execution_count": 389,
      "outputs": [
        {
          "output_type": "execute_result",
          "data": {
            "text/plain": [
              "set()"
            ]
          },
          "metadata": {
            "tags": []
          },
          "execution_count": 389
        }
      ]
    },
    {
      "cell_type": "markdown",
      "metadata": {
        "id": "DiFBoh5OnyWL"
      },
      "source": [
        "Better! You have an empty set for missing states now. You can confidently add the population and state area columns to the ski resort data."
      ]
    },
    {
      "cell_type": "code",
      "metadata": {
        "id": "KnRz_6OlnyWL",
        "outputId": "65b729db-18c3-4bbb-a53c-805102aa93ca",
        "colab": {
          "base_uri": "https://localhost:8080/",
          "height": 222
        }
      },
      "source": [
        "#Code task 35#\n",
        "#Use 'state_summary's `merge()` method to combine our new data in 'usa_states_sub'\n",
        "#specify the arguments how='left' and on='state'\n",
        "state_summary = state_summary.merge(usa_states_sub, how='left', on='state')\n",
        "state_summary.head()"
      ],
      "execution_count": 390,
      "outputs": [
        {
          "output_type": "execute_result",
          "data": {
            "text/html": [
              "<div>\n",
              "<style scoped>\n",
              "    .dataframe tbody tr th:only-of-type {\n",
              "        vertical-align: middle;\n",
              "    }\n",
              "\n",
              "    .dataframe tbody tr th {\n",
              "        vertical-align: top;\n",
              "    }\n",
              "\n",
              "    .dataframe thead th {\n",
              "        text-align: right;\n",
              "    }\n",
              "</style>\n",
              "<table border=\"1\" class=\"dataframe\">\n",
              "  <thead>\n",
              "    <tr style=\"text-align: right;\">\n",
              "      <th></th>\n",
              "      <th>state</th>\n",
              "      <th>resorts_per_state</th>\n",
              "      <th>state_total_skiable_area_ac</th>\n",
              "      <th>state_total_days_open</th>\n",
              "      <th>state_total_terrain_parks</th>\n",
              "      <th>state_total_nightskiing_ac</th>\n",
              "      <th>state_population</th>\n",
              "      <th>state_area_sq_miles</th>\n",
              "    </tr>\n",
              "  </thead>\n",
              "  <tbody>\n",
              "    <tr>\n",
              "      <th>0</th>\n",
              "      <td>Alaska</td>\n",
              "      <td>3</td>\n",
              "      <td>2280.0</td>\n",
              "      <td>345.0</td>\n",
              "      <td>4.0</td>\n",
              "      <td>580.0</td>\n",
              "      <td>731545</td>\n",
              "      <td>665384</td>\n",
              "    </tr>\n",
              "    <tr>\n",
              "      <th>1</th>\n",
              "      <td>Arizona</td>\n",
              "      <td>2</td>\n",
              "      <td>1577.0</td>\n",
              "      <td>237.0</td>\n",
              "      <td>6.0</td>\n",
              "      <td>80.0</td>\n",
              "      <td>7278717</td>\n",
              "      <td>113990</td>\n",
              "    </tr>\n",
              "    <tr>\n",
              "      <th>2</th>\n",
              "      <td>California</td>\n",
              "      <td>20</td>\n",
              "      <td>21148.0</td>\n",
              "      <td>2583.0</td>\n",
              "      <td>78.0</td>\n",
              "      <td>587.0</td>\n",
              "      <td>39512223</td>\n",
              "      <td>163695</td>\n",
              "    </tr>\n",
              "    <tr>\n",
              "      <th>3</th>\n",
              "      <td>Colorado</td>\n",
              "      <td>22</td>\n",
              "      <td>43682.0</td>\n",
              "      <td>3258.0</td>\n",
              "      <td>74.0</td>\n",
              "      <td>428.0</td>\n",
              "      <td>5758736</td>\n",
              "      <td>104094</td>\n",
              "    </tr>\n",
              "    <tr>\n",
              "      <th>4</th>\n",
              "      <td>Connecticut</td>\n",
              "      <td>5</td>\n",
              "      <td>358.0</td>\n",
              "      <td>353.0</td>\n",
              "      <td>10.0</td>\n",
              "      <td>256.0</td>\n",
              "      <td>3565278</td>\n",
              "      <td>5543</td>\n",
              "    </tr>\n",
              "  </tbody>\n",
              "</table>\n",
              "</div>"
            ],
            "text/plain": [
              "         state  resorts_per_state  ...  state_population  state_area_sq_miles\n",
              "0       Alaska                  3  ...            731545               665384\n",
              "1      Arizona                  2  ...           7278717               113990\n",
              "2   California                 20  ...          39512223               163695\n",
              "3     Colorado                 22  ...           5758736               104094\n",
              "4  Connecticut                  5  ...           3565278                 5543\n",
              "\n",
              "[5 rows x 8 columns]"
            ]
          },
          "metadata": {
            "tags": []
          },
          "execution_count": 390
        }
      ]
    },
    {
      "cell_type": "markdown",
      "metadata": {
        "id": "oJL9Wg0BnyWN"
      },
      "source": [
        "Having created this data frame of summary statistics for various states, it would seem obvious to join this with the ski resort data to augment it with this additional data. You will do this, but not now. In the next notebook you will be exploring the data, including the relationships between the states. For that you want a separate row for each state, as you have here, and joining the data this soon means you'd need to separate and eliminate redundances in the state data when you wanted it."
      ]
    },
    {
      "cell_type": "markdown",
      "metadata": {
        "id": "QijAobS8nyWN"
      },
      "source": [
        "## 2.11 Target Feature<a id='2.11_Target_Feature'></a>"
      ]
    },
    {
      "cell_type": "markdown",
      "metadata": {
        "id": "vV5o6eFvnyWN"
      },
      "source": [
        "Finally, what will your target be when modelling ticket price? What relationship is there between weekday and weekend prices?"
      ]
    },
    {
      "cell_type": "code",
      "metadata": {
        "id": "LU6NWefLnyWO",
        "outputId": "cd2f0728-fbe7-43e3-e383-9bbc67811471",
        "colab": {
          "base_uri": "https://localhost:8080/",
          "height": 279
        }
      },
      "source": [
        "#Code task 36#\n",
        "#Use ski_data's `plot()` method to create a scatterplot (kind='scatter') with 'AdultWeekday' on the x-axis and\n",
        "#'AdultWeekend' on the y-axis\n",
        "ski_data.plot(x='AdultWeekday', y='AdultWeekend', kind='scatter');"
      ],
      "execution_count": 391,
      "outputs": [
        {
          "output_type": "display_data",
          "data": {
            "image/png": "[encoded data removed]",
            "text/plain": [
              "<Figure size 432x288 with 1 Axes>"
            ]
          },
          "metadata": {
            "tags": [],
            "needs_background": "light"
          }
        }
      ]
    },
    {
      "cell_type": "markdown",
      "metadata": {
        "id": "v5SNO_lFnyWP"
      },
      "source": [
        "A couple of observations can be made. Firstly, there is a clear line where weekend and weekday prices are equal. Weekend prices being higher than weekday prices seem restricted to sub $100 resorts. Recall from the boxplot earlier that the distribution for weekday and weekend prices in Montana seemed equal. Is this confirmed in the actual data for each resort? Big Mountain resort is in Montana, so the relationship between these quantities in this state are particularly relevant."
      ]
    },
    {
      "cell_type": "code",
      "metadata": {
        "id": "TtMegHJsnyWP",
        "outputId": "f8eab91a-977e-4ff4-b69e-4e91fcfe684e",
        "colab": {
          "base_uri": "https://localhost:8080/",
          "height": 386
        }
      },
      "source": [
        "#Code task 37#\n",
        "#Use the loc accessor on ski_data to print the 'AdultWeekend' and 'AdultWeekday' columns for Montana only\n",
        "ski_data.loc[ski_data.state == 'Montana', ['AdultWeekend', 'AdultWeekday']]"
      ],
      "execution_count": 392,
      "outputs": [
        {
          "output_type": "execute_result",
          "data": {
            "text/html": [
              "<div>\n",
              "<style scoped>\n",
              "    .dataframe tbody tr th:only-of-type {\n",
              "        vertical-align: middle;\n",
              "    }\n",
              "\n",
              "    .dataframe tbody tr th {\n",
              "        vertical-align: top;\n",
              "    }\n",
              "\n",
              "    .dataframe thead th {\n",
              "        text-align: right;\n",
              "    }\n",
              "</style>\n",
              "<table border=\"1\" class=\"dataframe\">\n",
              "  <thead>\n",
              "    <tr style=\"text-align: right;\">\n",
              "      <th></th>\n",
              "      <th>AdultWeekend</th>\n",
              "      <th>AdultWeekday</th>\n",
              "    </tr>\n",
              "  </thead>\n",
              "  <tbody>\n",
              "    <tr>\n",
              "      <th>141</th>\n",
              "      <td>42.0</td>\n",
              "      <td>42.0</td>\n",
              "    </tr>\n",
              "    <tr>\n",
              "      <th>142</th>\n",
              "      <td>63.0</td>\n",
              "      <td>63.0</td>\n",
              "    </tr>\n",
              "    <tr>\n",
              "      <th>143</th>\n",
              "      <td>49.0</td>\n",
              "      <td>49.0</td>\n",
              "    </tr>\n",
              "    <tr>\n",
              "      <th>144</th>\n",
              "      <td>48.0</td>\n",
              "      <td>48.0</td>\n",
              "    </tr>\n",
              "    <tr>\n",
              "      <th>145</th>\n",
              "      <td>46.0</td>\n",
              "      <td>46.0</td>\n",
              "    </tr>\n",
              "    <tr>\n",
              "      <th>146</th>\n",
              "      <td>39.0</td>\n",
              "      <td>39.0</td>\n",
              "    </tr>\n",
              "    <tr>\n",
              "      <th>147</th>\n",
              "      <td>50.0</td>\n",
              "      <td>50.0</td>\n",
              "    </tr>\n",
              "    <tr>\n",
              "      <th>148</th>\n",
              "      <td>67.0</td>\n",
              "      <td>67.0</td>\n",
              "    </tr>\n",
              "    <tr>\n",
              "      <th>149</th>\n",
              "      <td>47.0</td>\n",
              "      <td>47.0</td>\n",
              "    </tr>\n",
              "    <tr>\n",
              "      <th>150</th>\n",
              "      <td>39.0</td>\n",
              "      <td>39.0</td>\n",
              "    </tr>\n",
              "    <tr>\n",
              "      <th>151</th>\n",
              "      <td>81.0</td>\n",
              "      <td>81.0</td>\n",
              "    </tr>\n",
              "  </tbody>\n",
              "</table>\n",
              "</div>"
            ],
            "text/plain": [
              "     AdultWeekend  AdultWeekday\n",
              "141          42.0          42.0\n",
              "142          63.0          63.0\n",
              "143          49.0          49.0\n",
              "144          48.0          48.0\n",
              "145          46.0          46.0\n",
              "146          39.0          39.0\n",
              "147          50.0          50.0\n",
              "148          67.0          67.0\n",
              "149          47.0          47.0\n",
              "150          39.0          39.0\n",
              "151          81.0          81.0"
            ]
          },
          "metadata": {
            "tags": []
          },
          "execution_count": 392
        }
      ]
    },
    {
      "cell_type": "markdown",
      "metadata": {
        "id": "2TJ3Br77nyWQ"
      },
      "source": [
        "Is there any reason to prefer weekend or weekday prices? Which is missing the least?"
      ]
    },
    {
      "cell_type": "code",
      "metadata": {
        "id": "6ue4haaznyWQ",
        "outputId": "a4f4fb6d-51f0-409b-d676-547dae6a4551",
        "colab": {
          "base_uri": "https://localhost:8080/",
          "height": 69
        }
      },
      "source": [
        "ski_data[['AdultWeekend', 'AdultWeekday']].isnull().sum()"
      ],
      "execution_count": 393,
      "outputs": [
        {
          "output_type": "execute_result",
          "data": {
            "text/plain": [
              "AdultWeekend    4\n",
              "AdultWeekday    7\n",
              "dtype: int64"
            ]
          },
          "metadata": {
            "tags": []
          },
          "execution_count": 393
        }
      ]
    },
    {
      "cell_type": "markdown",
      "metadata": {
        "id": "QE815xF0nyWU"
      },
      "source": [
        "Weekend prices have the least missing values of the two, so drop the weekday prices and then keep just the rows that have weekend price."
      ]
    },
    {
      "cell_type": "code",
      "metadata": {
        "id": "uNWh8w8PnyWV"
      },
      "source": [
        "ski_data.drop(columns='AdultWeekday', inplace=True)\n",
        "ski_data.dropna(subset=['AdultWeekend'], inplace=True)"
      ],
      "execution_count": 394,
      "outputs": []
    },
    {
      "cell_type": "code",
      "metadata": {
        "id": "uH788YYcnyWb",
        "outputId": "cc936431-a662-4d1e-b959-27bc49916b7d",
        "colab": {
          "base_uri": "https://localhost:8080/",
          "height": 35
        }
      },
      "source": [
        "ski_data.shape"
      ],
      "execution_count": 395,
      "outputs": [
        {
          "output_type": "execute_result",
          "data": {
            "text/plain": [
              "(277, 25)"
            ]
          },
          "metadata": {
            "tags": []
          },
          "execution_count": 395
        }
      ]
    },
    {
      "cell_type": "markdown",
      "metadata": {
        "id": "rsBBxW6MnyWd"
      },
      "source": [
        "Perform a final quick check on the data."
      ]
    },
    {
      "cell_type": "markdown",
      "metadata": {
        "id": "labg7_lcnyWd"
      },
      "source": [
        "### 2.11.1 Number Of Missing Values By Row - Resort<a id='2.11.1_Number_Of_Missing_Values_By_Row_-_Resort'></a>"
      ]
    },
    {
      "cell_type": "markdown",
      "metadata": {
        "id": "lbDlhugWnyWe"
      },
      "source": [
        "Having dropped rows missing the desired target ticket price, what degree of missingness do you have for the remaining rows?"
      ]
    },
    {
      "cell_type": "code",
      "metadata": {
        "id": "yJ4JorBmnyWe",
        "outputId": "58e899b1-ff74-48cc-db77-de8de279dafb",
        "colab": {
          "base_uri": "https://localhost:8080/",
          "height": 355
        }
      },
      "source": [
        "missing = pd.concat([ski_data.isnull().sum(axis=1), 100 * ski_data.isnull().mean(axis=1)], axis=1)\n",
        "missing.columns=['count', '%']\n",
        "missing.sort_values(by='count', ascending=False).head(10)"
      ],
      "execution_count": 396,
      "outputs": [
        {
          "output_type": "execute_result",
          "data": {
            "text/html": [
              "<div>\n",
              "<style scoped>\n",
              "    .dataframe tbody tr th:only-of-type {\n",
              "        vertical-align: middle;\n",
              "    }\n",
              "\n",
              "    .dataframe tbody tr th {\n",
              "        vertical-align: top;\n",
              "    }\n",
              "\n",
              "    .dataframe thead th {\n",
              "        text-align: right;\n",
              "    }\n",
              "</style>\n",
              "<table border=\"1\" class=\"dataframe\">\n",
              "  <thead>\n",
              "    <tr style=\"text-align: right;\">\n",
              "      <th></th>\n",
              "      <th>count</th>\n",
              "      <th>%</th>\n",
              "    </tr>\n",
              "  </thead>\n",
              "  <tbody>\n",
              "    <tr>\n",
              "      <th>329</th>\n",
              "      <td>5</td>\n",
              "      <td>20.0</td>\n",
              "    </tr>\n",
              "    <tr>\n",
              "      <th>62</th>\n",
              "      <td>5</td>\n",
              "      <td>20.0</td>\n",
              "    </tr>\n",
              "    <tr>\n",
              "      <th>141</th>\n",
              "      <td>5</td>\n",
              "      <td>20.0</td>\n",
              "    </tr>\n",
              "    <tr>\n",
              "      <th>86</th>\n",
              "      <td>5</td>\n",
              "      <td>20.0</td>\n",
              "    </tr>\n",
              "    <tr>\n",
              "      <th>74</th>\n",
              "      <td>5</td>\n",
              "      <td>20.0</td>\n",
              "    </tr>\n",
              "    <tr>\n",
              "      <th>146</th>\n",
              "      <td>5</td>\n",
              "      <td>20.0</td>\n",
              "    </tr>\n",
              "    <tr>\n",
              "      <th>184</th>\n",
              "      <td>4</td>\n",
              "      <td>16.0</td>\n",
              "    </tr>\n",
              "    <tr>\n",
              "      <th>108</th>\n",
              "      <td>4</td>\n",
              "      <td>16.0</td>\n",
              "    </tr>\n",
              "    <tr>\n",
              "      <th>198</th>\n",
              "      <td>4</td>\n",
              "      <td>16.0</td>\n",
              "    </tr>\n",
              "    <tr>\n",
              "      <th>39</th>\n",
              "      <td>4</td>\n",
              "      <td>16.0</td>\n",
              "    </tr>\n",
              "  </tbody>\n",
              "</table>\n",
              "</div>"
            ],
            "text/plain": [
              "     count     %\n",
              "329      5  20.0\n",
              "62       5  20.0\n",
              "141      5  20.0\n",
              "86       5  20.0\n",
              "74       5  20.0\n",
              "146      5  20.0\n",
              "184      4  16.0\n",
              "108      4  16.0\n",
              "198      4  16.0\n",
              "39       4  16.0"
            ]
          },
          "metadata": {
            "tags": []
          },
          "execution_count": 396
        }
      ]
    },
    {
      "cell_type": "markdown",
      "metadata": {
        "id": "9HDGg-GZnyWg"
      },
      "source": [
        "These seem possibly curiously quantized..."
      ]
    },
    {
      "cell_type": "code",
      "metadata": {
        "id": "fE9S3HzRnyWg",
        "outputId": "5f24b933-e039-44e6-ea26-ab515c6dd597",
        "colab": {
          "base_uri": "https://localhost:8080/",
          "height": 35
        }
      },
      "source": [
        "missing['%'].unique()"
      ],
      "execution_count": 397,
      "outputs": [
        {
          "output_type": "execute_result",
          "data": {
            "text/plain": [
              "array([ 0.,  4.,  8., 12., 16., 20.])"
            ]
          },
          "metadata": {
            "tags": []
          },
          "execution_count": 397
        }
      ]
    },
    {
      "cell_type": "markdown",
      "metadata": {
        "id": "-_pg44qynyWj"
      },
      "source": [
        "Yes, the percentage of missing values per row appear in multiples of 4."
      ]
    },
    {
      "cell_type": "code",
      "metadata": {
        "id": "uacXnDsgnyWj",
        "outputId": "a9c60719-f781-4f97-a485-1e557734eba3",
        "colab": {
          "base_uri": "https://localhost:8080/",
          "height": 139
        }
      },
      "source": [
        "missing['%'].value_counts()"
      ],
      "execution_count": 398,
      "outputs": [
        {
          "output_type": "execute_result",
          "data": {
            "text/plain": [
              "0.0     107\n",
              "4.0      94\n",
              "8.0      45\n",
              "12.0     15\n",
              "16.0     10\n",
              "20.0      6\n",
              "Name: %, dtype: int64"
            ]
          },
          "metadata": {
            "tags": []
          },
          "execution_count": 398
        }
      ]
    },
    {
      "cell_type": "markdown",
      "metadata": {
        "id": "fTQgbnfsnyWk"
      },
      "source": [
        "This is almost as if values have been removed artificially... Nevertheless, what you don't know is how useful the missing features are in predicting ticket price. You shouldn't just drop rows that are missing several useless features."
      ]
    },
    {
      "cell_type": "code",
      "metadata": {
        "id": "5SnGGap3nyWk",
        "outputId": "d993b73c-db38-47d7-9dcb-2815b66165b8",
        "colab": {
          "base_uri": "https://localhost:8080/",
          "height": 572
        }
      },
      "source": [
        "ski_data.info()"
      ],
      "execution_count": 399,
      "outputs": [
        {
          "output_type": "stream",
          "text": [
            "<class 'pandas.core.frame.DataFrame'>\n",
            "Int64Index: 277 entries, 0 to 329\n",
            "Data columns (total 25 columns):\n",
            " #   Column             Non-Null Count  Dtype  \n",
            "---  ------             --------------  -----  \n",
            " 0   Name               277 non-null    object \n",
            " 1   Region             277 non-null    object \n",
            " 2   state              277 non-null    object \n",
            " 3   summit_elev        277 non-null    int64  \n",
            " 4   vertical_drop      277 non-null    int64  \n",
            " 5   base_elev          277 non-null    int64  \n",
            " 6   trams              277 non-null    int64  \n",
            " 7   fastSixes          277 non-null    int64  \n",
            " 8   fastQuads          277 non-null    int64  \n",
            " 9   quad               277 non-null    int64  \n",
            " 10  triple             277 non-null    int64  \n",
            " 11  double             277 non-null    int64  \n",
            " 12  surface            277 non-null    int64  \n",
            " 13  total_chairs       277 non-null    int64  \n",
            " 14  Runs               274 non-null    float64\n",
            " 15  TerrainParks       233 non-null    float64\n",
            " 16  LongestRun_mi      272 non-null    float64\n",
            " 17  SkiableTerrain_ac  275 non-null    float64\n",
            " 18  Snow Making_ac     240 non-null    float64\n",
            " 19  daysOpenLastYear   233 non-null    float64\n",
            " 20  yearsOpen          277 non-null    float64\n",
            " 21  averageSnowfall    268 non-null    float64\n",
            " 22  AdultWeekend       277 non-null    float64\n",
            " 23  projectedDaysOpen  236 non-null    float64\n",
            " 24  NightSkiing_ac     163 non-null    float64\n",
            "dtypes: float64(11), int64(11), object(3)\n",
            "memory usage: 56.3+ KB\n"
          ],
          "name": "stdout"
        }
      ]
    },
    {
      "cell_type": "markdown",
      "metadata": {
        "id": "0a9ily5onyWm"
      },
      "source": [
        "There are still some missing values, and it's good to be aware of this, but leave them as is for now."
      ]
    },
    {
      "cell_type": "markdown",
      "metadata": {
        "id": "-mhNv3JgnyWm"
      },
      "source": [
        "## 2.12 Save data<a id='2.12_Save_data'></a>"
      ]
    },
    {
      "cell_type": "code",
      "metadata": {
        "id": "vzvIShMenyWn",
        "outputId": "44332603-33ec-44ff-955e-3c0dd310ea65",
        "colab": {
          "base_uri": "https://localhost:8080/",
          "height": 35
        }
      },
      "source": [
        "ski_data.shape"
      ],
      "execution_count": 400,
      "outputs": [
        {
          "output_type": "execute_result",
          "data": {
            "text/plain": [
              "(277, 25)"
            ]
          },
          "metadata": {
            "tags": []
          },
          "execution_count": 400
        }
      ]
    },
    {
      "cell_type": "markdown",
      "metadata": {
        "id": "uECImBaKnyWo"
      },
      "source": [
        "Save this to your data directory, separately. Note that you were provided with the data in `raw_data` and you should saving derived data in a separate location. This guards against overwriting our original data."
      ]
    },
    {
      "cell_type": "code",
      "metadata": {
        "id": "pp1E3WJsnyWo"
      },
      "source": [
        "# save the data to a new csv file\n",
        "ski_data.to_csv('ski_data_cleaned.csv')\n",
        "!cp ski_data_cleaned.csv '/content/drive/My Drive/Colab Notebooks/Springboard - Data Science Career Track/6 - Guided Capstone 1/'\n",
        "\n",
        "#save_file(ski_data, 'ski_data_cleaned.csv', datapath) --> tweaked/ not use as coding in colab"
      ],
      "execution_count": 401,
      "outputs": []
    },
    {
      "cell_type": "code",
      "metadata": {
        "id": "EmAbQ6B2nyWq"
      },
      "source": [
        "# save the state_summary separately.\n",
        "ski_data.to_csv('state_summary.csv')\n",
        "!cp state_summary.csv '/content/drive/My Drive/Colab Notebooks/Springboard - Data Science Career Track/6 - Guided Capstone 1/'\n",
        "\n",
        "#save_file(state_summary, 'state_summary.csv', datapath) --> tweaked/ not use as coding in colab"
      ],
      "execution_count": 402,
      "outputs": []
    },
    {
      "cell_type": "markdown",
      "metadata": {
        "id": "7cvbtEmInyWr"
      },
      "source": [
        "## 2.13 Summary<a id='2.13_Summary'></a>"
      ]
    },
    {
      "cell_type": "markdown",
      "metadata": {
        "id": "O94Ca_6gnyWr"
      },
      "source": [
        "**Q: 3** Write a summary statement that highlights the key processes and findings from this notebook. This should include information such as the original number of rows in the data, whether our own resort was actually present etc. What columns, if any, have been removed? Any rows? Summarise the reasons why. Were any other issues found? What remedial actions did you take? State where you are in the project. Can you confirm what the target feature is for your desire to predict ticket price? How many rows were left in the data? Hint: this is a great opportunity to reread your notebook, check all cells have been executed in order and from a \"blank slate\" (restarting the kernel will do this), and that your workflow makes sense and follows a logical pattern. As you do this you can pull out salient information for inclusion in this summary. Thus, this section will provide an important overview of \"what\" and \"why\" without having to dive into the \"how\" or any unproductive or inconclusive steps along the way."
      ]
    },
    {
      "cell_type": "markdown",
      "metadata": {
        "id": "OPoYzcnrnyWr"
      },
      "source": [
        "**A: 3** Your answer here"
      ]
    },
    {
      "cell_type": "markdown",
      "metadata": {
        "id": "Ggrw4A_WpbmV"
      },
      "source": [
        "**Key processes:**\n",
        "<li>Checking the summary/ data types in the data </li>\n",
        "<li>Getting a sense how much data is missing\n",
        "<li>Explore how the dataframe looks like, check if “Big Mountain Resort” is inside the dataframe\n",
        "<li>Understanding the number & percentage of missing data in each column\n",
        "<li>Examine the categorical data, check if there are duplicate resorts by examining state/ region/ resort combination\n",
        "<li>Examine the distribution of resorts by region and state via illustrating it in a bar graph\n",
        "<li>Examine the average weekday and weekend price by state, understand if there are significance towards price difference between weekday/ weekend/ state\n",
        "<li>Use box plot to illustrate price ranges between weekday and weekend tickets by state\n",
        "<li>Examine how many records contains missing price and decide if it may impact the results\n",
        "<li>Use histogram to plot all data in the dataframe, examine the data pattern and identify potential problematic areas\n",
        "<li>Make adjustments to several data columns which contains outliers\n",
        "<li>Using the histogram to plot the data again, validate if the profile is more sensible\n",
        "<li>Aggregate/ group the data by state to illustrate the total skiable area, resort days opened, terrain parks and night skiing\n",
        "<li>Extract population data from Wikipedia and merge data with the aggregated dataframe, data cleaning performed where required\n",
        "\n",
        "\n"
      ]
    },
    {
      "cell_type": "markdown",
      "metadata": {
        "id": "SMDlFGMapbdo"
      },
      "source": [
        "**Drawing exploratory insights from the data:**\n",
        "<li>Applying a scatter plot towards the pricing data across resorts for weekdays and weekend, it is apparent resorts with price differentiation between weekdays and weekends are lower end resorts\n",
        "<li>With Big Mountain Resort not aiming at the lower end market, the conclusion drawn is weekday vs weekend pricing strategy will likely be the same, hence data can be further explored using either weekday/ weekend price, which ever has less missing data\n"
      ]
    },
    {
      "cell_type": "markdown",
      "metadata": {
        "id": "xQV9XLSrqIF1"
      },
      "source": [
        "**Data Process/ Data Dropped:**\n",
        "<li>Originally 330 ski resorts were contained in the datafile\n",
        "<li>Anomalies removed - Skiable Terrain for Silverton Mountain – corrected typo to 1819\n",
        "<li>Filtered out resort which has been opened for 2019 years\n",
        "<li>Dropped column ‘fastEight’ due to poor data quality – half missing, non-missing has lot of zeros\n",
        "<li>Rows where both weekday and weekend prices are not available is dropped, dataframe is left with 281 ski resorts\n",
        "<li>From exploratory insights on weekday/ weekend price. Data column with less missing data is being selected as feature \n",
        "<li>Final dataframe to 277 ski resorts\n",
        "<li>Weekday price is being selected as the feature for ticket price prediction\n"
      ]
    }
  ]
}