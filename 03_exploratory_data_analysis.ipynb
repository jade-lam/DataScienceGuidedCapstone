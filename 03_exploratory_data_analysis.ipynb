{
  "nbformat": 4,
  "nbformat_minor": 0,
  "metadata": {
    "kernelspec": {
      "display_name": "Python 3",
      "language": "python",
      "name": "python3"
    },
    "language_info": {
      "codemirror_mode": {
        "name": "ipython",
        "version": 3
      },
      "file_extension": ".py",
      "mimetype": "text/x-python",
      "name": "python",
      "nbconvert_exporter": "python",
      "pygments_lexer": "ipython3",
      "version": "3.7.9"
    },
    "toc": {
      "base_numbering": 1,
      "nav_menu": {},
      "number_sections": true,
      "sideBar": true,
      "skip_h1_title": false,
      "title_cell": "Table of Contents",
      "title_sidebar": "Contents",
      "toc_cell": false,
      "toc_position": {},
      "toc_section_display": true,
      "toc_window_display": false
    },
    "varInspector": {
      "cols": {
        "lenName": 16,
        "lenType": 16,
        "lenVar": 40
      },
      "kernels_config": {
        "python": {
          "delete_cmd_postfix": "",
          "delete_cmd_prefix": "del ",
          "library": "var_list.py",
          "varRefreshCmd": "print(var_dic_list())"
        },
        "r": {
          "delete_cmd_postfix": ") ",
          "delete_cmd_prefix": "rm(",
          "library": "var_list.r",
          "varRefreshCmd": "cat(var_dic_list()) "
        }
      },
      "types_to_exclude": [
        "module",
        "function",
        "builtin_function_or_method",
        "instance",
        "_Feature"
      ],
      "window_display": false
    },
    "colab": {
      "name": "03_exploratory_data_analysis.ipynb",
      "provenance": [],
      "collapsed_sections": [],
      "include_colab_link": true
    }
  },
  "cells": [
    {
      "cell_type": "markdown",
      "metadata": {
        "id": "view-in-github",
        "colab_type": "text"
      },
      "source": [
        "<a href=\"https://colab.research.google.com/github/jade-lam/DataScienceGuidedCapstone/blob/master/03_exploratory_data_analysis.ipynb\" target=\"_parent\"><img src=\"https://colab.research.google.com/assets/colab-badge.svg\" alt=\"Open In Colab\"/></a>"
      ]
    },
    {
      "cell_type": "markdown",
      "metadata": {
        "id": "7w5Bdrh77kYP"
      },
      "source": [
        "# 3 Exploratory Data Analysis<a id='3_Exploratory_Data_Analysis'></a>"
      ]
    },
    {
      "cell_type": "markdown",
      "metadata": {
        "id": "fRlmSkmJ7kYQ"
      },
      "source": [
        "## 3.1 Contents<a id='3.1_Contents'></a>\n",
        "* [3 Exploratory Data Analysis](#3_Exploratory_Data_Analysis)\n",
        "  * [3.1 Contents](#3.1_Contents)\n",
        "  * [3.2 Introduction](#3.2_Introduction)\n",
        "  * [3.3 Imports](#3.3_Imports)\n",
        "  * [3.4 Load The Data](#3.4_Load_The_Data)\n",
        "    * [3.4.1 Ski data](#3.4.1_Ski_data)\n",
        "    * [3.4.2 State-wide summary data](#3.4.2_State-wide_summary_data)\n",
        "  * [3.5 Explore The Data](#3.5_Explore_The_Data)\n",
        "    * [3.5.1 Top States By Order Of Each Of The Summary Statistics](#3.5.1_Top_States_By_Order_Of_Each_Of_The_Summary_Statistics)\n",
        "      * [3.5.1.1 Total state area](#3.5.1.1_Total_state_area)\n",
        "      * [3.5.1.2 Total state population](#3.5.1.2_Total_state_population)\n",
        "      * [3.5.1.3 Resorts per state](#3.5.1.3_Resorts_per_state)\n",
        "      * [3.5.1.4 Total skiable area](#3.5.1.4_Total_skiable_area)\n",
        "      * [3.5.1.5 Total night skiing area](#3.5.1.5_Total_night_skiing_area)\n",
        "      * [3.5.1.6 Total days open](#3.5.1.6_Total_days_open)\n",
        "    * [3.5.2 Resort density](#3.5.2_Resort_density)\n",
        "      * [3.5.2.1 Top states by resort density](#3.5.2.1_Top_states_by_resort_density)\n",
        "    * [3.5.3 Visualizing High Dimensional Data](#3.5.3_Visualizing_High_Dimensional_Data)\n",
        "      * [3.5.3.1 Scale the data](#3.5.3.1_Scale_the_data)\n",
        "        * [3.5.3.1.1 Verifying the scaling](#3.5.3.1.1_Verifying_the_scaling)\n",
        "      * [3.5.3.2 Calculate the PCA transformation](#3.5.3.2_Calculate_the_PCA_transformation)\n",
        "      * [3.5.3.3 Average ticket price by state](#3.5.3.3_Average_ticket_price_by_state)\n",
        "      * [3.5.3.4 Adding average ticket price to scatter plot](#3.5.3.4_Adding_average_ticket_price_to_scatter_plot)\n",
        "    * [3.5.4 Conclusion On How To Handle State Label](#3.5.4_Conclusion_On_How_To_Handle_State_Label)\n",
        "    * [3.5.5 Ski Resort Numeric Data](#3.5.5_Ski_Resort_Numeric_Data)\n",
        "      * [3.5.5.1 Feature engineering](#3.5.5.1_Feature_engineering)\n",
        "      * [3.5.5.2 Feature correlation heatmap](#3.5.5.2_Feature_correlation_heatmap)\n",
        "      * [3.5.5.3 Scatterplots of numeric features against ticket price](#3.5.5.3_Scatterplots_of_numeric_features_against_ticket_price)\n",
        "  * [3.6 Summary](#3.6_Summary)\n"
      ]
    },
    {
      "cell_type": "markdown",
      "metadata": {
        "id": "aL0sdZDe7kYR"
      },
      "source": [
        "## 3.2 Introduction<a id='3.2_Introduction'></a>"
      ]
    },
    {
      "cell_type": "markdown",
      "metadata": {
        "id": "Zoi0GstH7kYR"
      },
      "source": [
        "At this point, you should have a firm idea of what your data science problem is and have the data you believe could help solve it. The business problem was a general one of modeling resort revenue. The data you started with contained some ticket price values, but with a number of missing values that led to several rows being dropped completely. You also had two kinds of ticket price. There were also some obvious issues with some of the other features in the data that, for example, led to one column being completely dropped, a data error corrected, and some other rows dropped. You also obtained some additional US state population and size data with which to augment the dataset, which also required some cleaning.\n",
        "\n",
        "The data science problem you subsequently identified is to predict the adult weekend ticket price for ski resorts."
      ]
    },
    {
      "cell_type": "markdown",
      "metadata": {
        "id": "enc6XV4I7kYS"
      },
      "source": [
        "## 3.3 Imports<a id='3.3_Imports'></a>"
      ]
    },
    {
      "cell_type": "code",
      "metadata": {
        "execution": {
          "iopub.execute_input": "2020-10-07T07:04:19.124917Z",
          "iopub.status.busy": "2020-10-07T07:04:19.124711Z",
          "iopub.status.idle": "2020-10-07T07:04:19.128523Z",
          "shell.execute_reply": "2020-10-07T07:04:19.128112Z",
          "shell.execute_reply.started": "2020-10-07T07:04:19.124888Z"
        },
        "id": "IVd5DnKa7kYS"
      },
      "source": [
        "import pandas as pd\n",
        "import numpy as np\n",
        "import os\n",
        "import matplotlib.pyplot as plt\n",
        "import seaborn as sns\n",
        "from sklearn.decomposition import PCA\n",
        "from sklearn.preprocessing import scale\n",
        "\n",
        "#from library.sb_utils import save_file"
      ],
      "execution_count": null,
      "outputs": []
    },
    {
      "cell_type": "markdown",
      "metadata": {
        "id": "pTzkDCx67kYV"
      },
      "source": [
        "## 3.4 Load The Data<a id='3.4_Load_The_Data'></a>"
      ]
    },
    {
      "cell_type": "markdown",
      "metadata": {
        "id": "hb2FCZSP7kYW"
      },
      "source": [
        "### 3.4.1 Ski data<a id='3.4.1_Ski_data'></a>"
      ]
    },
    {
      "cell_type": "code",
      "metadata": {
        "id": "5x6UShGp8TYj",
        "outputId": "d5fe44c1-90f5-423c-ed8c-33104152173d",
        "colab": {
          "base_uri": "https://localhost:8080/",
          "height": 34
        }
      },
      "source": [
        "from google.colab import drive\n",
        "drive.mount('/content/drive')"
      ],
      "execution_count": null,
      "outputs": [
        {
          "output_type": "stream",
          "text": [
            "Mounted at /content/drive\n"
          ],
          "name": "stdout"
        }
      ]
    },
    {
      "cell_type": "code",
      "metadata": {
        "id": "JKJhsQW67kYW"
      },
      "source": [
        "url = '/content/drive/My Drive/Colab Notebooks/Springboard - Data Science Career Track/6 - Guided Capstone 1/ski_data_cleaned.csv'\n",
        "ski_data = pd.read_csv(url, index_col=0)"
      ],
      "execution_count": null,
      "outputs": []
    },
    {
      "cell_type": "code",
      "metadata": {
        "id": "9_AaKyj17kYZ",
        "outputId": "fa702ba7-25b0-4cd5-b9e9-2b97dedca8f9",
        "colab": {
          "base_uri": "https://localhost:8080/",
          "height": 561
        }
      },
      "source": [
        "ski_data.info()"
      ],
      "execution_count": null,
      "outputs": [
        {
          "output_type": "stream",
          "text": [
            "<class 'pandas.core.frame.DataFrame'>\n",
            "Int64Index: 277 entries, 0 to 329\n",
            "Data columns (total 25 columns):\n",
            " #   Column             Non-Null Count  Dtype  \n",
            "---  ------             --------------  -----  \n",
            " 0   Name               277 non-null    object \n",
            " 1   Region             277 non-null    object \n",
            " 2   state              277 non-null    object \n",
            " 3   summit_elev        277 non-null    int64  \n",
            " 4   vertical_drop      277 non-null    int64  \n",
            " 5   base_elev          277 non-null    int64  \n",
            " 6   trams              277 non-null    int64  \n",
            " 7   fastSixes          277 non-null    int64  \n",
            " 8   fastQuads          277 non-null    int64  \n",
            " 9   quad               277 non-null    int64  \n",
            " 10  triple             277 non-null    int64  \n",
            " 11  double             277 non-null    int64  \n",
            " 12  surface            277 non-null    int64  \n",
            " 13  total_chairs       277 non-null    int64  \n",
            " 14  Runs               274 non-null    float64\n",
            " 15  TerrainParks       233 non-null    float64\n",
            " 16  LongestRun_mi      272 non-null    float64\n",
            " 17  SkiableTerrain_ac  275 non-null    float64\n",
            " 18  Snow Making_ac     240 non-null    float64\n",
            " 19  daysOpenLastYear   233 non-null    float64\n",
            " 20  yearsOpen          277 non-null    float64\n",
            " 21  averageSnowfall    268 non-null    float64\n",
            " 22  AdultWeekend       277 non-null    float64\n",
            " 23  projectedDaysOpen  236 non-null    float64\n",
            " 24  NightSkiing_ac     163 non-null    float64\n",
            "dtypes: float64(11), int64(11), object(3)\n",
            "memory usage: 56.3+ KB\n"
          ],
          "name": "stdout"
        }
      ]
    },
    {
      "cell_type": "code",
      "metadata": {
        "id": "jlvm5Mf87kYb",
        "outputId": "2f6fd5ab-3c7f-453e-a5b4-13b50dcd0dfb",
        "colab": {
          "base_uri": "https://localhost:8080/",
          "height": 343
        }
      },
      "source": [
        "ski_data.head()"
      ],
      "execution_count": null,
      "outputs": [
        {
          "output_type": "execute_result",
          "data": {
            "text/html": [
              "<div>\n",
              "<style scoped>\n",
              "    .dataframe tbody tr th:only-of-type {\n",
              "        vertical-align: middle;\n",
              "    }\n",
              "\n",
              "    .dataframe tbody tr th {\n",
              "        vertical-align: top;\n",
              "    }\n",
              "\n",
              "    .dataframe thead th {\n",
              "        text-align: right;\n",
              "    }\n",
              "</style>\n",
              "<table border=\"1\" class=\"dataframe\">\n",
              "  <thead>\n",
              "    <tr style=\"text-align: right;\">\n",
              "      <th></th>\n",
              "      <th>Name</th>\n",
              "      <th>Region</th>\n",
              "      <th>state</th>\n",
              "      <th>summit_elev</th>\n",
              "      <th>vertical_drop</th>\n",
              "      <th>base_elev</th>\n",
              "      <th>trams</th>\n",
              "      <th>fastSixes</th>\n",
              "      <th>fastQuads</th>\n",
              "      <th>quad</th>\n",
              "      <th>triple</th>\n",
              "      <th>double</th>\n",
              "      <th>surface</th>\n",
              "      <th>total_chairs</th>\n",
              "      <th>Runs</th>\n",
              "      <th>TerrainParks</th>\n",
              "      <th>LongestRun_mi</th>\n",
              "      <th>SkiableTerrain_ac</th>\n",
              "      <th>Snow Making_ac</th>\n",
              "      <th>daysOpenLastYear</th>\n",
              "      <th>yearsOpen</th>\n",
              "      <th>averageSnowfall</th>\n",
              "      <th>AdultWeekend</th>\n",
              "      <th>projectedDaysOpen</th>\n",
              "      <th>NightSkiing_ac</th>\n",
              "    </tr>\n",
              "  </thead>\n",
              "  <tbody>\n",
              "    <tr>\n",
              "      <th>0</th>\n",
              "      <td>Alyeska Resort</td>\n",
              "      <td>Alaska</td>\n",
              "      <td>Alaska</td>\n",
              "      <td>3939</td>\n",
              "      <td>2500</td>\n",
              "      <td>250</td>\n",
              "      <td>1</td>\n",
              "      <td>0</td>\n",
              "      <td>2</td>\n",
              "      <td>2</td>\n",
              "      <td>0</td>\n",
              "      <td>0</td>\n",
              "      <td>2</td>\n",
              "      <td>7</td>\n",
              "      <td>76.0</td>\n",
              "      <td>2.0</td>\n",
              "      <td>1.0</td>\n",
              "      <td>1610.0</td>\n",
              "      <td>113.0</td>\n",
              "      <td>150.0</td>\n",
              "      <td>60.0</td>\n",
              "      <td>669.0</td>\n",
              "      <td>85.0</td>\n",
              "      <td>150.0</td>\n",
              "      <td>550.0</td>\n",
              "    </tr>\n",
              "    <tr>\n",
              "      <th>1</th>\n",
              "      <td>Eaglecrest Ski Area</td>\n",
              "      <td>Alaska</td>\n",
              "      <td>Alaska</td>\n",
              "      <td>2600</td>\n",
              "      <td>1540</td>\n",
              "      <td>1200</td>\n",
              "      <td>0</td>\n",
              "      <td>0</td>\n",
              "      <td>0</td>\n",
              "      <td>0</td>\n",
              "      <td>0</td>\n",
              "      <td>4</td>\n",
              "      <td>0</td>\n",
              "      <td>4</td>\n",
              "      <td>36.0</td>\n",
              "      <td>1.0</td>\n",
              "      <td>2.0</td>\n",
              "      <td>640.0</td>\n",
              "      <td>60.0</td>\n",
              "      <td>45.0</td>\n",
              "      <td>44.0</td>\n",
              "      <td>350.0</td>\n",
              "      <td>53.0</td>\n",
              "      <td>90.0</td>\n",
              "      <td>NaN</td>\n",
              "    </tr>\n",
              "    <tr>\n",
              "      <th>2</th>\n",
              "      <td>Hilltop Ski Area</td>\n",
              "      <td>Alaska</td>\n",
              "      <td>Alaska</td>\n",
              "      <td>2090</td>\n",
              "      <td>294</td>\n",
              "      <td>1796</td>\n",
              "      <td>0</td>\n",
              "      <td>0</td>\n",
              "      <td>0</td>\n",
              "      <td>0</td>\n",
              "      <td>1</td>\n",
              "      <td>0</td>\n",
              "      <td>2</td>\n",
              "      <td>3</td>\n",
              "      <td>13.0</td>\n",
              "      <td>1.0</td>\n",
              "      <td>1.0</td>\n",
              "      <td>30.0</td>\n",
              "      <td>30.0</td>\n",
              "      <td>150.0</td>\n",
              "      <td>36.0</td>\n",
              "      <td>69.0</td>\n",
              "      <td>34.0</td>\n",
              "      <td>152.0</td>\n",
              "      <td>30.0</td>\n",
              "    </tr>\n",
              "    <tr>\n",
              "      <th>3</th>\n",
              "      <td>Arizona Snowbowl</td>\n",
              "      <td>Arizona</td>\n",
              "      <td>Arizona</td>\n",
              "      <td>11500</td>\n",
              "      <td>2300</td>\n",
              "      <td>9200</td>\n",
              "      <td>0</td>\n",
              "      <td>1</td>\n",
              "      <td>0</td>\n",
              "      <td>2</td>\n",
              "      <td>2</td>\n",
              "      <td>1</td>\n",
              "      <td>2</td>\n",
              "      <td>8</td>\n",
              "      <td>55.0</td>\n",
              "      <td>4.0</td>\n",
              "      <td>2.0</td>\n",
              "      <td>777.0</td>\n",
              "      <td>104.0</td>\n",
              "      <td>122.0</td>\n",
              "      <td>81.0</td>\n",
              "      <td>260.0</td>\n",
              "      <td>89.0</td>\n",
              "      <td>122.0</td>\n",
              "      <td>NaN</td>\n",
              "    </tr>\n",
              "    <tr>\n",
              "      <th>4</th>\n",
              "      <td>Sunrise Park Resort</td>\n",
              "      <td>Arizona</td>\n",
              "      <td>Arizona</td>\n",
              "      <td>11100</td>\n",
              "      <td>1800</td>\n",
              "      <td>9200</td>\n",
              "      <td>0</td>\n",
              "      <td>0</td>\n",
              "      <td>1</td>\n",
              "      <td>2</td>\n",
              "      <td>3</td>\n",
              "      <td>1</td>\n",
              "      <td>0</td>\n",
              "      <td>7</td>\n",
              "      <td>65.0</td>\n",
              "      <td>2.0</td>\n",
              "      <td>1.2</td>\n",
              "      <td>800.0</td>\n",
              "      <td>80.0</td>\n",
              "      <td>115.0</td>\n",
              "      <td>49.0</td>\n",
              "      <td>250.0</td>\n",
              "      <td>78.0</td>\n",
              "      <td>104.0</td>\n",
              "      <td>80.0</td>\n",
              "    </tr>\n",
              "  </tbody>\n",
              "</table>\n",
              "</div>"
            ],
            "text/plain": [
              "                  Name   Region  ... projectedDaysOpen  NightSkiing_ac\n",
              "0       Alyeska Resort   Alaska  ...             150.0           550.0\n",
              "1  Eaglecrest Ski Area   Alaska  ...              90.0             NaN\n",
              "2     Hilltop Ski Area   Alaska  ...             152.0            30.0\n",
              "3     Arizona Snowbowl  Arizona  ...             122.0             NaN\n",
              "4  Sunrise Park Resort  Arizona  ...             104.0            80.0\n",
              "\n",
              "[5 rows x 25 columns]"
            ]
          },
          "metadata": {
            "tags": []
          },
          "execution_count": 5
        }
      ]
    },
    {
      "cell_type": "markdown",
      "metadata": {
        "id": "Pg9DvGJl7kYe"
      },
      "source": [
        "### 3.4.2 State-wide summary data<a id='3.4.2_State-wide_summary_data'></a>"
      ]
    },
    {
      "cell_type": "code",
      "metadata": {
        "id": "w7e56daT7kYe"
      },
      "source": [
        "stateurl = '/content/drive/My Drive/Colab Notebooks/Springboard - Data Science Career Track/6 - Guided Capstone 1/state_summary.csv'\n",
        "state_summary = pd.read_csv(stateurl, index_col=0)"
      ],
      "execution_count": null,
      "outputs": []
    },
    {
      "cell_type": "code",
      "metadata": {
        "id": "7y6bd3YW7kYh",
        "outputId": "480fbde6-2b7a-4c95-b365-f89eb6b1c368",
        "colab": {
          "base_uri": "https://localhost:8080/",
          "height": 272
        }
      },
      "source": [
        "state_summary.info()"
      ],
      "execution_count": null,
      "outputs": [
        {
          "output_type": "stream",
          "text": [
            "<class 'pandas.core.frame.DataFrame'>\n",
            "Int64Index: 35 entries, 0 to 34\n",
            "Data columns (total 8 columns):\n",
            " #   Column                       Non-Null Count  Dtype  \n",
            "---  ------                       --------------  -----  \n",
            " 0   state                        35 non-null     object \n",
            " 1   resorts_per_state            35 non-null     int64  \n",
            " 2   state_total_skiable_area_ac  35 non-null     float64\n",
            " 3   state_total_days_open        35 non-null     float64\n",
            " 4   state_total_terrain_parks    35 non-null     float64\n",
            " 5   state_total_nightskiing_ac   35 non-null     float64\n",
            " 6   state_population             35 non-null     int64  \n",
            " 7   state_area_sq_miles          35 non-null     int64  \n",
            "dtypes: float64(4), int64(3), object(1)\n",
            "memory usage: 2.5+ KB\n"
          ],
          "name": "stdout"
        }
      ]
    },
    {
      "cell_type": "code",
      "metadata": {
        "scrolled": true,
        "id": "db5O4yI67kYo",
        "outputId": "5b8ac448-0355-4713-9d48-43008997fb23",
        "colab": {
          "base_uri": "https://localhost:8080/",
          "height": 204
        }
      },
      "source": [
        "state_summary.head()"
      ],
      "execution_count": null,
      "outputs": [
        {
          "output_type": "execute_result",
          "data": {
            "text/html": [
              "<div>\n",
              "<style scoped>\n",
              "    .dataframe tbody tr th:only-of-type {\n",
              "        vertical-align: middle;\n",
              "    }\n",
              "\n",
              "    .dataframe tbody tr th {\n",
              "        vertical-align: top;\n",
              "    }\n",
              "\n",
              "    .dataframe thead th {\n",
              "        text-align: right;\n",
              "    }\n",
              "</style>\n",
              "<table border=\"1\" class=\"dataframe\">\n",
              "  <thead>\n",
              "    <tr style=\"text-align: right;\">\n",
              "      <th></th>\n",
              "      <th>state</th>\n",
              "      <th>resorts_per_state</th>\n",
              "      <th>state_total_skiable_area_ac</th>\n",
              "      <th>state_total_days_open</th>\n",
              "      <th>state_total_terrain_parks</th>\n",
              "      <th>state_total_nightskiing_ac</th>\n",
              "      <th>state_population</th>\n",
              "      <th>state_area_sq_miles</th>\n",
              "    </tr>\n",
              "  </thead>\n",
              "  <tbody>\n",
              "    <tr>\n",
              "      <th>0</th>\n",
              "      <td>Alaska</td>\n",
              "      <td>3</td>\n",
              "      <td>2280.0</td>\n",
              "      <td>345.0</td>\n",
              "      <td>4.0</td>\n",
              "      <td>580.0</td>\n",
              "      <td>731545</td>\n",
              "      <td>665384</td>\n",
              "    </tr>\n",
              "    <tr>\n",
              "      <th>1</th>\n",
              "      <td>Arizona</td>\n",
              "      <td>2</td>\n",
              "      <td>1577.0</td>\n",
              "      <td>237.0</td>\n",
              "      <td>6.0</td>\n",
              "      <td>80.0</td>\n",
              "      <td>7278717</td>\n",
              "      <td>113990</td>\n",
              "    </tr>\n",
              "    <tr>\n",
              "      <th>2</th>\n",
              "      <td>California</td>\n",
              "      <td>20</td>\n",
              "      <td>21148.0</td>\n",
              "      <td>2583.0</td>\n",
              "      <td>78.0</td>\n",
              "      <td>587.0</td>\n",
              "      <td>39512223</td>\n",
              "      <td>163695</td>\n",
              "    </tr>\n",
              "    <tr>\n",
              "      <th>3</th>\n",
              "      <td>Colorado</td>\n",
              "      <td>22</td>\n",
              "      <td>43682.0</td>\n",
              "      <td>3258.0</td>\n",
              "      <td>74.0</td>\n",
              "      <td>428.0</td>\n",
              "      <td>5758736</td>\n",
              "      <td>104094</td>\n",
              "    </tr>\n",
              "    <tr>\n",
              "      <th>4</th>\n",
              "      <td>Connecticut</td>\n",
              "      <td>5</td>\n",
              "      <td>358.0</td>\n",
              "      <td>353.0</td>\n",
              "      <td>10.0</td>\n",
              "      <td>256.0</td>\n",
              "      <td>3565278</td>\n",
              "      <td>5543</td>\n",
              "    </tr>\n",
              "  </tbody>\n",
              "</table>\n",
              "</div>"
            ],
            "text/plain": [
              "         state  resorts_per_state  ...  state_population  state_area_sq_miles\n",
              "0       Alaska                  3  ...            731545               665384\n",
              "1      Arizona                  2  ...           7278717               113990\n",
              "2   California                 20  ...          39512223               163695\n",
              "3     Colorado                 22  ...           5758736               104094\n",
              "4  Connecticut                  5  ...           3565278                 5543\n",
              "\n",
              "[5 rows x 8 columns]"
            ]
          },
          "metadata": {
            "tags": []
          },
          "execution_count": 8
        }
      ]
    },
    {
      "cell_type": "markdown",
      "metadata": {
        "id": "uAEu1rK-7kYq"
      },
      "source": [
        "## 3.5 Explore The Data<a id='3.5_Explore_The_Data'></a>"
      ]
    },
    {
      "cell_type": "markdown",
      "metadata": {
        "id": "HflqglOl7kYr"
      },
      "source": [
        "### 3.5.1 Top States By Order Of Each Of The Summary Statistics<a id='3.5.1_Top_States_By_Order_Of_Each_Of_The_Summary_Statistics'></a>"
      ]
    },
    {
      "cell_type": "markdown",
      "metadata": {
        "id": "UZ5LcTht7kYr"
      },
      "source": [
        "What does the state-wide picture for your market look like?"
      ]
    },
    {
      "cell_type": "code",
      "metadata": {
        "id": "bsFqrt1X7kYs"
      },
      "source": [
        "state_summary_newind = state_summary.set_index('state')"
      ],
      "execution_count": null,
      "outputs": []
    },
    {
      "cell_type": "markdown",
      "metadata": {
        "id": "SfJBVnP27kYu"
      },
      "source": [
        "#### 3.5.1.1 Total state area<a id='3.5.1.1_Total_state_area'></a>"
      ]
    },
    {
      "cell_type": "code",
      "metadata": {
        "id": "5q9M8KOi7kYu",
        "outputId": "062e94af-3c2d-4b3d-cc50-e093f1dd6d42",
        "colab": {
          "base_uri": "https://localhost:8080/",
          "height": 136
        }
      },
      "source": [
        "state_summary_newind.state_area_sq_miles.sort_values(ascending=False).head()"
      ],
      "execution_count": null,
      "outputs": [
        {
          "output_type": "execute_result",
          "data": {
            "text/plain": [
              "state\n",
              "Alaska        665384\n",
              "California    163695\n",
              "Montana       147040\n",
              "New Mexico    121590\n",
              "Arizona       113990\n",
              "Name: state_area_sq_miles, dtype: int64"
            ]
          },
          "metadata": {
            "tags": []
          },
          "execution_count": 10
        }
      ]
    },
    {
      "cell_type": "markdown",
      "metadata": {
        "id": "XgfhfioS7kYw"
      },
      "source": [
        "Your home state, Montana, comes in at third largest."
      ]
    },
    {
      "cell_type": "markdown",
      "metadata": {
        "id": "pNsJ5ewl7kYx"
      },
      "source": [
        "#### 3.5.1.2 Total state population<a id='3.5.1.2_Total_state_population'></a>"
      ]
    },
    {
      "cell_type": "code",
      "metadata": {
        "id": "Av0g4aFI7kYy",
        "outputId": "bf53612f-6324-49a8-a5ca-7db8f3f158fe",
        "colab": {
          "base_uri": "https://localhost:8080/",
          "height": 136
        }
      },
      "source": [
        "state_summary_newind.state_population.sort_values(ascending=False).head()"
      ],
      "execution_count": null,
      "outputs": [
        {
          "output_type": "execute_result",
          "data": {
            "text/plain": [
              "state\n",
              "California      39512223\n",
              "New York        19453561\n",
              "Pennsylvania    12801989\n",
              "Illinois        12671821\n",
              "Ohio            11689100\n",
              "Name: state_population, dtype: int64"
            ]
          },
          "metadata": {
            "tags": []
          },
          "execution_count": 11
        }
      ]
    },
    {
      "cell_type": "markdown",
      "metadata": {
        "id": "dhDRwDrg7kY1"
      },
      "source": [
        "California dominates the state population figures despite coming in second behind Alaska in size (by a long way). The resort's state of Montana was in the top five for size, but doesn't figure in the most populous states. Thus your state is less densely populated."
      ]
    },
    {
      "cell_type": "markdown",
      "metadata": {
        "id": "j5F9oeKq7kY1"
      },
      "source": [
        "#### 3.5.1.3 Resorts per state<a id='3.5.1.3_Resorts_per_state'></a>"
      ]
    },
    {
      "cell_type": "code",
      "metadata": {
        "id": "SeJX2UTa7kY2",
        "outputId": "9b7ea3d9-5c72-4d98-f5c4-a6bbe0b8539e",
        "colab": {
          "base_uri": "https://localhost:8080/",
          "height": 136
        }
      },
      "source": [
        "state_summary_newind.resorts_per_state.sort_values(ascending=False).head()"
      ],
      "execution_count": null,
      "outputs": [
        {
          "output_type": "execute_result",
          "data": {
            "text/plain": [
              "state\n",
              "New York        33\n",
              "Michigan        28\n",
              "Colorado        22\n",
              "California      20\n",
              "Pennsylvania    19\n",
              "Name: resorts_per_state, dtype: int64"
            ]
          },
          "metadata": {
            "tags": []
          },
          "execution_count": 12
        }
      ]
    },
    {
      "cell_type": "markdown",
      "metadata": {
        "id": "BldSVDrZ7kY4"
      },
      "source": [
        "New York comes top in the number of resorts in our market. Is this because of its proximity to wealthy New Yorkers wanting a convenient skiing trip? Or is it simply that its northerly location means there are plenty of good locations for resorts in that state?"
      ]
    },
    {
      "cell_type": "markdown",
      "metadata": {
        "id": "bm0EhwH67kY5"
      },
      "source": [
        "#### 3.5.1.4 Total skiable area<a id='3.5.1.4_Total_skiable_area'></a>"
      ]
    },
    {
      "cell_type": "code",
      "metadata": {
        "id": "HtrMfUjx7kY5",
        "outputId": "1ad22ab9-8271-4610-f3bd-c1fbeb1792a7",
        "colab": {
          "base_uri": "https://localhost:8080/",
          "height": 136
        }
      },
      "source": [
        "state_summary_newind.state_total_skiable_area_ac.sort_values(ascending=False).head()"
      ],
      "execution_count": null,
      "outputs": [
        {
          "output_type": "execute_result",
          "data": {
            "text/plain": [
              "state\n",
              "Colorado      43682.0\n",
              "Utah          30508.0\n",
              "Montana       21410.0\n",
              "California    21148.0\n",
              "Idaho         16396.0\n",
              "Name: state_total_skiable_area_ac, dtype: float64"
            ]
          },
          "metadata": {
            "tags": []
          },
          "execution_count": 13
        }
      ]
    },
    {
      "cell_type": "markdown",
      "metadata": {
        "id": "UkMY4kFK7kY7"
      },
      "source": [
        "New York state may have the most resorts, but they don't account for the most skiing area. In fact, New York doesn't even make it into the top five of skiable area. Good old Montana makes it into the top five, though. You may start to think that New York has more, smaller resorts, whereas Montana has fewer, larger resorts. Colorado seems to have a name for skiing; it's in the top five for resorts and in top place for total skiable area."
      ]
    },
    {
      "cell_type": "markdown",
      "metadata": {
        "id": "07I266dD7kY8"
      },
      "source": [
        "#### 3.5.1.5 Total night skiing area<a id='3.5.1.5_Total_night_skiing_area'></a>"
      ]
    },
    {
      "cell_type": "code",
      "metadata": {
        "id": "OV0zpFA_7kY8",
        "outputId": "2688595e-da79-45f2-b1c0-0e7985af0441",
        "colab": {
          "base_uri": "https://localhost:8080/",
          "height": 136
        }
      },
      "source": [
        "state_summary_newind.state_total_nightskiing_ac.sort_values(ascending=False).head()"
      ],
      "execution_count": null,
      "outputs": [
        {
          "output_type": "execute_result",
          "data": {
            "text/plain": [
              "state\n",
              "New York        2836.0\n",
              "Washington      1997.0\n",
              "Michigan        1946.0\n",
              "Pennsylvania    1528.0\n",
              "Oregon          1127.0\n",
              "Name: state_total_nightskiing_ac, dtype: float64"
            ]
          },
          "metadata": {
            "tags": []
          },
          "execution_count": 14
        }
      ]
    },
    {
      "cell_type": "markdown",
      "metadata": {
        "id": "Y0TmJDwR7kY-"
      },
      "source": [
        "New York dominates the area of skiing available at night. Looking at the top five in general, they are all the more northerly states. Is night skiing in and of itself an appeal to customers, or is a consequence of simply trying to extend the skiing day where days are shorter? Is New York's domination here because it's trying to maximize its appeal to visitors who'd travel a shorter distance for a shorter visit? You'll find the data generates more (good) questions rather than answering them. This is a positive sign! You might ask your executive sponsor or data provider for some additional data about typical length of stays at these resorts, although you might end up with data that is very granular and most likely proprietary to each resort. A useful level of granularity might be \"number of day tickets\" and \"number of weekly passes\" sold."
      ]
    },
    {
      "cell_type": "markdown",
      "metadata": {
        "id": "KaYhBPhJ7kY_"
      },
      "source": [
        "#### 3.5.1.6 Total days open<a id='3.5.1.6_Total_days_open'></a>"
      ]
    },
    {
      "cell_type": "code",
      "metadata": {
        "id": "tlEVhZ1u7kY_",
        "outputId": "cf647cfb-4f75-4723-b289-4566f74e9a13",
        "colab": {
          "base_uri": "https://localhost:8080/",
          "height": 136
        }
      },
      "source": [
        "state_summary_newind.state_total_days_open.sort_values(ascending=False).head()"
      ],
      "execution_count": null,
      "outputs": [
        {
          "output_type": "execute_result",
          "data": {
            "text/plain": [
              "state\n",
              "Colorado         3258.0\n",
              "California       2583.0\n",
              "Michigan         2389.0\n",
              "New York         2384.0\n",
              "New Hampshire    1847.0\n",
              "Name: state_total_days_open, dtype: float64"
            ]
          },
          "metadata": {
            "tags": []
          },
          "execution_count": 15
        }
      ]
    },
    {
      "cell_type": "markdown",
      "metadata": {
        "id": "Rhm0M9ym7kZB"
      },
      "source": [
        "The total days open seem to bear some resemblance to the number of resorts. This is plausible. The season will only be so long, and so the more resorts open through the skiing season, the more total days open we'll see. New Hampshire makes a good effort at making it into the top five, for a small state that didn't make it into the top five of resorts per state. Does its location mean resorts there have a longer season and so stay open longer, despite there being fewer of them?"
      ]
    },
    {
      "cell_type": "markdown",
      "metadata": {
        "id": "yes438ib7kZC"
      },
      "source": [
        "### 3.5.2 Resort density<a id='3.5.2_Resort_density'></a>"
      ]
    },
    {
      "cell_type": "markdown",
      "metadata": {
        "id": "ozq2LmfO7kZC"
      },
      "source": [
        "There are big states which are not necessarily the most populous. There are states that host many resorts, but other states host a larger total skiing area. The states with the most total days skiing per season are not necessarily those with the most resorts. And New York State boasts an especially large night skiing area. New York had the most resorts but wasn't in the top five largest states, so the reason for it having the most resorts can't be simply having lots of space for them. New York has the second largest population behind California. Perhaps many resorts have sprung up in New York because of the population size? Does this mean there is a high competition between resorts in New York State, fighting for customers and thus keeping prices down? You're not concerned, per se, with the absolute size or population of a state, but you could be interested in the ratio of resorts serving a given population or a given area.\n",
        "\n",
        "So, calculate those ratios! Think of them as measures of resort density, and drop the absolute population and state size columns."
      ]
    },
    {
      "cell_type": "code",
      "metadata": {
        "id": "eZ4sB07s7kZC",
        "outputId": "e16937da-9abb-4ba0-f996-0579c6f53f51",
        "colab": {
          "base_uri": "https://localhost:8080/",
          "height": 204
        }
      },
      "source": [
        "# The 100_000 scaling is simply based on eyeballing the magnitudes of the data\n",
        "state_summary['resorts_per_100kcapita'] = 100_000 * state_summary.resorts_per_state / state_summary.state_population\n",
        "state_summary['resorts_per_100ksq_mile'] = 100_000 * state_summary.resorts_per_state / state_summary.state_area_sq_miles\n",
        "state_summary.drop(columns=['state_population', 'state_area_sq_miles'], inplace=True)\n",
        "state_summary.head()"
      ],
      "execution_count": null,
      "outputs": [
        {
          "output_type": "execute_result",
          "data": {
            "text/html": [
              "<div>\n",
              "<style scoped>\n",
              "    .dataframe tbody tr th:only-of-type {\n",
              "        vertical-align: middle;\n",
              "    }\n",
              "\n",
              "    .dataframe tbody tr th {\n",
              "        vertical-align: top;\n",
              "    }\n",
              "\n",
              "    .dataframe thead th {\n",
              "        text-align: right;\n",
              "    }\n",
              "</style>\n",
              "<table border=\"1\" class=\"dataframe\">\n",
              "  <thead>\n",
              "    <tr style=\"text-align: right;\">\n",
              "      <th></th>\n",
              "      <th>state</th>\n",
              "      <th>resorts_per_state</th>\n",
              "      <th>state_total_skiable_area_ac</th>\n",
              "      <th>state_total_days_open</th>\n",
              "      <th>state_total_terrain_parks</th>\n",
              "      <th>state_total_nightskiing_ac</th>\n",
              "      <th>resorts_per_100kcapita</th>\n",
              "      <th>resorts_per_100ksq_mile</th>\n",
              "    </tr>\n",
              "  </thead>\n",
              "  <tbody>\n",
              "    <tr>\n",
              "      <th>0</th>\n",
              "      <td>Alaska</td>\n",
              "      <td>3</td>\n",
              "      <td>2280.0</td>\n",
              "      <td>345.0</td>\n",
              "      <td>4.0</td>\n",
              "      <td>580.0</td>\n",
              "      <td>0.410091</td>\n",
              "      <td>0.450867</td>\n",
              "    </tr>\n",
              "    <tr>\n",
              "      <th>1</th>\n",
              "      <td>Arizona</td>\n",
              "      <td>2</td>\n",
              "      <td>1577.0</td>\n",
              "      <td>237.0</td>\n",
              "      <td>6.0</td>\n",
              "      <td>80.0</td>\n",
              "      <td>0.027477</td>\n",
              "      <td>1.754540</td>\n",
              "    </tr>\n",
              "    <tr>\n",
              "      <th>2</th>\n",
              "      <td>California</td>\n",
              "      <td>20</td>\n",
              "      <td>21148.0</td>\n",
              "      <td>2583.0</td>\n",
              "      <td>78.0</td>\n",
              "      <td>587.0</td>\n",
              "      <td>0.050617</td>\n",
              "      <td>12.217844</td>\n",
              "    </tr>\n",
              "    <tr>\n",
              "      <th>3</th>\n",
              "      <td>Colorado</td>\n",
              "      <td>22</td>\n",
              "      <td>43682.0</td>\n",
              "      <td>3258.0</td>\n",
              "      <td>74.0</td>\n",
              "      <td>428.0</td>\n",
              "      <td>0.382028</td>\n",
              "      <td>21.134744</td>\n",
              "    </tr>\n",
              "    <tr>\n",
              "      <th>4</th>\n",
              "      <td>Connecticut</td>\n",
              "      <td>5</td>\n",
              "      <td>358.0</td>\n",
              "      <td>353.0</td>\n",
              "      <td>10.0</td>\n",
              "      <td>256.0</td>\n",
              "      <td>0.140242</td>\n",
              "      <td>90.203861</td>\n",
              "    </tr>\n",
              "  </tbody>\n",
              "</table>\n",
              "</div>"
            ],
            "text/plain": [
              "         state  ...  resorts_per_100ksq_mile\n",
              "0       Alaska  ...                 0.450867\n",
              "1      Arizona  ...                 1.754540\n",
              "2   California  ...                12.217844\n",
              "3     Colorado  ...                21.134744\n",
              "4  Connecticut  ...                90.203861\n",
              "\n",
              "[5 rows x 8 columns]"
            ]
          },
          "metadata": {
            "tags": []
          },
          "execution_count": 16
        }
      ]
    },
    {
      "cell_type": "markdown",
      "metadata": {
        "id": "13Bc4IBi7kZE"
      },
      "source": [
        "With the removal of the two columns that only spoke to state-specific data, you now have a Dataframe that speaks to the skiing competitive landscape of each state. It has the number of resorts per state, total skiable area, and days of skiing. You've translated the plain state data into something more useful that gives you an idea of the density of resorts relative to the state population and size."
      ]
    },
    {
      "cell_type": "markdown",
      "metadata": {
        "id": "JNsy-Lnp7kZF"
      },
      "source": [
        "How do the distributions of these two new features look?"
      ]
    },
    {
      "cell_type": "code",
      "metadata": {
        "id": "VcF8ePmW7kZF",
        "outputId": "8daa7364-1fd5-4686-9e1d-576f54f58c3e",
        "colab": {
          "base_uri": "https://localhost:8080/",
          "height": 279
        }
      },
      "source": [
        "state_summary.resorts_per_100kcapita.hist(bins=30)\n",
        "plt.xlabel('Number of resorts per 100k population')\n",
        "plt.ylabel('count');"
      ],
      "execution_count": null,
      "outputs": [
        {
          "output_type": "display_data",
          "data": {
            "image/png": "[encoded data removed]",
            "text/plain": [
              "<Figure size 432x288 with 1 Axes>"
            ]
          },
          "metadata": {
            "tags": [],
            "needs_background": "light"
          }
        }
      ]
    },
    {
      "cell_type": "code",
      "metadata": {
        "id": "iKzfg2607kZH",
        "outputId": "83101804-9b32-4dc0-bab2-9f5e234ca19b",
        "colab": {
          "base_uri": "https://localhost:8080/",
          "height": 279
        }
      },
      "source": [
        "state_summary.resorts_per_100ksq_mile.hist(bins=30)\n",
        "plt.xlabel('Number of resorts per 100k square miles')\n",
        "plt.ylabel('count');"
      ],
      "execution_count": null,
      "outputs": [
        {
          "output_type": "display_data",
          "data": {
            "image/png": "[encoded data removed]",
            "text/plain": [
              "<Figure size 432x288 with 1 Axes>"
            ]
          },
          "metadata": {
            "tags": [],
            "needs_background": "light"
          }
        }
      ]
    },
    {
      "cell_type": "markdown",
      "metadata": {
        "id": "p_-NfZqw7kZJ"
      },
      "source": [
        "So they have quite some long tails on them, but there's definitely some structure there."
      ]
    },
    {
      "cell_type": "markdown",
      "metadata": {
        "id": "8UcY_w2A7kZK"
      },
      "source": [
        "#### 3.5.2.1 Top states by resort density<a id='3.5.2.1_Top_states_by_resort_density'></a>"
      ]
    },
    {
      "cell_type": "code",
      "metadata": {
        "id": "j0x4VuNM7kZK",
        "outputId": "7a141889-f884-4615-b76e-4e18da6294d9",
        "colab": {
          "base_uri": "https://localhost:8080/",
          "height": 136
        }
      },
      "source": [
        "state_summary.set_index('state').resorts_per_100kcapita.sort_values(ascending=False).head()"
      ],
      "execution_count": null,
      "outputs": [
        {
          "output_type": "execute_result",
          "data": {
            "text/plain": [
              "state\n",
              "Vermont          2.403889\n",
              "Wyoming          1.382268\n",
              "New Hampshire    1.176721\n",
              "Montana          1.122778\n",
              "Idaho            0.671492\n",
              "Name: resorts_per_100kcapita, dtype: float64"
            ]
          },
          "metadata": {
            "tags": []
          },
          "execution_count": 19
        }
      ]
    },
    {
      "cell_type": "code",
      "metadata": {
        "id": "X9RLi6Sz7kZM",
        "outputId": "b7482c9d-bf12-4ae4-b9a5-ccf7bdfa13a5",
        "colab": {
          "base_uri": "https://localhost:8080/",
          "height": 136
        }
      },
      "source": [
        "state_summary.set_index('state').resorts_per_100ksq_mile.sort_values(ascending=False).head()"
      ],
      "execution_count": null,
      "outputs": [
        {
          "output_type": "execute_result",
          "data": {
            "text/plain": [
              "state\n",
              "New Hampshire    171.141299\n",
              "Vermont          155.990017\n",
              "Massachusetts    104.225886\n",
              "Connecticut       90.203861\n",
              "Rhode Island      64.724919\n",
              "Name: resorts_per_100ksq_mile, dtype: float64"
            ]
          },
          "metadata": {
            "tags": []
          },
          "execution_count": 20
        }
      ]
    },
    {
      "cell_type": "markdown",
      "metadata": {
        "id": "q90zHYjI7kZP"
      },
      "source": [
        "Vermont seems particularly high in terms of resorts per capita, and both New Hampshire and Vermont top the chart for resorts per area. New York doesn't appear in either!"
      ]
    },
    {
      "cell_type": "markdown",
      "metadata": {
        "id": "EcvtOaQa7kZQ"
      },
      "source": [
        "### 3.5.3 Visualizing High Dimensional Data<a id='3.5.3_Visualizing_High_Dimensional_Data'></a>"
      ]
    },
    {
      "cell_type": "markdown",
      "metadata": {
        "id": "13U5tBQC7kZQ"
      },
      "source": [
        "You may be starting to feel there's a bit of a problem here, or at least a challenge. You've constructed some potentially useful and business relevant features, derived from summary statistics, for each of the states you're concerned with. You've explored many of these features in turn and found various trends. Some states are higher in some but not in others. Some features will also be more correlated with one another than others.\n",
        "\n",
        "One way to disentangle this interconnected web of relationships is via [principle components analysis](https://scikit-learn.org/stable/modules/generated/sklearn.decomposition.PCA.html#sklearn.decomposition.PCA) (PCA). This technique will find linear combinations of the original features that are uncorrelated with one another and order them by the amount of variance they explain. You can use these derived features to visualize the data in a lower dimension (e.g. 2 down from 7) and know how much variance the representation explains. You can also explore how the original features contribute to these derived features."
      ]
    },
    {
      "cell_type": "markdown",
      "metadata": {
        "id": "L5yYk5Kr7kZR"
      },
      "source": [
        "The basic steps in this process are:\n",
        "\n",
        "1. scale the data (important here because our features are heterogenous)\n",
        "2. fit the PCA transformation (learn the transformation from the data)\n",
        "3. apply the transformation to the data to create the derived features\n",
        "4. (optionally) use the derived features to look for patterns in the data and explore the coefficients"
      ]
    },
    {
      "cell_type": "markdown",
      "metadata": {
        "id": "rFKYV9k47kZS"
      },
      "source": [
        "#### 3.5.3.1 Scale the data<a id='3.5.3.1_Scale_the_data'></a>"
      ]
    },
    {
      "cell_type": "markdown",
      "metadata": {
        "id": "a1A6RqsF7kZS"
      },
      "source": [
        "You only want numeric data here, although you don't want to lose track of the state labels, so it's convenient to set the state as the index."
      ]
    },
    {
      "cell_type": "code",
      "metadata": {
        "id": "1BOCI8T37kZT",
        "outputId": "52b9fce8-7a1b-4d74-e921-a318983bdadf",
        "colab": {
          "base_uri": "https://localhost:8080/",
          "height": 235
        }
      },
      "source": [
        "#Code task 1#\n",
        "#Create a new dataframe, `state_summary_scale` from `state_summary` whilst setting the index to 'state'\n",
        "state_summary_scale = state_summary.set_index('state')\n",
        "#Save the state labels (using the index attribute of `state_summary_scale`) into the variable 'state_summary_index'\n",
        "state_summary_index = state_summary_scale.index\n",
        "#Save the column names (using the `columns` attribute) of `state_summary_scale` into the variable 'state_summary_columns'\n",
        "state_summary_columns = state_summary_scale.columns\n",
        "state_summary_scale.head()"
      ],
      "execution_count": null,
      "outputs": [
        {
          "output_type": "execute_result",
          "data": {
            "text/html": [
              "<div>\n",
              "<style scoped>\n",
              "    .dataframe tbody tr th:only-of-type {\n",
              "        vertical-align: middle;\n",
              "    }\n",
              "\n",
              "    .dataframe tbody tr th {\n",
              "        vertical-align: top;\n",
              "    }\n",
              "\n",
              "    .dataframe thead th {\n",
              "        text-align: right;\n",
              "    }\n",
              "</style>\n",
              "<table border=\"1\" class=\"dataframe\">\n",
              "  <thead>\n",
              "    <tr style=\"text-align: right;\">\n",
              "      <th></th>\n",
              "      <th>resorts_per_state</th>\n",
              "      <th>state_total_skiable_area_ac</th>\n",
              "      <th>state_total_days_open</th>\n",
              "      <th>state_total_terrain_parks</th>\n",
              "      <th>state_total_nightskiing_ac</th>\n",
              "      <th>resorts_per_100kcapita</th>\n",
              "      <th>resorts_per_100ksq_mile</th>\n",
              "    </tr>\n",
              "    <tr>\n",
              "      <th>state</th>\n",
              "      <th></th>\n",
              "      <th></th>\n",
              "      <th></th>\n",
              "      <th></th>\n",
              "      <th></th>\n",
              "      <th></th>\n",
              "      <th></th>\n",
              "    </tr>\n",
              "  </thead>\n",
              "  <tbody>\n",
              "    <tr>\n",
              "      <th>Alaska</th>\n",
              "      <td>3</td>\n",
              "      <td>2280.0</td>\n",
              "      <td>345.0</td>\n",
              "      <td>4.0</td>\n",
              "      <td>580.0</td>\n",
              "      <td>0.410091</td>\n",
              "      <td>0.450867</td>\n",
              "    </tr>\n",
              "    <tr>\n",
              "      <th>Arizona</th>\n",
              "      <td>2</td>\n",
              "      <td>1577.0</td>\n",
              "      <td>237.0</td>\n",
              "      <td>6.0</td>\n",
              "      <td>80.0</td>\n",
              "      <td>0.027477</td>\n",
              "      <td>1.754540</td>\n",
              "    </tr>\n",
              "    <tr>\n",
              "      <th>California</th>\n",
              "      <td>20</td>\n",
              "      <td>21148.0</td>\n",
              "      <td>2583.0</td>\n",
              "      <td>78.0</td>\n",
              "      <td>587.0</td>\n",
              "      <td>0.050617</td>\n",
              "      <td>12.217844</td>\n",
              "    </tr>\n",
              "    <tr>\n",
              "      <th>Colorado</th>\n",
              "      <td>22</td>\n",
              "      <td>43682.0</td>\n",
              "      <td>3258.0</td>\n",
              "      <td>74.0</td>\n",
              "      <td>428.0</td>\n",
              "      <td>0.382028</td>\n",
              "      <td>21.134744</td>\n",
              "    </tr>\n",
              "    <tr>\n",
              "      <th>Connecticut</th>\n",
              "      <td>5</td>\n",
              "      <td>358.0</td>\n",
              "      <td>353.0</td>\n",
              "      <td>10.0</td>\n",
              "      <td>256.0</td>\n",
              "      <td>0.140242</td>\n",
              "      <td>90.203861</td>\n",
              "    </tr>\n",
              "  </tbody>\n",
              "</table>\n",
              "</div>"
            ],
            "text/plain": [
              "             resorts_per_state  ...  resorts_per_100ksq_mile\n",
              "state                           ...                         \n",
              "Alaska                       3  ...                 0.450867\n",
              "Arizona                      2  ...                 1.754540\n",
              "California                  20  ...                12.217844\n",
              "Colorado                    22  ...                21.134744\n",
              "Connecticut                  5  ...                90.203861\n",
              "\n",
              "[5 rows x 7 columns]"
            ]
          },
          "metadata": {
            "tags": []
          },
          "execution_count": 21
        }
      ]
    },
    {
      "cell_type": "markdown",
      "metadata": {
        "id": "GI5voWyV7kZW"
      },
      "source": [
        "The above shows what we expect: the columns we want are all numeric and the state has been moved to the index. Although, it's not necessary to step through the sequence so laboriously, it is often good practice even for experienced professionals. It's easy to make a mistake or forget a step, or the data may have been holding out a surprise! Stepping through like this helps  validate both your work and the data!\n",
        "\n",
        "Now use `scale()` to scale the data."
      ]
    },
    {
      "cell_type": "code",
      "metadata": {
        "id": "ZmiraZLy7kZX"
      },
      "source": [
        "state_summary_scale = scale(state_summary_scale)"
      ],
      "execution_count": null,
      "outputs": []
    },
    {
      "cell_type": "markdown",
      "metadata": {
        "id": "GXpWUWYT7kZY"
      },
      "source": [
        "Note, `scale()` returns an ndarray, so you lose the column names. Because you want to visualise scaled data, you already copied the column names. Now you can construct a dataframe from the ndarray here and reintroduce the column names."
      ]
    },
    {
      "cell_type": "code",
      "metadata": {
        "id": "GKuEWKKE7kZZ",
        "outputId": "592a6193-756b-4471-b35f-6144247275d1",
        "colab": {
          "base_uri": "https://localhost:8080/",
          "height": 204
        }
      },
      "source": [
        "#Code task 2#\n",
        "#Create a new dataframe from `state_summary_scale` using the column names we saved in `state_summary_columns`\n",
        "state_summary_scaled_df = pd.DataFrame(state_summary_scale, columns=state_summary_columns)\n",
        "state_summary_scaled_df.head()"
      ],
      "execution_count": null,
      "outputs": [
        {
          "output_type": "execute_result",
          "data": {
            "text/html": [
              "<div>\n",
              "<style scoped>\n",
              "    .dataframe tbody tr th:only-of-type {\n",
              "        vertical-align: middle;\n",
              "    }\n",
              "\n",
              "    .dataframe tbody tr th {\n",
              "        vertical-align: top;\n",
              "    }\n",
              "\n",
              "    .dataframe thead th {\n",
              "        text-align: right;\n",
              "    }\n",
              "</style>\n",
              "<table border=\"1\" class=\"dataframe\">\n",
              "  <thead>\n",
              "    <tr style=\"text-align: right;\">\n",
              "      <th></th>\n",
              "      <th>resorts_per_state</th>\n",
              "      <th>state_total_skiable_area_ac</th>\n",
              "      <th>state_total_days_open</th>\n",
              "      <th>state_total_terrain_parks</th>\n",
              "      <th>state_total_nightskiing_ac</th>\n",
              "      <th>resorts_per_100kcapita</th>\n",
              "      <th>resorts_per_100ksq_mile</th>\n",
              "    </tr>\n",
              "  </thead>\n",
              "  <tbody>\n",
              "    <tr>\n",
              "      <th>0</th>\n",
              "      <td>-0.807428</td>\n",
              "      <td>-0.387683</td>\n",
              "      <td>-0.691515</td>\n",
              "      <td>-0.820328</td>\n",
              "      <td>0.069410</td>\n",
              "      <td>0.139729</td>\n",
              "      <td>-0.689456</td>\n",
              "    </tr>\n",
              "    <tr>\n",
              "      <th>1</th>\n",
              "      <td>-0.934725</td>\n",
              "      <td>-0.459846</td>\n",
              "      <td>-0.822973</td>\n",
              "      <td>-0.730323</td>\n",
              "      <td>-0.701326</td>\n",
              "      <td>-0.644501</td>\n",
              "      <td>-0.657588</td>\n",
              "    </tr>\n",
              "    <tr>\n",
              "      <th>2</th>\n",
              "      <td>1.356624</td>\n",
              "      <td>1.549132</td>\n",
              "      <td>2.032602</td>\n",
              "      <td>2.509843</td>\n",
              "      <td>0.080201</td>\n",
              "      <td>-0.597072</td>\n",
              "      <td>-0.401809</td>\n",
              "    </tr>\n",
              "    <tr>\n",
              "      <th>3</th>\n",
              "      <td>1.611218</td>\n",
              "      <td>3.862264</td>\n",
              "      <td>2.854219</td>\n",
              "      <td>2.329834</td>\n",
              "      <td>-0.164893</td>\n",
              "      <td>0.082210</td>\n",
              "      <td>-0.183833</td>\n",
              "    </tr>\n",
              "    <tr>\n",
              "      <th>4</th>\n",
              "      <td>-0.552833</td>\n",
              "      <td>-0.584977</td>\n",
              "      <td>-0.681777</td>\n",
              "      <td>-0.550314</td>\n",
              "      <td>-0.430027</td>\n",
              "      <td>-0.413372</td>\n",
              "      <td>1.504582</td>\n",
              "    </tr>\n",
              "  </tbody>\n",
              "</table>\n",
              "</div>"
            ],
            "text/plain": [
              "   resorts_per_state  ...  resorts_per_100ksq_mile\n",
              "0          -0.807428  ...                -0.689456\n",
              "1          -0.934725  ...                -0.657588\n",
              "2           1.356624  ...                -0.401809\n",
              "3           1.611218  ...                -0.183833\n",
              "4          -0.552833  ...                 1.504582\n",
              "\n",
              "[5 rows x 7 columns]"
            ]
          },
          "metadata": {
            "tags": []
          },
          "execution_count": 23
        }
      ]
    },
    {
      "cell_type": "markdown",
      "metadata": {
        "id": "ekd_3Qat7kZa"
      },
      "source": [
        "##### 3.5.3.1.1 Verifying the scaling<a id='3.5.3.1.1_Verifying_the_scaling'></a>"
      ]
    },
    {
      "cell_type": "markdown",
      "metadata": {
        "id": "O95QPAYC7kZb"
      },
      "source": [
        "This is definitely going the extra mile for validating your steps, but provides a worthwhile lesson."
      ]
    },
    {
      "cell_type": "markdown",
      "metadata": {
        "id": "D61rO-8J7kZb"
      },
      "source": [
        "First of all, check the mean of the scaled features using panda's `mean()` DataFrame method."
      ]
    },
    {
      "cell_type": "code",
      "metadata": {
        "id": "nM08Dpk07kZc",
        "outputId": "3d8dfbea-49ee-4b53-f09f-b7aa94bec648",
        "colab": {
          "base_uri": "https://localhost:8080/",
          "height": 153
        }
      },
      "source": [
        "#Code task 3#\n",
        "#Call `state_summary_scaled_df`'s `mean()` method\n",
        "state_summary_scaled_df.mean()"
      ],
      "execution_count": null,
      "outputs": [
        {
          "output_type": "execute_result",
          "data": {
            "text/plain": [
              "resorts_per_state             -6.740640e-17\n",
              "state_total_skiable_area_ac   -1.566207e-17\n",
              "state_total_days_open         -6.185528e-17\n",
              "state_total_terrain_parks      4.123686e-17\n",
              "state_total_nightskiing_ac     6.344132e-17\n",
              "resorts_per_100kcapita        -3.806479e-17\n",
              "resorts_per_100ksq_mile       -2.220446e-17\n",
              "dtype: float64"
            ]
          },
          "metadata": {
            "tags": []
          },
          "execution_count": 24
        }
      ]
    },
    {
      "cell_type": "markdown",
      "metadata": {
        "id": "2ib370q77kZe"
      },
      "source": [
        "This is pretty much zero!"
      ]
    },
    {
      "cell_type": "markdown",
      "metadata": {
        "id": "2JHY0c1i7kZf"
      },
      "source": [
        "Perform a similar check for the standard deviation using pandas's `std()` DataFrame method."
      ]
    },
    {
      "cell_type": "code",
      "metadata": {
        "id": "zUYA1Byy7kZf",
        "outputId": "1e910196-820b-459e-8377-1fdf2dbfa2ba",
        "colab": {
          "base_uri": "https://localhost:8080/",
          "height": 153
        }
      },
      "source": [
        "#Code task 4#\n",
        "#Call `state_summary_scaled_df`'s `std()` method\n",
        "state_summary_scaled_df.std()"
      ],
      "execution_count": null,
      "outputs": [
        {
          "output_type": "execute_result",
          "data": {
            "text/plain": [
              "resorts_per_state              1.014599\n",
              "state_total_skiable_area_ac    1.014599\n",
              "state_total_days_open          1.014599\n",
              "state_total_terrain_parks      1.014599\n",
              "state_total_nightskiing_ac     1.014599\n",
              "resorts_per_100kcapita         1.014599\n",
              "resorts_per_100ksq_mile        1.014599\n",
              "dtype: float64"
            ]
          },
          "metadata": {
            "tags": []
          },
          "execution_count": 25
        }
      ]
    },
    {
      "cell_type": "markdown",
      "metadata": {
        "id": "-FMdCOGi7kZh"
      },
      "source": [
        "Well, this is a little embarrassing. The numbers should be closer to 1 than this! Check the documentation for [scale](https://scikit-learn.org/stable/modules/generated/sklearn.preprocessing.scale.html) to see if you used it right. What about [std](https://pandas.pydata.org/pandas-docs/stable/reference/api/pandas.DataFrame.std.html), did you mess up there? Is one of them not working right?\n",
        "\n",
        "The keen observer, who already has some familiarity with statistical inference and biased estimators, may have noticed what's happened here. `scale()` uses the biased estimator for standard deviation (ddof=0). This doesn't mean it's bad! It simply means it calculates the standard deviation of the sample it was given. The `std()` method, on the other hand, defaults to using ddof=1, that is it's normalized by N-1. In other words, the `std()` method default is to assume you want your best estimate of the population parameter based on the given sample. You can tell it to return the biased estimate instead:"
      ]
    },
    {
      "cell_type": "code",
      "metadata": {
        "id": "518Tn3tG7kZh",
        "outputId": "176ca226-d42b-45a3-fa04-d851ee1cb667",
        "colab": {
          "base_uri": "https://localhost:8080/",
          "height": 153
        }
      },
      "source": [
        "#Code task 5#\n",
        "#Repeat the previous call to `std()` but pass in ddof=0 \n",
        "state_summary_scaled_df.std(ddof=0)"
      ],
      "execution_count": null,
      "outputs": [
        {
          "output_type": "execute_result",
          "data": {
            "text/plain": [
              "resorts_per_state              1.0\n",
              "state_total_skiable_area_ac    1.0\n",
              "state_total_days_open          1.0\n",
              "state_total_terrain_parks      1.0\n",
              "state_total_nightskiing_ac     1.0\n",
              "resorts_per_100kcapita         1.0\n",
              "resorts_per_100ksq_mile        1.0\n",
              "dtype: float64"
            ]
          },
          "metadata": {
            "tags": []
          },
          "execution_count": 26
        }
      ]
    },
    {
      "cell_type": "markdown",
      "metadata": {
        "id": "1DgGn7m67kZk"
      },
      "source": [
        "There! Now it agrees with `scale()` and our expectation. This just goes to show different routines to do ostensibly the same thing can have different behaviours. Good practice is to keep validating your work and checking the documentation!"
      ]
    },
    {
      "cell_type": "markdown",
      "metadata": {
        "id": "55MPbjq17kZk"
      },
      "source": [
        "#### 3.5.3.2 Calculate the PCA transformation<a id='3.5.3.2_Calculate_the_PCA_transformation'></a>"
      ]
    },
    {
      "cell_type": "markdown",
      "metadata": {
        "id": "c12ABWbd7kZk"
      },
      "source": [
        "Fit the PCA transformation using the scaled data."
      ]
    },
    {
      "cell_type": "code",
      "metadata": {
        "id": "7lS_TQ2M7kZl"
      },
      "source": [
        "state_pca = PCA().fit(state_summary_scale)"
      ],
      "execution_count": null,
      "outputs": []
    },
    {
      "cell_type": "markdown",
      "metadata": {
        "id": "h9U-OaJ17kZn"
      },
      "source": [
        "Plot the cumulative variance ratio with number of components."
      ]
    },
    {
      "cell_type": "code",
      "metadata": {
        "id": "vyizV97X7kZn",
        "outputId": "e2217f33-60b7-4ee7-e7d4-d3949e3f8ce9",
        "colab": {
          "base_uri": "https://localhost:8080/",
          "height": 404
        }
      },
      "source": [
        "#Code task 6#\n",
        "#Call the `cumsum()` method on the 'explained_variance_ratio_' attribute of `state_pca` and\n",
        "#create a line plot to visualize the cumulative explained variance ratio with number of components\n",
        "#Set the xlabel to 'Component #', the ylabel to 'Cumulative ratio variance', and the\n",
        "#title to 'Cumulative variance ratio explained by PCA components for state/resort summary statistics'\n",
        "#Hint: remember the handy ';' at the end of the last plot call to suppress that untidy output\n",
        "plt.subplots(figsize=(10, 6))\n",
        "plt.plot(state_pca.explained_variance_ratio_.cumsum())\n",
        "plt.xlabel('Component')\n",
        "plt.ylabel('Cumulative ratio variance')\n",
        "plt.title('Cumulative variance ratio explained by PCA components for state/resort summary statistics');"
      ],
      "execution_count": null,
      "outputs": [
        {
          "output_type": "display_data",
          "data": {
            "image/png": "[encoded data removed]",
            "text/plain": [
              "<Figure size 720x432 with 1 Axes>"
            ]
          },
          "metadata": {
            "tags": [],
            "needs_background": "light"
          }
        }
      ]
    },
    {
      "cell_type": "markdown",
      "metadata": {
        "id": "GziG6N1Y7kZp"
      },
      "source": [
        "The first two components seem to account for over 75% of the variance, and the first four for over 95%."
      ]
    },
    {
      "cell_type": "markdown",
      "metadata": {
        "id": "UibnQbyo7kZq"
      },
      "source": [
        "**Note:** It is important to move quickly when performing exploratory data analysis. You should not spend hours trying to create publication-ready figures. However, it is crucially important that you can easily review and summarise the findings from EDA. Descriptive axis labels and titles are _extremely_ useful here. When you come to reread your notebook to summarise your findings, you will be thankful that you created descriptive plots and even made key observations in adjacent markdown cells."
      ]
    },
    {
      "cell_type": "markdown",
      "metadata": {
        "id": "w9uDp6RG7kZq"
      },
      "source": [
        "Apply the transformation to the data to obtain the derived features."
      ]
    },
    {
      "cell_type": "code",
      "metadata": {
        "id": "gAl9F2cv7kZr"
      },
      "source": [
        "#Code task 7#\n",
        "#Call `state_pca`'s `transform()` method, passing in `state_summary_scale` as its argument\n",
        "state_pca_x = state_pca.transform(state_summary_scale)"
      ],
      "execution_count": null,
      "outputs": []
    },
    {
      "cell_type": "code",
      "metadata": {
        "id": "vFXa8kYj7kZt",
        "outputId": "acdb5b7b-9399-4eec-b78a-774833713c37",
        "colab": {
          "base_uri": "https://localhost:8080/",
          "height": 34
        }
      },
      "source": [
        "state_pca_x.shape"
      ],
      "execution_count": null,
      "outputs": [
        {
          "output_type": "execute_result",
          "data": {
            "text/plain": [
              "(35, 7)"
            ]
          },
          "metadata": {
            "tags": []
          },
          "execution_count": 30
        }
      ]
    },
    {
      "cell_type": "markdown",
      "metadata": {
        "id": "hUDo9y1t7kZu"
      },
      "source": [
        "Plot the first two derived features (the first two principle components) and label each point with the name of the state."
      ]
    },
    {
      "cell_type": "markdown",
      "metadata": {
        "id": "RNxV2wL87kZv"
      },
      "source": [
        "Take a moment to familiarize yourself with the code below. It will extract the first and second columns from the transformed data (`state_pca_x`) as x and y coordinates for plotting. Recall the state labels you saved (for this purpose) for subsequent calls to `plt.annotate`. Grab the second (index 1) value of the cumulative variance ratio to include in your descriptive title; this helpfully highlights the percentage variance explained\n",
        "by the two PCA components you're visualizing. Then create an appropriately sized and well-labelled scatterplot\n",
        "to convey all of this information."
      ]
    },
    {
      "cell_type": "code",
      "metadata": {
        "id": "El3fJy017kZv",
        "outputId": "82b5d416-7e73-4853-8062-65b69347914b",
        "colab": {
          "base_uri": "https://localhost:8080/",
          "height": 513
        }
      },
      "source": [
        "x = state_pca_x[:, 0]\n",
        "y = state_pca_x[:, 1]\n",
        "state = state_summary_index\n",
        "pc_var = 100 * state_pca.explained_variance_ratio_.cumsum()[1]\n",
        "plt.subplots(figsize=(10,8))\n",
        "plt.scatter(x=x, y=y)\n",
        "plt.xlabel('First component')\n",
        "plt.ylabel('Second component')\n",
        "plt.title(f'Ski states summary PCA, {pc_var:.1f}% variance explained')\n",
        "for s, x, y in zip(state, x, y):\n",
        "    plt.annotate(s, (x, y))"
      ],
      "execution_count": null,
      "outputs": [
        {
          "output_type": "display_data",
          "data": {
            "image/png": "[encoded data removed]",
            "text/plain": [
              "<Figure size 720x576 with 1 Axes>"
            ]
          },
          "metadata": {
            "tags": [],
            "needs_background": "light"
          }
        }
      ]
    },
    {
      "cell_type": "markdown",
      "metadata": {
        "id": "JNGHf2Fg7kZx"
      },
      "source": [
        "#### 3.5.3.3 Average ticket price by state<a id='3.5.3.3_Average_ticket_price_by_state'></a>"
      ]
    },
    {
      "cell_type": "markdown",
      "metadata": {
        "id": "m44whuNU7kZy"
      },
      "source": [
        "Here, all point markers for the states are the same size and colour. You've visualized relationships between the states based on features such as the total skiable terrain area, but your ultimate interest lies in ticket prices. You know ticket prices for resorts in each state, so it might be interesting to see if there's any pattern there."
      ]
    },
    {
      "cell_type": "code",
      "metadata": {
        "id": "62i98SsW7kZz",
        "outputId": "b57d20ce-5396-4c93-e890-184313db4ad3",
        "colab": {
          "base_uri": "https://localhost:8080/",
          "height": 136
        }
      },
      "source": [
        "#Code task 8#\n",
        "#Calculate the average 'AdultWeekend' ticket price by state\n",
        "state_avg_price = ski_data.groupby('state')['AdultWeekend'].mean()\n",
        "state_avg_price.head()"
      ],
      "execution_count": null,
      "outputs": [
        {
          "output_type": "execute_result",
          "data": {
            "text/plain": [
              "state\n",
              "Alaska         57.333333\n",
              "Arizona        83.500000\n",
              "California     81.416667\n",
              "Colorado       90.714286\n",
              "Connecticut    56.800000\n",
              "Name: AdultWeekend, dtype: float64"
            ]
          },
          "metadata": {
            "tags": []
          },
          "execution_count": 32
        }
      ]
    },
    {
      "cell_type": "code",
      "metadata": {
        "id": "4p-NBc5W7kZ2",
        "outputId": "81170fc9-cdbc-4880-bbdb-4274d7afb821",
        "colab": {
          "base_uri": "https://localhost:8080/",
          "height": 295
        }
      },
      "source": [
        "state_avg_price.hist(bins=30)\n",
        "plt.title('Distribution of state averaged prices')\n",
        "plt.xlabel('Mean state adult weekend ticket price')\n",
        "plt.ylabel('count');"
      ],
      "execution_count": null,
      "outputs": [
        {
          "output_type": "display_data",
          "data": {
            "image/png": "[encoded data removed]",
            "text/plain": [
              "<Figure size 432x288 with 1 Axes>"
            ]
          },
          "metadata": {
            "tags": [],
            "needs_background": "light"
          }
        }
      ]
    },
    {
      "cell_type": "markdown",
      "metadata": {
        "id": "RJLDt4OM7kZ4"
      },
      "source": [
        "#### 3.5.3.4 Adding average ticket price to scatter plot<a id='3.5.3.4_Adding_average_ticket_price_to_scatter_plot'></a>"
      ]
    },
    {
      "cell_type": "markdown",
      "metadata": {
        "id": "GPmu-PU77kZ5"
      },
      "source": [
        "At this point you have several objects floating around. You have just calculated average ticket price by state from our ski resort data, but you've been looking at principle components generated from other state summary data. We extracted indexes and column names from a dataframe and the first two principle components from an array. It's becoming a bit hard to keep track of them all. You'll create a new DataFrame to do this."
      ]
    },
    {
      "cell_type": "code",
      "metadata": {
        "id": "7puExa8E7kZ5",
        "outputId": "53d980da-2103-4efc-b9c8-8b66ac4abdf4",
        "colab": {
          "base_uri": "https://localhost:8080/",
          "height": 235
        }
      },
      "source": [
        "#Code task 9#\n",
        "#Create a dataframe containing the values of the first two PCA components\n",
        "#Remember the first component was given by state_pca_x[:, 0],\n",
        "#and the second by state_pca_x[:, 1]\n",
        "#Call these 'PC1' and 'PC2', respectively and set the dataframe index to `state_summary_index`\n",
        "pca_df = pd.DataFrame({'PC1': (state_pca_x[:, 0]), 'PC2': (state_pca_x[:, 1])}, index=state_summary_index)\n",
        "pca_df.head()"
      ],
      "execution_count": null,
      "outputs": [
        {
          "output_type": "execute_result",
          "data": {
            "text/html": [
              "<div>\n",
              "<style scoped>\n",
              "    .dataframe tbody tr th:only-of-type {\n",
              "        vertical-align: middle;\n",
              "    }\n",
              "\n",
              "    .dataframe tbody tr th {\n",
              "        vertical-align: top;\n",
              "    }\n",
              "\n",
              "    .dataframe thead th {\n",
              "        text-align: right;\n",
              "    }\n",
              "</style>\n",
              "<table border=\"1\" class=\"dataframe\">\n",
              "  <thead>\n",
              "    <tr style=\"text-align: right;\">\n",
              "      <th></th>\n",
              "      <th>PC1</th>\n",
              "      <th>PC2</th>\n",
              "    </tr>\n",
              "    <tr>\n",
              "      <th>state</th>\n",
              "      <th></th>\n",
              "      <th></th>\n",
              "    </tr>\n",
              "  </thead>\n",
              "  <tbody>\n",
              "    <tr>\n",
              "      <th>Alaska</th>\n",
              "      <td>-1.337021</td>\n",
              "      <td>-0.178856</td>\n",
              "    </tr>\n",
              "    <tr>\n",
              "      <th>Arizona</th>\n",
              "      <td>-1.845479</td>\n",
              "      <td>-0.374676</td>\n",
              "    </tr>\n",
              "    <tr>\n",
              "      <th>California</th>\n",
              "      <td>3.197074</td>\n",
              "      <td>-1.201684</td>\n",
              "    </tr>\n",
              "    <tr>\n",
              "      <th>Colorado</th>\n",
              "      <td>4.447377</td>\n",
              "      <td>-0.874561</td>\n",
              "    </tr>\n",
              "    <tr>\n",
              "      <th>Connecticut</th>\n",
              "      <td>-0.983626</td>\n",
              "      <td>1.014466</td>\n",
              "    </tr>\n",
              "  </tbody>\n",
              "</table>\n",
              "</div>"
            ],
            "text/plain": [
              "                  PC1       PC2\n",
              "state                          \n",
              "Alaska      -1.337021 -0.178856\n",
              "Arizona     -1.845479 -0.374676\n",
              "California   3.197074 -1.201684\n",
              "Colorado     4.447377 -0.874561\n",
              "Connecticut -0.983626  1.014466"
            ]
          },
          "metadata": {
            "tags": []
          },
          "execution_count": 59
        }
      ]
    },
    {
      "cell_type": "markdown",
      "metadata": {
        "id": "uS6VesMt7kZ8"
      },
      "source": [
        "That worked, and you have state as an index."
      ]
    },
    {
      "cell_type": "code",
      "metadata": {
        "id": "2eldUO1e7kZ8",
        "outputId": "ddba427b-7ebb-417b-85bd-f27d9f8b7a8f",
        "colab": {
          "base_uri": "https://localhost:8080/",
          "height": 136
        }
      },
      "source": [
        "# our average state prices also have state as an index\n",
        "state_avg_price.head()"
      ],
      "execution_count": null,
      "outputs": [
        {
          "output_type": "execute_result",
          "data": {
            "text/plain": [
              "state\n",
              "Alaska         57.333333\n",
              "Arizona        83.500000\n",
              "California     81.416667\n",
              "Colorado       90.714286\n",
              "Connecticut    56.800000\n",
              "Name: AdultWeekend, dtype: float64"
            ]
          },
          "metadata": {
            "tags": []
          },
          "execution_count": 61
        }
      ]
    },
    {
      "cell_type": "code",
      "metadata": {
        "id": "9_XScWaF7kaC",
        "outputId": "2452030c-241c-44bf-8990-b9179f7fe326",
        "colab": {
          "base_uri": "https://localhost:8080/",
          "height": 235
        }
      },
      "source": [
        "# we can also cast it to a dataframe using Series' to_frame() method:\n",
        "state_avg_price.to_frame().head()"
      ],
      "execution_count": null,
      "outputs": [
        {
          "output_type": "execute_result",
          "data": {
            "text/html": [
              "<div>\n",
              "<style scoped>\n",
              "    .dataframe tbody tr th:only-of-type {\n",
              "        vertical-align: middle;\n",
              "    }\n",
              "\n",
              "    .dataframe tbody tr th {\n",
              "        vertical-align: top;\n",
              "    }\n",
              "\n",
              "    .dataframe thead th {\n",
              "        text-align: right;\n",
              "    }\n",
              "</style>\n",
              "<table border=\"1\" class=\"dataframe\">\n",
              "  <thead>\n",
              "    <tr style=\"text-align: right;\">\n",
              "      <th></th>\n",
              "      <th>AdultWeekend</th>\n",
              "    </tr>\n",
              "    <tr>\n",
              "      <th>state</th>\n",
              "      <th></th>\n",
              "    </tr>\n",
              "  </thead>\n",
              "  <tbody>\n",
              "    <tr>\n",
              "      <th>Alaska</th>\n",
              "      <td>57.333333</td>\n",
              "    </tr>\n",
              "    <tr>\n",
              "      <th>Arizona</th>\n",
              "      <td>83.500000</td>\n",
              "    </tr>\n",
              "    <tr>\n",
              "      <th>California</th>\n",
              "      <td>81.416667</td>\n",
              "    </tr>\n",
              "    <tr>\n",
              "      <th>Colorado</th>\n",
              "      <td>90.714286</td>\n",
              "    </tr>\n",
              "    <tr>\n",
              "      <th>Connecticut</th>\n",
              "      <td>56.800000</td>\n",
              "    </tr>\n",
              "  </tbody>\n",
              "</table>\n",
              "</div>"
            ],
            "text/plain": [
              "             AdultWeekend\n",
              "state                    \n",
              "Alaska          57.333333\n",
              "Arizona         83.500000\n",
              "California      81.416667\n",
              "Colorado        90.714286\n",
              "Connecticut     56.800000"
            ]
          },
          "metadata": {
            "tags": []
          },
          "execution_count": 36
        }
      ]
    },
    {
      "cell_type": "markdown",
      "metadata": {
        "id": "X42Xc6QL7kaE"
      },
      "source": [
        "Now you can concatenate both parts on axis 1 and using the indexes."
      ]
    },
    {
      "cell_type": "code",
      "metadata": {
        "id": "tZlREFC97kaE",
        "outputId": "20df5ee7-377e-4dbb-d5eb-64795a947639",
        "colab": {
          "base_uri": "https://localhost:8080/",
          "height": 204
        }
      },
      "source": [
        "#Code task 10#\n",
        "#Use pd.concat to concatenate `pca_df` and `state_avg_price` along axis 1\n",
        "# remember, pd.concat will align on index\n",
        "pca_df = pd.concat([pca_df, state_avg_price], axis=1)\n",
        "pca_df.head()"
      ],
      "execution_count": null,
      "outputs": [
        {
          "output_type": "execute_result",
          "data": {
            "text/html": [
              "<div>\n",
              "<style scoped>\n",
              "    .dataframe tbody tr th:only-of-type {\n",
              "        vertical-align: middle;\n",
              "    }\n",
              "\n",
              "    .dataframe tbody tr th {\n",
              "        vertical-align: top;\n",
              "    }\n",
              "\n",
              "    .dataframe thead th {\n",
              "        text-align: right;\n",
              "    }\n",
              "</style>\n",
              "<table border=\"1\" class=\"dataframe\">\n",
              "  <thead>\n",
              "    <tr style=\"text-align: right;\">\n",
              "      <th></th>\n",
              "      <th>PC1</th>\n",
              "      <th>PC2</th>\n",
              "      <th>AdultWeekend</th>\n",
              "    </tr>\n",
              "  </thead>\n",
              "  <tbody>\n",
              "    <tr>\n",
              "      <th>Alaska</th>\n",
              "      <td>-1.337021</td>\n",
              "      <td>-0.178856</td>\n",
              "      <td>57.333333</td>\n",
              "    </tr>\n",
              "    <tr>\n",
              "      <th>Arizona</th>\n",
              "      <td>-1.845479</td>\n",
              "      <td>-0.374676</td>\n",
              "      <td>83.500000</td>\n",
              "    </tr>\n",
              "    <tr>\n",
              "      <th>California</th>\n",
              "      <td>3.197074</td>\n",
              "      <td>-1.201684</td>\n",
              "      <td>81.416667</td>\n",
              "    </tr>\n",
              "    <tr>\n",
              "      <th>Colorado</th>\n",
              "      <td>4.447377</td>\n",
              "      <td>-0.874561</td>\n",
              "      <td>90.714286</td>\n",
              "    </tr>\n",
              "    <tr>\n",
              "      <th>Connecticut</th>\n",
              "      <td>-0.983626</td>\n",
              "      <td>1.014466</td>\n",
              "      <td>56.800000</td>\n",
              "    </tr>\n",
              "  </tbody>\n",
              "</table>\n",
              "</div>"
            ],
            "text/plain": [
              "                  PC1       PC2  AdultWeekend\n",
              "Alaska      -1.337021 -0.178856     57.333333\n",
              "Arizona     -1.845479 -0.374676     83.500000\n",
              "California   3.197074 -1.201684     81.416667\n",
              "Colorado     4.447377 -0.874561     90.714286\n",
              "Connecticut -0.983626  1.014466     56.800000"
            ]
          },
          "metadata": {
            "tags": []
          },
          "execution_count": 37
        }
      ]
    },
    {
      "cell_type": "markdown",
      "metadata": {
        "id": "TQnzcNjW7kaG"
      },
      "source": [
        "You saw some range in average ticket price histogram above, but it may be hard to pick out differences if you're thinking of using the value for point size. You'll add another column where you seperate these prices into quartiles; that might show something."
      ]
    },
    {
      "cell_type": "code",
      "metadata": {
        "id": "WRYin82K7kaG",
        "outputId": "b9ae524f-c0fb-4b7f-ec29-889869bb4ba4",
        "colab": {
          "base_uri": "https://localhost:8080/",
          "height": 204
        }
      },
      "source": [
        "pca_df['Quartile'] = pd.qcut(pca_df.AdultWeekend, q=4, precision=1)\n",
        "pca_df.head()"
      ],
      "execution_count": null,
      "outputs": [
        {
          "output_type": "execute_result",
          "data": {
            "text/html": [
              "<div>\n",
              "<style scoped>\n",
              "    .dataframe tbody tr th:only-of-type {\n",
              "        vertical-align: middle;\n",
              "    }\n",
              "\n",
              "    .dataframe tbody tr th {\n",
              "        vertical-align: top;\n",
              "    }\n",
              "\n",
              "    .dataframe thead th {\n",
              "        text-align: right;\n",
              "    }\n",
              "</style>\n",
              "<table border=\"1\" class=\"dataframe\">\n",
              "  <thead>\n",
              "    <tr style=\"text-align: right;\">\n",
              "      <th></th>\n",
              "      <th>PC1</th>\n",
              "      <th>PC2</th>\n",
              "      <th>AdultWeekend</th>\n",
              "      <th>Quartile</th>\n",
              "    </tr>\n",
              "  </thead>\n",
              "  <tbody>\n",
              "    <tr>\n",
              "      <th>Alaska</th>\n",
              "      <td>-1.337021</td>\n",
              "      <td>-0.178856</td>\n",
              "      <td>57.333333</td>\n",
              "      <td>(53.1, 60.4]</td>\n",
              "    </tr>\n",
              "    <tr>\n",
              "      <th>Arizona</th>\n",
              "      <td>-1.845479</td>\n",
              "      <td>-0.374676</td>\n",
              "      <td>83.500000</td>\n",
              "      <td>(78.4, 93.0]</td>\n",
              "    </tr>\n",
              "    <tr>\n",
              "      <th>California</th>\n",
              "      <td>3.197074</td>\n",
              "      <td>-1.201684</td>\n",
              "      <td>81.416667</td>\n",
              "      <td>(78.4, 93.0]</td>\n",
              "    </tr>\n",
              "    <tr>\n",
              "      <th>Colorado</th>\n",
              "      <td>4.447377</td>\n",
              "      <td>-0.874561</td>\n",
              "      <td>90.714286</td>\n",
              "      <td>(78.4, 93.0]</td>\n",
              "    </tr>\n",
              "    <tr>\n",
              "      <th>Connecticut</th>\n",
              "      <td>-0.983626</td>\n",
              "      <td>1.014466</td>\n",
              "      <td>56.800000</td>\n",
              "      <td>(53.1, 60.4]</td>\n",
              "    </tr>\n",
              "  </tbody>\n",
              "</table>\n",
              "</div>"
            ],
            "text/plain": [
              "                  PC1       PC2  AdultWeekend      Quartile\n",
              "Alaska      -1.337021 -0.178856     57.333333  (53.1, 60.4]\n",
              "Arizona     -1.845479 -0.374676     83.500000  (78.4, 93.0]\n",
              "California   3.197074 -1.201684     81.416667  (78.4, 93.0]\n",
              "Colorado     4.447377 -0.874561     90.714286  (78.4, 93.0]\n",
              "Connecticut -0.983626  1.014466     56.800000  (53.1, 60.4]"
            ]
          },
          "metadata": {
            "tags": []
          },
          "execution_count": 38
        }
      ]
    },
    {
      "cell_type": "code",
      "metadata": {
        "id": "RYp1fPI17kaI",
        "outputId": "d3951ccc-1518-4067-f5aa-7d6efbcebb0e",
        "colab": {
          "base_uri": "https://localhost:8080/",
          "height": 102
        }
      },
      "source": [
        "# Note that Quartile is a new data type: category\n",
        "# This will affect how we handle it later on\n",
        "pca_df.dtypes"
      ],
      "execution_count": null,
      "outputs": [
        {
          "output_type": "execute_result",
          "data": {
            "text/plain": [
              "PC1              float64\n",
              "PC2              float64\n",
              "AdultWeekend     float64\n",
              "Quartile        category\n",
              "dtype: object"
            ]
          },
          "metadata": {
            "tags": []
          },
          "execution_count": 39
        }
      ]
    },
    {
      "cell_type": "markdown",
      "metadata": {
        "id": "qmeZ1fi27kaK"
      },
      "source": [
        "This looks great. But, let's have a healthy paranoia about it. You've just created a whole new DataFrame by combining information. Do we have any missing values? It's a narrow DataFrame, only four columns, so you'll just print out any rows that have any null values, expecting an empty DataFrame."
      ]
    },
    {
      "cell_type": "code",
      "metadata": {
        "id": "4z1gt8k47kaK",
        "outputId": "b6c571d0-ba28-441c-d05b-40c6fc179240",
        "colab": {
          "base_uri": "https://localhost:8080/",
          "height": 80
        }
      },
      "source": [
        "pca_df[pca_df.isnull().any(axis=1)]"
      ],
      "execution_count": null,
      "outputs": [
        {
          "output_type": "execute_result",
          "data": {
            "text/html": [
              "<div>\n",
              "<style scoped>\n",
              "    .dataframe tbody tr th:only-of-type {\n",
              "        vertical-align: middle;\n",
              "    }\n",
              "\n",
              "    .dataframe tbody tr th {\n",
              "        vertical-align: top;\n",
              "    }\n",
              "\n",
              "    .dataframe thead th {\n",
              "        text-align: right;\n",
              "    }\n",
              "</style>\n",
              "<table border=\"1\" class=\"dataframe\">\n",
              "  <thead>\n",
              "    <tr style=\"text-align: right;\">\n",
              "      <th></th>\n",
              "      <th>PC1</th>\n",
              "      <th>PC2</th>\n",
              "      <th>AdultWeekend</th>\n",
              "      <th>Quartile</th>\n",
              "    </tr>\n",
              "  </thead>\n",
              "  <tbody>\n",
              "    <tr>\n",
              "      <th>Rhode Island</th>\n",
              "      <td>-1.847228</td>\n",
              "      <td>0.767137</td>\n",
              "      <td>NaN</td>\n",
              "      <td>NaN</td>\n",
              "    </tr>\n",
              "  </tbody>\n",
              "</table>\n",
              "</div>"
            ],
            "text/plain": [
              "                   PC1       PC2  AdultWeekend Quartile\n",
              "Rhode Island -1.847228  0.767137           NaN      NaN"
            ]
          },
          "metadata": {
            "tags": []
          },
          "execution_count": 40
        }
      ]
    },
    {
      "cell_type": "markdown",
      "metadata": {
        "id": "8EGV7s2Z7kaM"
      },
      "source": [
        "Ah, Rhode Island. How has this happened? Recall you created the original ski resort state summary dataset in the previous step before removing resorts with missing prices. This made sense because you wanted to capture all the other available information. However, Rhode Island only had one resort and its price was missing. You have two choices here. If you're interested in looking for any pattern with price, drop this row. But you are also generally interested in any clusters or trends, then you'd like to see Rhode Island even if the ticket price is unknown. So, replace these missing values to make it easier to handle/display them."
      ]
    },
    {
      "cell_type": "markdown",
      "metadata": {
        "id": "reaLi4gO7kaM"
      },
      "source": [
        "Because `Quartile` is a category type, there's an extra step here. Add the category (the string 'NA') that you're going to use as a replacement."
      ]
    },
    {
      "cell_type": "code",
      "metadata": {
        "id": "pD3WswPS7kaM",
        "outputId": "32ac30dc-e510-4fa4-8f51-796d8434bf06",
        "colab": {
          "base_uri": "https://localhost:8080/",
          "height": 102
        }
      },
      "source": [
        "pca_df['AdultWeekend'].fillna(pca_df.AdultWeekend.mean(), inplace=True)\n",
        "pca_df['Quartile'] = pca_df['Quartile'].cat.add_categories('NA')\n",
        "pca_df['Quartile'].fillna('NA', inplace=True)\n",
        "pca_df.loc['Rhode Island']"
      ],
      "execution_count": null,
      "outputs": [
        {
          "output_type": "execute_result",
          "data": {
            "text/plain": [
              "PC1             -1.84723\n",
              "PC2             0.767137\n",
              "AdultWeekend     64.1244\n",
              "Quartile              NA\n",
              "Name: Rhode Island, dtype: object"
            ]
          },
          "metadata": {
            "tags": []
          },
          "execution_count": 41
        }
      ]
    },
    {
      "cell_type": "markdown",
      "metadata": {
        "id": "i25PbFBO7kaO"
      },
      "source": [
        "Note, in the above Quartile has the string value 'NA' that you inserted. This is different to `numpy`'s NaN type.\n",
        "\n",
        "You now have enough information to recreate the scatterplot, now adding marker size for ticket price and colour for the discrete quartile."
      ]
    },
    {
      "cell_type": "markdown",
      "metadata": {
        "id": "JZ3g0ApW7kaO"
      },
      "source": [
        "Notice in the code below how you're iterating over each quartile and plotting the points in the same quartile group as one. This gives a list of quartiles for an informative legend with points coloured by quartile and sized by ticket price (higher prices are represented by larger point markers)."
      ]
    },
    {
      "cell_type": "code",
      "metadata": {
        "id": "oyJ3mPlP7kaP",
        "outputId": "ebe3da8c-0b5a-4dcb-bc8c-0d3399082a8e",
        "colab": {
          "base_uri": "https://localhost:8080/",
          "height": 513
        }
      },
      "source": [
        "x = pca_df.PC1\n",
        "y = pca_df.PC2\n",
        "price = pca_df.AdultWeekend\n",
        "quartiles = pca_df.Quartile\n",
        "state = pca_df.index\n",
        "pc_var = 100 * state_pca.explained_variance_ratio_.cumsum()[1]\n",
        "fig, ax = plt.subplots(figsize=(10,8))\n",
        "for q in quartiles.cat.categories:\n",
        "    im = quartiles == q\n",
        "    ax.scatter(x=x[im], y=y[im], s=price[im], label=q)\n",
        "ax.set_xlabel('First component')\n",
        "ax.set_ylabel('Second component')\n",
        "plt.legend()\n",
        "ax.set_title(f'Ski states summary PCA, {pc_var:.1f}% variance explained')\n",
        "for s, x, y in zip(state, x, y):\n",
        "    plt.annotate(s, (x, y))"
      ],
      "execution_count": null,
      "outputs": [
        {
          "output_type": "display_data",
          "data": {
            "image/png": "[encoded data removed]",
            "text/plain": [
              "<Figure size 720x576 with 1 Axes>"
            ]
          },
          "metadata": {
            "tags": [],
            "needs_background": "light"
          }
        }
      ]
    },
    {
      "cell_type": "markdown",
      "metadata": {
        "id": "T4rMs3z27kaS"
      },
      "source": [
        "Now, you see the same distribution of states as before, but with additional information about the average price. There isn't an obvious pattern. The red points representing the upper quartile of price can be seen to the left, the right, and up top. There's also a spread of the other quartiles as well. In this representation of the ski summaries for each state, which accounts for some 77% of the variance, you simply do not seeing a pattern with price."
      ]
    },
    {
      "cell_type": "markdown",
      "metadata": {
        "id": "XyVlYFK97kaS"
      },
      "source": [
        "The above scatterplot was created using matplotlib. This is powerful, but took quite a bit of effort to set up. You have to iterate over the categories, plotting each separately, to get a colour legend. You can also tell that the points in the legend have different sizes as well as colours. As it happens, the size and the colour will be a 1:1 mapping here, so it happily works for us here. If we were using size and colour to display fundamentally different aesthetics, you'd have a lot more work to do. So matplotlib is powerful, but not ideally suited to when we want to visually explore multiple features as here (and intelligent use of colour, point size, and even shape can be incredibly useful for EDA).\n",
        "\n",
        "Fortunately, there's another option: seaborn. You saw seaborn in action in the previous notebook, when you wanted to distinguish between weekend and weekday ticket prices in the boxplot. After melting the dataframe to have ticket price as a single column with the ticket type represented in a new column, you asked seaborn to create separate boxes for each type."
      ]
    },
    {
      "cell_type": "code",
      "metadata": {
        "id": "mcVkWLyd7kaS",
        "outputId": "7f22e66c-4822-4037-bcb2-addb5540fe75",
        "colab": {
          "base_uri": "https://localhost:8080/",
          "height": 621
        }
      },
      "source": [
        "#Code task 11#\n",
        "#Create a seaborn scatterplot by calling `sns.scatterplot`\n",
        "#Specify the dataframe pca_df as the source of the data,\n",
        "#specify 'PC1' for x and 'PC2' for y,\n",
        "#specify 'AdultWeekend' for the pointsize (scatterplot's `size` argument),\n",
        "#specify 'Quartile' for `hue`\n",
        "#specify pca_df.Quartile.cat.categories for `hue_order` - what happens with/without this?\n",
        "x = pca_df.PC1\n",
        "y = pca_df.PC2\n",
        "state = pca_df.index\n",
        "plt.subplots(figsize=(12, 10))\n",
        "# Note the argument below to make sure we get the colours in the ascending\n",
        "# order we intuitively expect!\n",
        "sns.scatterplot(x=x, y=y, size='AdultWeekend', hue='Quartile', \n",
        "                hue_order=pca_df.Quartile.cat.categories, data=pca_df)\n",
        "#and we can still annotate with the state labels\n",
        "for s, x, y in zip(state, x, y):\n",
        "    plt.annotate(s, (x, y))   \n",
        "plt.title(f'Ski states summary PCA, {pc_var:.1f}% variance explained');"
      ],
      "execution_count": null,
      "outputs": [
        {
          "output_type": "display_data",
          "data": {
            "image/png": "[encoded data removed]",
            "text/plain": [
              "<Figure size 864x720 with 1 Axes>"
            ]
          },
          "metadata": {
            "tags": [],
            "needs_background": "light"
          }
        }
      ]
    },
    {
      "cell_type": "markdown",
      "metadata": {
        "id": "UM4umVUV7kaV"
      },
      "source": [
        "Seaborn does more! You should always care about your output. What if you want the ordering of the colours in the legend to align intuitively with the ordering of the quartiles? Add a `hue_order` argument! Seaborn has thrown in a few nice other things:\n",
        "\n",
        "* the aesthetics are separated in the legend\n",
        "* it defaults to marker sizes that provide more contrast (smaller to larger)\n",
        "* when starting with a DataFrame, you have less work to do to visualize patterns in the data\n",
        "\n",
        "The last point is important. Less work means less chance of mixing up objects and jumping to erroneous conclusions. This also emphasizes the importance of getting data into a suitable DataFrame. In the previous notebook, you `melt`ed the data to make it longer, but with fewer columns, in order to get a single column of price with a new column representing a categorical feature you'd want to use. A **key skill** is being able to wrangle data into a form most suited to the particular use case."
      ]
    },
    {
      "cell_type": "markdown",
      "metadata": {
        "id": "yiAMdKXf7kaW"
      },
      "source": [
        "Having gained a good visualization of the state summary data, you can discuss and follow up on your findings."
      ]
    },
    {
      "cell_type": "markdown",
      "metadata": {
        "id": "er3qlS507kaY"
      },
      "source": [
        "In the first two components, there is a spread of states across the first component. It looks like Vermont and New Hampshire might be off on their own a little in the second dimension, although they're really no more extreme than New York and Colorado are in the first dimension. But if you were curious, could you get an idea what it is that pushes Vermont and New Hampshire up?\n",
        "\n",
        "The `components_` attribute of the fitted PCA object tell us how important (and in what direction) each feature contributes to each score (or coordinate on the plot). **NB we were sensible and scaled our original features (to zero mean and unit variance)**. You may not always be interested in interpreting the coefficients of the PCA transformation in this way, although it's more likely you will when using PCA for EDA as opposed to a preprocessing step as part of a machine learning pipeline. The attribute is actually a numpy ndarray, and so has been stripped of helpful index and column names. Fortunately, you thought ahead and saved these. This is how we were able to annotate the scatter plots above. It also means you can construct a DataFrame of `components_` with the feature names for context:"
      ]
    },
    {
      "cell_type": "code",
      "metadata": {
        "id": "cbqzKo8b7kaZ",
        "outputId": "ba0f1e8a-9596-4cc7-9c42-3911e3922540",
        "colab": {
          "base_uri": "https://localhost:8080/",
          "height": 266
        }
      },
      "source": [
        "pd.DataFrame(state_pca.components_, columns=state_summary_columns)"
      ],
      "execution_count": null,
      "outputs": [
        {
          "output_type": "execute_result",
          "data": {
            "text/html": [
              "<div>\n",
              "<style scoped>\n",
              "    .dataframe tbody tr th:only-of-type {\n",
              "        vertical-align: middle;\n",
              "    }\n",
              "\n",
              "    .dataframe tbody tr th {\n",
              "        vertical-align: top;\n",
              "    }\n",
              "\n",
              "    .dataframe thead th {\n",
              "        text-align: right;\n",
              "    }\n",
              "</style>\n",
              "<table border=\"1\" class=\"dataframe\">\n",
              "  <thead>\n",
              "    <tr style=\"text-align: right;\">\n",
              "      <th></th>\n",
              "      <th>resorts_per_state</th>\n",
              "      <th>state_total_skiable_area_ac</th>\n",
              "      <th>state_total_days_open</th>\n",
              "      <th>state_total_terrain_parks</th>\n",
              "      <th>state_total_nightskiing_ac</th>\n",
              "      <th>resorts_per_100kcapita</th>\n",
              "      <th>resorts_per_100ksq_mile</th>\n",
              "    </tr>\n",
              "  </thead>\n",
              "  <tbody>\n",
              "    <tr>\n",
              "      <th>0</th>\n",
              "      <td>0.486237</td>\n",
              "      <td>0.312105</td>\n",
              "      <td>0.489886</td>\n",
              "      <td>0.487620</td>\n",
              "      <td>0.337116</td>\n",
              "      <td>0.191181</td>\n",
              "      <td>0.195463</td>\n",
              "    </tr>\n",
              "    <tr>\n",
              "      <th>1</th>\n",
              "      <td>-0.090943</td>\n",
              "      <td>-0.128697</td>\n",
              "      <td>-0.044848</td>\n",
              "      <td>-0.043422</td>\n",
              "      <td>-0.364045</td>\n",
              "      <td>0.662320</td>\n",
              "      <td>0.632513</td>\n",
              "    </tr>\n",
              "    <tr>\n",
              "      <th>2</th>\n",
              "      <td>-0.174615</td>\n",
              "      <td>0.728281</td>\n",
              "      <td>0.111903</td>\n",
              "      <td>-0.004326</td>\n",
              "      <td>-0.484147</td>\n",
              "      <td>0.220536</td>\n",
              "      <td>-0.378868</td>\n",
              "    </tr>\n",
              "    <tr>\n",
              "      <th>3</th>\n",
              "      <td>0.057415</td>\n",
              "      <td>-0.126278</td>\n",
              "      <td>-0.173300</td>\n",
              "      <td>-0.182584</td>\n",
              "      <td>0.451270</td>\n",
              "      <td>0.682806</td>\n",
              "      <td>-0.497513</td>\n",
              "    </tr>\n",
              "    <tr>\n",
              "      <th>4</th>\n",
              "      <td>-0.192914</td>\n",
              "      <td>0.561884</td>\n",
              "      <td>-0.251682</td>\n",
              "      <td>-0.395051</td>\n",
              "      <td>0.500779</td>\n",
              "      <td>-0.079418</td>\n",
              "      <td>0.413007</td>\n",
              "    </tr>\n",
              "    <tr>\n",
              "      <th>5</th>\n",
              "      <td>-0.814846</td>\n",
              "      <td>-0.073544</td>\n",
              "      <td>0.183117</td>\n",
              "      <td>0.479571</td>\n",
              "      <td>0.251927</td>\n",
              "      <td>0.060104</td>\n",
              "      <td>-0.004155</td>\n",
              "    </tr>\n",
              "    <tr>\n",
              "      <th>6</th>\n",
              "      <td>-0.142570</td>\n",
              "      <td>-0.136257</td>\n",
              "      <td>0.786492</td>\n",
              "      <td>-0.583894</td>\n",
              "      <td>0.039178</td>\n",
              "      <td>-0.001647</td>\n",
              "      <td>-0.008268</td>\n",
              "    </tr>\n",
              "  </tbody>\n",
              "</table>\n",
              "</div>"
            ],
            "text/plain": [
              "   resorts_per_state  ...  resorts_per_100ksq_mile\n",
              "0           0.486237  ...                 0.195463\n",
              "1          -0.090943  ...                 0.632513\n",
              "2          -0.174615  ...                -0.378868\n",
              "3           0.057415  ...                -0.497513\n",
              "4          -0.192914  ...                 0.413007\n",
              "5          -0.814846  ...                -0.004155\n",
              "6          -0.142570  ...                -0.008268\n",
              "\n",
              "[7 rows x 7 columns]"
            ]
          },
          "metadata": {
            "tags": []
          },
          "execution_count": 44
        }
      ]
    },
    {
      "cell_type": "markdown",
      "metadata": {
        "id": "2KS2LZQ47kac"
      },
      "source": [
        "For the row associated with the second component, are there any large values?"
      ]
    },
    {
      "cell_type": "markdown",
      "metadata": {
        "id": "4QUYGe7Z7kac"
      },
      "source": [
        "It looks like `resorts_per_100kcapita` and `resorts_per_100ksq_mile` might count for quite a lot, in a positive sense. Be aware that sign matters; a large negative coefficient multiplying a large negative feature will actually produce a large positive PCA score."
      ]
    },
    {
      "cell_type": "code",
      "metadata": {
        "id": "oyBs56Ss7kac",
        "outputId": "6210c82d-50d3-4a85-c722-a1ddd0334d36",
        "colab": {
          "base_uri": "https://localhost:8080/",
          "height": 297
        }
      },
      "source": [
        "state_summary[state_summary.state.isin(['New Hampshire', 'Vermont'])].T"
      ],
      "execution_count": null,
      "outputs": [
        {
          "output_type": "execute_result",
          "data": {
            "text/html": [
              "<div>\n",
              "<style scoped>\n",
              "    .dataframe tbody tr th:only-of-type {\n",
              "        vertical-align: middle;\n",
              "    }\n",
              "\n",
              "    .dataframe tbody tr th {\n",
              "        vertical-align: top;\n",
              "    }\n",
              "\n",
              "    .dataframe thead th {\n",
              "        text-align: right;\n",
              "    }\n",
              "</style>\n",
              "<table border=\"1\" class=\"dataframe\">\n",
              "  <thead>\n",
              "    <tr style=\"text-align: right;\">\n",
              "      <th></th>\n",
              "      <th>17</th>\n",
              "      <th>29</th>\n",
              "    </tr>\n",
              "  </thead>\n",
              "  <tbody>\n",
              "    <tr>\n",
              "      <th>state</th>\n",
              "      <td>New Hampshire</td>\n",
              "      <td>Vermont</td>\n",
              "    </tr>\n",
              "    <tr>\n",
              "      <th>resorts_per_state</th>\n",
              "      <td>16</td>\n",
              "      <td>15</td>\n",
              "    </tr>\n",
              "    <tr>\n",
              "      <th>state_total_skiable_area_ac</th>\n",
              "      <td>3427</td>\n",
              "      <td>7239</td>\n",
              "    </tr>\n",
              "    <tr>\n",
              "      <th>state_total_days_open</th>\n",
              "      <td>1847</td>\n",
              "      <td>1777</td>\n",
              "    </tr>\n",
              "    <tr>\n",
              "      <th>state_total_terrain_parks</th>\n",
              "      <td>43</td>\n",
              "      <td>50</td>\n",
              "    </tr>\n",
              "    <tr>\n",
              "      <th>state_total_nightskiing_ac</th>\n",
              "      <td>376</td>\n",
              "      <td>50</td>\n",
              "    </tr>\n",
              "    <tr>\n",
              "      <th>resorts_per_100kcapita</th>\n",
              "      <td>1.17672</td>\n",
              "      <td>2.40389</td>\n",
              "    </tr>\n",
              "    <tr>\n",
              "      <th>resorts_per_100ksq_mile</th>\n",
              "      <td>171.141</td>\n",
              "      <td>155.99</td>\n",
              "    </tr>\n",
              "  </tbody>\n",
              "</table>\n",
              "</div>"
            ],
            "text/plain": [
              "                                        17       29\n",
              "state                        New Hampshire  Vermont\n",
              "resorts_per_state                       16       15\n",
              "state_total_skiable_area_ac           3427     7239\n",
              "state_total_days_open                 1847     1777\n",
              "state_total_terrain_parks               43       50\n",
              "state_total_nightskiing_ac             376       50\n",
              "resorts_per_100kcapita             1.17672  2.40389\n",
              "resorts_per_100ksq_mile            171.141   155.99"
            ]
          },
          "metadata": {
            "tags": []
          },
          "execution_count": 45
        }
      ]
    },
    {
      "cell_type": "code",
      "metadata": {
        "id": "PHgyvCzj7kaf",
        "outputId": "bcd60775-f9d2-48ff-cb78-1e8953621e7d",
        "colab": {
          "base_uri": "https://localhost:8080/",
          "height": 266
        }
      },
      "source": [
        "state_summary_scaled_df[state_summary.state.isin(['New Hampshire', 'Vermont'])].T"
      ],
      "execution_count": null,
      "outputs": [
        {
          "output_type": "execute_result",
          "data": {
            "text/html": [
              "<div>\n",
              "<style scoped>\n",
              "    .dataframe tbody tr th:only-of-type {\n",
              "        vertical-align: middle;\n",
              "    }\n",
              "\n",
              "    .dataframe tbody tr th {\n",
              "        vertical-align: top;\n",
              "    }\n",
              "\n",
              "    .dataframe thead th {\n",
              "        text-align: right;\n",
              "    }\n",
              "</style>\n",
              "<table border=\"1\" class=\"dataframe\">\n",
              "  <thead>\n",
              "    <tr style=\"text-align: right;\">\n",
              "      <th></th>\n",
              "      <th>17</th>\n",
              "      <th>29</th>\n",
              "    </tr>\n",
              "  </thead>\n",
              "  <tbody>\n",
              "    <tr>\n",
              "      <th>resorts_per_state</th>\n",
              "      <td>0.847435</td>\n",
              "      <td>0.720138</td>\n",
              "    </tr>\n",
              "    <tr>\n",
              "      <th>state_total_skiable_area_ac</th>\n",
              "      <td>-0.269942</td>\n",
              "      <td>0.121363</td>\n",
              "    </tr>\n",
              "    <tr>\n",
              "      <th>state_total_days_open</th>\n",
              "      <td>1.136735</td>\n",
              "      <td>1.051531</td>\n",
              "    </tr>\n",
              "    <tr>\n",
              "      <th>state_total_terrain_parks</th>\n",
              "      <td>0.934762</td>\n",
              "      <td>1.249779</td>\n",
              "    </tr>\n",
              "    <tr>\n",
              "      <th>state_total_nightskiing_ac</th>\n",
              "      <td>-0.245050</td>\n",
              "      <td>-0.747570</td>\n",
              "    </tr>\n",
              "    <tr>\n",
              "      <th>resorts_per_100kcapita</th>\n",
              "      <td>1.711064</td>\n",
              "      <td>4.226348</td>\n",
              "    </tr>\n",
              "    <tr>\n",
              "      <th>resorts_per_100ksq_mile</th>\n",
              "      <td>3.483121</td>\n",
              "      <td>3.112744</td>\n",
              "    </tr>\n",
              "  </tbody>\n",
              "</table>\n",
              "</div>"
            ],
            "text/plain": [
              "                                   17        29\n",
              "resorts_per_state            0.847435  0.720138\n",
              "state_total_skiable_area_ac -0.269942  0.121363\n",
              "state_total_days_open        1.136735  1.051531\n",
              "state_total_terrain_parks    0.934762  1.249779\n",
              "state_total_nightskiing_ac  -0.245050 -0.747570\n",
              "resorts_per_100kcapita       1.711064  4.226348\n",
              "resorts_per_100ksq_mile      3.483121  3.112744"
            ]
          },
          "metadata": {
            "tags": []
          },
          "execution_count": 46
        }
      ]
    },
    {
      "cell_type": "markdown",
      "metadata": {
        "id": "JmE0yzy_7kai"
      },
      "source": [
        "So, yes, both states have particularly large values of `resorts_per_100ksq_mile` in absolute terms, and these put them more than 3 standard deviations from the mean. Vermont also has a notably large value for `resorts_per_100kcapita`. New York, then, does not seem to be a stand-out for density of ski resorts either in terms of state size or population count."
      ]
    },
    {
      "cell_type": "markdown",
      "metadata": {
        "id": "vKTNCE1g7kai"
      },
      "source": [
        "### 3.5.4 Conclusion On How To Handle State Label<a id='3.5.4_Conclusion_On_How_To_Handle_State_Label'></a>"
      ]
    },
    {
      "cell_type": "markdown",
      "metadata": {
        "id": "fRi2Q5cS7kaj"
      },
      "source": [
        "You can offer some justification for treating all states equally, and work towards building a pricing model that considers all states together, without treating any one particularly specially. You haven't seen any clear grouping yet, but you have captured potentially relevant state data in features most likely to be relevant to your business use case. This answers a big question!"
      ]
    },
    {
      "cell_type": "markdown",
      "metadata": {
        "id": "mLHXw1Tp7kaj"
      },
      "source": [
        "### 3.5.5 Ski Resort Numeric Data<a id='3.5.5_Ski_Resort_Numeric_Data'></a>"
      ]
    },
    {
      "cell_type": "markdown",
      "metadata": {
        "id": "WiPLWsbi7kal"
      },
      "source": [
        "After what may feel a detour, return to examining the ski resort data. It's worth noting, the previous EDA was valuable because it's given us some potentially useful features, as well as validating an approach for how to subsequently handle the state labels in your modeling."
      ]
    },
    {
      "cell_type": "code",
      "metadata": {
        "id": "WpoXW1z27kam",
        "outputId": "0f0b095d-d52b-4c22-b74c-72a9315237ea",
        "colab": {
          "base_uri": "https://localhost:8080/",
          "height": 824
        }
      },
      "source": [
        "ski_data.head().T"
      ],
      "execution_count": null,
      "outputs": [
        {
          "output_type": "execute_result",
          "data": {
            "text/html": [
              "<div>\n",
              "<style scoped>\n",
              "    .dataframe tbody tr th:only-of-type {\n",
              "        vertical-align: middle;\n",
              "    }\n",
              "\n",
              "    .dataframe tbody tr th {\n",
              "        vertical-align: top;\n",
              "    }\n",
              "\n",
              "    .dataframe thead th {\n",
              "        text-align: right;\n",
              "    }\n",
              "</style>\n",
              "<table border=\"1\" class=\"dataframe\">\n",
              "  <thead>\n",
              "    <tr style=\"text-align: right;\">\n",
              "      <th></th>\n",
              "      <th>0</th>\n",
              "      <th>1</th>\n",
              "      <th>2</th>\n",
              "      <th>3</th>\n",
              "      <th>4</th>\n",
              "    </tr>\n",
              "  </thead>\n",
              "  <tbody>\n",
              "    <tr>\n",
              "      <th>Name</th>\n",
              "      <td>Alyeska Resort</td>\n",
              "      <td>Eaglecrest Ski Area</td>\n",
              "      <td>Hilltop Ski Area</td>\n",
              "      <td>Arizona Snowbowl</td>\n",
              "      <td>Sunrise Park Resort</td>\n",
              "    </tr>\n",
              "    <tr>\n",
              "      <th>Region</th>\n",
              "      <td>Alaska</td>\n",
              "      <td>Alaska</td>\n",
              "      <td>Alaska</td>\n",
              "      <td>Arizona</td>\n",
              "      <td>Arizona</td>\n",
              "    </tr>\n",
              "    <tr>\n",
              "      <th>state</th>\n",
              "      <td>Alaska</td>\n",
              "      <td>Alaska</td>\n",
              "      <td>Alaska</td>\n",
              "      <td>Arizona</td>\n",
              "      <td>Arizona</td>\n",
              "    </tr>\n",
              "    <tr>\n",
              "      <th>summit_elev</th>\n",
              "      <td>3939</td>\n",
              "      <td>2600</td>\n",
              "      <td>2090</td>\n",
              "      <td>11500</td>\n",
              "      <td>11100</td>\n",
              "    </tr>\n",
              "    <tr>\n",
              "      <th>vertical_drop</th>\n",
              "      <td>2500</td>\n",
              "      <td>1540</td>\n",
              "      <td>294</td>\n",
              "      <td>2300</td>\n",
              "      <td>1800</td>\n",
              "    </tr>\n",
              "    <tr>\n",
              "      <th>base_elev</th>\n",
              "      <td>250</td>\n",
              "      <td>1200</td>\n",
              "      <td>1796</td>\n",
              "      <td>9200</td>\n",
              "      <td>9200</td>\n",
              "    </tr>\n",
              "    <tr>\n",
              "      <th>trams</th>\n",
              "      <td>1</td>\n",
              "      <td>0</td>\n",
              "      <td>0</td>\n",
              "      <td>0</td>\n",
              "      <td>0</td>\n",
              "    </tr>\n",
              "    <tr>\n",
              "      <th>fastSixes</th>\n",
              "      <td>0</td>\n",
              "      <td>0</td>\n",
              "      <td>0</td>\n",
              "      <td>1</td>\n",
              "      <td>0</td>\n",
              "    </tr>\n",
              "    <tr>\n",
              "      <th>fastQuads</th>\n",
              "      <td>2</td>\n",
              "      <td>0</td>\n",
              "      <td>0</td>\n",
              "      <td>0</td>\n",
              "      <td>1</td>\n",
              "    </tr>\n",
              "    <tr>\n",
              "      <th>quad</th>\n",
              "      <td>2</td>\n",
              "      <td>0</td>\n",
              "      <td>0</td>\n",
              "      <td>2</td>\n",
              "      <td>2</td>\n",
              "    </tr>\n",
              "    <tr>\n",
              "      <th>triple</th>\n",
              "      <td>0</td>\n",
              "      <td>0</td>\n",
              "      <td>1</td>\n",
              "      <td>2</td>\n",
              "      <td>3</td>\n",
              "    </tr>\n",
              "    <tr>\n",
              "      <th>double</th>\n",
              "      <td>0</td>\n",
              "      <td>4</td>\n",
              "      <td>0</td>\n",
              "      <td>1</td>\n",
              "      <td>1</td>\n",
              "    </tr>\n",
              "    <tr>\n",
              "      <th>surface</th>\n",
              "      <td>2</td>\n",
              "      <td>0</td>\n",
              "      <td>2</td>\n",
              "      <td>2</td>\n",
              "      <td>0</td>\n",
              "    </tr>\n",
              "    <tr>\n",
              "      <th>total_chairs</th>\n",
              "      <td>7</td>\n",
              "      <td>4</td>\n",
              "      <td>3</td>\n",
              "      <td>8</td>\n",
              "      <td>7</td>\n",
              "    </tr>\n",
              "    <tr>\n",
              "      <th>Runs</th>\n",
              "      <td>76</td>\n",
              "      <td>36</td>\n",
              "      <td>13</td>\n",
              "      <td>55</td>\n",
              "      <td>65</td>\n",
              "    </tr>\n",
              "    <tr>\n",
              "      <th>TerrainParks</th>\n",
              "      <td>2</td>\n",
              "      <td>1</td>\n",
              "      <td>1</td>\n",
              "      <td>4</td>\n",
              "      <td>2</td>\n",
              "    </tr>\n",
              "    <tr>\n",
              "      <th>LongestRun_mi</th>\n",
              "      <td>1</td>\n",
              "      <td>2</td>\n",
              "      <td>1</td>\n",
              "      <td>2</td>\n",
              "      <td>1.2</td>\n",
              "    </tr>\n",
              "    <tr>\n",
              "      <th>SkiableTerrain_ac</th>\n",
              "      <td>1610</td>\n",
              "      <td>640</td>\n",
              "      <td>30</td>\n",
              "      <td>777</td>\n",
              "      <td>800</td>\n",
              "    </tr>\n",
              "    <tr>\n",
              "      <th>Snow Making_ac</th>\n",
              "      <td>113</td>\n",
              "      <td>60</td>\n",
              "      <td>30</td>\n",
              "      <td>104</td>\n",
              "      <td>80</td>\n",
              "    </tr>\n",
              "    <tr>\n",
              "      <th>daysOpenLastYear</th>\n",
              "      <td>150</td>\n",
              "      <td>45</td>\n",
              "      <td>150</td>\n",
              "      <td>122</td>\n",
              "      <td>115</td>\n",
              "    </tr>\n",
              "    <tr>\n",
              "      <th>yearsOpen</th>\n",
              "      <td>60</td>\n",
              "      <td>44</td>\n",
              "      <td>36</td>\n",
              "      <td>81</td>\n",
              "      <td>49</td>\n",
              "    </tr>\n",
              "    <tr>\n",
              "      <th>averageSnowfall</th>\n",
              "      <td>669</td>\n",
              "      <td>350</td>\n",
              "      <td>69</td>\n",
              "      <td>260</td>\n",
              "      <td>250</td>\n",
              "    </tr>\n",
              "    <tr>\n",
              "      <th>AdultWeekend</th>\n",
              "      <td>85</td>\n",
              "      <td>53</td>\n",
              "      <td>34</td>\n",
              "      <td>89</td>\n",
              "      <td>78</td>\n",
              "    </tr>\n",
              "    <tr>\n",
              "      <th>projectedDaysOpen</th>\n",
              "      <td>150</td>\n",
              "      <td>90</td>\n",
              "      <td>152</td>\n",
              "      <td>122</td>\n",
              "      <td>104</td>\n",
              "    </tr>\n",
              "    <tr>\n",
              "      <th>NightSkiing_ac</th>\n",
              "      <td>550</td>\n",
              "      <td>NaN</td>\n",
              "      <td>30</td>\n",
              "      <td>NaN</td>\n",
              "      <td>80</td>\n",
              "    </tr>\n",
              "  </tbody>\n",
              "</table>\n",
              "</div>"
            ],
            "text/plain": [
              "                                0  ...                    4\n",
              "Name               Alyeska Resort  ...  Sunrise Park Resort\n",
              "Region                     Alaska  ...              Arizona\n",
              "state                      Alaska  ...              Arizona\n",
              "summit_elev                  3939  ...                11100\n",
              "vertical_drop                2500  ...                 1800\n",
              "base_elev                     250  ...                 9200\n",
              "trams                           1  ...                    0\n",
              "fastSixes                       0  ...                    0\n",
              "fastQuads                       2  ...                    1\n",
              "quad                            2  ...                    2\n",
              "triple                          0  ...                    3\n",
              "double                          0  ...                    1\n",
              "surface                         2  ...                    0\n",
              "total_chairs                    7  ...                    7\n",
              "Runs                           76  ...                   65\n",
              "TerrainParks                    2  ...                    2\n",
              "LongestRun_mi                   1  ...                  1.2\n",
              "SkiableTerrain_ac            1610  ...                  800\n",
              "Snow Making_ac                113  ...                   80\n",
              "daysOpenLastYear              150  ...                  115\n",
              "yearsOpen                      60  ...                   49\n",
              "averageSnowfall               669  ...                  250\n",
              "AdultWeekend                   85  ...                   78\n",
              "projectedDaysOpen             150  ...                  104\n",
              "NightSkiing_ac                550  ...                   80\n",
              "\n",
              "[25 rows x 5 columns]"
            ]
          },
          "metadata": {
            "tags": []
          },
          "execution_count": 47
        }
      ]
    },
    {
      "cell_type": "markdown",
      "metadata": {
        "id": "DoJiwu7t7kan"
      },
      "source": [
        "#### 3.5.5.1 Feature engineering<a id='3.5.5.1_Feature_engineering'></a>"
      ]
    },
    {
      "cell_type": "markdown",
      "metadata": {
        "id": "4cwPTVbo7kao"
      },
      "source": [
        "Having previously spent some time exploring the state summary data you derived, you now start to explore the resort-level data in more detail. This can help guide you on how (or whether) to use the state labels in the data. It's now time to merge the two datasets and engineer some intuitive features. For example, you can engineer a resort's share of the supply for a given state."
      ]
    },
    {
      "cell_type": "code",
      "metadata": {
        "id": "1EZy-Zef7kao",
        "outputId": "4e537477-bd9e-4315-d8a7-8456d02d6235",
        "colab": {
          "base_uri": "https://localhost:8080/",
          "height": 204
        }
      },
      "source": [
        "state_summary.head()"
      ],
      "execution_count": null,
      "outputs": [
        {
          "output_type": "execute_result",
          "data": {
            "text/html": [
              "<div>\n",
              "<style scoped>\n",
              "    .dataframe tbody tr th:only-of-type {\n",
              "        vertical-align: middle;\n",
              "    }\n",
              "\n",
              "    .dataframe tbody tr th {\n",
              "        vertical-align: top;\n",
              "    }\n",
              "\n",
              "    .dataframe thead th {\n",
              "        text-align: right;\n",
              "    }\n",
              "</style>\n",
              "<table border=\"1\" class=\"dataframe\">\n",
              "  <thead>\n",
              "    <tr style=\"text-align: right;\">\n",
              "      <th></th>\n",
              "      <th>state</th>\n",
              "      <th>resorts_per_state</th>\n",
              "      <th>state_total_skiable_area_ac</th>\n",
              "      <th>state_total_days_open</th>\n",
              "      <th>state_total_terrain_parks</th>\n",
              "      <th>state_total_nightskiing_ac</th>\n",
              "      <th>resorts_per_100kcapita</th>\n",
              "      <th>resorts_per_100ksq_mile</th>\n",
              "    </tr>\n",
              "  </thead>\n",
              "  <tbody>\n",
              "    <tr>\n",
              "      <th>0</th>\n",
              "      <td>Alaska</td>\n",
              "      <td>3</td>\n",
              "      <td>2280.0</td>\n",
              "      <td>345.0</td>\n",
              "      <td>4.0</td>\n",
              "      <td>580.0</td>\n",
              "      <td>0.410091</td>\n",
              "      <td>0.450867</td>\n",
              "    </tr>\n",
              "    <tr>\n",
              "      <th>1</th>\n",
              "      <td>Arizona</td>\n",
              "      <td>2</td>\n",
              "      <td>1577.0</td>\n",
              "      <td>237.0</td>\n",
              "      <td>6.0</td>\n",
              "      <td>80.0</td>\n",
              "      <td>0.027477</td>\n",
              "      <td>1.754540</td>\n",
              "    </tr>\n",
              "    <tr>\n",
              "      <th>2</th>\n",
              "      <td>California</td>\n",
              "      <td>20</td>\n",
              "      <td>21148.0</td>\n",
              "      <td>2583.0</td>\n",
              "      <td>78.0</td>\n",
              "      <td>587.0</td>\n",
              "      <td>0.050617</td>\n",
              "      <td>12.217844</td>\n",
              "    </tr>\n",
              "    <tr>\n",
              "      <th>3</th>\n",
              "      <td>Colorado</td>\n",
              "      <td>22</td>\n",
              "      <td>43682.0</td>\n",
              "      <td>3258.0</td>\n",
              "      <td>74.0</td>\n",
              "      <td>428.0</td>\n",
              "      <td>0.382028</td>\n",
              "      <td>21.134744</td>\n",
              "    </tr>\n",
              "    <tr>\n",
              "      <th>4</th>\n",
              "      <td>Connecticut</td>\n",
              "      <td>5</td>\n",
              "      <td>358.0</td>\n",
              "      <td>353.0</td>\n",
              "      <td>10.0</td>\n",
              "      <td>256.0</td>\n",
              "      <td>0.140242</td>\n",
              "      <td>90.203861</td>\n",
              "    </tr>\n",
              "  </tbody>\n",
              "</table>\n",
              "</div>"
            ],
            "text/plain": [
              "         state  ...  resorts_per_100ksq_mile\n",
              "0       Alaska  ...                 0.450867\n",
              "1      Arizona  ...                 1.754540\n",
              "2   California  ...                12.217844\n",
              "3     Colorado  ...                21.134744\n",
              "4  Connecticut  ...                90.203861\n",
              "\n",
              "[5 rows x 8 columns]"
            ]
          },
          "metadata": {
            "tags": []
          },
          "execution_count": 48
        }
      ]
    },
    {
      "cell_type": "code",
      "metadata": {
        "id": "7pqnhA5f7kaq",
        "outputId": "06b6b9cd-fe22-4e66-f634-a137eb431d50",
        "colab": {
          "base_uri": "https://localhost:8080/",
          "height": 1000
        }
      },
      "source": [
        "# DataFrame's merge method provides SQL-like joins\n",
        "# here 'state' is a column (not an index)\n",
        "ski_data = ski_data.merge(state_summary, how='left', on='state')\n",
        "ski_data.head().T"
      ],
      "execution_count": null,
      "outputs": [
        {
          "output_type": "execute_result",
          "data": {
            "text/html": [
              "<div>\n",
              "<style scoped>\n",
              "    .dataframe tbody tr th:only-of-type {\n",
              "        vertical-align: middle;\n",
              "    }\n",
              "\n",
              "    .dataframe tbody tr th {\n",
              "        vertical-align: top;\n",
              "    }\n",
              "\n",
              "    .dataframe thead th {\n",
              "        text-align: right;\n",
              "    }\n",
              "</style>\n",
              "<table border=\"1\" class=\"dataframe\">\n",
              "  <thead>\n",
              "    <tr style=\"text-align: right;\">\n",
              "      <th></th>\n",
              "      <th>0</th>\n",
              "      <th>1</th>\n",
              "      <th>2</th>\n",
              "      <th>3</th>\n",
              "      <th>4</th>\n",
              "    </tr>\n",
              "  </thead>\n",
              "  <tbody>\n",
              "    <tr>\n",
              "      <th>Name</th>\n",
              "      <td>Alyeska Resort</td>\n",
              "      <td>Eaglecrest Ski Area</td>\n",
              "      <td>Hilltop Ski Area</td>\n",
              "      <td>Arizona Snowbowl</td>\n",
              "      <td>Sunrise Park Resort</td>\n",
              "    </tr>\n",
              "    <tr>\n",
              "      <th>Region</th>\n",
              "      <td>Alaska</td>\n",
              "      <td>Alaska</td>\n",
              "      <td>Alaska</td>\n",
              "      <td>Arizona</td>\n",
              "      <td>Arizona</td>\n",
              "    </tr>\n",
              "    <tr>\n",
              "      <th>state</th>\n",
              "      <td>Alaska</td>\n",
              "      <td>Alaska</td>\n",
              "      <td>Alaska</td>\n",
              "      <td>Arizona</td>\n",
              "      <td>Arizona</td>\n",
              "    </tr>\n",
              "    <tr>\n",
              "      <th>summit_elev</th>\n",
              "      <td>3939</td>\n",
              "      <td>2600</td>\n",
              "      <td>2090</td>\n",
              "      <td>11500</td>\n",
              "      <td>11100</td>\n",
              "    </tr>\n",
              "    <tr>\n",
              "      <th>vertical_drop</th>\n",
              "      <td>2500</td>\n",
              "      <td>1540</td>\n",
              "      <td>294</td>\n",
              "      <td>2300</td>\n",
              "      <td>1800</td>\n",
              "    </tr>\n",
              "    <tr>\n",
              "      <th>base_elev</th>\n",
              "      <td>250</td>\n",
              "      <td>1200</td>\n",
              "      <td>1796</td>\n",
              "      <td>9200</td>\n",
              "      <td>9200</td>\n",
              "    </tr>\n",
              "    <tr>\n",
              "      <th>trams</th>\n",
              "      <td>1</td>\n",
              "      <td>0</td>\n",
              "      <td>0</td>\n",
              "      <td>0</td>\n",
              "      <td>0</td>\n",
              "    </tr>\n",
              "    <tr>\n",
              "      <th>fastSixes</th>\n",
              "      <td>0</td>\n",
              "      <td>0</td>\n",
              "      <td>0</td>\n",
              "      <td>1</td>\n",
              "      <td>0</td>\n",
              "    </tr>\n",
              "    <tr>\n",
              "      <th>fastQuads</th>\n",
              "      <td>2</td>\n",
              "      <td>0</td>\n",
              "      <td>0</td>\n",
              "      <td>0</td>\n",
              "      <td>1</td>\n",
              "    </tr>\n",
              "    <tr>\n",
              "      <th>quad</th>\n",
              "      <td>2</td>\n",
              "      <td>0</td>\n",
              "      <td>0</td>\n",
              "      <td>2</td>\n",
              "      <td>2</td>\n",
              "    </tr>\n",
              "    <tr>\n",
              "      <th>triple</th>\n",
              "      <td>0</td>\n",
              "      <td>0</td>\n",
              "      <td>1</td>\n",
              "      <td>2</td>\n",
              "      <td>3</td>\n",
              "    </tr>\n",
              "    <tr>\n",
              "      <th>double</th>\n",
              "      <td>0</td>\n",
              "      <td>4</td>\n",
              "      <td>0</td>\n",
              "      <td>1</td>\n",
              "      <td>1</td>\n",
              "    </tr>\n",
              "    <tr>\n",
              "      <th>surface</th>\n",
              "      <td>2</td>\n",
              "      <td>0</td>\n",
              "      <td>2</td>\n",
              "      <td>2</td>\n",
              "      <td>0</td>\n",
              "    </tr>\n",
              "    <tr>\n",
              "      <th>total_chairs</th>\n",
              "      <td>7</td>\n",
              "      <td>4</td>\n",
              "      <td>3</td>\n",
              "      <td>8</td>\n",
              "      <td>7</td>\n",
              "    </tr>\n",
              "    <tr>\n",
              "      <th>Runs</th>\n",
              "      <td>76</td>\n",
              "      <td>36</td>\n",
              "      <td>13</td>\n",
              "      <td>55</td>\n",
              "      <td>65</td>\n",
              "    </tr>\n",
              "    <tr>\n",
              "      <th>TerrainParks</th>\n",
              "      <td>2</td>\n",
              "      <td>1</td>\n",
              "      <td>1</td>\n",
              "      <td>4</td>\n",
              "      <td>2</td>\n",
              "    </tr>\n",
              "    <tr>\n",
              "      <th>LongestRun_mi</th>\n",
              "      <td>1</td>\n",
              "      <td>2</td>\n",
              "      <td>1</td>\n",
              "      <td>2</td>\n",
              "      <td>1.2</td>\n",
              "    </tr>\n",
              "    <tr>\n",
              "      <th>SkiableTerrain_ac</th>\n",
              "      <td>1610</td>\n",
              "      <td>640</td>\n",
              "      <td>30</td>\n",
              "      <td>777</td>\n",
              "      <td>800</td>\n",
              "    </tr>\n",
              "    <tr>\n",
              "      <th>Snow Making_ac</th>\n",
              "      <td>113</td>\n",
              "      <td>60</td>\n",
              "      <td>30</td>\n",
              "      <td>104</td>\n",
              "      <td>80</td>\n",
              "    </tr>\n",
              "    <tr>\n",
              "      <th>daysOpenLastYear</th>\n",
              "      <td>150</td>\n",
              "      <td>45</td>\n",
              "      <td>150</td>\n",
              "      <td>122</td>\n",
              "      <td>115</td>\n",
              "    </tr>\n",
              "    <tr>\n",
              "      <th>yearsOpen</th>\n",
              "      <td>60</td>\n",
              "      <td>44</td>\n",
              "      <td>36</td>\n",
              "      <td>81</td>\n",
              "      <td>49</td>\n",
              "    </tr>\n",
              "    <tr>\n",
              "      <th>averageSnowfall</th>\n",
              "      <td>669</td>\n",
              "      <td>350</td>\n",
              "      <td>69</td>\n",
              "      <td>260</td>\n",
              "      <td>250</td>\n",
              "    </tr>\n",
              "    <tr>\n",
              "      <th>AdultWeekend</th>\n",
              "      <td>85</td>\n",
              "      <td>53</td>\n",
              "      <td>34</td>\n",
              "      <td>89</td>\n",
              "      <td>78</td>\n",
              "    </tr>\n",
              "    <tr>\n",
              "      <th>projectedDaysOpen</th>\n",
              "      <td>150</td>\n",
              "      <td>90</td>\n",
              "      <td>152</td>\n",
              "      <td>122</td>\n",
              "      <td>104</td>\n",
              "    </tr>\n",
              "    <tr>\n",
              "      <th>NightSkiing_ac</th>\n",
              "      <td>550</td>\n",
              "      <td>NaN</td>\n",
              "      <td>30</td>\n",
              "      <td>NaN</td>\n",
              "      <td>80</td>\n",
              "    </tr>\n",
              "    <tr>\n",
              "      <th>resorts_per_state</th>\n",
              "      <td>3</td>\n",
              "      <td>3</td>\n",
              "      <td>3</td>\n",
              "      <td>2</td>\n",
              "      <td>2</td>\n",
              "    </tr>\n",
              "    <tr>\n",
              "      <th>state_total_skiable_area_ac</th>\n",
              "      <td>2280</td>\n",
              "      <td>2280</td>\n",
              "      <td>2280</td>\n",
              "      <td>1577</td>\n",
              "      <td>1577</td>\n",
              "    </tr>\n",
              "    <tr>\n",
              "      <th>state_total_days_open</th>\n",
              "      <td>345</td>\n",
              "      <td>345</td>\n",
              "      <td>345</td>\n",
              "      <td>237</td>\n",
              "      <td>237</td>\n",
              "    </tr>\n",
              "    <tr>\n",
              "      <th>state_total_terrain_parks</th>\n",
              "      <td>4</td>\n",
              "      <td>4</td>\n",
              "      <td>4</td>\n",
              "      <td>6</td>\n",
              "      <td>6</td>\n",
              "    </tr>\n",
              "    <tr>\n",
              "      <th>state_total_nightskiing_ac</th>\n",
              "      <td>580</td>\n",
              "      <td>580</td>\n",
              "      <td>580</td>\n",
              "      <td>80</td>\n",
              "      <td>80</td>\n",
              "    </tr>\n",
              "    <tr>\n",
              "      <th>resorts_per_100kcapita</th>\n",
              "      <td>0.410091</td>\n",
              "      <td>0.410091</td>\n",
              "      <td>0.410091</td>\n",
              "      <td>0.0274774</td>\n",
              "      <td>0.0274774</td>\n",
              "    </tr>\n",
              "    <tr>\n",
              "      <th>resorts_per_100ksq_mile</th>\n",
              "      <td>0.450867</td>\n",
              "      <td>0.450867</td>\n",
              "      <td>0.450867</td>\n",
              "      <td>1.75454</td>\n",
              "      <td>1.75454</td>\n",
              "    </tr>\n",
              "  </tbody>\n",
              "</table>\n",
              "</div>"
            ],
            "text/plain": [
              "                                          0  ...                    4\n",
              "Name                         Alyeska Resort  ...  Sunrise Park Resort\n",
              "Region                               Alaska  ...              Arizona\n",
              "state                                Alaska  ...              Arizona\n",
              "summit_elev                            3939  ...                11100\n",
              "vertical_drop                          2500  ...                 1800\n",
              "base_elev                               250  ...                 9200\n",
              "trams                                     1  ...                    0\n",
              "fastSixes                                 0  ...                    0\n",
              "fastQuads                                 2  ...                    1\n",
              "quad                                      2  ...                    2\n",
              "triple                                    0  ...                    3\n",
              "double                                    0  ...                    1\n",
              "surface                                   2  ...                    0\n",
              "total_chairs                              7  ...                    7\n",
              "Runs                                     76  ...                   65\n",
              "TerrainParks                              2  ...                    2\n",
              "LongestRun_mi                             1  ...                  1.2\n",
              "SkiableTerrain_ac                      1610  ...                  800\n",
              "Snow Making_ac                          113  ...                   80\n",
              "daysOpenLastYear                        150  ...                  115\n",
              "yearsOpen                                60  ...                   49\n",
              "averageSnowfall                         669  ...                  250\n",
              "AdultWeekend                             85  ...                   78\n",
              "projectedDaysOpen                       150  ...                  104\n",
              "NightSkiing_ac                          550  ...                   80\n",
              "resorts_per_state                         3  ...                    2\n",
              "state_total_skiable_area_ac            2280  ...                 1577\n",
              "state_total_days_open                   345  ...                  237\n",
              "state_total_terrain_parks                 4  ...                    6\n",
              "state_total_nightskiing_ac              580  ...                   80\n",
              "resorts_per_100kcapita             0.410091  ...            0.0274774\n",
              "resorts_per_100ksq_mile            0.450867  ...              1.75454\n",
              "\n",
              "[32 rows x 5 columns]"
            ]
          },
          "metadata": {
            "tags": []
          },
          "execution_count": 49
        }
      ]
    },
    {
      "cell_type": "markdown",
      "metadata": {
        "id": "9TwNhx3_7kas"
      },
      "source": [
        "Having merged your state summary features into the ski resort data, add \"state resort competition\" features:\n",
        "\n",
        "* ratio of resort skiable area to total state skiable area\n",
        "* ratio of resort days open to total state days open\n",
        "* ratio of resort terrain park count to total state terrain park count\n",
        "* ratio of resort night skiing area to total state night skiing area\n",
        "\n",
        "Once you've derived these features to put each resort within the context of its state,drop those state columns. Their main purpose was to understand what share of states' skiing \"assets\" is accounted for by each resort."
      ]
    },
    {
      "cell_type": "code",
      "metadata": {
        "id": "y7uOM8pX7kat"
      },
      "source": [
        "ski_data['resort_skiable_area_ac_state_ratio'] = ski_data.SkiableTerrain_ac / ski_data.state_total_skiable_area_ac\n",
        "ski_data['resort_days_open_state_ratio'] = ski_data.daysOpenLastYear / ski_data.state_total_days_open\n",
        "ski_data['resort_terrain_park_state_ratio'] = ski_data.TerrainParks / ski_data.state_total_terrain_parks\n",
        "ski_data['resort_night_skiing_state_ratio'] = ski_data.NightSkiing_ac / ski_data.state_total_nightskiing_ac\n",
        "\n",
        "ski_data.drop(columns=['state_total_skiable_area_ac', 'state_total_days_open', \n",
        "                       'state_total_terrain_parks', 'state_total_nightskiing_ac'], inplace=True)"
      ],
      "execution_count": null,
      "outputs": []
    },
    {
      "cell_type": "markdown",
      "metadata": {
        "id": "xTDjYcu_7kav"
      },
      "source": [
        "#### 3.5.5.2 Feature correlation heatmap<a id='3.5.5.2_Feature_correlation_heatmap'></a>"
      ]
    },
    {
      "cell_type": "markdown",
      "metadata": {
        "id": "rCJkJkz67kav"
      },
      "source": [
        "A great way to gain a high level view of relationships amongst the features."
      ]
    },
    {
      "cell_type": "code",
      "metadata": {
        "id": "bXIDPOEH7kav",
        "outputId": "ddbb2b1a-396d-4eeb-f9e2-b8e475d24f64",
        "colab": {
          "base_uri": "https://localhost:8080/",
          "height": 757
        }
      },
      "source": [
        "#Code task 12#\n",
        "#Show a seaborn heatmap of correlations in ski_data\n",
        "#Hint: call pandas' `corr()` method on `ski_data` and pass that into `sns.heatmap`\n",
        "plt.subplots(figsize=(12,10))\n",
        "sns.heatmap(ski_data.corr());"
      ],
      "execution_count": null,
      "outputs": [
        {
          "output_type": "display_data",
          "data": {
            "image/png": "[encoded data removed]",
            "text/plain": [
              "<Figure size 864x720 with 2 Axes>"
            ]
          },
          "metadata": {
            "tags": [],
            "needs_background": "light"
          }
        }
      ]
    },
    {
      "cell_type": "markdown",
      "metadata": {
        "id": "jbp53AnQ7kaw"
      },
      "source": [
        "There is a lot to take away from this. First, summit and base elevation are quite highly correlated. This isn't a surprise. You can also see that you've introduced a lot of multicollinearity with your new ratio features; they are negatively correlated with the number of resorts in each state. This latter observation makes sense! If you increase the number of resorts in a state, the share of all the other state features will drop for each. An interesting observation in this region of the heatmap is that there is some positive correlation between the ratio of night skiing area with the number of resorts per capita. In other words, it seems that when resorts are more densely located with population, more night skiing is provided.\n",
        "\n",
        "Turning your attention to your target feature, `AdultWeekend` ticket price, you see quite a few reasonable correlations. `fastQuads` stands out, along with `Runs` and `Snow Making_ac`. The last one is interesting. Visitors would seem to value more guaranteed snow, which would cost in terms of snow making equipment, which would drive prices and costs up. Of the new features, `resort_night_skiing_state_ratio` seems the most correlated with ticket price. If this is true, then perhaps seizing a greater share of night skiing capacity is positive for the price a resort can charge.\n",
        "\n",
        "As well as `Runs`, `total_chairs` is quite well correlated with ticket price. This is plausible; the more runs you have, the more chairs you'd need to ferry people to them! Interestingly, they may count for more than the total skiable terrain area. For sure, the total skiable terrain area is not as useful as the area with snow making. People seem to put more value in guaranteed snow cover rather than more variable terrain area.\n",
        "\n",
        "The vertical drop seems to be a selling point that raises ticket prices as well."
      ]
    },
    {
      "cell_type": "markdown",
      "metadata": {
        "id": "kwn2MAMw7kax"
      },
      "source": [
        "#### 3.5.5.3 Scatterplots of numeric features against ticket price<a id='3.5.5.3_Scatterplots_of_numeric_features_against_ticket_price'></a>"
      ]
    },
    {
      "cell_type": "markdown",
      "metadata": {
        "id": "KgUaFkCX7kax"
      },
      "source": [
        "Correlations, particularly viewing them together as a heatmap, can be a great first pass at identifying patterns. But correlation can mask relationships between two variables. You'll now create a series of scatterplots to really dive into how ticket price varies with other numeric features."
      ]
    },
    {
      "cell_type": "code",
      "metadata": {
        "id": "YY1R3KDt7kax"
      },
      "source": [
        "# define useful function to create scatterplots of ticket prices against desired columns\n",
        "def scatterplots(columns, ncol=None, figsize=(15, 8)):\n",
        "    if ncol is None:\n",
        "        ncol = len(columns)\n",
        "    nrow = int(np.ceil(len(columns) / ncol))\n",
        "    fig, axes = plt.subplots(nrow, ncol, figsize=figsize, squeeze=False)\n",
        "    fig.subplots_adjust(wspace=0.5, hspace=0.6)\n",
        "    for i, col in enumerate(columns):\n",
        "        ax = axes.flatten()[i]\n",
        "        ax.scatter(x = col, y = 'AdultWeekend', data=ski_data, alpha=0.5)\n",
        "        ax.set(xlabel=col, ylabel='Ticket price')\n",
        "    nsubplots = nrow * ncol    \n",
        "    for empty in range(i+1, nsubplots):\n",
        "        axes.flatten()[empty].set_visible(False)"
      ],
      "execution_count": null,
      "outputs": []
    },
    {
      "cell_type": "code",
      "metadata": {
        "id": "Th7SNkay7kaz"
      },
      "source": [
        "#Code task 13#\n",
        "#Use a list comprehension to build a list of features from the columns of `ski_data` that\n",
        "#are _not_ any of 'Name', 'Region', 'state', or 'AdultWeekend'\n",
        "features = [feature for feature in ski_data.columns if feature not in ['Name', 'Region', 'state', 'AdultWeekend']]"
      ],
      "execution_count": null,
      "outputs": []
    },
    {
      "cell_type": "code",
      "metadata": {
        "id": "JHUytJ0c7ka0",
        "outputId": "5200042c-6578-4e58-d290-0136c0684ca6",
        "colab": {
          "base_uri": "https://localhost:8080/",
          "height": 1000
        }
      },
      "source": [
        "scatterplots(features, ncol=4, figsize=(18, 18))"
      ],
      "execution_count": null,
      "outputs": [
        {
          "output_type": "display_data",
          "data": {
            "image/png": "[encoded data removed]",
            "text/plain": [
              "<Figure size 1296x1296 with 28 Axes>"
            ]
          },
          "metadata": {
            "tags": [],
            "needs_background": "light"
          }
        }
      ]
    },
    {
      "cell_type": "markdown",
      "metadata": {
        "id": "QS4IwZjN7ka2"
      },
      "source": [
        "In the scatterplots you see what some of the high correlations were clearly picking up on. There's a strong positive correlation with `vertical_drop`. `fastQuads` seems very useful. `Runs` and `total_chairs` appear quite similar and also useful. `resorts_per_100kcapita` shows something interesting that you don't see from just a headline correlation figure. When the value is low, there is quite a variability in ticket price, although it's capable of going quite high. Ticket price may drop a little before then climbing upwards as the number of resorts per capita increases. Ticket price could climb with the number of resorts serving a population because it indicates a popular area for skiing with plenty of demand. The lower ticket price when fewer resorts serve a population may similarly be because it's a less popular state for skiing. The high price for some resorts when resorts are rare (relative to the population size) may indicate areas where a small number of resorts can benefit from a monopoly effect. It's not a clear picture, although we have some interesting signs."
      ]
    },
    {
      "cell_type": "markdown",
      "metadata": {
        "id": "2d0KijcI7ka2"
      },
      "source": [
        "Finally, think of some further features that may be useful in that they relate to how easily a resort can transport people around. You have the numbers of various chairs, and the number of runs, but you don't have the ratio of chairs to runs. It seems logical that this ratio would inform you how easily, and so quickly, people could get to their next ski slope! Create these features now."
      ]
    },
    {
      "cell_type": "code",
      "metadata": {
        "id": "7z6yBf7b7ka2"
      },
      "source": [
        "ski_data['total_chairs_runs_ratio'] = ski_data.total_chairs / ski_data.Runs\n",
        "ski_data['total_chairs_skiable_ratio'] = ski_data.total_chairs / ski_data.SkiableTerrain_ac\n",
        "ski_data['fastQuads_runs_ratio'] = ski_data.fastQuads / ski_data.Runs\n",
        "ski_data['fastQuads_skiable_ratio'] = ski_data.fastQuads / ski_data.SkiableTerrain_ac"
      ],
      "execution_count": null,
      "outputs": []
    },
    {
      "cell_type": "code",
      "metadata": {
        "id": "rGP5-INN7ka4",
        "outputId": "524575be-aad6-4a59-d5e6-4c3a274664ad",
        "colab": {
          "base_uri": "https://localhost:8080/",
          "height": 498
        }
      },
      "source": [
        "scatterplots(['total_chairs_runs_ratio', 'total_chairs_skiable_ratio', \n",
        "              'fastQuads_runs_ratio', 'fastQuads_skiable_ratio'], ncol=2)"
      ],
      "execution_count": null,
      "outputs": [
        {
          "output_type": "display_data",
          "data": {
            "image/png": "[encoded data removed]",
            "text/plain": [
              "<Figure size 1080x576 with 4 Axes>"
            ]
          },
          "metadata": {
            "tags": [],
            "needs_background": "light"
          }
        }
      ]
    },
    {
      "cell_type": "markdown",
      "metadata": {
        "id": "ppPT47K67ka7"
      },
      "source": [
        "At first these relationships are quite counterintuitive. It seems that the more chairs a resort has to move people around, relative to the number of runs, ticket price rapidly plummets and stays low. What we may be seeing here is an exclusive vs. mass market resort effect; if you don't have so many chairs, you can charge more for your tickets, although with fewer chairs you're inevitably going to be able to serve fewer visitors. Your price per visitor is high but your number of visitors may be low. Something very useful that's missing from the data is the number of visitors per year.\n",
        "\n",
        "It also appears that having no fast quads may limit the ticket price, but if your resort covers a wide area then getting a small number of fast quads may be beneficial to ticket price."
      ]
    },
    {
      "cell_type": "markdown",
      "metadata": {
        "id": "7APr3Xin7ka7"
      },
      "source": [
        "## 3.6 Summary<a id='3.6_Summary'></a>"
      ]
    },
    {
      "cell_type": "markdown",
      "metadata": {
        "id": "D51HuC8V7ka7"
      },
      "source": [
        "**Q: 1** Write a summary of the exploratory data analysis above. What numerical or categorical features were in the data? Was there any pattern suggested of a relationship between state and ticket price? What did this lead us to decide regarding which features to use in subsequent modeling? What aspects of the data (e.g. relationships between features) should you remain wary of when you come to perform feature selection for modeling? Two key points that must be addressed are the choice of target feature for your modelling and how, if at all, you're going to handle the states labels in the data."
      ]
    },
    {
      "cell_type": "markdown",
      "metadata": {
        "id": "FgPecYez7ka8"
      },
      "source": [
        "**A: 1** Your answer here"
      ]
    },
    {
      "cell_type": "code",
      "metadata": {
        "id": "XKzbx1-h7ka8",
        "outputId": "d452c639-cad5-46e7-b8b8-ee94c40a2bf8",
        "colab": {
          "base_uri": "https://localhost:8080/",
          "height": 1000
        }
      },
      "source": [
        "ski_data.head().T"
      ],
      "execution_count": null,
      "outputs": [
        {
          "output_type": "execute_result",
          "data": {
            "text/html": [
              "<div>\n",
              "<style scoped>\n",
              "    .dataframe tbody tr th:only-of-type {\n",
              "        vertical-align: middle;\n",
              "    }\n",
              "\n",
              "    .dataframe tbody tr th {\n",
              "        vertical-align: top;\n",
              "    }\n",
              "\n",
              "    .dataframe thead th {\n",
              "        text-align: right;\n",
              "    }\n",
              "</style>\n",
              "<table border=\"1\" class=\"dataframe\">\n",
              "  <thead>\n",
              "    <tr style=\"text-align: right;\">\n",
              "      <th></th>\n",
              "      <th>0</th>\n",
              "      <th>1</th>\n",
              "      <th>2</th>\n",
              "      <th>3</th>\n",
              "      <th>4</th>\n",
              "    </tr>\n",
              "  </thead>\n",
              "  <tbody>\n",
              "    <tr>\n",
              "      <th>Name</th>\n",
              "      <td>Alyeska Resort</td>\n",
              "      <td>Eaglecrest Ski Area</td>\n",
              "      <td>Hilltop Ski Area</td>\n",
              "      <td>Arizona Snowbowl</td>\n",
              "      <td>Sunrise Park Resort</td>\n",
              "    </tr>\n",
              "    <tr>\n",
              "      <th>Region</th>\n",
              "      <td>Alaska</td>\n",
              "      <td>Alaska</td>\n",
              "      <td>Alaska</td>\n",
              "      <td>Arizona</td>\n",
              "      <td>Arizona</td>\n",
              "    </tr>\n",
              "    <tr>\n",
              "      <th>state</th>\n",
              "      <td>Alaska</td>\n",
              "      <td>Alaska</td>\n",
              "      <td>Alaska</td>\n",
              "      <td>Arizona</td>\n",
              "      <td>Arizona</td>\n",
              "    </tr>\n",
              "    <tr>\n",
              "      <th>summit_elev</th>\n",
              "      <td>3939</td>\n",
              "      <td>2600</td>\n",
              "      <td>2090</td>\n",
              "      <td>11500</td>\n",
              "      <td>11100</td>\n",
              "    </tr>\n",
              "    <tr>\n",
              "      <th>vertical_drop</th>\n",
              "      <td>2500</td>\n",
              "      <td>1540</td>\n",
              "      <td>294</td>\n",
              "      <td>2300</td>\n",
              "      <td>1800</td>\n",
              "    </tr>\n",
              "    <tr>\n",
              "      <th>base_elev</th>\n",
              "      <td>250</td>\n",
              "      <td>1200</td>\n",
              "      <td>1796</td>\n",
              "      <td>9200</td>\n",
              "      <td>9200</td>\n",
              "    </tr>\n",
              "    <tr>\n",
              "      <th>trams</th>\n",
              "      <td>1</td>\n",
              "      <td>0</td>\n",
              "      <td>0</td>\n",
              "      <td>0</td>\n",
              "      <td>0</td>\n",
              "    </tr>\n",
              "    <tr>\n",
              "      <th>fastSixes</th>\n",
              "      <td>0</td>\n",
              "      <td>0</td>\n",
              "      <td>0</td>\n",
              "      <td>1</td>\n",
              "      <td>0</td>\n",
              "    </tr>\n",
              "    <tr>\n",
              "      <th>fastQuads</th>\n",
              "      <td>2</td>\n",
              "      <td>0</td>\n",
              "      <td>0</td>\n",
              "      <td>0</td>\n",
              "      <td>1</td>\n",
              "    </tr>\n",
              "    <tr>\n",
              "      <th>quad</th>\n",
              "      <td>2</td>\n",
              "      <td>0</td>\n",
              "      <td>0</td>\n",
              "      <td>2</td>\n",
              "      <td>2</td>\n",
              "    </tr>\n",
              "    <tr>\n",
              "      <th>triple</th>\n",
              "      <td>0</td>\n",
              "      <td>0</td>\n",
              "      <td>1</td>\n",
              "      <td>2</td>\n",
              "      <td>3</td>\n",
              "    </tr>\n",
              "    <tr>\n",
              "      <th>double</th>\n",
              "      <td>0</td>\n",
              "      <td>4</td>\n",
              "      <td>0</td>\n",
              "      <td>1</td>\n",
              "      <td>1</td>\n",
              "    </tr>\n",
              "    <tr>\n",
              "      <th>surface</th>\n",
              "      <td>2</td>\n",
              "      <td>0</td>\n",
              "      <td>2</td>\n",
              "      <td>2</td>\n",
              "      <td>0</td>\n",
              "    </tr>\n",
              "    <tr>\n",
              "      <th>total_chairs</th>\n",
              "      <td>7</td>\n",
              "      <td>4</td>\n",
              "      <td>3</td>\n",
              "      <td>8</td>\n",
              "      <td>7</td>\n",
              "    </tr>\n",
              "    <tr>\n",
              "      <th>Runs</th>\n",
              "      <td>76</td>\n",
              "      <td>36</td>\n",
              "      <td>13</td>\n",
              "      <td>55</td>\n",
              "      <td>65</td>\n",
              "    </tr>\n",
              "    <tr>\n",
              "      <th>TerrainParks</th>\n",
              "      <td>2</td>\n",
              "      <td>1</td>\n",
              "      <td>1</td>\n",
              "      <td>4</td>\n",
              "      <td>2</td>\n",
              "    </tr>\n",
              "    <tr>\n",
              "      <th>LongestRun_mi</th>\n",
              "      <td>1</td>\n",
              "      <td>2</td>\n",
              "      <td>1</td>\n",
              "      <td>2</td>\n",
              "      <td>1.2</td>\n",
              "    </tr>\n",
              "    <tr>\n",
              "      <th>SkiableTerrain_ac</th>\n",
              "      <td>1610</td>\n",
              "      <td>640</td>\n",
              "      <td>30</td>\n",
              "      <td>777</td>\n",
              "      <td>800</td>\n",
              "    </tr>\n",
              "    <tr>\n",
              "      <th>Snow Making_ac</th>\n",
              "      <td>113</td>\n",
              "      <td>60</td>\n",
              "      <td>30</td>\n",
              "      <td>104</td>\n",
              "      <td>80</td>\n",
              "    </tr>\n",
              "    <tr>\n",
              "      <th>daysOpenLastYear</th>\n",
              "      <td>150</td>\n",
              "      <td>45</td>\n",
              "      <td>150</td>\n",
              "      <td>122</td>\n",
              "      <td>115</td>\n",
              "    </tr>\n",
              "    <tr>\n",
              "      <th>yearsOpen</th>\n",
              "      <td>60</td>\n",
              "      <td>44</td>\n",
              "      <td>36</td>\n",
              "      <td>81</td>\n",
              "      <td>49</td>\n",
              "    </tr>\n",
              "    <tr>\n",
              "      <th>averageSnowfall</th>\n",
              "      <td>669</td>\n",
              "      <td>350</td>\n",
              "      <td>69</td>\n",
              "      <td>260</td>\n",
              "      <td>250</td>\n",
              "    </tr>\n",
              "    <tr>\n",
              "      <th>AdultWeekend</th>\n",
              "      <td>85</td>\n",
              "      <td>53</td>\n",
              "      <td>34</td>\n",
              "      <td>89</td>\n",
              "      <td>78</td>\n",
              "    </tr>\n",
              "    <tr>\n",
              "      <th>projectedDaysOpen</th>\n",
              "      <td>150</td>\n",
              "      <td>90</td>\n",
              "      <td>152</td>\n",
              "      <td>122</td>\n",
              "      <td>104</td>\n",
              "    </tr>\n",
              "    <tr>\n",
              "      <th>NightSkiing_ac</th>\n",
              "      <td>550</td>\n",
              "      <td>NaN</td>\n",
              "      <td>30</td>\n",
              "      <td>NaN</td>\n",
              "      <td>80</td>\n",
              "    </tr>\n",
              "    <tr>\n",
              "      <th>resorts_per_state</th>\n",
              "      <td>3</td>\n",
              "      <td>3</td>\n",
              "      <td>3</td>\n",
              "      <td>2</td>\n",
              "      <td>2</td>\n",
              "    </tr>\n",
              "    <tr>\n",
              "      <th>resorts_per_100kcapita</th>\n",
              "      <td>0.410091</td>\n",
              "      <td>0.410091</td>\n",
              "      <td>0.410091</td>\n",
              "      <td>0.0274774</td>\n",
              "      <td>0.0274774</td>\n",
              "    </tr>\n",
              "    <tr>\n",
              "      <th>resorts_per_100ksq_mile</th>\n",
              "      <td>0.450867</td>\n",
              "      <td>0.450867</td>\n",
              "      <td>0.450867</td>\n",
              "      <td>1.75454</td>\n",
              "      <td>1.75454</td>\n",
              "    </tr>\n",
              "    <tr>\n",
              "      <th>resort_skiable_area_ac_state_ratio</th>\n",
              "      <td>0.70614</td>\n",
              "      <td>0.280702</td>\n",
              "      <td>0.0131579</td>\n",
              "      <td>0.492708</td>\n",
              "      <td>0.507292</td>\n",
              "    </tr>\n",
              "    <tr>\n",
              "      <th>resort_days_open_state_ratio</th>\n",
              "      <td>0.434783</td>\n",
              "      <td>0.130435</td>\n",
              "      <td>0.434783</td>\n",
              "      <td>0.514768</td>\n",
              "      <td>0.485232</td>\n",
              "    </tr>\n",
              "    <tr>\n",
              "      <th>resort_terrain_park_state_ratio</th>\n",
              "      <td>0.5</td>\n",
              "      <td>0.25</td>\n",
              "      <td>0.25</td>\n",
              "      <td>0.666667</td>\n",
              "      <td>0.333333</td>\n",
              "    </tr>\n",
              "    <tr>\n",
              "      <th>resort_night_skiing_state_ratio</th>\n",
              "      <td>0.948276</td>\n",
              "      <td>NaN</td>\n",
              "      <td>0.0517241</td>\n",
              "      <td>NaN</td>\n",
              "      <td>1</td>\n",
              "    </tr>\n",
              "    <tr>\n",
              "      <th>total_chairs_runs_ratio</th>\n",
              "      <td>0.0921053</td>\n",
              "      <td>0.111111</td>\n",
              "      <td>0.230769</td>\n",
              "      <td>0.145455</td>\n",
              "      <td>0.107692</td>\n",
              "    </tr>\n",
              "    <tr>\n",
              "      <th>total_chairs_skiable_ratio</th>\n",
              "      <td>0.00434783</td>\n",
              "      <td>0.00625</td>\n",
              "      <td>0.1</td>\n",
              "      <td>0.010296</td>\n",
              "      <td>0.00875</td>\n",
              "    </tr>\n",
              "    <tr>\n",
              "      <th>fastQuads_runs_ratio</th>\n",
              "      <td>0.0263158</td>\n",
              "      <td>0</td>\n",
              "      <td>0</td>\n",
              "      <td>0</td>\n",
              "      <td>0.0153846</td>\n",
              "    </tr>\n",
              "    <tr>\n",
              "      <th>fastQuads_skiable_ratio</th>\n",
              "      <td>0.00124224</td>\n",
              "      <td>0</td>\n",
              "      <td>0</td>\n",
              "      <td>0</td>\n",
              "      <td>0.00125</td>\n",
              "    </tr>\n",
              "  </tbody>\n",
              "</table>\n",
              "</div>"
            ],
            "text/plain": [
              "                                                 0  ...                    4\n",
              "Name                                Alyeska Resort  ...  Sunrise Park Resort\n",
              "Region                                      Alaska  ...              Arizona\n",
              "state                                       Alaska  ...              Arizona\n",
              "summit_elev                                   3939  ...                11100\n",
              "vertical_drop                                 2500  ...                 1800\n",
              "base_elev                                      250  ...                 9200\n",
              "trams                                            1  ...                    0\n",
              "fastSixes                                        0  ...                    0\n",
              "fastQuads                                        2  ...                    1\n",
              "quad                                             2  ...                    2\n",
              "triple                                           0  ...                    3\n",
              "double                                           0  ...                    1\n",
              "surface                                          2  ...                    0\n",
              "total_chairs                                     7  ...                    7\n",
              "Runs                                            76  ...                   65\n",
              "TerrainParks                                     2  ...                    2\n",
              "LongestRun_mi                                    1  ...                  1.2\n",
              "SkiableTerrain_ac                             1610  ...                  800\n",
              "Snow Making_ac                                 113  ...                   80\n",
              "daysOpenLastYear                               150  ...                  115\n",
              "yearsOpen                                       60  ...                   49\n",
              "averageSnowfall                                669  ...                  250\n",
              "AdultWeekend                                    85  ...                   78\n",
              "projectedDaysOpen                              150  ...                  104\n",
              "NightSkiing_ac                                 550  ...                   80\n",
              "resorts_per_state                                3  ...                    2\n",
              "resorts_per_100kcapita                    0.410091  ...            0.0274774\n",
              "resorts_per_100ksq_mile                   0.450867  ...              1.75454\n",
              "resort_skiable_area_ac_state_ratio         0.70614  ...             0.507292\n",
              "resort_days_open_state_ratio              0.434783  ...             0.485232\n",
              "resort_terrain_park_state_ratio                0.5  ...             0.333333\n",
              "resort_night_skiing_state_ratio           0.948276  ...                    1\n",
              "total_chairs_runs_ratio                  0.0921053  ...             0.107692\n",
              "total_chairs_skiable_ratio              0.00434783  ...              0.00875\n",
              "fastQuads_runs_ratio                     0.0263158  ...            0.0153846\n",
              "fastQuads_skiable_ratio                 0.00124224  ...              0.00125\n",
              "\n",
              "[36 rows x 5 columns]"
            ]
          },
          "metadata": {
            "tags": []
          },
          "execution_count": 57
        }
      ]
    },
    {
      "cell_type": "code",
      "metadata": {
        "id": "RqJ6H-ZS7ka-"
      },
      "source": [
        "# Save the data \n",
        "\n",
        "ski_data.to_csv('ski_data_step3_features.csv')\n",
        "!cp ski_data_step3_features.csv '/content/drive/My Drive/Colab Notebooks/Springboard - Data Science Career Track/6 - Guided Capstone 1/'"
      ],
      "execution_count": null,
      "outputs": []
    }
  ]
}